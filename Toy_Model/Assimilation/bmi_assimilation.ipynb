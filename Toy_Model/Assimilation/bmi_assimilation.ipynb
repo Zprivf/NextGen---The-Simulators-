{
 "cells": [
  {
   "cell_type": "code",
   "execution_count": null,
   "id": "f219891f-16b5-49a0-af29-b70ba07a5272",
   "metadata": {},
   "outputs": [],
   "source": [
    "import time\n",
    "import numpy as np\n",
    "import pandas as pd\n",
    "import sys\n",
    "import json\n",
    "import usgs\n",
    "\n",
    "class BMI_assimilation():\n",
    "    def __init__(self):\n",
    "        \"\"\"Create a Bmi assimlation model that is ready for initialization.\"\"\"\n",
    "        super(BMI_assimilation, self).__init__()\n",
    "        self._values = {}\n",
    "        self._var_loc = \"node\"\n",
    "        self._var_grid_id = 0\n",
    "        self._start_time = 0.0\n",
    "        self._end_time = np.finfo(\"d\").max\n",
    "        \n",
    "        #----------------------------------------------\n",
    "        # Required, static attributes of the model\n",
    "        #----------------------------------------------\n",
    "        self._att_map = {\n",
    "            'model_name':         'USGS data retriever',\n",
    "            'version':            '1.0',\n",
    "            'author_name':        'Fitsume Tehsome Wolkeba',\n",
    "            'grid_type':          'scalar',\n",
    "            'time_units':         '1 hour' }"
   ]
  }
 ],
 "metadata": {
  "kernelspec": {
   "display_name": "Python 3 (ipykernel)",
   "language": "python",
   "name": "python3"
  },
  "language_info": {
   "codemirror_mode": {
    "name": "ipython",
    "version": 3
   },
   "file_extension": ".py",
   "mimetype": "text/x-python",
   "name": "python",
   "nbconvert_exporter": "python",
   "pygments_lexer": "ipython3",
   "version": "3.9.12"
  }
 },
 "nbformat": 4,
 "nbformat_minor": 5
}
