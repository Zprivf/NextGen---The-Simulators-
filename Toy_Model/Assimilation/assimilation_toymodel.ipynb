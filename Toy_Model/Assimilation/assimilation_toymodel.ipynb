{
 "cells": [
  {
   "cell_type": "markdown",
   "metadata": {},
   "source": [
    "# Experiment with `Data Assimilation- Observed-simulation average`"
   ]
  },
  {
   "cell_type": "code",
   "execution_count": 11,
   "metadata": {},
   "outputs": [],
   "source": [
    "import sys \n",
    "import numpy as np\n",
    "sys.path.insert(0, './Assimilation')\n",
    "import Bmi_da # the name of the BMI wrapper file\n",
    "\n"
   ]
  },
  {
   "cell_type": "markdown",
   "metadata": {},
   "source": [
    "Create a `toybmi` object and call some basic methods:"
   ]
  },
  {
   "cell_type": "code",
   "execution_count": 15,
   "metadata": {},
   "outputs": [
    {
     "name": "stdout",
     "output_type": "stream",
     "text": [
      "Input variables:\n",
      "['sim', 'obs']\n",
      "Output variables:\n",
      "['assimilation']\n",
      "cfs\n"
     ]
    }
   ],
   "source": [
    "toy = Bmi_da.NGEN_DA()\n",
    "print(\"Input variables:\")\n",
    "print(toy.get_input_var_names())\n",
    "print(\"Output variables:\")\n",
    "print(toy.get_output_var_names())\n",
    "print(toy.get_var_units('sim'))"
   ]
  },
  {
   "cell_type": "markdown",
   "metadata": {},
   "source": [
    "Initialize the model:"
   ]
  },
  {
   "cell_type": "code",
   "execution_count": 18,
   "metadata": {},
   "outputs": [],
   "source": [
    "toy.initialize('config.yml')"
   ]
  },
  {
   "cell_type": "code",
   "execution_count": 19,
   "metadata": {},
   "outputs": [
    {
     "data": {
      "text/plain": [
       "{'time_step_seconds': 3600,\n",
       " 'initial_time': 0,\n",
       " 'variance': 0.5,\n",
       " 'DA_method': 'Average'}"
      ]
     },
     "execution_count": 19,
     "metadata": {},
     "output_type": "execute_result"
    }
   ],
   "source": [
    "toy.cfg_bmi"
   ]
  },
  {
   "cell_type": "markdown",
   "metadata": {},
   "source": [
    "Set some input values:"
   ]
  },
  {
   "cell_type": "code",
   "execution_count": 23,
   "metadata": {},
   "outputs": [
    {
     "name": "stdout",
     "output_type": "stream",
     "text": [
      "Observed streamflow from USGS [42.]\n",
      "Simulated streamflow from CFE model [0.5]\n"
     ]
    }
   ],
   "source": [
    "obs_input = np.array([42.0])\n",
    "toy.set_value('obs', obs_input)\n",
    "sim_input = np.array([0.5])\n",
    "toy.set_value('sim', sim_input)\n",
    "\n",
    "print('Observed streamflow from USGS',obs_input)\n",
    "print('Simulated streamflow from CFE model',sim_input)\n"
   ]
  },
  {
   "cell_type": "markdown",
   "metadata": {},
   "source": [
    "Increment the model by an hour:"
   ]
  },
  {
   "cell_type": "code",
   "execution_count": 24,
   "metadata": {},
   "outputs": [],
   "source": [
    "toy.update_until(3600)"
   ]
  },
  {
   "cell_type": "markdown",
   "metadata": {},
   "source": [
    "Read the output:"
   ]
  },
  {
   "cell_type": "code",
   "execution_count": 25,
   "metadata": {},
   "outputs": [
    {
     "data": {
      "text/plain": [
       "array([21.25])"
      ]
     },
     "execution_count": 25,
     "metadata": {},
     "output_type": "execute_result"
    }
   ],
   "source": [
    "output = np.zeros(1)\n",
    "toy.get_value('assimilation', output)"
   ]
  },
  {
   "cell_type": "markdown",
   "metadata": {},
   "source": [
    "Run `toybmi` in the Model Engine:"
   ]
  }
 ],
 "metadata": {
  "interpreter": {
   "hash": "48087b1dd6fd9cac5443e644a0d4129b651e7391329039552a2a569bcdc99a30"
  },
  "kernelspec": {
   "display_name": "Python [conda env:root] *",
   "language": "python",
   "name": "conda-root-py"
  },
  "language_info": {
   "codemirror_mode": {
    "name": "ipython",
    "version": 3
   },
   "file_extension": ".py",
   "mimetype": "text/x-python",
   "name": "python",
   "nbconvert_exporter": "python",
   "pygments_lexer": "ipython3",
   "version": "3.9.12"
  }
 },
 "nbformat": 4,
 "nbformat_minor": 4
}
