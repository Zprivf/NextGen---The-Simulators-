{
 "cells": [
  {
   "cell_type": "code",
   "execution_count": 1,
   "id": "830ccf7b",
   "metadata": {},
   "outputs": [],
   "source": [
    "import time\n",
    "import numpy as np\n",
    "import pandas as pd\n",
    "import hydroeval as he\n",
    "import json\n",
    "import matplotlib.pyplot as plt\n",
    "import sys\n",
    "sys.path.insert(0, './CFE')\n",
    "import bmi_cfe_cal\n"
   ]
  },
  {
   "cell_type": "code",
   "execution_count": 2,
   "id": "41dbe55f",
   "metadata": {},
   "outputs": [],
   "source": [
    "## Open BMI's for each file\n",
    "cfe_open = bmi_cfe_cal.BMI_CFE()"
   ]
  },
  {
   "cell_type": "code",
   "execution_count": 3,
   "id": "08278ea6",
   "metadata": {},
   "outputs": [
    {
     "ename": "TypeError",
     "evalue": "initialize() got an unexpected keyword argument 'cfg_file'",
     "output_type": "error",
     "traceback": [
      "\u001b[1;31m---------------------------------------------------------------------------\u001b[0m",
      "\u001b[1;31mTypeError\u001b[0m                                 Traceback (most recent call last)",
      "\u001b[1;32m~\\AppData\\Local\\Temp/ipykernel_7024/1348792672.py\u001b[0m in \u001b[0;36m<module>\u001b[1;34m\u001b[0m\n\u001b[0;32m      1\u001b[0m \u001b[1;31m# ## Case study files\u001b[0m\u001b[1;33m\u001b[0m\u001b[1;33m\u001b[0m\u001b[0m\n\u001b[1;32m----> 2\u001b[1;33m \u001b[0mcfe_open\u001b[0m\u001b[1;33m.\u001b[0m\u001b[0minitialize\u001b[0m\u001b[1;33m(\u001b[0m\u001b[0mcfg_file\u001b[0m\u001b[1;33m=\u001b[0m\u001b[1;34m'./CFE/config_cfe_peturb_model_CT_calibration.json'\u001b[0m\u001b[1;33m)\u001b[0m\u001b[1;33m\u001b[0m\u001b[1;33m\u001b[0m\u001b[0m\n\u001b[0m",
      "\u001b[1;31mTypeError\u001b[0m: initialize() got an unexpected keyword argument 'cfg_file'"
     ]
    }
   ],
   "source": [
    "# ## Case study files\n",
    "cfe_open.initialize(cfg_file='./CFE/config_cfe_peturb_model_CT_calibration.json')"
   ]
  },
  {
   "cell_type": "code",
   "execution_count": null,
   "id": "ec4fb28e",
   "metadata": {},
   "outputs": [],
   "source": []
  }
 ],
 "metadata": {
  "kernelspec": {
   "display_name": "Python 3 (ipykernel)",
   "language": "python",
   "name": "python3"
  },
  "language_info": {
   "codemirror_mode": {
    "name": "ipython",
    "version": 3
   },
   "file_extension": ".py",
   "mimetype": "text/x-python",
   "name": "python",
   "nbconvert_exporter": "python",
   "pygments_lexer": "ipython3",
   "version": "3.9.7"
  }
 },
 "nbformat": 4,
 "nbformat_minor": 5
}
