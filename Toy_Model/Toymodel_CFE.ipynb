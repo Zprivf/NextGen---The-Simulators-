{
 "cells": [
  {
   "cell_type": "markdown",
   "id": "0a3635bd",
   "metadata": {},
   "source": [
    "# Running multiple models with BMI in one \"Framework\"\n",
    "## Conceptual Functional Equivalent (CFE) Model\n",
    "## Penman function for an estimate of evaporation\n",
    "## Bucket model representing some downstream reservoir"
   ]
  },
  {
   "cell_type": "code",
   "execution_count": 1,
   "id": "a84ea15e-a72e-449b-b8dc-1ae53acfa250",
   "metadata": {},
   "outputs": [],
   "source": [
    "#import os\n",
    "#os.getcwd()"
   ]
  },
  {
   "cell_type": "code",
   "execution_count": 2,
   "id": "4f1c9bb4",
   "metadata": {},
   "outputs": [],
   "source": [
    "import time\n",
    "import numpy as np\n",
    "import pandas as pd\n",
    "import json\n",
    "import matplotlib.pyplot as plt\n",
    "import sys\n",
    "sys.path.insert(0, './CFE')\n",
    "import bmi_cfe\n",
    "import bmi_cfe_peturb\n",
    "\n",
    "sys.path.insert(0, './Assimilation')\n",
    "import Bmi_da\n",
    "\n",
    "import sys\n",
    "sys.path.append('/home/jovyan/data/NextGen---The-Simulators-/USGS/USGS_BMI_FT/cleaned_FT')\n",
    "\n",
    "import bmi_usgs"
   ]
  },
  {
   "cell_type": "markdown",
   "id": "81b22b83",
   "metadata": {},
   "source": [
    "### Create an instance of the model with a specific configuration that corresponds to a particular catchmenmt."
   ]
  },
  {
   "cell_type": "code",
   "execution_count": 3,
   "id": "5ab506bc-f7b0-489b-8f01-7c350e8cd7a0",
   "metadata": {},
   "outputs": [
    {
     "name": "stdout",
     "output_type": "stream",
     "text": [
      "<module 'bmi_usgs' from '/home/jovyan/data/NextGen---The-Simulators-/USGS/USGS_BMI_FT/cleaned_FT/bmi_usgs.py'>\n",
      "<module 'bmi_cfe_peturb' from '/home/jovyan/data/NextGen---The-Simulators-/Toy_Model/./CFE/bmi_cfe_peturb.py'>\n",
      "<module 'Bmi_da' from '/home/jovyan/data/NextGen---The-Simulators-/Toy_Model/./Assimilation/Bmi_da.py'>\n"
     ]
    }
   ],
   "source": [
    "print(bmi_usgs)\n",
    "print(bmi_cfe_peturb)\n",
    "print(Bmi_da)"
   ]
  },
  {
   "cell_type": "code",
   "execution_count": 4,
   "id": "ce555bd9",
   "metadata": {},
   "outputs": [
    {
     "name": "stdout",
     "output_type": "stream",
     "text": [
      "Input variables:\n",
      "\n",
      "USGS\n",
      "['sites', 'service', 'start', 'end']\n",
      "CFE\n",
      "['atmosphere_water__time_integral_of_precipitation_mass_flux', 'water_potential_evaporation_flux']\n",
      "Assimilatoin\n",
      "['sim', 'obs']\n",
      "\n",
      "Output variables:\n",
      "['assimilation']\n",
      "['Flow', 'validity']\n",
      "cfs\n"
     ]
    }
   ],
   "source": [
    "USGS_instance = bmi_usgs.BMI_USGS()\n",
    "#cfe_instance = bmi_cfe.BMI_CFE()\n",
    "cfe_instance_peturb = bmi_cfe_peturb.BMI_CFE()\n",
    "cfe_assimilation = Bmi_da.NGEN_DA()\n",
    "\n",
    "print(\"Input variables:\\n\")\n",
    "print(\"USGS\")\n",
    "print(USGS_instance.get_input_var_names())\n",
    "print(\"CFE\")\n",
    "print(cfe_instance_peturb.get_input_var_names())\n",
    "print(\"Assimilatoin\")\n",
    "print(cfe_assimilation.get_input_var_names())\n",
    "\n",
    "print(\"\\nOutput variables:\")\n",
    "print(cfe_assimilation.get_output_var_names())\n",
    "print(USGS_instance.get_output_var_names())\n",
    "\n",
    "print(cfe_assimilation.get_var_units('sim'))\n",
    "\n",
    "#print(cfe_assimilation.cfg_bmi)\n"
   ]
  },
  {
   "cell_type": "markdown",
   "id": "08fbe912",
   "metadata": {},
   "source": [
    "### This initialization function should perform all tasks that are to take place before entering the model’s time loop. Models should be refactored, if necessary, to read their inputs (which could include filenames for other input files) from a configuration file. BMI does not impose any constraint on how configuration files are formatted."
   ]
  },
  {
   "cell_type": "code",
   "execution_count": 5,
   "id": "c05f5d19",
   "metadata": {},
   "outputs": [],
   "source": [
    "USGS_instance.initialize(cfg_file='/home/jovyan/data/NextGen---The-Simulators-/USGS/USGS_BMI_FT/cleaned_FT/usgs_config.json')\n",
    "cfe_instance_peturb.initialize(cfg_file='./CFE/cat_58_config_cfe_peturb_model.json')\n",
    "cfe_assimilation.initialize(bmi_cfg_file_name='./Assimilation/config.yml')\n",
    "#cfe_assimilation.initialize('config.yml')\n"
   ]
  },
  {
   "cell_type": "code",
   "execution_count": 6,
   "id": "11ab9b4b-e49a-437d-94ae-d6954adca8c8",
   "metadata": {},
   "outputs": [
    {
     "name": "stdout",
     "output_type": "stream",
     "text": [
      "['sites', 'service', 'start', 'end']\n",
      "['atmosphere_water__time_integral_of_precipitation_mass_flux', 'water_potential_evaporation_flux']\n",
      "['assimilation']\n"
     ]
    }
   ],
   "source": [
    "print(USGS_instance.get_input_var_names())\n",
    "print(cfe_instance_peturb.get_input_var_names())\n",
    "print(cfe_assimilation.get_output_var_names())\n"
   ]
  },
  {
   "cell_type": "markdown",
   "id": "9fd1796b",
   "metadata": {},
   "source": [
    "### Open the forcing file contained within the configuration file. We can run the model with any forcing. This is only an example. The path to the forcing file is contained within the configuration file, but it doesn't really need to be. This is just for organization."
   ]
  },
  {
   "cell_type": "code",
   "execution_count": 7,
   "id": "9941d994",
   "metadata": {},
   "outputs": [
    {
     "name": "stdout",
     "output_type": "stream",
     "text": [
      "                    time  APCP_surface  DLWRF_surface  DSWRF_surface  \\\n",
      "0    2015-12-01 00:00:00           0.0     361.200012       0.000000   \n",
      "1    2015-12-01 01:00:00           0.0     361.200012       0.000000   \n",
      "2    2015-12-01 02:00:00           0.0     361.200012       0.000000   \n",
      "3    2015-12-01 03:00:00           0.0     357.600006       0.000000   \n",
      "4    2015-12-01 04:00:00           0.0     357.600006       0.000000   \n",
      "..                   ...           ...            ...            ...   \n",
      "715  2015-12-30 19:00:00           4.7     402.200012     163.600006   \n",
      "716  2015-12-30 20:00:00           3.7     402.200012     130.300003   \n",
      "717  2015-12-30 21:00:00           4.2     399.200012      80.400002   \n",
      "718  2015-12-30 22:00:00           8.3     399.200012      21.000000   \n",
      "719  2015-12-30 23:00:00           3.3     399.200012       0.000000   \n",
      "\n",
      "     PRES_surface  SPFH_2maboveground  TMP_2maboveground  UGRD_10maboveground  \\\n",
      "0        100530.0              0.0105         287.500000                 -2.6   \n",
      "1        100610.0              0.0098         287.300018                 -2.7   \n",
      "2        100600.0              0.0091         286.600006                 -2.8   \n",
      "3        100570.0              0.0087         285.500000                 -2.9   \n",
      "4        100590.0              0.0084         284.300018                 -2.6   \n",
      "..            ...                 ...                ...                  ...   \n",
      "715      100560.0              0.0125         291.000000                  0.8   \n",
      "716      100490.0              0.0128         291.000000                  0.8   \n",
      "717      100470.0              0.0126         291.100006                  0.8   \n",
      "718      100450.0              0.0126         290.899994                  1.0   \n",
      "719      100520.0              0.0127         291.100006                  1.2   \n",
      "\n",
      "     VGRD_10maboveground   precip_rate  \n",
      "0                    0.0  0.000000e+00  \n",
      "1                   -0.3  0.000000e+00  \n",
      "2                   -0.6  0.000000e+00  \n",
      "3                   -0.9  0.000000e+00  \n",
      "4                   -0.3  0.000000e+00  \n",
      "..                   ...           ...  \n",
      "715                  1.9  1.816209e-06  \n",
      "716                  1.8  2.061642e-06  \n",
      "717                  1.7  4.077756e-06  \n",
      "718                  1.4  1.618451e-06  \n",
      "719                  1.2  6.878142e-07  \n",
      "\n",
      "[720 rows x 10 columns]\n"
     ]
    }
   ],
   "source": [
    "with open(cfe_instance_peturb.forcing_file, 'r') as f:\n",
    "    df_forcing = pd.read_csv(f)\n",
    "    \n",
    "print(df_forcing)"
   ]
  },
  {
   "cell_type": "markdown",
   "id": "eaf15e86",
   "metadata": {},
   "source": [
    "### We will want to visualize the model output"
   ]
  },
  {
   "cell_type": "code",
   "execution_count": 8,
   "id": "ba07fb27",
   "metadata": {},
   "outputs": [
    {
     "name": "stdout",
     "output_type": "stream",
     "text": [
      "{'Flow': [], 'validity': []}\n",
      "{'land_surface_water__runoff_depth_ens': []}\n",
      "{'assimilation': []}\n"
     ]
    }
   ],
   "source": [
    "#cfe_outputs=cfe_instance.get_output_var_names()\n",
    "#cfe_output_lists = {output:[] for output in cfe_outputs}\n",
    "USGS_outputs=USGS_instance.get_output_var_names()\n",
    "USGS_output_lists = {output:[] for output in USGS_outputs}\n",
    "\n",
    "\n",
    "cfe_outputs_peturb=cfe_instance_peturb.get_output_var_names()\n",
    "cfe_output_lists_peturb = {output_peturb:[] for output_peturb in cfe_outputs_peturb}\n",
    "\n",
    "outputs_assimilation=cfe_assimilation.get_output_var_names()\n",
    "outputs_lists_assimilation = {output_assimilation:[] for output_assimilation in outputs_assimilation}\n",
    "\n",
    "print(USGS_output_lists)\n",
    "print(cfe_output_lists_peturb)\n",
    "print(outputs_lists_assimilation)\n"
   ]
  },
  {
   "cell_type": "markdown",
   "id": "228ef248",
   "metadata": {},
   "source": [
    "### Now we loop through the forcing data and use it to run the model at each time step"
   ]
  },
  {
   "cell_type": "code",
   "execution_count": 9,
   "id": "b1196959",
   "metadata": {},
   "outputs": [],
   "source": [
    "########################################\n",
    "# Loop through all of forcing data; model and peturbed\n",
    "\n",
    "    # Keep track of time\n",
    "    \n",
    "    # Set forcing data for model\n",
    "    # Set forcing for peturbed models. Aren't they using the same forcing data?\n",
    "    \n",
    "    # Update model\n",
    "    \n",
    "    # Update observation data\n",
    "    \n",
    "    # Update ensemble of peturbed models \n",
    "        \n",
    "    # Update DA   \n",
    "    \n",
    "    # Get value of DA and set value to model\n",
    "    \n",
    "    # Set value of streamflow. Depending on this, we will change state variables below\n",
    "        # Schaake_output_runoff_m\n",
    "        # soil_reservoir_storage_deficit_m\n",
    "        # Covary the runoff_queue_m_per_timestep, line 183, cfe.py\n",
    "        \n",
    "        \n",
    "    \n",
    "        "
   ]
  },
  {
   "cell_type": "code",
   "execution_count": 10,
   "id": "11c14117-bdb0-4394-86de-2c38cfaed2e2",
   "metadata": {},
   "outputs": [
    {
     "name": "stdout",
     "output_type": "stream",
     "text": [
      "0\n"
     ]
    }
   ],
   "source": [
    "# Run USG model\n",
    "USGS_instance.update()\n",
    "obs = USGS_instance.get_value('Flow')\n",
    "print(obs)\n",
    "\n",
    "\n",
    "#print(\"The USGS data\\n\")\n",
    "#print(obs)"
   ]
  },
  {
   "cell_type": "code",
   "execution_count": 15,
   "id": "14ba35f4",
   "metadata": {
    "scrolled": true
   },
   "outputs": [
    {
     "name": "stdout",
     "output_type": "stream",
     "text": [
      "0\n"
     ]
    },
    {
     "ename": "AttributeError",
     "evalue": "'NoneType' object has no attribute 'run_cfe'",
     "output_type": "error",
     "traceback": [
      "\u001b[0;31m---------------------------------------------------------------------------\u001b[0m",
      "\u001b[0;31mAttributeError\u001b[0m                            Traceback (most recent call last)",
      "Input \u001b[0;32mIn [15]\u001b[0m, in \u001b[0;36m<cell line: 11>\u001b[0;34m()\u001b[0m\n\u001b[1;32m     15\u001b[0m \u001b[38;5;66;03m# Run CFE model\u001b[39;00m\n\u001b[1;32m     16\u001b[0m \u001b[38;5;66;03m#cfe_instance.set_value('atmosphere_water__time_integral_of_precipitation_mass_flux', precip) #value of precip from forcing data in loop\u001b[39;00m\n\u001b[1;32m     17\u001b[0m \u001b[38;5;66;03m#cfe_instance.update()\u001b[39;00m\n\u001b[0;32m   (...)\u001b[0m\n\u001b[1;32m     20\u001b[0m \n\u001b[1;32m     21\u001b[0m \u001b[38;5;66;03m# Peturbation run   \u001b[39;00m\n\u001b[1;32m     22\u001b[0m cfe_instance_peturb\u001b[38;5;241m.\u001b[39mset_value(\u001b[38;5;124m'\u001b[39m\u001b[38;5;124matmosphere_water__time_integral_of_precipitation_mass_flux\u001b[39m\u001b[38;5;124m'\u001b[39m, precip) \u001b[38;5;66;03m#value of precip from forcing data in loop\u001b[39;00m\n\u001b[0;32m---> 23\u001b[0m \u001b[43mcfe_instance_peturb\u001b[49m\u001b[38;5;241;43m.\u001b[39;49m\u001b[43mupdate\u001b[49m\u001b[43m(\u001b[49m\u001b[43m)\u001b[49m\n\u001b[1;32m     24\u001b[0m outflow_peturb \u001b[38;5;241m=\u001b[39m cfe_instance_peturb\u001b[38;5;241m.\u001b[39mget_value(\u001b[38;5;124m'\u001b[39m\u001b[38;5;124mland_surface_water__runoff_depth_ens\u001b[39m\u001b[38;5;124m'\u001b[39m)\n\u001b[1;32m     25\u001b[0m outflow_peturb_mean \u001b[38;5;241m=\u001b[39m np\u001b[38;5;241m.\u001b[39mmean(outflow_peturb)\n",
      "File \u001b[0;32m~/NextGen---The-Simulators-/Toy_Model/./CFE/bmi_cfe_peturb.py:244\u001b[0m, in \u001b[0;36mBMI_CFE.update\u001b[0;34m(self)\u001b[0m\n\u001b[1;32m    243\u001b[0m \u001b[38;5;28;01mdef\u001b[39;00m \u001b[38;5;21mupdate\u001b[39m(\u001b[38;5;28mself\u001b[39m):\n\u001b[0;32m--> 244\u001b[0m     \u001b[38;5;28;43mself\u001b[39;49m\u001b[38;5;241;43m.\u001b[39;49m\u001b[43mcfe_model\u001b[49m\u001b[38;5;241;43m.\u001b[39;49m\u001b[43mrun_cfe\u001b[49m(\u001b[38;5;28mself\u001b[39m)\n\u001b[1;32m    245\u001b[0m     \u001b[38;5;28mself\u001b[39m\u001b[38;5;241m.\u001b[39mpeturbed_output()\n\u001b[1;32m    246\u001b[0m     \u001b[38;5;28mself\u001b[39m\u001b[38;5;241m.\u001b[39mscale_output()\n",
      "\u001b[0;31mAttributeError\u001b[0m: 'NoneType' object has no attribute 'run_cfe'"
     ]
    }
   ],
   "source": [
    "# Make empty matrices for plotting\n",
    "sim = []\n",
    "obs = []\n",
    "assimilation = []\n",
    "\n",
    "# Run USG model\n",
    "USGS_instance.update()\n",
    "obs = USGS_instance.get_value('Flow')\n",
    "print(obs)\n",
    "\n",
    "for i, precip in enumerate(df_forcing['APCP_surface']): #i is \n",
    "    \n",
    "    framework_time = (1+i)*3600 #seconds since starting simulation\n",
    "    \n",
    "    # Run CFE model\n",
    "    #cfe_instance.set_value('atmosphere_water__time_integral_of_precipitation_mass_flux', precip) #value of precip from forcing data in loop\n",
    "    #cfe_instance.update()\n",
    "    #outflow = cfe_instance.get_value('land_surface_water__runoff_depth')\n",
    "    #sim.append(outflow)\n",
    "    \n",
    "    # Peturbation run   \n",
    "    cfe_instance_peturb.set_value('atmosphere_water__time_integral_of_precipitation_mass_flux', precip) #value of precip from forcing data in loop\n",
    "    cfe_instance_peturb.update()\n",
    "    outflow_peturb = cfe_instance_peturb.get_value('land_surface_water__runoff_depth_ens')\n",
    "    outflow_peturb_mean = np.mean(outflow_peturb)\n",
    "    outflow_peturb_std = np.std(outflow_peturb)\n",
    "    outflow_peturb_var = np.var(outflow_peturb)\n",
    "\n",
    "    \n",
    "    #obs.append(outflow_peturb_std)\n",
    "    sim.append(outflow_peturb_std)\n",
    "    \n",
    "    # Assimilation\n",
    "    cfe_assimilation.set_value('obs', obs) #need these to represent pdf of flows\n",
    "    cfe_assimilation.set_value('sim', outflow_peturb_std)\n",
    "    cfe_assimilation.update()\n",
    "    \n",
    "    # Make matrix to put assimilation output\n",
    "    output = np.zeros(1)\n",
    "    DA_output = cfe_assimilation.get_value('assimilation', output)\n",
    "    #print(DA_output)\n",
    "    assimilation.append(DA_output) #append empty matrix to output for plotting\n",
    "        \n"
   ]
  },
  {
   "cell_type": "markdown",
   "id": "7ce2e5e6",
   "metadata": {},
   "source": [
    "### The finalize function should perform all tasks that take place after exiting the model’s time loop. This typically includes deallocating memory, closing files and printing reports."
   ]
  },
  {
   "cell_type": "code",
   "execution_count": 12,
   "id": "b8bc6e9a",
   "metadata": {},
   "outputs": [],
   "source": [
    "#cfe_instance.finalize(print_mass_balance=False)\n",
    "cfe_instance_peturb.finalize(print_mass_balance=False)"
   ]
  },
  {
   "cell_type": "markdown",
   "id": "8b72aaa2",
   "metadata": {},
   "source": [
    "### Here we are just plotting the fluxes."
   ]
  },
  {
   "cell_type": "code",
   "execution_count": 14,
   "id": "ef6adb2e",
   "metadata": {},
   "outputs": [
    {
     "ename": "TypeError",
     "evalue": "'int' object is not subscriptable",
     "output_type": "error",
     "traceback": [
      "\u001b[0;31m---------------------------------------------------------------------------\u001b[0m",
      "\u001b[0;31mTypeError\u001b[0m                                 Traceback (most recent call last)",
      "Input \u001b[0;32mIn [14]\u001b[0m, in \u001b[0;36m<cell line: 11>\u001b[0;34m()\u001b[0m\n\u001b[1;32m      9\u001b[0m plt\u001b[38;5;241m.\u001b[39mplot(x, sim[istart_plot:iend_plot], color \u001b[38;5;241m=\u001b[39m \u001b[38;5;124m'\u001b[39m\u001b[38;5;124mtab:blue\u001b[39m\u001b[38;5;124m'\u001b[39m, label \u001b[38;5;241m=\u001b[39m \u001b[38;5;124m'\u001b[39m\u001b[38;5;124mCFE Model\u001b[39m\u001b[38;5;124m'\u001b[39m)\n\u001b[1;32m     10\u001b[0m plt\u001b[38;5;241m.\u001b[39mplot(x, assimilation[istart_plot:iend_plot], color \u001b[38;5;241m=\u001b[39m \u001b[38;5;124m'\u001b[39m\u001b[38;5;124mgreen\u001b[39m\u001b[38;5;124m'\u001b[39m, label \u001b[38;5;241m=\u001b[39m \u001b[38;5;124m'\u001b[39m\u001b[38;5;124mDA\u001b[39m\u001b[38;5;124m'\u001b[39m)\n\u001b[0;32m---> 11\u001b[0m plt\u001b[38;5;241m.\u001b[39mplot(x, \u001b[43mobs\u001b[49m\u001b[43m[\u001b[49m\u001b[43mistart_plot\u001b[49m\u001b[43m:\u001b[49m\u001b[43miend_plot\u001b[49m\u001b[43m]\u001b[49m, color \u001b[38;5;241m=\u001b[39m \u001b[38;5;124m'\u001b[39m\u001b[38;5;124mtab:red\u001b[39m\u001b[38;5;124m'\u001b[39m, linestyle\u001b[38;5;241m=\u001b[39m\u001b[38;5;124m'\u001b[39m\u001b[38;5;124mdashed\u001b[39m\u001b[38;5;124m'\u001b[39m, label \u001b[38;5;241m=\u001b[39m \u001b[38;5;124m'\u001b[39m\u001b[38;5;124mCFE Peturbed\u001b[39m\u001b[38;5;124m'\u001b[39m)\n\u001b[1;32m     12\u001b[0m plt\u001b[38;5;241m.\u001b[39mlegend()\n",
      "\u001b[0;31mTypeError\u001b[0m: 'int' object is not subscriptable"
     ]
    },
    {
     "data": {
      "image/png": "[encoded data removed]",
      "text/plain": [
       "<Figure size 1200x900 with 1 Axes>"
      ]
     },
     "metadata": {
      "needs_background": "light"
     },
     "output_type": "display_data"
    }
   ],
   "source": [
    "istart_plot=500\n",
    "iend_plot=550\n",
    "x = list(range(istart_plot, iend_plot))\n",
    "\n",
    "fig = plt.figure(figsize = (4,3), dpi=300)\n",
    "#plt.plot(x, outflow['land_surface_water__runoff_volume_flux'][istart_plot:iend_plot], color = 'tab:blue')\n",
    "#plt.plot(x, cfe_output_lists_peturb['land_surface_water__runoff_volume_flux'][istart_plot:iend_plot], color = 'tab:red', linestyle='dashed')\n",
    "\n",
    "plt.plot(x, sim[istart_plot:iend_plot], color = 'tab:blue', label = 'CFE Model')\n",
    "plt.plot(x, assimilation[istart_plot:iend_plot], color = 'green', label = 'DA')\n",
    "plt.plot(x, obs[istart_plot:iend_plot], color = 'tab:red', linestyle='dashed', label = 'CFE Peturbed')\n",
    "plt.legend()\n"
   ]
  },
  {
   "cell_type": "markdown",
   "id": "d3aa92d1",
   "metadata": {},
   "source": [
    "### Here we are just going to run the unit test that compares with the origional author code. Kind of the same thing done above, but there is a function in the BMI code that does it all at once."
   ]
  }
 ],
 "metadata": {
  "kernelspec": {
   "display_name": "Python 3 (ipykernel)",
   "language": "python",
   "name": "python3"
  },
  "language_info": {
   "codemirror_mode": {
    "name": "ipython",
    "version": 3
   },
   "file_extension": ".py",
   "mimetype": "text/x-python",
   "name": "python",
   "nbconvert_exporter": "python",
   "pygments_lexer": "ipython3",
   "version": "3.9.12"
  }
 },
 "nbformat": 4,
 "nbformat_minor": 5
}
