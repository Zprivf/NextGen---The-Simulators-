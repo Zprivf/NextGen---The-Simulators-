{
 "cells": [
  {
   "cell_type": "markdown",
   "id": "0a3635bd",
   "metadata": {},
   "source": [
    "# Running multiple models with BMI in one \"Framework\"\n",
    "## Conceptual Functional Equivalent (CFE) Model\n",
    "## Penman function for an estimate of evaporation\n",
    "## Bucket model representing some downstream reservoir"
   ]
  },
  {
   "cell_type": "code",
   "execution_count": 1,
   "id": "4f1c9bb4",
   "metadata": {},
   "outputs": [],
   "source": [
    "import time\n",
    "import numpy as np\n",
    "import pandas as pd\n",
    "import json\n",
    "import matplotlib.pyplot as plt\n",
    "import sys\n",
    "sys.path.insert(0, './CFE')\n",
    "import bmi_cfe\n",
    "import bmi_cfe_peturb\n",
    "\n",
    "sys.path.insert(0, './Assimilation')\n",
    "import Bmi_da\n"
   ]
  },
  {
   "cell_type": "markdown",
   "id": "81b22b83",
   "metadata": {},
   "source": [
    "### Create an instance of the model with a specific configuration that corresponds to a particular catchmenmt."
   ]
  },
  {
   "cell_type": "code",
   "execution_count": 2,
   "id": "5ab506bc-f7b0-489b-8f01-7c350e8cd7a0",
   "metadata": {},
   "outputs": [
    {
     "name": "stdout",
     "output_type": "stream",
     "text": [
      "<module 'bmi_cfe' from 'C:\\\\Users\\\\zjbut\\\\Documents\\\\GitHub\\\\NextGen---The-Simulators-\\\\Toy_Model\\\\./CFE\\\\bmi_cfe.py'>\n",
      "<module 'bmi_cfe_peturb' from 'C:\\\\Users\\\\zjbut\\\\Documents\\\\GitHub\\\\NextGen---The-Simulators-\\\\Toy_Model\\\\./CFE\\\\bmi_cfe_peturb.py'>\n",
      "<module 'Bmi_da' from 'C:\\\\Users\\\\zjbut\\\\Documents\\\\GitHub\\\\NextGen---The-Simulators-\\\\Toy_Model\\\\./Assimilation\\\\Bmi_da.py'>\n"
     ]
    }
   ],
   "source": [
    "print(bmi_cfe)\n",
    "print(bmi_cfe_peturb)\n",
    "print(Bmi_da)"
   ]
  },
  {
   "cell_type": "code",
   "execution_count": 3,
   "id": "ce555bd9",
   "metadata": {},
   "outputs": [
    {
     "name": "stdout",
     "output_type": "stream",
     "text": [
      "Input variables:\n",
      "['sim', 'obs']\n",
      "Output variables:\n",
      "['assimilation']\n",
      "cfs\n"
     ]
    }
   ],
   "source": [
    "cfe_instance = bmi_cfe.BMI_CFE()\n",
    "cfe_instance_peturb = bmi_cfe_peturb.BMI_CFE()\n",
    "cfe_assimilation = Bmi_da.NGEN_DA()\n",
    "\n",
    "print(\"Input variables:\")\n",
    "print(cfe_assimilation.get_input_var_names())\n",
    "print(\"Output variables:\")\n",
    "print(cfe_assimilation.get_output_var_names())\n",
    "print(cfe_assimilation.get_var_units('sim'))\n",
    "\n",
    "#print(cfe_assimilation.cfg_bmi)\n"
   ]
  },
  {
   "cell_type": "markdown",
   "id": "08fbe912",
   "metadata": {},
   "source": [
    "### This initialization function should perform all tasks that are to take place before entering the model’s time loop. Models should be refactored, if necessary, to read their inputs (which could include filenames for other input files) from a configuration file. BMI does not impose any constraint on how configuration files are formatted."
   ]
  },
  {
   "cell_type": "code",
   "execution_count": 4,
   "id": "c05f5d19",
   "metadata": {},
   "outputs": [],
   "source": [
    "cfe_instance.initialize(cfg_file='./CFE/cat_58_config_cfe.json')\n",
    "cfe_instance_peturb.initialize(cfg_file='./CFE/cat_58_config_cfe_peturb_model.json')\n",
    "cfe_assimilation.initialize(bmi_cfg_file_name='./Assimilation/config.yml')\n",
    "#cfe_assimilation.initialize('config.yml')\n"
   ]
  },
  {
   "cell_type": "code",
   "execution_count": 5,
   "id": "11ab9b4b-e49a-437d-94ae-d6954adca8c8",
   "metadata": {},
   "outputs": [
    {
     "name": "stdout",
     "output_type": "stream",
     "text": [
      "['atmosphere_water__time_integral_of_precipitation_mass_flux', 'water_potential_evaporation_flux']\n",
      "['atmosphere_water__time_integral_of_precipitation_mass_flux', 'water_potential_evaporation_flux']\n",
      "['assimilation']\n"
     ]
    }
   ],
   "source": [
    "print(cfe_instance.get_input_var_names())\n",
    "print(cfe_instance_peturb.get_input_var_names())\n",
    "print(cfe_assimilation.get_output_var_names())\n"
   ]
  },
  {
   "cell_type": "markdown",
   "id": "9fd1796b",
   "metadata": {},
   "source": [
    "### Open the forcing file contained within the configuration file. We can run the model with any forcing. This is only an example. The path to the forcing file is contained within the configuration file, but it doesn't really need to be. This is just for organization."
   ]
  },
  {
   "cell_type": "code",
   "execution_count": 6,
   "id": "9941d994",
   "metadata": {},
   "outputs": [
    {
     "name": "stdout",
     "output_type": "stream",
     "text": [
      "                    time  APCP_surface  DLWRF_surface  DSWRF_surface  \\\n",
      "0    2015-12-01 00:00:00           0.0     361.200012       0.000000   \n",
      "1    2015-12-01 01:00:00           0.0     361.200012       0.000000   \n",
      "2    2015-12-01 02:00:00           0.0     361.200012       0.000000   \n",
      "3    2015-12-01 03:00:00           0.0     357.600006       0.000000   \n",
      "4    2015-12-01 04:00:00           0.0     357.600006       0.000000   \n",
      "..                   ...           ...            ...            ...   \n",
      "715  2015-12-30 19:00:00           4.7     402.200012     163.600006   \n",
      "716  2015-12-30 20:00:00           3.7     402.200012     130.300003   \n",
      "717  2015-12-30 21:00:00           4.2     399.200012      80.400002   \n",
      "718  2015-12-30 22:00:00           8.3     399.200012      21.000000   \n",
      "719  2015-12-30 23:00:00           3.3     399.200012       0.000000   \n",
      "\n",
      "     PRES_surface  SPFH_2maboveground  TMP_2maboveground  UGRD_10maboveground  \\\n",
      "0        100530.0              0.0105         287.500000                 -2.6   \n",
      "1        100610.0              0.0098         287.300018                 -2.7   \n",
      "2        100600.0              0.0091         286.600006                 -2.8   \n",
      "3        100570.0              0.0087         285.500000                 -2.9   \n",
      "4        100590.0              0.0084         284.300018                 -2.6   \n",
      "..            ...                 ...                ...                  ...   \n",
      "715      100560.0              0.0125         291.000000                  0.8   \n",
      "716      100490.0              0.0128         291.000000                  0.8   \n",
      "717      100470.0              0.0126         291.100006                  0.8   \n",
      "718      100450.0              0.0126         290.899994                  1.0   \n",
      "719      100520.0              0.0127         291.100006                  1.2   \n",
      "\n",
      "     VGRD_10maboveground   precip_rate  \n",
      "0                    0.0  0.000000e+00  \n",
      "1                   -0.3  0.000000e+00  \n",
      "2                   -0.6  0.000000e+00  \n",
      "3                   -0.9  0.000000e+00  \n",
      "4                   -0.3  0.000000e+00  \n",
      "..                   ...           ...  \n",
      "715                  1.9  1.816209e-06  \n",
      "716                  1.8  2.061642e-06  \n",
      "717                  1.7  4.077756e-06  \n",
      "718                  1.4  1.618451e-06  \n",
      "719                  1.2  6.878142e-07  \n",
      "\n",
      "[720 rows x 10 columns]\n"
     ]
    }
   ],
   "source": [
    "with open(cfe_instance.forcing_file, 'r') as f:\n",
    "    df_forcing = pd.read_csv(f)\n",
    "    \n",
    "with open(cfe_instance_peturb.forcing_file, 'r') as file:\n",
    "    df_forcing_peturb = pd.read_csv(file)\n",
    "    \n",
    "print(df_forcing_peturb)"
   ]
  },
  {
   "cell_type": "markdown",
   "id": "eaf15e86",
   "metadata": {},
   "source": [
    "### We will want to visualize the model output"
   ]
  },
  {
   "cell_type": "code",
   "execution_count": 7,
   "id": "ba07fb27",
   "metadata": {},
   "outputs": [
    {
     "name": "stdout",
     "output_type": "stream",
     "text": [
      "{'land_surface_water__runoff_depth': [], 'land_surface_water__runoff_volume_flux': [], 'DIRECT_RUNOFF': [], 'GIUH_RUNOFF': [], 'NASH_LATERAL_RUNOFF': [], 'DEEP_GW_TO_CHANNEL_FLUX': []}\n",
      "{'land_surface_water__runoff_depth': [], 'land_surface_water__runoff_volume_flux': [], 'DIRECT_RUNOFF': [], 'GIUH_RUNOFF': [], 'NASH_LATERAL_RUNOFF': [], 'DEEP_GW_TO_CHANNEL_FLUX': []}\n",
      "{'assimilation': []}\n"
     ]
    }
   ],
   "source": [
    "cfe_outputs=cfe_instance.get_output_var_names()\n",
    "cfe_output_lists = {output:[] for output in cfe_outputs}\n",
    "\n",
    "cfe_outputs_peturb=cfe_instance_peturb.get_output_var_names()\n",
    "cfe_output_lists_peturb = {output_peturb:[] for output_peturb in cfe_outputs_peturb}\n",
    "\n",
    "outputs_assimilation=cfe_assimilation.get_output_var_names()\n",
    "outputs_lists_assimilation = {output_assimilation:[] for output_assimilation in outputs_assimilation}\n",
    "\n",
    "print(cfe_output_lists)\n",
    "print(cfe_output_lists_peturb)\n",
    "print(outputs_lists_assimilation)\n"
   ]
  },
  {
   "cell_type": "code",
   "execution_count": 8,
   "id": "91a8bf39",
   "metadata": {},
   "outputs": [
    {
     "name": "stdout",
     "output_type": "stream",
     "text": [
      "0\n"
     ]
    }
   ],
   "source": [
    "# Get output var values\n",
    "usgs_obs = cfe_instance_peturb.get_value('land_surface_water__runoff_depth') \n",
    "cfe_model = cfe_instance.get_value('land_surface_water__runoff_depth') \n",
    "\n",
    "print(cfe_model)"
   ]
  },
  {
   "cell_type": "markdown",
   "id": "228ef248",
   "metadata": {},
   "source": [
    "### Now we loop through the forcing data and use it to run the model at each time step"
   ]
  },
  {
   "cell_type": "code",
   "execution_count": null,
   "id": "b1196959",
   "metadata": {},
   "outputs": [],
   "source": [
    "########################################\n",
    "# Loop through all of forcing data, model and peturbed\n",
    "\n",
    "    # Keep track of time\n",
    "    \n",
    "    # Set forcing data for model\n",
    "    # Set forcing for peturbed models\n",
    "    \n",
    "    # update model\n",
    "    \n",
    "    # Update observation data\n",
    "    \n",
    "    # Update ensemble of peturbed models \n",
    "        \n",
    "    # Update DA   \n",
    "    \n",
    "    # Get value of DA and set value to model\n",
    "    \n",
    "    # Set value of streamflow. Depending on this, we will change state variables below\n",
    "        # Schaake_output_runoff_m\n",
    "        # soil_reservoir_storage_deficit_m\n",
    "        # Covary the runoff_queue_m_per_timestep, line 183, cfe.py\n",
    "        \n",
    "        \n",
    "    \n",
    "        "
   ]
  },
  {
   "cell_type": "code",
   "execution_count": 9,
   "id": "14ba35f4",
   "metadata": {
    "scrolled": true
   },
   "outputs": [],
   "source": [
    "for i, precip in enumerate(df_forcing['APCP_surface']): #i is \n",
    "    \n",
    "    framework_time = (1+i)*3600 #seconds since starting simulation\n",
    "    \n",
    "    # Run CFE model\n",
    "    cfe_instance.set_value('atmosphere_water__time_integral_of_precipitation_mass_flux', precip) #value of precip from forcing data in loop\n",
    "    cfe_instance.update()\n",
    "    \n",
    "    for output in cfe_outputs:\n",
    "        cfe_output_lists[output].append(cfe_instance.get_value(output))\n",
    "        \n",
    "        out = cfe_output_lists['land_surface_water__runoff_volume_flux']\n",
    "        \n",
    "        #out_array = np.asarray(out, dtype=np.float32) #convert from list into array for assimilation\n",
    "        \n",
    "    \n",
    "    # Peturbation run   \n",
    "    cfe_instance_peturb.set_value('atmosphere_water__time_integral_of_precipitation_mass_flux', precip) #value of precip from forcing data in loop\n",
    "    cfe_instance_peturb.update()\n",
    "    \n",
    "    for output_peturb in cfe_outputs_peturb:\n",
    "        cfe_output_lists_peturb[output_peturb].append(cfe_instance_peturb.get_value(output_peturb))   \n",
    "        \n",
    "        out_peturb = cfe_output_lists_peturb['land_surface_water__runoff_volume_flux']\n",
    "        \n",
    "        #out_peturb_array = np.asarray(out_peturb, dtype=np.float32)\n",
    "        \n",
    "    #for output_assimilation in outputs_assimilation:  \n",
    "    #    outputs_lists_assimilation[output_assimilation].append(cfe_assimilation.get_value(output_assimilation), precip)\n",
    "        \n",
    "    #    out_ass = outputs_lists_assimilation['assimilation']\n",
    "        \n",
    "     #   print(out_ass)\n",
    "        \n",
    "    \n",
    "#print(out2)\n",
    "    \n",
    "# Can find individual flows, which works in assimilation\n",
    "out_i = out[35]\n",
    "#print(out_i)\n",
    "        \n",
    "out_i2 = out_peturb[35]\n",
    "#print(out_i2)\n"
   ]
  },
  {
   "cell_type": "markdown",
   "id": "7ce2e5e6",
   "metadata": {},
   "source": [
    "### The finalize function should perform all tasks that take place after exiting the model’s time loop. This typically includes deallocating memory, closing files and printing reports."
   ]
  },
  {
   "cell_type": "code",
   "execution_count": 10,
   "id": "6fabf3a5",
   "metadata": {},
   "outputs": [
    {
     "ename": "ValueError",
     "evalue": "could not broadcast input array from shape (720,) into shape (1,)",
     "output_type": "error",
     "traceback": [
      "\u001b[1;31m---------------------------------------------------------------------------\u001b[0m",
      "\u001b[1;31mValueError\u001b[0m                                Traceback (most recent call last)",
      "\u001b[1;32m~\\AppData\\Local\\Temp/ipykernel_24368/1073815815.py\u001b[0m in \u001b[0;36m<module>\u001b[1;34m\u001b[0m\n\u001b[0;32m      1\u001b[0m \u001b[1;31m#Set output var names to assimilation tecnique\u001b[0m\u001b[1;33m\u001b[0m\u001b[1;33m\u001b[0m\u001b[0m\n\u001b[0;32m      2\u001b[0m \u001b[1;33m\u001b[0m\u001b[0m\n\u001b[1;32m----> 3\u001b[1;33m \u001b[0mcfe_assimilation\u001b[0m\u001b[1;33m.\u001b[0m\u001b[0mset_value\u001b[0m\u001b[1;33m(\u001b[0m\u001b[1;34m'sim'\u001b[0m\u001b[1;33m,\u001b[0m \u001b[0mout_i\u001b[0m\u001b[1;33m)\u001b[0m\u001b[1;33m\u001b[0m\u001b[1;33m\u001b[0m\u001b[0m\n\u001b[0m\u001b[0;32m      4\u001b[0m \u001b[0mcfe_assimilation\u001b[0m\u001b[1;33m.\u001b[0m\u001b[0mset_value\u001b[0m\u001b[1;33m(\u001b[0m\u001b[1;34m'obs'\u001b[0m\u001b[1;33m,\u001b[0m \u001b[0mout_i2\u001b[0m\u001b[1;33m)\u001b[0m\u001b[1;33m\u001b[0m\u001b[1;33m\u001b[0m\u001b[0m\n\u001b[0;32m      5\u001b[0m \u001b[1;33m\u001b[0m\u001b[0m\n",
      "\u001b[1;32m~\\Documents\\GitHub\\NextGen---The-Simulators-\\Toy_Model\\./Assimilation\\Bmi_da.py\u001b[0m in \u001b[0;36mset_value\u001b[1;34m(self, var_name, values)\u001b[0m\n\u001b[0;32m    285\u001b[0m               \u001b[0mArray\u001b[0m \u001b[0mof\u001b[0m \u001b[0mnew\u001b[0m \u001b[0mvalues\u001b[0m\u001b[1;33m.\u001b[0m\u001b[1;33m\u001b[0m\u001b[1;33m\u001b[0m\u001b[0m\n\u001b[0;32m    286\u001b[0m         \"\"\" \n\u001b[1;32m--> 287\u001b[1;33m         \u001b[0mself\u001b[0m\u001b[1;33m.\u001b[0m\u001b[0m_values\u001b[0m\u001b[1;33m[\u001b[0m\u001b[0mvar_name\u001b[0m\u001b[1;33m]\u001b[0m\u001b[1;33m[\u001b[0m\u001b[1;33m:\u001b[0m\u001b[1;33m]\u001b[0m \u001b[1;33m=\u001b[0m \u001b[0mvalues\u001b[0m\u001b[1;33m\u001b[0m\u001b[1;33m\u001b[0m\u001b[0m\n\u001b[0m\u001b[0;32m    288\u001b[0m \u001b[1;33m\u001b[0m\u001b[0m\n\u001b[0;32m    289\u001b[0m     \u001b[1;31m#------------------------------------------------------------\u001b[0m\u001b[1;33m\u001b[0m\u001b[1;33m\u001b[0m\u001b[0m\n",
      "\u001b[1;31mValueError\u001b[0m: could not broadcast input array from shape (720,) into shape (1,)"
     ]
    }
   ],
   "source": [
    "#Set output var names to assimilation tecnique\n",
    "\n",
    "cfe_assimilation.set_value('sim', out)\n",
    "cfe_assimilation.set_value('obs', out_peturb)\n",
    "\n",
    "\n",
    "#cfe_assimilation.set_value('sim', out_array)\n",
    "#cfe_assimilation.set_value('obs', out2_array)\n",
    "\n",
    "# Update the assimilation\n",
    "\n",
    "cfe_assimilation.update_until(3600)\n",
    "\n",
    "# put assimilation  output into matrix\n",
    "    \n",
    "output = np.zeros(1)\n",
    "DA_output = cfe_assimilation.get_value('assimilation', output)\n",
    "\n",
    "print(DA_output)"
   ]
  },
  {
   "cell_type": "code",
   "execution_count": null,
   "id": "b8bc6e9a",
   "metadata": {},
   "outputs": [],
   "source": [
    "cfe_instance.finalize(print_mass_balance=False)\n",
    "cfe_instance_peturb.finalize(print_mass_balance=False)\n",
    "#cfe_instance_assimilation.finalize(print_mass_balance=True)"
   ]
  },
  {
   "cell_type": "markdown",
   "id": "8b72aaa2",
   "metadata": {},
   "source": [
    "### Here we are just plotting the fluxes."
   ]
  },
  {
   "cell_type": "code",
   "execution_count": null,
   "id": "ef6adb2e",
   "metadata": {},
   "outputs": [],
   "source": [
    "istart_plot=400\n",
    "iend_plot=550\n",
    "x = list(range(istart_plot, iend_plot))\n",
    "#for output in cfe_outputs:\n",
    "#    plt.plot(x, cfe_output_lists[output][istart_plot:iend_plot], label=output)\n",
    "#    plt.title(output)\n",
    "#    plt.legend()\n",
    "#    plt.show()\n",
    "#    plt.close()\n",
    "\n",
    "fig = plt.figure(figsize = (4,3), dpi=300)\n",
    "plt.plot(x, cfe_output_lists['land_surface_water__runoff_volume_flux'][istart_plot:iend_plot], color = 'tab:blue')\n",
    "plt.plot(x, cfe_output_lists_peturb['land_surface_water__runoff_volume_flux'][istart_plot:iend_plot], color = 'tab:red', linestyle='dashed')\n",
    "#plt.plot(x, cfe_output_lists_peturb['land_surface_water__runoff_volume_flux'][istart_plot:iend_plot], color = 'tab:red', linestyle='dashed')\n"
   ]
  },
  {
   "cell_type": "markdown",
   "id": "d3aa92d1",
   "metadata": {},
   "source": [
    "### Here we are just going to run the unit test that compares with the origional author code. Kind of the same thing done above, but there is a function in the BMI code that does it all at once."
   ]
  }
 ],
 "metadata": {
  "kernelspec": {
   "display_name": "Python 3 (ipykernel)",
   "language": "python",
   "name": "python3"
  },
  "language_info": {
   "codemirror_mode": {
    "name": "ipython",
    "version": 3
   },
   "file_extension": ".py",
   "mimetype": "text/x-python",
   "name": "python",
   "nbconvert_exporter": "python",
   "pygments_lexer": "ipython3",
   "version": "3.9.7"
  }
 },
 "nbformat": 4,
 "nbformat_minor": 5
}
