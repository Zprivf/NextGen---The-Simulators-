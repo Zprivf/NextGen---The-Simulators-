{
 "cells": [
  {
   "cell_type": "markdown",
   "id": "0a3635bd",
   "metadata": {},
   "source": [
    "# Running multiple models with BMI in one \"Framework\"\n",
    "## Conceptual Functional Equivalent (CFE) Model\n",
    "## Penman function for an estimate of evaporation\n",
    "## Bucket model representing some downstream reservoir"
   ]
  },
  {
   "cell_type": "code",
   "execution_count": 1,
   "id": "4f1c9bb4",
   "metadata": {},
   "outputs": [],
   "source": [
    "import time\n",
    "import numpy as np\n",
    "import pandas as pd\n",
    "import json\n",
    "import matplotlib.pyplot as plt\n",
    "import sys\n",
    "sys.path.insert(0, './CFE')\n",
    "import bmi_cfe\n",
    "#sys.path.insert(0, './PCFE')\n",
    "import bmi_cfe_peturb\n",
    "sys.path.insert(0, './Assimilation')\n",
    "import bmi_assimilation\n"
   ]
  },
  {
   "cell_type": "markdown",
   "id": "81b22b83",
   "metadata": {},
   "source": [
    "### Create an instance of the model with a specific configuration that corresponds to a particular catchmenmt."
   ]
  },
  {
   "cell_type": "code",
   "execution_count": 2,
   "id": "5ab506bc-f7b0-489b-8f01-7c350e8cd7a0",
   "metadata": {},
   "outputs": [
    {
     "name": "stdout",
     "output_type": "stream",
     "text": [
      "<module 'bmi_cfe' from 'C:\\\\Users\\\\zjbut\\\\Documents\\\\GitHub\\\\NextGen---The-Simulators-\\\\Toy_Model\\\\./CFE\\\\bmi_cfe.py'>\n",
      "<module 'bmi_cfe_peturb' from 'C:\\\\Users\\\\zjbut\\\\Documents\\\\GitHub\\\\NextGen---The-Simulators-\\\\Toy_Model\\\\./CFE\\\\bmi_cfe_peturb.py'>\n",
      "<module 'bmi_assimilation' from 'C:\\\\Users\\\\zjbut\\\\Documents\\\\GitHub\\\\NextGen---The-Simulators-\\\\Toy_Model\\\\./Assimilation\\\\bmi_assimilation.py'>\n"
     ]
    }
   ],
   "source": [
    "print(bmi_cfe)\n",
    "print(bmi_cfe_peturb)\n",
    "print(bmi_assimilation)"
   ]
  },
  {
   "cell_type": "code",
   "execution_count": 3,
   "id": "ce555bd9",
   "metadata": {},
   "outputs": [
    {
     "name": "stdout",
     "output_type": "stream",
     "text": [
      "<bmi_cfe.BMI_CFE object at 0x000002A8118A0640>\n",
      "<bmi_cfe_peturb.BMI_CFE object at 0x000002A8118A06A0>\n",
      "<bmi_assimilation.BMI_Assimilation object at 0x000002A8118A0370>\n"
     ]
    }
   ],
   "source": [
    "cfe_instance = bmi_cfe.BMI_CFE()\n",
    "cfe_instance_peturb = bmi_cfe_peturb.BMI_CFE()\n",
    "cfe_assimilation = bmi_assimilation.BMI_Assimilation()\n",
    "\n",
    "print(cfe_instance)\n",
    "print(cfe_instance_peturb)\n",
    "print(cfe_assimilation)"
   ]
  },
  {
   "cell_type": "markdown",
   "id": "08fbe912",
   "metadata": {},
   "source": [
    "### This initialization function should perform all tasks that are to take place before entering the model’s time loop. Models should be refactored, if necessary, to read their inputs (which could include filenames for other input files) from a configuration file. BMI does not impose any constraint on how configuration files are formatted."
   ]
  },
  {
   "cell_type": "code",
   "execution_count": 4,
   "id": "c05f5d19",
   "metadata": {},
   "outputs": [],
   "source": [
    "cfe_instance.initialize(cfg_file='./CFE/cat_58_config_cfe.json')\n",
    "cfe_instance_peturb.initialize(cfg_file='./CFE/cat_58_config_cfe.json')\n",
    "cfe_assimilation.initialize()\n"
   ]
  },
  {
   "cell_type": "code",
   "execution_count": 10,
   "id": "11ab9b4b-e49a-437d-94ae-d6954adca8c8",
   "metadata": {},
   "outputs": [
    {
     "name": "stdout",
     "output_type": "stream",
     "text": [
      "['atmosphere_water__time_integral_of_precipitation_mass_flux', 'water_potential_evaporation_flux']\n",
      "['atmosphere_water__time_integral_of_precipitation_mass_flux', 'water_potential_evaporation_flux']\n",
      "['USGS_DA']\n"
     ]
    }
   ],
   "source": [
    "print(cfe_instance.get_input_var_names())\n",
    "print(cfe_instance_peturb.get_input_var_names())\n",
    "print(cfe_assimilation.get_output_var_names())\n"
   ]
  },
  {
   "cell_type": "markdown",
   "id": "9fd1796b",
   "metadata": {},
   "source": [
    "### Open the forcing file contained within the configuration file. We can run the model with any forcing. This is only an example. The path to the forcing file is contained within the configuration file, but it doesn't really need to be. This is just for organization."
   ]
  },
  {
   "cell_type": "code",
   "execution_count": 11,
   "id": "9941d994",
   "metadata": {},
   "outputs": [
    {
     "name": "stdout",
     "output_type": "stream",
     "text": [
      "                    time  APCP_surface  DLWRF_surface  DSWRF_surface  \\\n",
      "0    2015-12-01 00:00:00           0.0     361.200012       0.000000   \n",
      "1    2015-12-01 01:00:00           0.0     361.200012       0.000000   \n",
      "2    2015-12-01 02:00:00           0.0     361.200012       0.000000   \n",
      "3    2015-12-01 03:00:00           0.0     357.600006       0.000000   \n",
      "4    2015-12-01 04:00:00           0.0     357.600006       0.000000   \n",
      "..                   ...           ...            ...            ...   \n",
      "715  2015-12-30 19:00:00           4.7     402.200012     163.600006   \n",
      "716  2015-12-30 20:00:00           3.7     402.200012     130.300003   \n",
      "717  2015-12-30 21:00:00           4.2     399.200012      80.400002   \n",
      "718  2015-12-30 22:00:00           8.3     399.200012      21.000000   \n",
      "719  2015-12-30 23:00:00           3.3     399.200012       0.000000   \n",
      "\n",
      "     PRES_surface  SPFH_2maboveground  TMP_2maboveground  UGRD_10maboveground  \\\n",
      "0        100530.0              0.0105         287.500000                 -2.6   \n",
      "1        100610.0              0.0098         287.300018                 -2.7   \n",
      "2        100600.0              0.0091         286.600006                 -2.8   \n",
      "3        100570.0              0.0087         285.500000                 -2.9   \n",
      "4        100590.0              0.0084         284.300018                 -2.6   \n",
      "..            ...                 ...                ...                  ...   \n",
      "715      100560.0              0.0125         291.000000                  0.8   \n",
      "716      100490.0              0.0128         291.000000                  0.8   \n",
      "717      100470.0              0.0126         291.100006                  0.8   \n",
      "718      100450.0              0.0126         290.899994                  1.0   \n",
      "719      100520.0              0.0127         291.100006                  1.2   \n",
      "\n",
      "     VGRD_10maboveground   precip_rate  \n",
      "0                    0.0  0.000000e+00  \n",
      "1                   -0.3  0.000000e+00  \n",
      "2                   -0.6  0.000000e+00  \n",
      "3                   -0.9  0.000000e+00  \n",
      "4                   -0.3  0.000000e+00  \n",
      "..                   ...           ...  \n",
      "715                  1.9  1.816209e-06  \n",
      "716                  1.8  2.061642e-06  \n",
      "717                  1.7  4.077756e-06  \n",
      "718                  1.4  1.618451e-06  \n",
      "719                  1.2  6.878142e-07  \n",
      "\n",
      "[720 rows x 10 columns]\n"
     ]
    }
   ],
   "source": [
    "with open(cfe_instance.forcing_file, 'r') as f:\n",
    "    df_forcing = pd.read_csv(f)\n",
    "    \n",
    "with open(cfe_instance_peturb.forcing_file, 'r') as file:\n",
    "    df_forcing_peturb = pd.read_csv(file)\n",
    "    \n",
    "print(df_forcing_peturb)"
   ]
  },
  {
   "cell_type": "markdown",
   "id": "eaf15e86",
   "metadata": {},
   "source": [
    "### We will want to visualize the model output"
   ]
  },
  {
   "cell_type": "code",
   "execution_count": 22,
   "id": "ba07fb27",
   "metadata": {},
   "outputs": [
    {
     "name": "stdout",
     "output_type": "stream",
     "text": [
      "{'land_surface_water__runoff_depth': [], 'land_surface_water__runoff_volume_flux': [], 'DIRECT_RUNOFF': [], 'GIUH_RUNOFF': [], 'NASH_LATERAL_RUNOFF': [], 'DEEP_GW_TO_CHANNEL_FLUX': []}\n",
      "{'land_surface_water__runoff_depth': [], 'land_surface_water__runoff_volume_flux': [], 'DIRECT_RUNOFF': [], 'GIUH_RUNOFF': [], 'NASH_LATERAL_RUNOFF': [], 'DEEP_GW_TO_CHANNEL_FLUX': []}\n",
      "{'USGS_DA': []}\n"
     ]
    }
   ],
   "source": [
    "cfe_outputs=cfe_instance.get_output_var_names()\n",
    "cfe_output_lists = {output:[] for output in cfe_outputs}\n",
    "\n",
    "cfe_outputs_peturb=cfe_instance_peturb.get_output_var_names()\n",
    "cfe_output_lists_peturb = {output_peturb:[] for output_peturb in cfe_outputs_peturb}\n",
    "\n",
    "outputs_assimilation=cfe_assimilation.get_output_var_names()\n",
    "outputs_lists_assimilation = {output_assimilation:[] for output_assimilation in outputs_assimilation}\n",
    "\n",
    "print(cfe_output_lists)\n",
    "print(cfe_output_lists_peturb)\n",
    "print(outputs_lists_assimilation)\n"
   ]
  },
  {
   "cell_type": "code",
   "execution_count": 25,
   "id": "91a8bf39",
   "metadata": {},
   "outputs": [
    {
     "ename": "TypeError",
     "evalue": "set_value() takes 3 positional arguments but 4 were given",
     "output_type": "error",
     "traceback": [
      "\u001b[1;31m---------------------------------------------------------------------------\u001b[0m",
      "\u001b[1;31mTypeError\u001b[0m                                 Traceback (most recent call last)",
      "\u001b[1;32m~\\AppData\\Local\\Temp/ipykernel_7060/1882675485.py\u001b[0m in \u001b[0;36m<module>\u001b[1;34m\u001b[0m\n\u001b[0;32m      3\u001b[0m \u001b[0musgs_obs\u001b[0m \u001b[1;33m=\u001b[0m \u001b[0mcfe_instance_peturb\u001b[0m\u001b[1;33m.\u001b[0m\u001b[0mget_value\u001b[0m\u001b[1;33m(\u001b[0m\u001b[1;34m'land_surface_water__runoff_depth'\u001b[0m\u001b[1;33m)\u001b[0m\u001b[1;33m\u001b[0m\u001b[1;33m\u001b[0m\u001b[0m\n\u001b[0;32m      4\u001b[0m \u001b[0mcfe_model\u001b[0m \u001b[1;33m=\u001b[0m \u001b[0mcfe_instance\u001b[0m\u001b[1;33m.\u001b[0m\u001b[0mget_value\u001b[0m\u001b[1;33m(\u001b[0m\u001b[1;34m'land_surface_water__runoff_depth'\u001b[0m\u001b[1;33m)\u001b[0m\u001b[1;33m\u001b[0m\u001b[1;33m\u001b[0m\u001b[0m\n\u001b[1;32m----> 5\u001b[1;33m \u001b[0mDA_output\u001b[0m \u001b[1;33m=\u001b[0m \u001b[0mcfe_assimilation\u001b[0m\u001b[1;33m.\u001b[0m\u001b[0mset_value\u001b[0m\u001b[1;33m(\u001b[0m\u001b[1;34m'USGS_DA'\u001b[0m\u001b[1;33m,\u001b[0m \u001b[0mcfe_model\u001b[0m\u001b[1;33m,\u001b[0m\u001b[0musgs_obs\u001b[0m\u001b[1;33m)\u001b[0m\u001b[1;33m\u001b[0m\u001b[1;33m\u001b[0m\u001b[0m\n\u001b[0m\u001b[0;32m      6\u001b[0m \u001b[1;33m\u001b[0m\u001b[0m\n\u001b[0;32m      7\u001b[0m \u001b[1;33m\u001b[0m\u001b[0m\n",
      "\u001b[1;31mTypeError\u001b[0m: set_value() takes 3 positional arguments but 4 were given"
     ]
    }
   ],
   "source": [
    "# Get output var values\n",
    "\n",
    "usgs_obs = cfe_instance_peturb.get_value('land_surface_water__runoff_depth') \n",
    "cfe_model = cfe_instance.get_value('land_surface_water__runoff_depth') \n",
    "DA_output = cfe_assimilation.set_value('USGS_DA', cfe_model,usgs_obs)\n",
    "\n",
    "\n",
    "\n",
    "# Watershed flows into some reservoir\n",
    "#into_bucket = cfe_instance.get_value(\"land_surface_water__runoff_depth\") #output of model that goes into reservoir\n",
    "#bucket_instance.set_value('water__input_volume_flux', into_bucket)\n",
    "#bucket_instance.set_value('water_potential_evaporation_flux', e/1000)\n",
    "#bucket_instance.update() \n",
    "print(DA_output)"
   ]
  },
  {
   "cell_type": "code",
   "execution_count": 13,
   "id": "0e2eaea8-1059-41d6-a2fe-361db73592f5",
   "metadata": {},
   "outputs": [
    {
     "data": {
      "text/plain": [
       "0"
      ]
     },
     "execution_count": 13,
     "metadata": {},
     "output_type": "execute_result"
    }
   ],
   "source": [
    "cfe_instance.get_current_time()\n",
    "cfe_assimilation.get_current_time()"
   ]
  },
  {
   "cell_type": "markdown",
   "id": "228ef248",
   "metadata": {},
   "source": [
    "### Now we loop through the forcing data and use it to run the model at each time step"
   ]
  },
  {
   "cell_type": "code",
   "execution_count": 14,
   "id": "14ba35f4",
   "metadata": {},
   "outputs": [],
   "source": [
    "for i, precip in enumerate(df_forcing['APCP_surface']): #i is \n",
    "    \n",
    "    framework_time = (1+i)*3600 #seconds since starting simulation\n",
    "    \n",
    "    # Run the hydrology model\n",
    "    #cfe_instance.set_value('atmosphere_water__time_integral_of_precipitation_mass_flux', e)\n",
    "    cfe_instance.set_value('atmosphere_water__time_integral_of_precipitation_mass_flux', precip) #value of precip from forcing data in loop\n",
    "    cfe_instance.update()\n",
    "    \n",
    "    for output in cfe_outputs:\n",
    "        cfe_output_lists[output].append(cfe_instance.get_value(output))\n",
    "        \n",
    "#print(cfe_output_lists)\n",
    "        \n",
    "# Peturbation run   \n",
    "for i2, precip2 in enumerate(df_forcing_peturb['APCP_surface']): #i is \n",
    "    \n",
    "    framework_time = (1+i2)*3600 #seconds since starting simulation\n",
    "   \n",
    "    cfe_instance_peturb.set_value('atmosphere_water__time_integral_of_precipitation_mass_flux', precip2) #value of precip from forcing data in loop\n",
    "    cfe_instance_peturb.update()\n",
    "    \n",
    "    for output_peturb in cfe_outputs_peturb:\n",
    "        cfe_output_lists_peturb[output_peturb].append(cfe_instance_peturb.get_value(output_peturb))   \n",
    "        \n",
    "#print(cfe_output_lists_peturb)\n"
   ]
  },
  {
   "cell_type": "markdown",
   "id": "7ce2e5e6",
   "metadata": {},
   "source": [
    "### The finalize function should perform all tasks that take place after exiting the model’s time loop. This typically includes deallocating memory, closing files and printing reports."
   ]
  },
  {
   "cell_type": "code",
   "execution_count": 16,
   "id": "b8bc6e9a",
   "metadata": {},
   "outputs": [
    {
     "name": "stdout",
     "output_type": "stream",
     "text": [
      "\n",
      "GLOBAL MASS BALANCE\n",
      "  initial volume:   0.0000\n",
      "    volume input:   0.0000\n",
      "   volume output:   0.0000\n",
      "    final volume:   0.8880\n",
      "        residual: -1.1552e+01\n",
      "\n",
      "SCHAAKE MASS BALANCE\n",
      "  surface runoff:   0.0000\n",
      "    infiltration:   0.0000\n",
      "schaake residual: 0.0000e+00\n",
      "\n",
      "GIUH MASS BALANCE\n",
      "  vol. into giuh:   0.0000\n",
      "   vol. out giuh:   0.0000\n",
      " vol. end giuh q:  10.6640\n",
      "   giuh residual: -1.0664e+01\n",
      "\n",
      "SOIL WATER CONCEPTUAL RESERVOIR MASS BALANCE\n",
      "   init soil vol:   0.0000\n",
      "  vol. into soil:   0.0000\n",
      "vol.soil2latflow:   0.0000\n",
      " vol. soil to gw:   0.0000\n",
      " final vol. soil:   0.8780\n",
      "vol. soil resid.: -8.7800e-01\n",
      "\n",
      "NASH CASCADE CONCEPTUAL RESERVOIR MASS BALANCE\n",
      "    vol. to nash:   0.0000\n",
      "  vol. from nash:   0.0000\n",
      " final vol. nash:   0.0000\n",
      "nash casc resid.: 0.0000e+00\n",
      "\n",
      "GROUNDWATER CONCEPTUAL RESERVOIR MASS BALANCE\n",
      "init gw. storage:   0.0100\n",
      "       vol to gw:   0.0000\n",
      "     vol from gw:   0.0000\n",
      "final gw.storage:   0.0100\n",
      "    gw. residual: 0.0000e+00\n",
      "\n",
      "GLOBAL MASS BALANCE\n",
      "  initial volume:   0.0000\n",
      "    volume input:   0.0000\n",
      "   volume output:   0.0000\n",
      "    final volume:   0.8880\n",
      "        residual: -1.1552e+01\n",
      "\n",
      "SCHAAKE MASS BALANCE\n",
      "  surface runoff:   0.0000\n",
      "    infiltration:   0.0000\n",
      "schaake residual: 0.0000e+00\n",
      "\n",
      "GIUH MASS BALANCE\n",
      "  vol. into giuh:   0.0000\n",
      "   vol. out giuh:   0.0000\n",
      " vol. end giuh q:  10.6640\n",
      "   giuh residual: -1.0664e+01\n",
      "\n",
      "SOIL WATER CONCEPTUAL RESERVOIR MASS BALANCE\n",
      "   init soil vol:   0.0000\n",
      "  vol. into soil:   0.0000\n",
      "vol.soil2latflow:   0.0000\n",
      " vol. soil to gw:   0.0000\n",
      " final vol. soil:   0.8780\n",
      "vol. soil resid.: -8.7800e-01\n",
      "\n",
      "NASH CASCADE CONCEPTUAL RESERVOIR MASS BALANCE\n",
      "    vol. to nash:   0.0000\n",
      "  vol. from nash:   0.0000\n",
      " final vol. nash:   0.0000\n",
      "nash casc resid.: 0.0000e+00\n",
      "\n",
      "GROUNDWATER CONCEPTUAL RESERVOIR MASS BALANCE\n",
      "init gw. storage:   0.0100\n",
      "       vol to gw:   0.0000\n",
      "     vol from gw:   0.0000\n",
      "final gw.storage:   0.0100\n",
      "    gw. residual: 0.0000e+00\n"
     ]
    }
   ],
   "source": [
    "cfe_instance.finalize(print_mass_balance=True)\n",
    "cfe_instance_peturb.finalize(print_mass_balance=True)\n",
    "#cfe_instance_assimilation.finalize(print_mass_balance=True)"
   ]
  },
  {
   "cell_type": "markdown",
   "id": "8b72aaa2",
   "metadata": {},
   "source": [
    "### Here we are just plotting the fluxes."
   ]
  },
  {
   "cell_type": "code",
   "execution_count": 17,
   "id": "ef6adb2e",
   "metadata": {},
   "outputs": [
    {
     "data": {
      "text/plain": [
       "[<matplotlib.lines.Line2D at 0x2a815171130>]"
      ]
     },
     "execution_count": 17,
     "metadata": {},
     "output_type": "execute_result"
    },
    {
     "data": {
      "image/png": "[encoded data removed]",
      "text/plain": [
       "<Figure size 1200x900 with 1 Axes>"
      ]
     },
     "metadata": {
      "needs_background": "light"
     },
     "output_type": "display_data"
    }
   ],
   "source": [
    "istart_plot=400\n",
    "iend_plot=550\n",
    "x = list(range(istart_plot, iend_plot))\n",
    "#for output in cfe_outputs:\n",
    "#    plt.plot(x, cfe_output_lists[output][istart_plot:iend_plot], label=output)\n",
    "#    plt.title(output)\n",
    "#    plt.legend()\n",
    "#    plt.show()\n",
    "#    plt.close()\n",
    "\n",
    "fig = plt.figure(figsize = (4,3), dpi=300)\n",
    "plt.plot(x, cfe_output_lists['land_surface_water__runoff_volume_flux'][istart_plot:iend_plot], color = 'tab:blue')\n",
    "plt.plot(x, cfe_output_lists_peturb['land_surface_water__runoff_volume_flux'][istart_plot:iend_plot], color = 'tab:red', linestyle='dashed')\n"
   ]
  },
  {
   "cell_type": "markdown",
   "id": "d3aa92d1",
   "metadata": {},
   "source": [
    "### Here we are just going to run the unit test that compares with the origional author code. Kind of the same thing done above, but there is a function in the BMI code that does it all at once."
   ]
  }
 ],
 "metadata": {
  "kernelspec": {
   "display_name": "Python 3 (ipykernel)",
   "language": "python",
   "name": "python3"
  },
  "language_info": {
   "codemirror_mode": {
    "name": "ipython",
    "version": 3
   },
   "file_extension": ".py",
   "mimetype": "text/x-python",
   "name": "python",
   "nbconvert_exporter": "python",
   "pygments_lexer": "ipython3",
   "version": "3.9.7"
  }
 },
 "nbformat": 4,
 "nbformat_minor": 5
}
