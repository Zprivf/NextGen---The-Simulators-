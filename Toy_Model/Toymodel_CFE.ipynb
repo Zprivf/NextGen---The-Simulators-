{
 "cells": [
  {
   "cell_type": "markdown",
   "id": "0a3635bd",
   "metadata": {},
   "source": [
    "# Running multiple models with BMI in one \"Framework\"\n",
    "## Conceptual Functional Equivalent (CFE) Model\n",
    "## Penman function for an estimate of evaporation\n",
    "## Bucket model representing some downstream reservoir"
   ]
  },
  {
   "cell_type": "code",
   "execution_count": 1,
   "id": "4f1c9bb4",
   "metadata": {},
   "outputs": [],
   "source": [
    "import time\n",
    "import numpy as np\n",
    "import pandas as pd\n",
    "import json\n",
    "import matplotlib.pyplot as plt\n",
    "import sys\n",
    "sys.path.insert(0, './CFE')\n",
    "import bmi_cfe\n",
    "\n",
    "import bmi_cfe_peturb\n",
    "sys.path.insert(0, './Assimilation')\n",
    "\n",
    "#sys.path.append('/home/jovyan/data/NextGen---The-Simulators-/USGS/USGS_BMI_FT/cleaned_FT')\n",
    "sys.path.append('C:/Users/zjbut/Documents/GitHub/NextGen---The-Simulators-/USGS/USGS_BMI_FT')\n",
    "\n",
    "import bmi_usgs"
   ]
  },
  {
   "cell_type": "markdown",
   "id": "81b22b83",
   "metadata": {},
   "source": [
    "### Create an instance of the model with a specific configuration that corresponds to a particular catchmenmt."
   ]
  },
  {
   "cell_type": "code",
   "execution_count": 2,
   "id": "5ab506bc-f7b0-489b-8f01-7c350e8cd7a0",
   "metadata": {},
   "outputs": [
    {
     "name": "stdout",
     "output_type": "stream",
     "text": [
      "<module 'bmi_usgs' from 'C:\\\\Users/zjbut/Documents/GitHub/NextGen---The-Simulators-/USGS/USGS_BMI_FT\\\\bmi_usgs.py'>\n",
      "<module 'bmi_cfe_peturb' from 'C:\\\\Users\\\\zjbut\\\\Documents\\\\GitHub\\\\NextGen---The-Simulators-\\\\Toy_Model\\\\./CFE\\\\bmi_cfe_peturb.py'>\n",
      "<module 'bmi_cfe' from 'C:\\\\Users\\\\zjbut\\\\Documents\\\\GitHub\\\\NextGen---The-Simulators-\\\\Toy_Model\\\\./CFE\\\\bmi_cfe.py'>\n"
     ]
    }
   ],
   "source": [
    "print(bmi_usgs)\n",
    "print(bmi_cfe_peturb)\n",
    "#print(Bmi_da)\n",
    "\n",
    "print(bmi_cfe)\n"
   ]
  },
  {
   "cell_type": "code",
   "execution_count": 3,
   "id": "ce555bd9",
   "metadata": {},
   "outputs": [
    {
     "ename": "NameError",
     "evalue": "name 'Bmi_da' is not defined",
     "output_type": "error",
     "traceback": [
      "\u001b[1;31m---------------------------------------------------------------------------\u001b[0m",
      "\u001b[1;31mNameError\u001b[0m                                 Traceback (most recent call last)",
      "\u001b[1;32m~\\AppData\\Local\\Temp/ipykernel_5192/3170246911.py\u001b[0m in \u001b[0;36m<module>\u001b[1;34m\u001b[0m\n\u001b[0;32m      1\u001b[0m \u001b[0mUSGS_instance\u001b[0m \u001b[1;33m=\u001b[0m \u001b[0mbmi_usgs\u001b[0m\u001b[1;33m.\u001b[0m\u001b[0mBMI_USGS\u001b[0m\u001b[1;33m(\u001b[0m\u001b[1;33m)\u001b[0m\u001b[1;33m\u001b[0m\u001b[1;33m\u001b[0m\u001b[0m\n\u001b[0;32m      2\u001b[0m \u001b[0mcfe_instance_peturb\u001b[0m \u001b[1;33m=\u001b[0m \u001b[0mbmi_cfe_peturb\u001b[0m\u001b[1;33m.\u001b[0m\u001b[0mBMI_CFE\u001b[0m\u001b[1;33m(\u001b[0m\u001b[1;33m)\u001b[0m\u001b[1;33m\u001b[0m\u001b[1;33m\u001b[0m\u001b[0m\n\u001b[1;32m----> 3\u001b[1;33m \u001b[0mcfe_assimilation\u001b[0m \u001b[1;33m=\u001b[0m \u001b[0mBmi_da\u001b[0m\u001b[1;33m.\u001b[0m\u001b[0mNGEN_DA\u001b[0m\u001b[1;33m(\u001b[0m\u001b[1;33m)\u001b[0m\u001b[1;33m\u001b[0m\u001b[1;33m\u001b[0m\u001b[0m\n\u001b[0m\u001b[0;32m      4\u001b[0m \u001b[1;33m\u001b[0m\u001b[0m\n\u001b[0;32m      5\u001b[0m \u001b[0mprint\u001b[0m\u001b[1;33m(\u001b[0m\u001b[1;34m\"Input variables:\\n\"\u001b[0m\u001b[1;33m)\u001b[0m\u001b[1;33m\u001b[0m\u001b[1;33m\u001b[0m\u001b[0m\n",
      "\u001b[1;31mNameError\u001b[0m: name 'Bmi_da' is not defined"
     ]
    }
   ],
   "source": [
    "USGS_instance = bmi_usgs.BMI_USGS()\n",
    "cfe_instance_peturb = bmi_cfe_peturb.BMI_CFE()\n",
    "cfe_assimilation = Bmi_da.NGEN_DA()\n",
    "\n",
    "print(\"Input variables:\\n\")\n",
    "print(\"USGS\")\n",
    "print(USGS_instance.get_input_var_names())\n",
    "\n",
    "print(cfe_instance_peturb.get_input_var_names())\n",
    "print(\"Assimilatoin\")\n",
    "print(cfe_assimilation.get_input_var_names())\n",
    "\n",
    "print(\"\\nOutput variables:\")\n",
    "print(cfe_assimilation.get_output_var_names())\n",
    "print(USGS_instance.get_output_var_names())\n",
    "\n",
    "print(cfe_assimilation.get_var_units('sim'))\n",
    "\n",
    "cfe_instance = bmi_cfe.BMI_CFE() #one that changes state vars\n",
    "print(\"CFE\")\n",
    "print(cfe_instance.get_input_var_names())\n",
    "print(cfe_instance.get_output_var_names())\n"
   ]
  },
  {
   "cell_type": "markdown",
   "id": "08fbe912",
   "metadata": {},
   "source": [
    "### This initialization function should perform all tasks that are to take place before entering the model’s time loop. Models should be refactored, if necessary, to read their inputs (which could include filenames for other input files) from a configuration file. BMI does not impose any constraint on how configuration files are formatted."
   ]
  },
  {
   "cell_type": "code",
   "execution_count": null,
   "id": "c05f5d19",
   "metadata": {},
   "outputs": [],
   "source": [
    "#USGS_instance.initialize(cfg_file='/home/jovyan/data/NextGen---The-Simulators-/USGS/USGS_BMI_FT/cleaned_FT/usgs_config.json')\n",
    "USGS_instance.initialize(cfg_file='C:/Users/zjbut/Documents/GitHub/NextGen---The-Simulators-/USGS/USGS_BMI_FT/usgs_config.json')\n",
    "cfe_instance_peturb.initialize(cfg_file='./CFE/cat_58_config_cfe_peturb_model.json')\n",
    "cfe_assimilation.initialize(bmi_cfg_file_name='./Assimilation/config.yml')\n",
    "#cfe_assimilation.initialize('config.yml')\n",
    "\n",
    "\n",
    "cfe_instance.initialize(cfg_file='./CFE/cat_58_config_cfe.json')\n",
    "cfe_instance.forcing_file # path to forcing file\n"
   ]
  },
  {
   "cell_type": "markdown",
   "id": "9fd1796b",
   "metadata": {},
   "source": [
    "### Open the forcing file contained within the configuration file. We can run the model with any forcing. This is only an example. The path to the forcing file is contained within the configuration file, but it doesn't really need to be. This is just for organization."
   ]
  },
  {
   "cell_type": "code",
   "execution_count": null,
   "id": "9941d994",
   "metadata": {},
   "outputs": [],
   "source": [
    "with open(cfe_instance.forcing_file, 'r') as f:\n",
    "    df_forcing = pd.read_csv(f)\n",
    "    \n",
    "print(df_forcing)"
   ]
  },
  {
   "cell_type": "markdown",
   "id": "eaf15e86",
   "metadata": {},
   "source": [
    "### We will want to visualize the model output"
   ]
  },
  {
   "cell_type": "code",
   "execution_count": null,
   "id": "ba07fb27",
   "metadata": {},
   "outputs": [],
   "source": [
    "# Originial CFE Model\n",
    "cfe_outputs=cfe_instance.get_output_var_names()\n",
    "cfe_output_lists = {output:[] for output in cfe_outputs}\n",
    "\n",
    "# # CFE Peturbed\n",
    "cfe_outputs_peturb=cfe_instance_peturb.get_output_var_names()\n",
    "cfe_output_lists_peturb = {output_peturb:[] for output_peturb in cfe_outputs_peturb}\n",
    "\n",
    "# USGS\n",
    "USGS_outputs=USGS_instance.get_output_var_names()\n",
    "USGS_output_lists = {output:[] for output in USGS_outputs}\n",
    "\n",
    "# Assimilation\n",
    "outputs_assimilation=cfe_assimilation.get_output_var_names()\n",
    "outputs_lists_assimilation = {output_assimilation:[] for output_assimilation in outputs_assimilation}\n",
    "\n",
    "print(USGS_output_lists)\n",
    "print(cfe_output_lists_peturb)\n",
    "print(outputs_lists_assimilation)\n",
    "\n",
    "print(cfe_output_lists)\n"
   ]
  },
  {
   "cell_type": "markdown",
   "id": "228ef248",
   "metadata": {},
   "source": [
    "### Now we loop through the forcing data and use it to run the model at each time step"
   ]
  },
  {
   "cell_type": "code",
   "execution_count": null,
   "id": "b1196959",
   "metadata": {},
   "outputs": [],
   "source": [
    "########################################\n",
    "# Loop through all of forcing data; model and peturbed\n",
    "\n",
    "    # Keep track of time\n",
    "    \n",
    "    # Set forcing data for model\n",
    "    # Set forcing for peturbed models. Aren't they using the same forcing data?\n",
    "    \n",
    "    # Update model\n",
    "    \n",
    "    # Update observation data\n",
    "    \n",
    "    # Update ensemble of peturbed models \n",
    "        \n",
    "    # Update DA   \n",
    "    \n",
    "    # Get value of DA and set value to model\n",
    "    \n",
    "    # Set value of streamflow. Depending on this, we will change state variables below\n",
    "        # soil_reservoir_storage_deficit_m (41). Working this ONLY to start!\n",
    "            # has to be in mass balance, physical limitations to this. % change might be unrealistic to match DA \n",
    "        ## Covary the runoff_queue_m_per_timestep (197)\n",
    "        # Schaake_output_runoff_m (310-3018), least important to start\n",
    "        \n",
    "    # if DA streamflow value is greater than the mean of #cfs, then 197 should be lowered by #% based on range of %changes\n",
    "        # #% is based on range of %changes\n",
    "        # Else, 197 should be raised by #% based on range of %changes\n",
    "        # Set value of state_var_change that corresponds to DA streamflow based on %change table \n",
    "        \n",
    "    # if DA streamflow value is greater than the mean of #cfs, then 25 should be lowered by #% \n",
    "        # #% is based on range of %changes\n",
    "        # Else, 23 should be raised by #% based on range of %changes    \n",
    "        \n",
    "        "
   ]
  },
  {
   "cell_type": "code",
   "execution_count": null,
   "id": "877a0720",
   "metadata": {},
   "outputs": [],
   "source": [
    "cfe = []\n",
    "cfe_sum = []\n",
    "outflow_list =[]\n",
    "\n",
    "percent_list = np.arange(0,2.1,0.1)\n",
    "#percent_list = [0.05, 0.2, 0.5, 1.5, 10]\n",
    "#percentList = percent_list.tolist()\n",
    "\n",
    "for percent in percent_list:\n",
    "    \n",
    "    cfe_instance.set_value('state_var_change_v1', percent) #value of precip from forcing data in loop\n",
    "    \n",
    "    for i, precip in enumerate(df_forcing['APCP_surface']): #i is \n",
    "\n",
    "        framework_time = (1+i)*3600 #seconds since starting simulation\n",
    "\n",
    "        # Run CFE model\n",
    "        cfe_instance.set_value('atmosphere_water__time_integral_of_precipitation_mass_flux', precip) #value of precip from forcing data in loop\n",
    "        cfe_instance.update()\n",
    "        outflow_list.append(cfe_instance.get_value('land_surface_water__runoff_depth'))\n",
    "        #outflow_diff = outflow/originial_outflow\n",
    "    cfe_sum.append(np.sum(outflow_list))\n",
    "    \n",
    "df = pd.DataFrame({'Percentage':percent_list,'Sum streamflow':cfe_sum})\n",
    "df\n"
   ]
  },
  {
   "cell_type": "code",
   "execution_count": null,
   "id": "3bc666c6",
   "metadata": {},
   "outputs": [],
   "source": [
    "# # Reference value for streamflow \n",
    "# percent_list = 1\n",
    "  \n",
    "# cfe_instance.set_value('state_var_change', percent_list) #value of precip from forcing data in loop\n",
    "    \n",
    "# for i, precip in enumerate(df_forcing['APCP_surface']): #i is \n",
    "\n",
    "#     framework_time = (1+i)*3600 #seconds since starting simulation\n",
    "\n",
    "#     # Run CFE model\n",
    "#     cfe_instance.set_value('atmosphere_water__time_integral_of_precipitation_mass_flux', precip) #value of precip from forcing data in loop\n",
    "#     cfe_instance.update()\n",
    "#     outflow = cfe_instance.get_value('land_surface_water__runoff_depth')\n",
    "    \n",
    "# originial_outflow = np.sum(outflow)\n",
    "\n",
    "# #originial_outflow\n"
   ]
  },
  {
   "cell_type": "code",
   "execution_count": null,
   "id": "ea1e14d3",
   "metadata": {},
   "outputs": [],
   "source": [
    "# plot and get linear relationship\n",
    "x = df.iloc[:,0]\n",
    "y = df.iloc[:,1]\n",
    "#plt.ylim(0,70)\n",
    "#plt.xlim(0,3)\n",
    "m, b = np.polyfit(x,y,1)\n",
    "\n",
    "plt.plot(x, m*x+b, color = 'tab:red')\n",
    "plt.scatter(x, y)\n",
    "plt.xlabel('soil_reservoir_storage_deficit %change')\n",
    "plt.ylabel('flow')\n",
    "print('y = %sx + %s' %(m, b))\n"
   ]
  },
  {
   "cell_type": "code",
   "execution_count": null,
   "id": "14ba35f4",
   "metadata": {
    "scrolled": true
   },
   "outputs": [],
   "source": [
    "# Make empty matrices for plotting\n",
    "sim = []\n",
    "obs = []\n",
    "assimilation = []\n",
    "cfe = []\n",
    "cfe_sum = []\n",
    "\n",
    "# Run USG model\n",
    "USGS_instance.update()\n",
    "obs = USGS_instance.get_value('Flow')\n",
    "#print(obs)\n",
    "\n",
    "for i, precip in enumerate(df_forcing['APCP_surface']): #i is \n",
    "    \n",
    "    framework_time = (1+i)*3600 #seconds since starting simulation\n",
    "    \n",
    "    # Run CFE model\n",
    "    cfe_instance.set_value('atmosphere_water__time_integral_of_precipitation_mass_flux', precip) #value of precip from forcing data in loop\n",
    "    cfe_instance.update()\n",
    "    outflow = cfe_instance.get_value('land_surface_water__runoff_depth')\n",
    "    cfe.append(outflow)\n",
    "    \n",
    "#     # Peturbation run   \n",
    "    cfe_instance_peturb.set_value('atmosphere_water__time_integral_of_precipitation_mass_flux', precip) #value of precip from forcing data in loop\n",
    "    cfe_instance_peturb.update()\n",
    "    outflow_peturb = cfe_instance_peturb.get_value('land_surface_water__runoff_depth_ens')\n",
    "    \n",
    "    # Calculate states of ensemble runs\n",
    "    outflow_peturb_mean = np.mean(outflow_peturb)\n",
    "    outflow_peturb_std = np.std(outflow_peturb)\n",
    "    outflow_peturb_var = np.var(outflow_peturb)\n",
    "    outflow_peturb_covar = np.cov(outflow_peturb)\n",
    "    outflow_sum = np.sum(outflow)\n",
    "    cfe_sum.append(outflow_sum)\n",
    "\n",
    "    #obs.append(outflow_peturb_std)\n",
    "    sim.append(outflow_peturb_mean)\n",
    "    \n",
    "    # Assimilation\n",
    "    cfe_assimilation.set_value('obs', obs[i]*10) #need these to represent pdf of flows\n",
    "    cfe_assimilation.set_value('sim', outflow_peturb_mean)\n",
    "    cfe_assimilation.update()\n",
    "    \n",
    "    # Make matrix to put assimilation output\n",
    "    output = np.zeros(1)\n",
    "    DA_output = cfe_assimilation.get_value('assimilation', output)\n",
    "    #print(DA_output)\n",
    "    assimilation.append(DA_output) #append empty matrix to output for plotting\n",
    "    \n",
    "print('The covarince is', outflow_peturb_covar)\n",
    "print('The mean is ', outflow_peturb_mean)\n",
    "print('The std is ', outflow_peturb_std)\n",
    "\n"
   ]
  },
  {
   "cell_type": "code",
   "execution_count": null,
   "id": "1ef7ea79",
   "metadata": {},
   "outputs": [],
   "source": [
    "sum_peturb = np.sum(sim)\n",
    "sum_cfe = np.sum(cfe)\n",
    "percent_diff = ((sum_peturb - sum_cfe) / sum_peturb)\n",
    "print('Percenter Difference', percent_diff * 100) #if postive, then decrease in flow"
   ]
  },
  {
   "cell_type": "markdown",
   "id": "7ce2e5e6",
   "metadata": {},
   "source": [
    "### The finalize function should perform all tasks that take place after exiting the model’s time loop. This typically includes deallocating memory, closing files and printing reports."
   ]
  },
  {
   "cell_type": "code",
   "execution_count": null,
   "id": "b8bc6e9a",
   "metadata": {},
   "outputs": [],
   "source": [
    "cfe_instance.finalize(print_mass_balance=False)\n",
    "cfe_instance_peturb.finalize(print_mass_balance=False)"
   ]
  },
  {
   "cell_type": "markdown",
   "id": "8b72aaa2",
   "metadata": {},
   "source": [
    "### Here we are just plotting the fluxes."
   ]
  },
  {
   "cell_type": "code",
   "execution_count": null,
   "id": "ef6adb2e",
   "metadata": {},
   "outputs": [],
   "source": [
    "istart_plot=500\n",
    "iend_plot=550\n",
    "x = list(range(istart_plot, iend_plot))\n",
    "\n",
    "fig = plt.figure(figsize = (7,5), dpi=300)\n",
    "\n",
    "plt.plot(x, cfe[istart_plot:iend_plot], color = 'orange', label = 'CFE State Vars')\n",
    "\n",
    "plt.title('Sub-Region Model DA Example')\n",
    "plt.plot(x, sim[istart_plot:iend_plot], color = 'tab:blue', label = 'CFE Peturbed')\n",
    "plt.plot(x, assimilation[istart_plot:iend_plot], color = 'green', label = 'DA')\n",
    "plt.plot(x, obs[istart_plot:iend_plot]*10, color = 'tab:red', linestyle='dashed', label = 'USGS Obs')\n",
    "plt.ylabel('Streamflow (CFS)')\n",
    "plt.xlabel('Time')\n",
    "plt.legend()\n"
   ]
  },
  {
   "cell_type": "markdown",
   "id": "d3aa92d1",
   "metadata": {},
   "source": [
    "### Here we are just going to run the unit test that compares with the origional author code. Kind of the same thing done above, but there is a function in the BMI code that does it all at once."
   ]
  }
 ],
 "metadata": {
  "kernelspec": {
   "display_name": "Python 3 (ipykernel)",
   "language": "python",
   "name": "python3"
  },
  "language_info": {
   "codemirror_mode": {
    "name": "ipython",
    "version": 3
   },
   "file_extension": ".py",
   "mimetype": "text/x-python",
   "name": "python",
   "nbconvert_exporter": "python",
   "pygments_lexer": "ipython3",
   "version": "3.9.7"
  }
 },
 "nbformat": 4,
 "nbformat_minor": 5
}
