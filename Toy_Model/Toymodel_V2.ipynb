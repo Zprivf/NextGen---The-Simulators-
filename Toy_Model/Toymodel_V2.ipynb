{
 "cells": [
  {
   "cell_type": "code",
   "execution_count": 1,
   "id": "d8b37d7a",
   "metadata": {},
   "outputs": [],
   "source": [
    "import time\n",
    "import numpy as np\n",
    "import pandas as pd\n",
    "import json\n",
    "import matplotlib.pyplot as plt\n",
    "import sys\n",
    "sys.path.insert(0, './CFE')\n",
    "import bmi_cfe\n",
    "import bmi_cfe_statevars\n",
    "\n",
    "import bmi_cfe_peturb\n",
    "sys.path.insert(0, './Assimilation')\n",
    "import Bmi_da_ENKF_forSBMI\n",
    "\n",
    "#sys.path.append('/home/jovyan/data/NextGen---The-Simulators-/USGS/USGS_BMI_FT/cleaned_FT')\n",
    "sys.path.append('C:/Users/zjbut/Documents/GitHub/NextGen---The-Simulators-/USGS/USGS_BMI_FT')\n",
    "\n",
    "import bmi_usgs"
   ]
  },
  {
   "cell_type": "code",
   "execution_count": 2,
   "id": "44dbd68a",
   "metadata": {},
   "outputs": [
    {
     "name": "stdout",
     "output_type": "stream",
     "text": [
      "<module 'bmi_cfe' from 'C:\\\\Users\\\\zjbut\\\\Documents\\\\GitHub\\\\NextGen---The-Simulators-\\\\Toy_Model\\\\./CFE\\\\bmi_cfe.py'>\n",
      "<module 'bmi_cfe_statevars' from 'C:\\\\Users\\\\zjbut\\\\Documents\\\\GitHub\\\\NextGen---The-Simulators-\\\\Toy_Model\\\\./CFE\\\\bmi_cfe_statevars.py'>\n",
      "<module 'bmi_cfe_peturb' from 'C:\\\\Users\\\\zjbut\\\\Documents\\\\GitHub\\\\NextGen---The-Simulators-\\\\Toy_Model\\\\./CFE\\\\bmi_cfe_peturb.py'>\n",
      "<module 'Bmi_da_ENKF_forSBMI' from 'C:\\\\Users\\\\zjbut\\\\Documents\\\\GitHub\\\\NextGen---The-Simulators-\\\\Toy_Model\\\\./Assimilation\\\\Bmi_da_ENKF_forSBMI.py'>\n",
      "<module 'bmi_usgs' from 'C:\\\\Users/zjbut/Documents/GitHub/NextGen---The-Simulators-/USGS/USGS_BMI_FT\\\\bmi_usgs.py'>\n"
     ]
    }
   ],
   "source": [
    "print(bmi_cfe)\n",
    "print(bmi_cfe_statevars)\n",
    "print(bmi_cfe_peturb)\n",
    "\n",
    "print(Bmi_da_ENKF_forSBMI)\n",
    "print(bmi_usgs)\n"
   ]
  },
  {
   "cell_type": "code",
   "execution_count": 3,
   "id": "d886b230",
   "metadata": {},
   "outputs": [],
   "source": [
    "## Open BMI's for each file\n",
    "cfe_open = bmi_cfe.BMI_CFE()\n",
    "cfe_peturbed = bmi_cfe_peturb.BMI_CFE()\n",
    "cfe_analysis = bmi_cfe_statevars.BMI_CFE() #true model in the end with updated state vars\n",
    "enkf = Bmi_da_ENKF_forSBMI.EnKF_wrap()\n",
    "usgs = bmi_usgs.BMI_USGS()"
   ]
  },
  {
   "cell_type": "code",
   "execution_count": 4,
   "id": "aaac8148",
   "metadata": {},
   "outputs": [
    {
     "name": "stdout",
     "output_type": "stream",
     "text": [
      "700\n",
      "1\n",
      "                         Date    Flow  validity\n",
      "0   2015-12-01 05:00:00+00:00  1.5000       1.0\n",
      "1   2015-12-01 06:00:00+00:00  1.5000       1.0\n",
      "2   2015-12-01 07:00:00+00:00  1.4925       1.0\n",
      "3   2015-12-01 08:00:00+00:00  1.4900       1.0\n",
      "4   2015-12-01 09:00:00+00:00  1.4825       1.0\n",
      "..                        ...     ...       ...\n",
      "715 2015-12-31 00:00:00+00:00  1.8700       1.0\n",
      "716 2015-12-31 01:00:00+00:00  1.8675       1.0\n",
      "717 2015-12-31 02:00:00+00:00  1.8650       1.0\n",
      "718 2015-12-31 03:00:00+00:00  1.8600       1.0\n",
      "719 2015-12-31 04:00:00+00:00  1.8600       1.0\n",
      "\n",
      "[720 rows x 3 columns]\n",
      "USGS station ID 01123000\n"
     ]
    }
   ],
   "source": [
    "## Initialize the BMI's\n",
    "cfe_open.initialize(cfg_file='./CFE/cat_58_config_cfe.json')\n",
    "cfe_peturbed.initialize(cfg_file='./CFE/cat_58_config_cfe_peturb_model.json')\n",
    "cfe_analysis.initialize(cfg_file='./CFE/cat_58_config_cfe.json') # I am confused what this config file should look like\n",
    "enkf.initialize(cfg_file='./Assimilation/EnKF_config.json') # Need to create this still\n",
    "usgs.initialize(cfg_file='C:/Users/zjbut/Documents/GitHub/NextGen---The-Simulators-/USGS/USGS_BMI_FT/usgs_config.json')\n",
    "\n"
   ]
  },
  {
   "cell_type": "code",
   "execution_count": 5,
   "id": "14d141cb",
   "metadata": {},
   "outputs": [],
   "source": [
    "with open(cfe_open.forcing_file, 'r') as f:\n",
    "    df_forcing = pd.read_csv(f)\n",
    "    \n",
    "#print(df_forcing)"
   ]
  },
  {
   "cell_type": "code",
   "execution_count": 6,
   "id": "5c93f0fa",
   "metadata": {},
   "outputs": [
    {
     "ename": "TypeError",
     "evalue": "set_value() missing 1 required positional argument: 'value'",
     "output_type": "error",
     "traceback": [
      "\u001b[1;31m---------------------------------------------------------------------------\u001b[0m",
      "\u001b[1;31mTypeError\u001b[0m                                 Traceback (most recent call last)",
      "\u001b[1;32m~\\AppData\\Local\\Temp/ipykernel_17944/3085617411.py\u001b[0m in \u001b[0;36m<module>\u001b[1;34m\u001b[0m\n\u001b[0;32m     40\u001b[0m \u001b[1;33m\u001b[0m\u001b[0m\n\u001b[0;32m     41\u001b[0m     \u001b[1;31m# Set value for CFE analysis to get true streamflow. Update then. # set the type\u001b[0m\u001b[1;33m\u001b[0m\u001b[1;33m\u001b[0m\u001b[0m\n\u001b[1;32m---> 42\u001b[1;33m     \u001b[0mcfe_analysis\u001b[0m\u001b[1;33m.\u001b[0m\u001b[0mset_value\u001b[0m\u001b[1;33m(\u001b[0m\u001b[0mstate_transition\u001b[0m\u001b[1;33m)\u001b[0m\u001b[1;33m\u001b[0m\u001b[1;33m\u001b[0m\u001b[0m\n\u001b[0m\u001b[0;32m     43\u001b[0m     \u001b[0mcfe_analysis\u001b[0m\u001b[1;33m.\u001b[0m\u001b[0mupdate\u001b[0m\u001b[1;33m(\u001b[0m\u001b[1;33m)\u001b[0m\u001b[1;33m\u001b[0m\u001b[1;33m\u001b[0m\u001b[0m\n\u001b[0;32m     44\u001b[0m \u001b[1;33m\u001b[0m\u001b[0m\n",
      "\u001b[1;31mTypeError\u001b[0m: set_value() missing 1 required positional argument: 'value'"
     ]
    }
   ],
   "source": [
    "# Make empty matrices for plotting\n",
    "cfeOpen = []\n",
    "cfePeturbed = []\n",
    "#sim = []\n",
    "#obs = []\n",
    "#assimilation = []\n",
    "\n",
    "## Loop through time. Set values for each model and get values\n",
    "for i, precip in enumerate(df_forcing['APCP_surface']): #i is \n",
    "    \n",
    "    # Set values for each model\n",
    "    cfe_open.set_value('atmosphere_water__time_integral_of_precipitation_mass_flux', precip) #value of precip from forcing data in loop\n",
    "    cfe_peturbed.set_value('atmosphere_water__time_integral_of_precipitation_mass_flux', precip)\n",
    "    cfe_analysis.set_value('atmosphere_water__time_integral_of_precipitation_mass_flux', precip)\n",
    "    \n",
    "    # Update usgs data and get value to put into EnKF\n",
    "    usgs.update()\n",
    "    obs = np.array(usgs.get_value('Flow')) #need array for EnKf function. should get this when initialize.  \n",
    "    \n",
    "    # Update CFE open and peturbed. Get value for peturbed stats. \n",
    "    cfe_open.update()\n",
    "    cfe_peturbed.update()   \n",
    "    \n",
    "    # Get values for plotting\n",
    "    outflow = cfe_open.get_value('land_surface_water__runoff_depth')\n",
    "    cfeOpen.append(outflow) #for plotting\n",
    "    outflow_peturb = cfe_peturbed.get_value('land_surface_water__runoff_depth_ens')\n",
    "    \n",
    "    # Get mean and covariance for stats of ensemble runs for EnKF\n",
    "    outflow_peturb_mean = np.mean(outflow_peturb)\n",
    "    outflow_peturb_covar = np.cov(outflow_peturb)\n",
    "    cfePeturbed.append(outflow_peturb_mean) #for plotting\n",
    "    \n",
    "    # Set EnKF value to usgs, mean, and covariance. Get value from it then\n",
    "    enkf.set_value('x', outflow_peturb_mean)\n",
    "    enkf.set_value('P', outflow_peturb_covar)\n",
    "    enkf.set_value('z', obs)\n",
    "\n",
    "    state_transition = enkf.get_value('state transition')\n",
    "    \n",
    "    # Set value for CFE analysis to get true streamflow. Update then. # set the type\n",
    "    cfe_analysis.set_value(state_transition, ) #look up value from lookup table based on EnKF factor   \n",
    "    cfe_analysis.update()\n",
    "    \n",
    "    # Update final model from value of analysis\n",
    "    cfe_updated_everything = cfe_analysis.get_value('land_surface_water__runoff_depth')\n",
    "    cfe_perturbed.set_value(cfe_updated_everything)\n",
    "    \n",
    "# Finalize models\n",
    "cfe_open.finalize(print_mass_balance=True)\n",
    "cfe_peturbed.finalize(print_mass_balance=True)\n",
    "cfe_analysis.finalize(print_mass_balance=True)\n",
    "usgs.finalize()\n",
    "enkf.finalize()"
   ]
  },
  {
   "cell_type": "code",
   "execution_count": null,
   "id": "79efcfac",
   "metadata": {},
   "outputs": [],
   "source": [
    "istart_plot=350\n",
    "iend_plot=550\n",
    "x = list(range(istart_plot, iend_plot))\n",
    "\n",
    "fig = plt.figure(figsize = (7,5), dpi=300)\n",
    "\n",
    "plt.title('Sub-Region Model DA Example')\n",
    "plt.plot(x, cfePeturbed[istart_plot:iend_plot], color = 'tab:blue', label = 'CFE Peturbed')\n",
    "plt.plot(x, cfeOpen[istart_plot:iend_plot], color = 'green', label = 'CFE Open')\n",
    "plt.plot(x, obs[istart_plot:iend_plot]*10, color = 'tab:red', linestyle='dashed', label = 'USGS Obs')\n",
    "plt.ylabel('Streamflow (CFS)')\n",
    "plt.xlabel('Time')\n",
    "plt.legend()\n"
   ]
  },
  {
   "cell_type": "code",
   "execution_count": null,
   "id": "838e44e5",
   "metadata": {},
   "outputs": [],
   "source": [
    "# cfe_open = bmi_cfe()\n",
    "# cfe_perturbed = bmi_cfe()\n",
    "# cfe_analysis = bmi_cfe()\n",
    "# enkf = bmi_enkf()\n",
    "# usgs = bmi_usgs()\n",
    "\n",
    "# cfe_open.initialize(‘config_open.yml’)\n",
    "# cfe_perturbed.initialize(‘config_perturbed.yml’)\n",
    "# cfe_analysis.initialize(‘config_analysis.yml’)\n",
    "# enkf.initialize(‘config_enkf_cfe_basinID.yml’)\n",
    "# usgs.initialize(‘config_basinID.yml’)\n",
    "\n",
    "# For time in daterange():\n",
    "#     forcing = forcings[time]\n",
    "#     cfe_open.set_value(forcing)\n",
    "#     cfe_perturbed.set_value(forcing)\n",
    "#     cfe_analysis.set_value(forcing)\n",
    "#     usgs.update()\n",
    "#     obs = usgs.get_value()\n",
    "#     cfe_open.update()\n",
    "#     cfe_perturbed.update()\n",
    "#     mean, variance  = cfe_perturbed.get_value()\n",
    "#     enkf.set_value(obs, mean, variance )\n",
    "#     state_transition = enkf.get_value()\n",
    "#     cfe_analysis.set_value(state_transition)\n",
    "#     cfe_analysis.update()\n",
    "#     cfe_updated_everything = cfe_analysis.get_value(everything)\n",
    "#     cfe_perturbed.set_value(cfe_updated_everything)\n",
    "# cfe_open.initialize(‘config_open.yml’)\n",
    "# cfe_perturbed.initialize(‘config_perturbed.yml’)\n",
    "# cfe_analysis.initialize(‘config_analysis.yml’)\n",
    "# enkf.initialize(‘config_enkf_cfe_basinID.yml’)\n",
    "# usgs.initialize(‘config_basinID.yml’)\n",
    "\n"
   ]
  }
 ],
 "metadata": {
  "kernelspec": {
   "display_name": "Python 3 (ipykernel)",
   "language": "python",
   "name": "python3"
  },
  "language_info": {
   "codemirror_mode": {
    "name": "ipython",
    "version": 3
   },
   "file_extension": ".py",
   "mimetype": "text/x-python",
   "name": "python",
   "nbconvert_exporter": "python",
   "pygments_lexer": "ipython3",
   "version": "3.9.7"
  }
 },
 "nbformat": 4,
 "nbformat_minor": 5
}
