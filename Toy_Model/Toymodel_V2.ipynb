{
 "cells": [
  {
   "cell_type": "code",
   "execution_count": 1,
   "id": "d8b37d7a",
   "metadata": {},
   "outputs": [],
   "source": [
    "import time\n",
    "import numpy as np\n",
    "import pandas as pd\n",
    "import json\n",
    "import matplotlib.pyplot as plt\n",
    "import sys\n",
    "sys.path.insert(0, './CFE')\n",
    "import bmi_cfe\n",
    "import bmi_cfe_statevars\n",
    "\n",
    "import bmi_cfe_peturb\n",
    "sys.path.insert(0, './Assimilation')\n",
    "import Bmi_da_ENKF_forSBMI\n",
    "\n",
    "#sys.path.append('/home/jovyan/data/NextGen---The-Simulators-/USGS/USGS_BMI_FT/cleaned_FT')\n",
    "sys.path.append('C:/Users/zjbut/Documents/GitHub/NextGen---The-Simulators-/USGS/USGS_BMI_FT')\n",
    "\n",
    "import bmi_usgs"
   ]
  },
  {
   "cell_type": "code",
   "execution_count": 2,
   "id": "44dbd68a",
   "metadata": {},
   "outputs": [
    {
     "name": "stdout",
     "output_type": "stream",
     "text": [
      "<module 'bmi_cfe' from 'C:\\\\Users\\\\zjbut\\\\Documents\\\\GitHub\\\\NextGen---The-Simulators-\\\\Toy_Model\\\\./CFE\\\\bmi_cfe.py'>\n",
      "<module 'bmi_cfe_statevars' from 'C:\\\\Users\\\\zjbut\\\\Documents\\\\GitHub\\\\NextGen---The-Simulators-\\\\Toy_Model\\\\./CFE\\\\bmi_cfe_statevars.py'>\n",
      "<module 'bmi_cfe_peturb' from 'C:\\\\Users\\\\zjbut\\\\Documents\\\\GitHub\\\\NextGen---The-Simulators-\\\\Toy_Model\\\\./CFE\\\\bmi_cfe_peturb.py'>\n"
     ]
    }
   ],
   "source": [
    "print(bmi_cfe)\n",
    "print(bmi_cfe_statevars)\n",
    "print(bmi_cfe_peturb)\n",
    "\n",
    "#print(Bmi_da_ENKF_forSBMI)\n",
    "#print(bmi_usgs)\n"
   ]
  },
  {
   "cell_type": "code",
   "execution_count": 3,
   "id": "d886b230",
   "metadata": {},
   "outputs": [],
   "source": [
    "## Open BMI's for each file\n",
    "cfe_open = bmi_cfe.BMI_CFE()\n",
    "cfe_peturbed = bmi_cfe_peturb.BMI_CFE()\n",
    "cfe_analysis = bmi_cfe_statevars.BMI_CFE() #true model in the end with updated state vars\n",
    "enkf = Bmi_da_ENKF_forSBMI.EnKF_wrap()\n",
    "usgs = bmi_usgs.BMI_USGS()"
   ]
  },
  {
   "cell_type": "code",
   "execution_count": 4,
   "id": "aaac8148",
   "metadata": {},
   "outputs": [
    {
     "name": "stdout",
     "output_type": "stream",
     "text": [
      "700\n",
      "1\n",
      "                         Date    Flow  validity\n",
      "0   2015-05-01 04:00:00+00:00  2.0700       1.0\n",
      "1   2015-05-01 05:00:00+00:00  2.0700       1.0\n",
      "2   2015-05-01 06:00:00+00:00  2.0675       1.0\n",
      "3   2015-05-01 07:00:00+00:00  2.0675       1.0\n",
      "4   2015-05-01 08:00:00+00:00  2.0650       1.0\n",
      "..                        ...     ...       ...\n",
      "739 2015-05-31 23:00:00+00:00  1.7650       1.0\n",
      "740 2015-06-01 00:00:00+00:00  1.9475       1.0\n",
      "741 2015-06-01 01:00:00+00:00  2.0250       1.0\n",
      "742 2015-06-01 02:00:00+00:00  2.0700       1.0\n",
      "743 2015-06-01 03:00:00+00:00  2.1475       1.0\n",
      "\n",
      "[744 rows x 3 columns]\n",
      "USGS station ID 01123000\n"
     ]
    }
   ],
   "source": [
    "## Initialize the BMI's\n",
    "# cfe_open.initialize(cfg_file='./CFE/cat_58_config_cfe.json')\n",
    "# cfe_peturbed.initialize(cfg_file='./CFE/cat_58_config_cfe_peturb_model.json')\n",
    "# cfe_analysis.initialize(cfg_file='./CFE/cat_58_config_cfe.json') # I am confused what this config file should look like\n",
    "\n",
    "# ## Case study files\n",
    "cfe_open.initialize(cfg_file='./CFE/config_cfe_CT.json')\n",
    "cfe_peturbed.initialize(cfg_file='./CFE/config_cfe_peturb_model_CT.json')\n",
    "cfe_analysis.initialize(cfg_file='./CFE/config_cfe_CT.json')\n",
    "\n",
    "enkf.initialize(cfg_file='./Assimilation/EnKF_config.json') # Need to create this still\n",
    "usgs.initialize(cfg_file='C:/Users/zjbut/Documents/GitHub/NextGen---The-Simulators-/USGS/USGS_BMI_FT/usgs_config.json')\n",
    "\n"
   ]
  },
  {
   "cell_type": "code",
   "execution_count": 5,
   "id": "14d141cb",
   "metadata": {},
   "outputs": [
    {
     "name": "stdout",
     "output_type": "stream",
     "text": [
      "                time  APCP_surface  RAINRATE      T2D       Q2D     U2D  \\\n",
      "0      5/1/2007 0:00      0.000000  0.000000  287.524  0.005954  6.8022   \n",
      "1      5/1/2007 1:00      0.000000  0.000000  286.360  0.005718  5.9674   \n",
      "2      5/1/2007 2:00      0.000000  0.000000  285.190  0.005476  5.1368   \n",
      "3      5/1/2007 3:00      0.000000  0.000000  284.028  0.005236  4.3022   \n",
      "4      5/1/2007 4:00      0.000000  0.000000  283.386  0.005224  4.1124   \n",
      "..               ...           ...       ...      ...       ...     ...   \n",
      "739  5/31/2007 19:00      0.000000  0.000000  298.876  0.015622 -3.0062   \n",
      "740  5/31/2007 20:00      0.000000  0.000000  298.920  0.015804 -2.9102   \n",
      "741  5/31/2007 21:00      0.000000  0.000000  298.962  0.015976 -2.8106   \n",
      "742  5/31/2007 22:00      0.000000  0.000000  296.786  0.014962 -2.7040   \n",
      "743  5/31/2007 23:00      0.101904  0.000102  294.600  0.013988 -2.6036   \n",
      "\n",
      "        V2D       PSFC   SWDOWN   LWDOWN  \n",
      "0   -5.9622   98865.18    0.000  268.284  \n",
      "1   -5.5988   98958.90    0.000  268.360  \n",
      "2   -5.2316   99052.70    0.000  268.418  \n",
      "3   -4.8690   99145.68    0.000  268.160  \n",
      "4   -4.7622   99204.96    0.000  268.102  \n",
      "..      ...        ...      ...      ...  \n",
      "739  1.4038  100296.90  686.200  396.514  \n",
      "740  1.3286  100205.00  577.644  396.500  \n",
      "741  1.2480  100113.76  419.652  389.008  \n",
      "742  1.0918  100129.94  292.220  385.600  \n",
      "743  0.9400  100145.58  154.866  382.160  \n",
      "\n",
      "[744 rows x 10 columns]\n"
     ]
    },
    {
     "data": {
      "text/plain": [
       "[<matplotlib.lines.Line2D at 0x1b169fc2040>]"
      ]
     },
     "execution_count": 5,
     "metadata": {},
     "output_type": "execute_result"
    },
    {
     "data": {
      "image/png": "[encoded data removed]",
      "text/plain": [
       "<Figure size 432x288 with 1 Axes>"
      ]
     },
     "metadata": {
      "needs_background": "light"
     },
     "output_type": "display_data"
    }
   ],
   "source": [
    "with open(cfe_open.forcing_file, 'r') as f:\n",
    "    df_forcing = pd.read_csv(f)\n",
    "    \n",
    "print(df_forcing)\n",
    "plt.plot(df_forcing['APCP_surface'])"
   ]
  },
  {
   "cell_type": "code",
   "execution_count": 6,
   "id": "5c93f0fa",
   "metadata": {},
   "outputs": [
    {
     "ename": "KeyError",
     "evalue": "'factor'",
     "output_type": "error",
     "traceback": [
      "\u001b[1;31m---------------------------------------------------------------------------\u001b[0m",
      "\u001b[1;31mKeyError\u001b[0m                                  Traceback (most recent call last)",
      "\u001b[1;32m~\\AppData\\Local\\Temp/ipykernel_3960/1743320085.py\u001b[0m in \u001b[0;36m<module>\u001b[1;34m\u001b[0m\n\u001b[0;32m     40\u001b[0m     \u001b[0menkf\u001b[0m\u001b[1;33m.\u001b[0m\u001b[0mset_value\u001b[0m\u001b[1;33m(\u001b[0m\u001b[1;34m'z'\u001b[0m\u001b[1;33m,\u001b[0m \u001b[0mobs\u001b[0m\u001b[1;33m)\u001b[0m\u001b[1;33m\u001b[0m\u001b[1;33m\u001b[0m\u001b[0m\n\u001b[0;32m     41\u001b[0m \u001b[1;33m\u001b[0m\u001b[0m\n\u001b[1;32m---> 42\u001b[1;33m     \u001b[0mstate_transition\u001b[0m \u001b[1;33m=\u001b[0m \u001b[0menkf\u001b[0m\u001b[1;33m.\u001b[0m\u001b[0mget_value\u001b[0m\u001b[1;33m(\u001b[0m\u001b[1;34m'factor'\u001b[0m\u001b[1;33m)\u001b[0m \u001b[1;31m#getting factor to change\u001b[0m\u001b[1;33m\u001b[0m\u001b[1;33m\u001b[0m\u001b[0m\n\u001b[0m\u001b[0;32m     43\u001b[0m \u001b[1;33m\u001b[0m\u001b[0m\n\u001b[0;32m     44\u001b[0m     \u001b[1;31m# want to get factor from lookup table\u001b[0m\u001b[1;33m\u001b[0m\u001b[1;33m\u001b[0m\u001b[0m\n",
      "\u001b[1;32m~\\Documents\\GitHub\\NextGen---The-Simulators-\\Toy_Model\\./Assimilation\\Bmi_da_ENKF_forSBMI.py\u001b[0m in \u001b[0;36mget_value\u001b[1;34m(self, var_name)\u001b[0m\n\u001b[0;32m    300\u001b[0m             \u001b[0mCopy\u001b[0m \u001b[0mof\u001b[0m \u001b[0mvalues\u001b[0m\u001b[1;33m.\u001b[0m\u001b[1;33m\u001b[0m\u001b[1;33m\u001b[0m\u001b[0m\n\u001b[0;32m    301\u001b[0m         \"\"\"\n\u001b[1;32m--> 302\u001b[1;33m         \u001b[1;32mreturn\u001b[0m \u001b[0mself\u001b[0m\u001b[1;33m.\u001b[0m\u001b[0mget_value_ptr\u001b[0m\u001b[1;33m(\u001b[0m\u001b[0mvar_name\u001b[0m\u001b[1;33m)\u001b[0m\u001b[1;33m\u001b[0m\u001b[1;33m\u001b[0m\u001b[0m\n\u001b[0m\u001b[0;32m    303\u001b[0m \u001b[1;33m\u001b[0m\u001b[0m\n\u001b[0;32m    304\u001b[0m     \u001b[1;31m#-------------------------------------------------------------------\u001b[0m\u001b[1;33m\u001b[0m\u001b[1;33m\u001b[0m\u001b[0m\n",
      "\u001b[1;32m~\\Documents\\GitHub\\NextGen---The-Simulators-\\Toy_Model\\./Assimilation\\Bmi_da_ENKF_forSBMI.py\u001b[0m in \u001b[0;36mget_value_ptr\u001b[1;34m(self, var_name)\u001b[0m\n\u001b[0;32m    314\u001b[0m             \u001b[0mValue\u001b[0m \u001b[0marray\u001b[0m\u001b[1;33m.\u001b[0m\u001b[1;33m\u001b[0m\u001b[1;33m\u001b[0m\u001b[0m\n\u001b[0;32m    315\u001b[0m         \"\"\"\n\u001b[1;32m--> 316\u001b[1;33m         \u001b[1;32mreturn\u001b[0m \u001b[0mself\u001b[0m\u001b[1;33m.\u001b[0m\u001b[0m_values\u001b[0m\u001b[1;33m[\u001b[0m\u001b[0mvar_name\u001b[0m\u001b[1;33m]\u001b[0m\u001b[1;33m\u001b[0m\u001b[1;33m\u001b[0m\u001b[0m\n\u001b[0m\u001b[0;32m    317\u001b[0m \u001b[1;33m\u001b[0m\u001b[0m\n\u001b[0;32m    318\u001b[0m     \u001b[1;31m#-------------------------------------------------------------------\u001b[0m\u001b[1;33m\u001b[0m\u001b[1;33m\u001b[0m\u001b[0m\n",
      "\u001b[1;31mKeyError\u001b[0m: 'factor'"
     ]
    }
   ],
   "source": [
    "# Make empty matrices for plotting\n",
    "cfeOpen = []\n",
    "cfePeturbed = []\n",
    "#sim = []\n",
    "#obs = []\n",
    "#assimilation = []\n",
    "\n",
    "## Loop through time. Set values for each model and get values\n",
    "for i, precip in enumerate(df_forcing['APCP_surface']): #i is RAINRATE\n",
    "## Case Study\n",
    "#for i, precip in enumerate(df_forcing['RAINRATE']):\n",
    "    \n",
    "    # Set values for each model\n",
    "    cfe_open.set_value('atmosphere_water__time_integral_of_precipitation_mass_flux', precip) #value of precip from forcing data in loop\n",
    "    cfe_peturbed.set_value('atmosphere_water__time_integral_of_precipitation_mass_flux', precip)\n",
    "    cfe_analysis.set_value('atmosphere_water__time_integral_of_precipitation_mass_flux', precip)\n",
    "    \n",
    "    # Update usgs data and get value to put into EnKF\n",
    "    usgs.update()\n",
    "    obs = np.array(usgs.get_value('Flow')) #need array for EnKf function. should get this when initialize.  \n",
    "    \n",
    "    # Update CFE open and peturbed. Get value for peturbed stats. \n",
    "    cfe_open.update()\n",
    "    cfe_peturbed.update()   \n",
    "    \n",
    "    # Get values for plotting\n",
    "    outflow = cfe_open.get_value('land_surface_water__runoff_depth')\n",
    "    cfeOpen.append(outflow) #for plotting\n",
    "    outflow_peturb = cfe_peturbed.get_value('land_surface_water__runoff_depth_ens')\n",
    "    \n",
    "    # Get mean and covariance for stats of ensemble runs for EnKF\n",
    "    outflow_peturb_mean = np.mean(outflow_peturb)\n",
    "    outflow_peturb_covar = np.cov(outflow_peturb)\n",
    "    cfePeturbed.append(outflow_peturb_mean) #for plotting\n",
    "    \n",
    "    # Set EnKF value to usgs, mean, and covariance. Get value from it then\n",
    "    enkf.set_value('x', outflow_peturb_mean)\n",
    "    enkf.set_value('P', outflow_peturb_covar)\n",
    "    enkf.set_value('z', obs)\n",
    "\n",
    "    state_transition = enkf.get_value('factor') #getting factor to change\n",
    "    # factor is based on EnKF/simulation. % change from assimilation to CFE\n",
    "    \n",
    "    # want to get factor from lookup table\n",
    "    \n",
    "    # Set value for CFE analysis based on the state variable change from the EnKF factor tog et true streamflow\n",
    "    cfe_analysis.set_value('state_var_change_runoff', state_transition) #look up value from lookup table based on EnKF factor   \n",
    "    cfe_analysis.update() #get new streamflow value based on state var change\n",
    "    \n",
    "    # Set state variable change of the peturbed model \n",
    "    #cfe_perturbed.set_value('state_var_change_runoff', state_transition)\n",
    "    #cfe_perturbed.get_value('land_surface_water__runoff_depth_ens')\n",
    "    #cfe_perturbed.update()\n",
    "        \n",
    "    # Update final model from value of analysis\n",
    "    cfe_updated_everything = cfe_analysis.get_value('runoff_queue_m_per_timestep')\n",
    "    cfe_perturbed.set_value('runoff_queue_m_per_timestep', cfe_updated_everything)\n",
    "   \n",
    "    \n",
    "# Finalize models\n",
    "cfe_open.finalize(print_mass_balance=True)\n",
    "cfe_peturbed.finalize(print_mass_balance=True)\n",
    "cfe_analysis.finalize(print_mass_balance=True)\n",
    "usgs.finalize()\n",
    "enkf.finalize()"
   ]
  },
  {
   "cell_type": "code",
   "execution_count": null,
   "id": "79efcfac",
   "metadata": {},
   "outputs": [],
   "source": [
    "istart_plot=500\n",
    "iend_plot=720\n",
    "x = list(range(istart_plot, iend_plot))\n",
    "\n",
    "fig = plt.figure(figsize = (7,5), dpi=300)\n",
    "\n",
    "plt.title('Sub-Region Model DA Example')\n",
    "plt.plot(x, cfePeturbed[istart_plot:iend_plot], color = 'tab:blue', label = 'CFE Peturbed')\n",
    "plt.plot(x, cfeOpen[istart_plot:iend_plot], color = 'green', label = 'CFE Open')\n",
    "plt.plot(x, obs[istart_plot:iend_plot]*10, color = 'tab:red', linestyle='dashed', label = 'USGS Obs')\n",
    "plt.ylabel('Streamflow (CFS)')\n",
    "plt.xlabel('Time')\n",
    "plt.legend()\n"
   ]
  },
  {
   "cell_type": "code",
   "execution_count": null,
   "id": "838e44e5",
   "metadata": {},
   "outputs": [],
   "source": [
    "# cfe_open = bmi_cfe()\n",
    "# cfe_perturbed = bmi_cfe()\n",
    "# cfe_analysis = bmi_cfe()\n",
    "# enkf = bmi_enkf()\n",
    "# usgs = bmi_usgs()\n",
    "\n",
    "# cfe_open.initialize(‘config_open.yml’)\n",
    "# cfe_perturbed.initialize(‘config_perturbed.yml’)\n",
    "# cfe_analysis.initialize(‘config_analysis.yml’)\n",
    "# enkf.initialize(‘config_enkf_cfe_basinID.yml’)\n",
    "# usgs.initialize(‘config_basinID.yml’)\n",
    "\n",
    "# For time in daterange():\n",
    "#     forcing = forcings[time]\n",
    "#     cfe_open.set_value(forcing)\n",
    "#     cfe_perturbed.set_value(forcing)\n",
    "#     cfe_analysis.set_value(forcing)\n",
    "#     usgs.update()\n",
    "#     obs = usgs.get_value()\n",
    "\n",
    "#     cfe_open.update()\n",
    "#     cfe_perturbed.update()\n",
    "#     mean, variance  = cfe_perturbed.get_value()\n",
    "\n",
    "#     enkf.set_value(obs, mean, variance )\n",
    "\n",
    "#     state_transition = enkf.get_value()\n",
    "\n",
    "#     cfe_analysis.set_value(state_transition)\n",
    "#     cfe_analysis.update()\n",
    "\n",
    "#     cfe_perturbed.set_value(state_transition)\n",
    "#     \n",
    "\n",
    "#     cfe_updated_everything = cfe_analysis.get_value(everything)\n",
    "#     cfe_perturbed.set_value(cfe_updated_everything)\n",
    "\n",
    "\n",
    "\n",
    "# cfe_open.initialize(‘config_open.yml’)\n",
    "# cfe_perturbed.initialize(‘config_perturbed.yml’)\n",
    "# cfe_analysis.initialize(‘config_analysis.yml’)\n",
    "# enkf.initialize(‘config_enkf_cfe_basinID.yml’)\n",
    "# usgs.initialize(‘config_basinID.yml’)\n",
    "\n"
   ]
  }
 ],
 "metadata": {
  "kernelspec": {
   "display_name": "Python 3 (ipykernel)",
   "language": "python",
   "name": "python3"
  },
  "language_info": {
   "codemirror_mode": {
    "name": "ipython",
    "version": 3
   },
   "file_extension": ".py",
   "mimetype": "text/x-python",
   "name": "python",
   "nbconvert_exporter": "python",
   "pygments_lexer": "ipython3",
   "version": "3.9.7"
  }
 },
 "nbformat": 4,
 "nbformat_minor": 5
}
