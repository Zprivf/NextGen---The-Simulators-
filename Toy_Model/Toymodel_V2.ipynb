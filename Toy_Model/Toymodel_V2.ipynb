{
 "cells": [
  {
   "cell_type": "code",
   "execution_count": 1,
   "id": "d8b37d7a",
   "metadata": {},
   "outputs": [],
   "source": [
    "import time\n",
    "import numpy as np\n",
    "import pandas as pd\n",
    "import json\n",
    "import matplotlib.pyplot as plt\n",
    "import sys\n",
    "sys.path.insert(0, './CFE')\n",
    "import bmi_cfe_open\n",
    "import bmi_cfe_statevars_et\n",
    "import bmi_cfe_enkf_peturb\n",
    "#import bmi_cfe_peturb\n",
    "\n",
    "sys.path.insert(0, './Assimilation')\n",
    "import Bmi_da_ENKF_forSBMI\n",
    "\n",
    "#sys.path.append('/home/jovyan/data/NextGen---The-Simulators-/USGS/USGS_BMI_FT/cleaned_FT')\n",
    "sys.path.append('C:/Users/zjbut/Documents/GitHub/NextGen---The-Simulators-/USGS/USGS_BMI_FT')\n",
    "import bmi_usgs\n",
    "\n",
    "#new bmi_cfe is CFE open and cfe peturb"
   ]
  },
  {
   "cell_type": "code",
   "execution_count": 2,
   "id": "44dbd68a",
   "metadata": {},
   "outputs": [
    {
     "name": "stdout",
     "output_type": "stream",
     "text": [
      "<module 'bmi_cfe_statevars_et' from 'C:\\\\Users\\\\zjbut\\\\Documents\\\\GitHub\\\\NextGen---The-Simulators-\\\\Toy_Model\\\\./CFE\\\\bmi_cfe_statevars_et.py'>\n",
      "<module 'bmi_cfe_enkf_peturb' from 'C:\\\\Users\\\\zjbut\\\\Documents\\\\GitHub\\\\NextGen---The-Simulators-\\\\Toy_Model\\\\./CFE\\\\bmi_cfe_enkf_peturb.py'>\n",
      "<module 'Bmi_da_ENKF_forSBMI' from 'C:\\\\Users\\\\zjbut\\\\Documents\\\\GitHub\\\\NextGen---The-Simulators-\\\\Toy_Model\\\\./Assimilation\\\\Bmi_da_ENKF_forSBMI.py'>\n",
      "<module 'bmi_usgs' from 'C:\\\\Users/zjbut/Documents/GitHub/NextGen---The-Simulators-/USGS/USGS_BMI_FT\\\\bmi_usgs.py'>\n"
     ]
    }
   ],
   "source": [
    "#print(bmi_cfe)\n",
    "print(bmi_cfe_statevars_et)\n",
    "#print(bmi_cfe_peturb)\n",
    "print(bmi_cfe_enkf_peturb)\n",
    "print(Bmi_da_ENKF_forSBMI)\n",
    "print(bmi_usgs)\n"
   ]
  },
  {
   "cell_type": "code",
   "execution_count": 3,
   "id": "d886b230",
   "metadata": {},
   "outputs": [],
   "source": [
    "## Open BMI's for each file\n",
    "# cfe_open = bmi_cfe.BMI_CFE()\n",
    "# cfe_peturbed = bmi_cfe_peturb.BMI_CFE()\n",
    "# cfe_analysis = bmi_cfe_statevars.BMI_CFE() #true model in the end with updated state vars\n",
    "\n",
    "cfe_open = bmi_cfe_open.BMI_CFE()\n",
    "cfe_peturbed = bmi_cfe_enkf_peturb.BMI_CFE()\n",
    "cfe_analysis = bmi_cfe_enkf_peturb.BMI_CFE() #true model in the end with updated state vars\n",
    "#cfe_analysis = bmi_cfe_statevars_et.BMI_CFE(\n",
    "\n",
    "enkf = Bmi_da_ENKF_forSBMI.EnKF_wrap()\n",
    "usgs = bmi_usgs.BMI_USGS()"
   ]
  },
  {
   "cell_type": "code",
   "execution_count": 4,
   "id": "aaac8148",
   "metadata": {},
   "outputs": [
    {
     "name": "stdout",
     "output_type": "stream",
     "text": [
      "initialized 100\n",
      "                         Date    Flow  validity\n",
      "0   2015-10-01 04:00:00+00:00  1.9700       1.0\n",
      "1   2015-10-01 05:00:00+00:00  1.9675       1.0\n",
      "2   2015-10-01 06:00:00+00:00  1.9500       1.0\n",
      "3   2015-10-01 07:00:00+00:00  1.9225       1.0\n",
      "4   2015-10-01 08:00:00+00:00  1.8925       1.0\n",
      "..                        ...     ...       ...\n",
      "739 2015-10-31 23:00:00+00:00  1.6700       1.0\n",
      "740 2015-11-01 00:00:00+00:00  1.6600       1.0\n",
      "741 2015-11-01 01:00:00+00:00  1.6600       1.0\n",
      "742 2015-11-01 02:00:00+00:00  1.6550       1.0\n",
      "743 2015-11-01 03:00:00+00:00  1.6500       1.0\n",
      "\n",
      "[744 rows x 3 columns]\n",
      "USGS station ID 01123000\n"
     ]
    }
   ],
   "source": [
    "## Initialize the BMI's\n",
    "# cfe_open.initialize(cfg_file='./CFE/cat_58_config_cfe.json')\n",
    "# cfe_peturbed.initialize(cfg_file='./CFE/cat_58_config_cfe_peturb_model.json')\n",
    "# cfe_analysis.initialize(cfg_file='./CFE/cat_58_config_cfe.json') # I am confused what this config file should look like\n",
    "\n",
    "# make one bmi for all of this and options in config file\n",
    "\n",
    "# ## Case study files\n",
    "cfe_open.initialize(cfg_file='./CFE/config_cfe_peturb_model_CT.json')\n",
    "cfe_peturbed.initialize(cfg_file='./CFE/config_cfe_peturb_model_CT.json')\n",
    "cfe_analysis.initialize(cfg_file='./CFE/config_cfe_peturb_model_CT.json')\n",
    "\n",
    "enkf.initialize(cfg_file='./Assimilation/EnKF_config.json') # Need to create this still\n",
    "usgs.initialize(cfg_file='C:/Users/zjbut/Documents/GitHub/NextGen---The-Simulators-/USGS/USGS_BMI_FT/usgs_config.json')\n",
    "\n"
   ]
  },
  {
   "cell_type": "code",
   "execution_count": 5,
   "id": "14d141cb",
   "metadata": {},
   "outputs": [
    {
     "name": "stdout",
     "output_type": "stream",
     "text": [
      "                 time  APCP_surface  RAINRATE      T2D       Q2D     U2D  \\\n",
      "0      10/1/2015 0:00           0.0       0.0  294.058  0.014050  2.8084   \n",
      "1      10/1/2015 1:00           0.0       0.0  292.598  0.012694  1.9296   \n",
      "2      10/1/2015 2:00           0.0       0.0  291.122  0.011326  1.0514   \n",
      "3      10/1/2015 3:00           0.0       0.0  289.690  0.009996  0.1772   \n",
      "4      10/1/2015 4:00           0.0       0.0  288.924  0.009542 -0.3594   \n",
      "..                ...           ...       ...      ...       ...     ...   \n",
      "739  10/31/2015 19:00           0.0       0.0  283.832  0.004422  2.0008   \n",
      "740  10/31/2015 20:00           0.0       0.0  283.632  0.004590  1.8150   \n",
      "741  10/31/2015 21:00           0.0       0.0  283.442  0.004756  1.6314   \n",
      "742  10/31/2015 22:00           0.0       0.0  282.572  0.004974  1.4624   \n",
      "743  10/31/2015 23:00           0.0       0.0  281.676  0.005184  1.2984   \n",
      "\n",
      "        V2D       PSFC   SWDOWN   LWDOWN  \n",
      "0   -4.0768   99421.66    0.000  399.016  \n",
      "1   -5.1904   99529.48    0.000  398.976  \n",
      "2   -6.3004   99636.54    0.000  398.854  \n",
      "3   -7.4148   99743.12    0.000  379.248  \n",
      "4   -7.3270   99743.42    0.000  379.064  \n",
      "..      ...        ...      ...      ...  \n",
      "739  2.7106  100246.62  386.032  266.698  \n",
      "740  3.0968  100187.78  267.748  266.244  \n",
      "741  3.4836  100127.42   70.946  280.918  \n",
      "742  3.2036  100098.58    0.000  281.002  \n",
      "743  2.9226  100068.82    0.000  280.990  \n",
      "\n",
      "[744 rows x 10 columns]\n"
     ]
    },
    {
     "data": {
      "text/plain": [
       "[<matplotlib.lines.Line2D at 0x27299181220>]"
      ]
     },
     "execution_count": 5,
     "metadata": {},
     "output_type": "execute_result"
    },
    {
     "data": {
      "image/png": "[encoded data removed]",
      "text/plain": [
       "<Figure size 432x288 with 1 Axes>"
      ]
     },
     "metadata": {
      "needs_background": "light"
     },
     "output_type": "display_data"
    }
   ],
   "source": [
    "with open(cfe_open.forcing_file, 'r') as f:\n",
    "    df_forcing = pd.read_csv(f)\n",
    "    \n",
    "print(df_forcing)\n",
    "plt.plot(df_forcing['APCP_surface'])"
   ]
  },
  {
   "cell_type": "code",
   "execution_count": 6,
   "id": "5c93f0fa",
   "metadata": {
    "scrolled": true
   },
   "outputs": [
    {
     "ename": "UnboundLocalError",
     "evalue": "local variable 'leftover_depth_change_m' referenced before assignment",
     "output_type": "error",
     "traceback": [
      "\u001b[1;31m---------------------------------------------------------------------------\u001b[0m",
      "\u001b[1;31mUnboundLocalError\u001b[0m                         Traceback (most recent call last)",
      "\u001b[1;32m~\\AppData\\Local\\Temp/ipykernel_22440/3342612920.py\u001b[0m in \u001b[0;36m<module>\u001b[1;34m\u001b[0m\n\u001b[0;32m     42\u001b[0m     \u001b[0menkf\u001b[0m\u001b[1;33m.\u001b[0m\u001b[0mset_value\u001b[0m\u001b[1;33m(\u001b[0m\u001b[1;34m'P'\u001b[0m\u001b[1;33m,\u001b[0m \u001b[0mnp\u001b[0m\u001b[1;33m.\u001b[0m\u001b[0marray\u001b[0m\u001b[1;33m(\u001b[0m\u001b[1;33m[\u001b[0m\u001b[0moutflow_peturb_covar\u001b[0m\u001b[1;33m]\u001b[0m\u001b[1;33m)\u001b[0m\u001b[1;33m)\u001b[0m\u001b[1;33m\u001b[0m\u001b[1;33m\u001b[0m\u001b[0m\n\u001b[0;32m     43\u001b[0m     \u001b[0menkf\u001b[0m\u001b[1;33m.\u001b[0m\u001b[0mset_value\u001b[0m\u001b[1;33m(\u001b[0m\u001b[1;34m'z'\u001b[0m\u001b[1;33m,\u001b[0m \u001b[0mnp\u001b[0m\u001b[1;33m.\u001b[0m\u001b[0marray\u001b[0m\u001b[1;33m(\u001b[0m\u001b[1;33m[\u001b[0m\u001b[0mobs\u001b[0m\u001b[1;33m[\u001b[0m\u001b[0mi\u001b[0m\u001b[1;33m]\u001b[0m\u001b[1;33m]\u001b[0m\u001b[1;33m)\u001b[0m\u001b[1;33m)\u001b[0m\u001b[1;33m\u001b[0m\u001b[1;33m\u001b[0m\u001b[0m\n\u001b[1;32m---> 44\u001b[1;33m     \u001b[0menkf\u001b[0m\u001b[1;33m.\u001b[0m\u001b[0mupdate\u001b[0m\u001b[1;33m(\u001b[0m\u001b[1;33m)\u001b[0m\u001b[1;33m\u001b[0m\u001b[1;33m\u001b[0m\u001b[0m\n\u001b[0m\u001b[0;32m     45\u001b[0m \u001b[1;33m\u001b[0m\u001b[0m\n\u001b[0;32m     46\u001b[0m     \u001b[1;31m#For plotting\u001b[0m\u001b[1;33m\u001b[0m\u001b[1;33m\u001b[0m\u001b[0m\n",
      "\u001b[1;32m~\\Documents\\GitHub\\NextGen---The-Simulators-\\Toy_Model\\./Assimilation\\Bmi_da_ENKF_forSBMI.py\u001b[0m in \u001b[0;36mupdate\u001b[1;34m(self)\u001b[0m\n\u001b[0;32m    171\u001b[0m             \u001b[0mself\u001b[0m\u001b[1;33m.\u001b[0m\u001b[0m_values\u001b[0m\u001b[1;33m[\u001b[0m\u001b[1;34m'surface_runoff_ratio'\u001b[0m\u001b[1;33m]\u001b[0m\u001b[1;33m=\u001b[0m\u001b[1;36m0\u001b[0m\u001b[1;33m\u001b[0m\u001b[1;33m\u001b[0m\u001b[0m\n\u001b[0;32m    172\u001b[0m         \u001b[1;32mif\u001b[0m \u001b[0mtotal_volume_change_m\u001b[0m\u001b[1;33m<\u001b[0m\u001b[1;36m0\u001b[0m\u001b[1;33m:\u001b[0m\u001b[1;33m\u001b[0m\u001b[1;33m\u001b[0m\u001b[0m\n\u001b[1;32m--> 173\u001b[1;33m             \u001b[0mself\u001b[0m\u001b[1;33m.\u001b[0m\u001b[0msurface_runoff_ratio\u001b[0m \u001b[1;33m=\u001b[0m \u001b[1;33m(\u001b[0m\u001b[1;33m(\u001b[0m\u001b[0mself\u001b[0m\u001b[1;33m.\u001b[0m\u001b[0msurface_runoff\u001b[0m \u001b[1;33m+\u001b[0m \u001b[0mleftover_depth_change_m\u001b[0m\u001b[1;33m)\u001b[0m\u001b[1;33m/\u001b[0m\u001b[0mself\u001b[0m\u001b[1;33m.\u001b[0m\u001b[0msurface_runoff\u001b[0m\u001b[1;33m)\u001b[0m\u001b[1;33m\u001b[0m\u001b[1;33m\u001b[0m\u001b[0m\n\u001b[0m\u001b[0;32m    174\u001b[0m             \u001b[0mself\u001b[0m\u001b[1;33m.\u001b[0m\u001b[0m_values\u001b[0m\u001b[1;33m[\u001b[0m\u001b[1;34m'surface_runoff_ratio'\u001b[0m\u001b[1;33m]\u001b[0m\u001b[1;33m=\u001b[0m\u001b[0mself\u001b[0m\u001b[1;33m.\u001b[0m\u001b[0msurface_runoff_ratio\u001b[0m\u001b[1;33m\u001b[0m\u001b[1;33m\u001b[0m\u001b[0m\n\u001b[0;32m    175\u001b[0m         \u001b[1;32mif\u001b[0m  \u001b[0mtotal_volume_change_m\u001b[0m\u001b[1;33m>\u001b[0m\u001b[1;36m0\u001b[0m\u001b[1;33m:\u001b[0m\u001b[1;33m\u001b[0m\u001b[1;33m\u001b[0m\u001b[0m\n",
      "\u001b[1;31mUnboundLocalError\u001b[0m: local variable 'leftover_depth_change_m' referenced before assignment"
     ]
    }
   ],
   "source": [
    "# Make empty matrices for plotting\n",
    "cfeOpen = []\n",
    "cfePeturbed = []\n",
    "cfeAnalysis = []\n",
    "cfeEnKF = []\n",
    "\n",
    "## Loop through time. Set values for each model and get values\n",
    "for i, precip in enumerate(df_forcing['APCP_surface']): #i is RAINRATE\n",
    "\n",
    "    # Set values for each model\n",
    "    cfe_open.set_value('atmosphere_water__time_integral_of_precipitation_mass_flux', precip) #value of precip from forcing data in loop\n",
    "    cfe_peturbed.set_value('atmosphere_water__time_integral_of_precipitation_mass_flux', precip)\n",
    "    cfe_analysis.set_value('atmosphere_water__time_integral_of_precipitation_mass_flux', precip)\n",
    "    \n",
    "    # Update usgs data and get value to put into EnKF\n",
    "    usgs.update()\n",
    "    obs = np.array(usgs.get_value('Flow'))*50 #need array for EnKf function. should get this when initialize.  \n",
    "    \n",
    "    # Update CFE open and peturbed. Get value for peturbed stats. \n",
    "    cfe_open.update()\n",
    "    cfe_peturbed.update()\n",
    "    \n",
    "    soil_storage_avail = cfe_open.get_value('soil_storage_avail_m')\n",
    "    soil_reservoir_storage_deficit = cfe_open.get_value('soil_reservoir_storage_deficit_m')\n",
    "    \n",
    "    # Get values for plotting\n",
    "    outflow = cfe_open.get_value('land_surface_water__runoff_depth')\n",
    "    cfeOpen.append(outflow) #for plotting\n",
    "    outflow_peturb = cfe_peturbed.get_value('land_surface_water__runoff_depth_ens')\n",
    "    \n",
    "    # Get mean and covariance for stats of ensemble runs for EnKF\n",
    "    outflow_peturb_mean = np.mean(outflow_peturb)\n",
    "    outflow_peturb_covar = np.cov(outflow_peturb)\n",
    "    cfePeturbed.append(outflow_peturb_mean) #for plotting\n",
    "    \n",
    "    # Set EnKF value to usgs, mean, and covariance. Get value from it then\n",
    "    enkf.set_value('soil_storage_avail_m', soil_storage_avail) #setting soil storage in enkf\n",
    "    enkf.set_value('soil_reservoir_storage_deficit_m', soil_reservoir_storage_deficit) #setting soil storage in enkf\n",
    "    #enkf.set_value('surface_runoff_depth_m', soil_storage_avail) #setting soil storage in enkf\n",
    "    \n",
    "    enkf.set_value('x', np.array([outflow_peturb_mean]))\n",
    "    enkf.set_value('P', np.array([outflow_peturb_covar]))\n",
    "    enkf.set_value('z', np.array([obs[i]]))\n",
    "    enkf.update()\n",
    "    \n",
    "    #For plotting\n",
    "    outflow_enkf = enkf.get_value('enkf')\n",
    "    cfeEnKF.append(outflow_enkf)\n",
    "    \n",
    "    state_transition_soil_storage = enkf.get_value('soil_storage_avail_m')\n",
    "    state_transition_soil_res     = enkf.get_value('soil_reservoir_storage_deficit_m')\n",
    "    #state_transition_runoff       = enkf.get_value('surface_runoff_depth_m')\n",
    "    \n",
    "#     # Set value for CFE analysis based on the state variable change from the EnKF factor tog et true streamflow\n",
    "    cfe_analysis.set_value('soil_storage_avail_m', state_transition_soil_storage) #look up value from lookup table based on EnKF factor   \n",
    "    cfe_analysis.set_value('soil_reservoir_storage_deficit_m', state_transition_soil_res) #look up value from lookup table based on EnKF factor   \n",
    "    #cfe_analysis.set_value('surface_runoff_depth_m', state_transition_runoff) \n",
    "    cfe_analysis.update() #get new streamflow value based on state var change\n",
    "    \n",
    "    outflow_analysis = cfe_analysis.get_value('land_surface_water__runoff_depth')\n",
    "    cfeAnalysis.append(outflow_analysis) #for plotting\n",
    "        \n",
    "     # Update final model from value of analysis\n",
    "    cfe_updated_everything_runoff = cfe_analysis.get_value('surface_runoff_depth_m')\n",
    "    cfe_peturbed.set_value('surface_runoff_depth_m', cfe_updated_everything_runoff)\n",
    "    \n",
    "#    cfe_updated_everything_runoff = cfe_analysis.get_value('state_var_change_runoff')\n",
    "#    cfe_peturbed.set_value('state_var_change_runoff', cfe_updated_everything_runoff) #set state vars based on EnKF factor\n",
    "#    cfe_updated_everything_soil = cfe_analysis.get_value('state_var_change_soil')\n",
    "#    cfe_peturbed.set_value('state_var_change_soil', cfe_updated_everything_soil) #set state vars based on EnKF factor\n",
    "   \n",
    "    \n",
    "# # Finalize models\n",
    "cfe_open.finalize(print_mass_balance=True)\n",
    "cfe_peturbed.finalize(print_mass_balance=True)\n",
    "cfe_analysis.finalize(print_mass_balance=True)\n",
    "# # want to see runoff q adjusted. vol adjusted in GIUH \n",
    "# usgs.finalize()\n",
    "# enkf.finalize()"
   ]
  },
  {
   "cell_type": "code",
   "execution_count": null,
   "id": "79efcfac",
   "metadata": {},
   "outputs": [],
   "source": [
    "istart_plot=650\n",
    "iend_plot=710\n",
    "x = list(range(istart_plot, iend_plot))\n",
    "\n",
    "fig = plt.figure(figsize = (7,5), dpi=300)\n",
    "\n",
    "plt.title('Sub-Region Model DA Example')\n",
    "#plt.plot(x, cfePeturbed[istart_plot:iend_plot], color = 'tab:orange', label = 'CFE Peturbed')\n",
    "plt.plot(x, cfeOpen[istart_plot:iend_plot], color = 'green', label = 'CFE Open')\n",
    "plt.plot(x, cfeAnalysis[istart_plot:iend_plot], color = 'black', linestyle='dashed', label = 'CFE Analysis')\n",
    "plt.plot(x, obs[istart_plot:iend_plot], color = 'tab:red', linestyle='dashed', label = 'USGS Obs')\n",
    "plt.plot(x, cfeEnKF[istart_plot:iend_plot], color = 'tab:blue', label = 'EnKF')\n",
    "plt.ylabel('Streamflow (CFS)')\n",
    "plt.xlabel('Time')\n",
    "plt.legend()\n"
   ]
  },
  {
   "cell_type": "code",
   "execution_count": null,
   "id": "838e44e5",
   "metadata": {},
   "outputs": [],
   "source": [
    "# cfe_open = bmi_cfe()\n",
    "# cfe_perturbed = bmi_cfe()\n",
    "# cfe_analysis = bmi_cfe()\n",
    "# enkf = bmi_enkf()\n",
    "# usgs = bmi_usgs()\n",
    "\n",
    "# cfe_open.initialize(‘config_open.yml’)\n",
    "# cfe_perturbed.initialize(‘config_perturbed.yml’)\n",
    "# cfe_analysis.initialize(‘config_analysis.yml’)\n",
    "# enkf.initialize(‘config_enkf_cfe_basinID.yml’)\n",
    "# usgs.initialize(‘config_basinID.yml’)\n",
    "\n",
    "# For time in daterange():\n",
    "#     forcing = forcings[time]\n",
    "#     cfe_open.set_value(forcing)\n",
    "#     cfe_perturbed.set_value(forcing)\n",
    "#     cfe_analysis.set_value(forcing)\n",
    "#     usgs.update()\n",
    "#     obs = usgs.get_value()\n",
    "\n",
    "#     cfe_open.update()\n",
    "#     cfe_perturbed.update()\n",
    "#     mean, variance  = cfe_perturbed.get_value()\n",
    "\n",
    "#     enkf.set_value(obs, mean, variance )\n",
    "\n",
    "#     state_transition = enkf.get_value()\n",
    "\n",
    "#     cfe_analysis.set_value(state_transition)\n",
    "#     cfe_analysis.update()\n",
    "\n",
    "#     cfe_perturbed.set_value(state_transition)\n",
    "#     \n",
    "\n",
    "#     cfe_updated_everything = cfe_analysis.get_value(everything)\n",
    "#     cfe_perturbed.set_value(cfe_updated_everything)\n",
    "\n",
    "\n",
    "\n",
    "# cfe_open.initialize(‘config_open.yml’)\n",
    "# cfe_perturbed.initialize(‘config_perturbed.yml’)\n",
    "# cfe_analysis.initialize(‘config_analysis.yml’)\n",
    "# enkf.initialize(‘config_enkf_cfe_basinID.yml’)\n",
    "# usgs.initialize(‘config_basinID.yml’)\n",
    "\n"
   ]
  }
 ],
 "metadata": {
  "kernelspec": {
   "display_name": "Python 3 (ipykernel)",
   "language": "python",
   "name": "python3"
  },
  "language_info": {
   "codemirror_mode": {
    "name": "ipython",
    "version": 3
   },
   "file_extension": ".py",
   "mimetype": "text/x-python",
   "name": "python",
   "nbconvert_exporter": "python",
   "pygments_lexer": "ipython3",
   "version": "3.9.7"
  }
 },
 "nbformat": 4,
 "nbformat_minor": 5
}
