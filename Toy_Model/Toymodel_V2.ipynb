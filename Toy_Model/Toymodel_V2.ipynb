{
 "cells": [
  {
   "cell_type": "code",
   "execution_count": 1,
   "id": "d8b37d7a",
   "metadata": {},
   "outputs": [],
   "source": [
    "import time\n",
    "import numpy as np\n",
    "import pandas as pd\n",
    "import json\n",
    "import matplotlib.pyplot as plt\n",
    "import sys\n",
    "sys.path.insert(0, './CFE')\n",
    "import bmi_cfe\n",
    "import bmi_cfe_statevars\n",
    "\n",
    "import bmi_cfe_peturb\n",
    "sys.path.insert(0, './Assimilation')\n",
    "import Bmi_da_ENKF_forSBMI\n",
    "\n",
    "#sys.path.append('/home/jovyan/data/NextGen---The-Simulators-/USGS/USGS_BMI_FT/cleaned_FT')\n",
    "sys.path.append('C:/Users/zjbut/Documents/GitHub/NextGen---The-Simulators-/USGS/USGS_BMI_FT')\n",
    "\n",
    "import bmi_usgs"
   ]
  },
  {
   "cell_type": "code",
   "execution_count": 2,
   "id": "44dbd68a",
   "metadata": {},
   "outputs": [
    {
     "name": "stdout",
     "output_type": "stream",
     "text": [
      "<module 'bmi_cfe' from 'C:\\\\Users\\\\zjbut\\\\Documents\\\\GitHub\\\\NextGen---The-Simulators-\\\\Toy_Model\\\\./CFE\\\\bmi_cfe.py'>\n",
      "<module 'bmi_cfe_statevars' from 'C:\\\\Users\\\\zjbut\\\\Documents\\\\GitHub\\\\NextGen---The-Simulators-\\\\Toy_Model\\\\./CFE\\\\bmi_cfe_statevars.py'>\n",
      "<module 'bmi_cfe_peturb' from 'C:\\\\Users\\\\zjbut\\\\Documents\\\\GitHub\\\\NextGen---The-Simulators-\\\\Toy_Model\\\\./CFE\\\\bmi_cfe_peturb.py'>\n"
     ]
    }
   ],
   "source": [
    "print(bmi_cfe)\n",
    "print(bmi_cfe_statevars)\n",
    "print(bmi_cfe_peturb)\n",
    "\n",
    "#print(Bmi_da_ENKF_forSBMI)\n",
    "#print(bmi_usgs)\n"
   ]
  },
  {
   "cell_type": "code",
   "execution_count": 3,
   "id": "d886b230",
   "metadata": {},
   "outputs": [],
   "source": [
    "## Open BMI's for each file\n",
    "cfe_open = bmi_cfe.BMI_CFE()\n",
    "cfe_peturbed = bmi_cfe_peturb.BMI_CFE()\n",
    "cfe_analysis = bmi_cfe_statevars.BMI_CFE() #true model in the end with updated state vars\n",
    "enkf = Bmi_da_ENKF_forSBMI.EnKF_wrap()\n",
    "usgs = bmi_usgs.BMI_USGS()"
   ]
  },
  {
   "cell_type": "code",
   "execution_count": 4,
   "id": "aaac8148",
   "metadata": {},
   "outputs": [
    {
     "name": "stdout",
     "output_type": "stream",
     "text": [
      "                         Date    Flow  validity\n",
      "0   2015-05-01 06:00:00+00:00  2.9075       1.0\n",
      "1   2015-05-01 07:00:00+00:00  2.9200       1.0\n",
      "2   2015-05-01 08:00:00+00:00  2.9300       1.0\n",
      "3   2015-05-01 09:00:00+00:00  2.9300       1.0\n",
      "4   2015-05-01 10:00:00+00:00  2.9325       1.0\n",
      "..                        ...     ...       ...\n",
      "739 2015-06-01 01:00:00+00:00  3.1850       1.0\n",
      "740 2015-06-01 02:00:00+00:00  3.1900       1.0\n",
      "741 2015-06-01 03:00:00+00:00  3.1925       1.0\n",
      "742 2015-06-01 04:00:00+00:00  3.2050       1.0\n",
      "743 2015-06-01 05:00:00+00:00  3.2150       1.0\n",
      "\n",
      "[744 rows x 3 columns]\n",
      "USGS station ID 06006000\n"
     ]
    }
   ],
   "source": [
    "## Initialize the BMI's\n",
    "cfe_open.initialize(cfg_file='./CFE/cat_58_config_cfe.json')\n",
    "cfe_peturbed.initialize(cfg_file='./CFE/cat_58_config_cfe_peturb_model.json')\n",
    "cfe_analysis.initialize(cfg_file='./CFE/cat_58_config_cfe.json') # I am confused what this config file should look like\n",
    "\n",
    "# make one bmi for all of this and options in config file\n",
    "\n",
    "# ## Case study files\n",
    "# cfe_open.initialize(cfg_file='./CFE/config_cfe_CT.json')\n",
    "# cfe_peturbed.initialize(cfg_file='./CFE/config_cfe_peturb_model_CT.json')\n",
    "# cfe_analysis.initialize(cfg_file='./CFE/config_cfe_CT.json')\n",
    "\n",
    "enkf.initialize(cfg_file='./Assimilation/EnKF_config.json') # Need to create this still\n",
    "usgs.initialize(cfg_file='C:/Users/zjbut/Documents/GitHub/NextGen---The-Simulators-/USGS/USGS_BMI_FT/usgs_config.json')\n",
    "\n"
   ]
  },
  {
   "cell_type": "code",
   "execution_count": 5,
   "id": "14d141cb",
   "metadata": {},
   "outputs": [
    {
     "name": "stdout",
     "output_type": "stream",
     "text": [
      "                 time  APCP_surface  DLWRF_surface  DSWRF_surface  \\\n",
      "0      12/1/2015 0:00           0.0     361.200012       0.000000   \n",
      "1      12/1/2015 1:00           0.0     361.200012       0.000000   \n",
      "2      12/1/2015 2:00           0.0     361.200012       0.000000   \n",
      "3      12/1/2015 3:00           0.0     357.600006       0.000000   \n",
      "4      12/1/2015 4:00           0.0     357.600006       0.000000   \n",
      "..                ...           ...            ...            ...   \n",
      "715  12/30/2015 19:00           4.7     402.200012     163.600006   \n",
      "716  12/30/2015 20:00           3.7     402.200012     130.300003   \n",
      "717  12/30/2015 21:00           4.2     399.200012      80.400002   \n",
      "718  12/30/2015 22:00           8.3     399.200012      21.000000   \n",
      "719  12/30/2015 23:00           3.3     399.200012       0.000000   \n",
      "\n",
      "     PRES_surface  SPFH_2maboveground  TMP_2maboveground  UGRD_10maboveground  \\\n",
      "0          100530              0.0105         287.500000                 -2.6   \n",
      "1          100610              0.0098         287.300018                 -2.7   \n",
      "2          100600              0.0091         286.600006                 -2.8   \n",
      "3          100570              0.0087         285.500000                 -2.9   \n",
      "4          100590              0.0084         284.300018                 -2.6   \n",
      "..            ...                 ...                ...                  ...   \n",
      "715        100560              0.0125         291.000000                  0.8   \n",
      "716        100490              0.0128         291.000000                  0.8   \n",
      "717        100470              0.0126         291.100006                  0.8   \n",
      "718        100450              0.0126         290.899994                  1.0   \n",
      "719        100520              0.0127         291.100006                  1.2   \n",
      "\n",
      "     VGRD_10maboveground   precip_rate  \n",
      "0                    0.0  0.000000e+00  \n",
      "1                   -0.3  0.000000e+00  \n",
      "2                   -0.6  0.000000e+00  \n",
      "3                   -0.9  0.000000e+00  \n",
      "4                   -0.3  0.000000e+00  \n",
      "..                   ...           ...  \n",
      "715                  1.9  1.820000e-06  \n",
      "716                  1.8  2.060000e-06  \n",
      "717                  1.7  4.080000e-06  \n",
      "718                  1.4  1.620000e-06  \n",
      "719                  1.2  6.880000e-07  \n",
      "\n",
      "[720 rows x 10 columns]\n"
     ]
    },
    {
     "data": {
      "text/plain": [
       "[<matplotlib.lines.Line2D at 0x211ecd831f0>]"
      ]
     },
     "execution_count": 5,
     "metadata": {},
     "output_type": "execute_result"
    },
    {
     "data": {
      "image/png": "[encoded data removed]",
      "text/plain": [
       "<Figure size 432x288 with 1 Axes>"
      ]
     },
     "metadata": {
      "needs_background": "light"
     },
     "output_type": "display_data"
    }
   ],
   "source": [
    "with open(cfe_open.forcing_file, 'r') as f:\n",
    "    df_forcing = pd.read_csv(f)\n",
    "    \n",
    "print(df_forcing)\n",
    "plt.plot(df_forcing['APCP_surface'])"
   ]
  },
  {
   "cell_type": "code",
   "execution_count": 6,
   "id": "5c93f0fa",
   "metadata": {
    "scrolled": false
   },
   "outputs": [
    {
     "ename": "KeyError",
     "evalue": "'factor_runoff_queue'",
     "output_type": "error",
     "traceback": [
      "\u001b[1;31m---------------------------------------------------------------------------\u001b[0m",
      "\u001b[1;31mKeyError\u001b[0m                                  Traceback (most recent call last)",
      "\u001b[1;32m~\\AppData\\Local\\Temp/ipykernel_15220/3644125058.py\u001b[0m in \u001b[0;36m<module>\u001b[1;34m\u001b[0m\n\u001b[0;32m     40\u001b[0m     \u001b[0menkf\u001b[0m\u001b[1;33m.\u001b[0m\u001b[0mupdate\u001b[0m\u001b[1;33m(\u001b[0m\u001b[1;33m)\u001b[0m\u001b[1;33m\u001b[0m\u001b[1;33m\u001b[0m\u001b[0m\n\u001b[0;32m     41\u001b[0m \u001b[1;33m\u001b[0m\u001b[0m\n\u001b[1;32m---> 42\u001b[1;33m     \u001b[0mstate_transition_runoff\u001b[0m \u001b[1;33m=\u001b[0m \u001b[0menkf\u001b[0m\u001b[1;33m.\u001b[0m\u001b[0mget_value\u001b[0m\u001b[1;33m(\u001b[0m\u001b[1;34m'factor_runoff_queue'\u001b[0m\u001b[1;33m)\u001b[0m \u001b[1;31m#getting factor to change\u001b[0m\u001b[1;33m\u001b[0m\u001b[1;33m\u001b[0m\u001b[0m\n\u001b[0m\u001b[0;32m     43\u001b[0m     \u001b[0mstate_transition_soil\u001b[0m \u001b[1;33m=\u001b[0m \u001b[0menkf\u001b[0m\u001b[1;33m.\u001b[0m\u001b[0mget_value\u001b[0m\u001b[1;33m(\u001b[0m\u001b[1;34m'factor_soil_res_def'\u001b[0m\u001b[1;33m)\u001b[0m \u001b[1;31m#getting factor to change\u001b[0m\u001b[1;33m\u001b[0m\u001b[1;33m\u001b[0m\u001b[0m\n\u001b[0;32m     44\u001b[0m     \u001b[1;31m# factor is based on EnKF/simulation. % change from assimilation to CFE\u001b[0m\u001b[1;33m\u001b[0m\u001b[1;33m\u001b[0m\u001b[0m\n",
      "\u001b[1;32m~\\Documents\\GitHub\\NextGen---The-Simulators-\\Toy_Model\\./Assimilation\\Bmi_da_ENKF_forSBMI.py\u001b[0m in \u001b[0;36mget_value\u001b[1;34m(self, var_name)\u001b[0m\n\u001b[0;32m    293\u001b[0m             \u001b[0mCopy\u001b[0m \u001b[0mof\u001b[0m \u001b[0mvalues\u001b[0m\u001b[1;33m.\u001b[0m\u001b[1;33m\u001b[0m\u001b[1;33m\u001b[0m\u001b[0m\n\u001b[0;32m    294\u001b[0m         \"\"\"\n\u001b[1;32m--> 295\u001b[1;33m         \u001b[1;32mreturn\u001b[0m \u001b[0mself\u001b[0m\u001b[1;33m.\u001b[0m\u001b[0mget_value_ptr\u001b[0m\u001b[1;33m(\u001b[0m\u001b[0mvar_name\u001b[0m\u001b[1;33m)\u001b[0m\u001b[1;33m\u001b[0m\u001b[1;33m\u001b[0m\u001b[0m\n\u001b[0m\u001b[0;32m    296\u001b[0m \u001b[1;33m\u001b[0m\u001b[0m\n\u001b[0;32m    297\u001b[0m     \u001b[1;31m#-------------------------------------------------------------------\u001b[0m\u001b[1;33m\u001b[0m\u001b[1;33m\u001b[0m\u001b[0m\n",
      "\u001b[1;32m~\\Documents\\GitHub\\NextGen---The-Simulators-\\Toy_Model\\./Assimilation\\Bmi_da_ENKF_forSBMI.py\u001b[0m in \u001b[0;36mget_value_ptr\u001b[1;34m(self, var_name)\u001b[0m\n\u001b[0;32m    307\u001b[0m             \u001b[0mValue\u001b[0m \u001b[0marray\u001b[0m\u001b[1;33m.\u001b[0m\u001b[1;33m\u001b[0m\u001b[1;33m\u001b[0m\u001b[0m\n\u001b[0;32m    308\u001b[0m         \"\"\"\n\u001b[1;32m--> 309\u001b[1;33m         \u001b[1;32mreturn\u001b[0m \u001b[0mself\u001b[0m\u001b[1;33m.\u001b[0m\u001b[0m_values\u001b[0m\u001b[1;33m[\u001b[0m\u001b[0mvar_name\u001b[0m\u001b[1;33m]\u001b[0m\u001b[1;33m\u001b[0m\u001b[1;33m\u001b[0m\u001b[0m\n\u001b[0m\u001b[0;32m    310\u001b[0m \u001b[1;33m\u001b[0m\u001b[0m\n\u001b[0;32m    311\u001b[0m     \u001b[1;31m#-------------------------------------------------------------------\u001b[0m\u001b[1;33m\u001b[0m\u001b[1;33m\u001b[0m\u001b[0m\n",
      "\u001b[1;31mKeyError\u001b[0m: 'factor_runoff_queue'"
     ]
    }
   ],
   "source": [
    "# Make empty matrices for plotting\n",
    "cfeOpen = []\n",
    "cfePeturbed = []\n",
    "cfeAnalysis = []\n",
    "#obs = []\n",
    "\n",
    "## Loop through time. Set values for each model and get values\n",
    "for i, precip in enumerate(df_forcing['APCP_surface']): #i is RAINRATE\n",
    "## Case Study\n",
    "#for i, precip in enumerate(df_forcing['RAINRATE']):\n",
    "    \n",
    "    # Set values for each model\n",
    "    cfe_open.set_value('atmosphere_water__time_integral_of_precipitation_mass_flux', precip) #value of precip from forcing data in loop\n",
    "    cfe_peturbed.set_value('atmosphere_water__time_integral_of_precipitation_mass_flux', precip)\n",
    "    cfe_analysis.set_value('atmosphere_water__time_integral_of_precipitation_mass_flux', precip)\n",
    "    \n",
    "    # Update usgs data and get value to put into EnKF\n",
    "    usgs.update()\n",
    "    obs = np.array(usgs.get_value('Flow')) #need array for EnKf function. should get this when initialize.  \n",
    "    \n",
    "    # Update CFE open and peturbed. Get value for peturbed stats. \n",
    "    cfe_open.update()\n",
    "    cfe_peturbed.update()\n",
    "    \n",
    "    soil_storage_avail = cfe_peturbed.get_value('soil_storage_avail')\n",
    "    \n",
    "    # Get values for plotting\n",
    "    outflow = cfe_open.get_value('land_surface_water__runoff_depth')\n",
    "    cfeOpen.append(outflow) #for plotting\n",
    "    outflow_peturb = cfe_peturbed.get_value('land_surface_water__runoff_depth_ens')\n",
    "    \n",
    "    # Get mean and covariance for stats of ensemble runs for EnKF\n",
    "    outflow_peturb_mean = np.mean(outflow_peturb)\n",
    "    outflow_peturb_covar = np.cov(outflow_peturb)\n",
    "    cfePeturbed.append(outflow_peturb_mean) #for plotting\n",
    "    \n",
    "    # Set EnKF value to usgs, mean, and covariance. Get value from it then\n",
    "    enkf.set_value('soil_storage_avail', soil_storage_avail) #setting soil storage in enkf\n",
    "    enkf.set_value('x', np.array([outflow_peturb_mean]))\n",
    "    enkf.set_value('P', np.array([outflow_peturb_covar]))\n",
    "    enkf.set_value('z', np.array([obs[i]]))\n",
    "\n",
    "    enkf.update()\n",
    "\n",
    "    state_transition_runoff = enkf.get_value('factor_runoff_queue') #getting factor to change\n",
    "    state_transition_soil = enkf.get_value('factor_soil_res_def') #getting factor to change\n",
    "    # factor is based on EnKF/simulation. % change from assimilation to CFE\n",
    "    # if no obs, state trans is 1. \n",
    "    \n",
    "    # want to get factor from lookup table\n",
    "    \n",
    "    # Set value for CFE analysis based on the state variable change from the EnKF factor tog et true streamflow\n",
    "    cfe_analysis.set_value('state_var_change_runoff', state_transition_runoff) #look up value from lookup table based on EnKF factor   \n",
    "    cfe_analysis.set_value('state_var_change_soil', state_transition_soil) #look up value from lookup table based on EnKF factor   \n",
    "    cfe_analysis.update() #get new streamflow value based on state var change\n",
    "    \n",
    "    outflow_analysis = cfe_analysis.get_value('land_surface_water__runoff_depth')\n",
    "    cfeAnalysis.append(outflow_analysis) #for plotting\n",
    "    \n",
    "    # Set state variable change of the peturbed model \n",
    "    #cfe_perturbed.set_value('state_var_change_runoff', state_transition)\n",
    "    #cfe_perturbed.get_value('land_surface_water__runoff_depth_ens')\n",
    "    #cfe_perturbed.update()\n",
    "        \n",
    "    # Update final model from value of analysis\n",
    "    cfe_updated_everything_runoff = cfe_analysis.get_value('state_var_change_runoff')\n",
    "    cfe_peturbed.set_value('state_var_change_runoff', cfe_updated_everything_runoff) #set state vars based on EnKF factor\n",
    "    cfe_updated_everything_soil = cfe_analysis.get_value('state_var_change_soil')\n",
    "    cfe_peturbed.set_value('state_var_change_soil', cfe_updated_everything_soil) #set state vars based on EnKF factor\n",
    "   \n",
    "    \n",
    "# Finalize models\n",
    "cfe_open.finalize(print_mass_balance=True)\n",
    "#cfe_peturbed.finalize(print_mass_balance=True)\n",
    "#cfe_analysis.finalize(print_mass_balance=True)\n",
    "# want to see runoff q adjusted. vol adjusted in GIUH \n",
    "usgs.finalize()\n",
    "enkf.finalize()"
   ]
  },
  {
   "cell_type": "code",
   "execution_count": null,
   "id": "79efcfac",
   "metadata": {},
   "outputs": [],
   "source": [
    "istart_plot=600\n",
    "iend_plot=720\n",
    "x = list(range(istart_plot, iend_plot))\n",
    "\n",
    "fig = plt.figure(figsize = (7,5), dpi=300)\n",
    "\n",
    "plt.title('Sub-Region Model DA Example')\n",
    "#plt.plot(x, cfePeturbed[istart_plot:iend_plot], color = 'tab:blue', label = 'CFE Peturbed')\n",
    "plt.plot(x, cfeOpen[istart_plot:iend_plot], color = 'green', label = 'CFE Open')\n",
    "plt.plot(x, cfeAnalysis[istart_plot:iend_plot], color = 'black', label = 'CFE Analysis')\n",
    "plt.plot(x, obs[istart_plot:iend_plot], color = 'tab:red', linestyle='dashed', label = 'USGS Obs')\n",
    "plt.ylabel('Streamflow (CFS)')\n",
    "plt.xlabel('Time')\n",
    "plt.legend()\n"
   ]
  },
  {
   "cell_type": "code",
   "execution_count": null,
   "id": "838e44e5",
   "metadata": {},
   "outputs": [],
   "source": [
    "# cfe_open = bmi_cfe()\n",
    "# cfe_perturbed = bmi_cfe()\n",
    "# cfe_analysis = bmi_cfe()\n",
    "# enkf = bmi_enkf()\n",
    "# usgs = bmi_usgs()\n",
    "\n",
    "# cfe_open.initialize(‘config_open.yml’)\n",
    "# cfe_perturbed.initialize(‘config_perturbed.yml’)\n",
    "# cfe_analysis.initialize(‘config_analysis.yml’)\n",
    "# enkf.initialize(‘config_enkf_cfe_basinID.yml’)\n",
    "# usgs.initialize(‘config_basinID.yml’)\n",
    "\n",
    "# For time in daterange():\n",
    "#     forcing = forcings[time]\n",
    "#     cfe_open.set_value(forcing)\n",
    "#     cfe_perturbed.set_value(forcing)\n",
    "#     cfe_analysis.set_value(forcing)\n",
    "#     usgs.update()\n",
    "#     obs = usgs.get_value()\n",
    "\n",
    "#     cfe_open.update()\n",
    "#     cfe_perturbed.update()\n",
    "#     mean, variance  = cfe_perturbed.get_value()\n",
    "\n",
    "#     enkf.set_value(obs, mean, variance )\n",
    "\n",
    "#     state_transition = enkf.get_value()\n",
    "\n",
    "#     cfe_analysis.set_value(state_transition)\n",
    "#     cfe_analysis.update()\n",
    "\n",
    "#     cfe_perturbed.set_value(state_transition)\n",
    "#     \n",
    "\n",
    "#     cfe_updated_everything = cfe_analysis.get_value(everything)\n",
    "#     cfe_perturbed.set_value(cfe_updated_everything)\n",
    "\n",
    "\n",
    "\n",
    "# cfe_open.initialize(‘config_open.yml’)\n",
    "# cfe_perturbed.initialize(‘config_perturbed.yml’)\n",
    "# cfe_analysis.initialize(‘config_analysis.yml’)\n",
    "# enkf.initialize(‘config_enkf_cfe_basinID.yml’)\n",
    "# usgs.initialize(‘config_basinID.yml’)\n",
    "\n"
   ]
  }
 ],
 "metadata": {
  "kernelspec": {
   "display_name": "Python 3 (ipykernel)",
   "language": "python",
   "name": "python3"
  },
  "language_info": {
   "codemirror_mode": {
    "name": "ipython",
    "version": 3
   },
   "file_extension": ".py",
   "mimetype": "text/x-python",
   "name": "python",
   "nbconvert_exporter": "python",
   "pygments_lexer": "ipython3",
   "version": "3.9.7"
  }
 },
 "nbformat": 4,
 "nbformat_minor": 5
}
