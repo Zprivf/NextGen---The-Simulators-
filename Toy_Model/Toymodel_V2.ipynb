{
 "cells": [
  {
   "cell_type": "code",
   "execution_count": 1,
   "id": "b5a65cdd",
   "metadata": {},
   "outputs": [],
   "source": [
    "import time\n",
    "import numpy as np\n",
    "import pandas as pd\n",
    "import json\n",
    "import matplotlib.pyplot as plt\n",
    "import sys\n",
    "sys.path.insert(0, './CFE')\n",
    "import bmi_cfe\n",
    "\n",
    "import bmi_cfe_peturb\n",
    "sys.path.insert(0, './Assimilation')\n",
    "import Bmi_da_ENKF\n",
    "\n",
    "#sys.path.append('/home/jovyan/data/NextGen---The-Simulators-/USGS/USGS_BMI_FT/cleaned_FT')\n",
    "sys.path.append('C:/Users/zjbut/Documents/GitHub/NextGen---The-Simulators-/USGS/USGS_BMI_FT')\n",
    "\n",
    "import bmi_usgs"
   ]
  },
  {
   "cell_type": "code",
   "execution_count": 4,
   "id": "9bae4161",
   "metadata": {},
   "outputs": [],
   "source": [
    "## Open BMI's for each file\n",
    "cfe_open = bmi_cfe.BMI_CFE()\n",
    "cfe_peturbed = bmi_cfe_peturb.BMI_CFE()\n",
    "cfe_analysis = bmi_cfe.BMI_CFE() #true model in the end\n",
    "#enkf = Bmi_da_ENKF.EnsembleKalmanFilter()\n",
    "usgs = bmi_usgs.BMI_USGS()"
   ]
  },
  {
   "cell_type": "code",
   "execution_count": 6,
   "id": "de4a9fc8",
   "metadata": {},
   "outputs": [],
   "source": [
    "## Initialize the BMI's\n",
    "cfe_open.initialize(cfg_file='./CFE/cat_58_config_cfe.json')\n",
    "cfe_peturbed.initialize(cfg_file='./CFE/cat_58_config_cfe_peturb_model.json')\n",
    "cfe_analysis.initialize(cfg_file='./CFE/cat_58_config_cfe.json') # I am confused what this config file should look like\n",
    "#enkf.initialize(cfg_file='./Assimilation/config_enkf_cfe_basinID.json') # Need to create this still\n",
    "usgs.initialize(cfg_file='C:/Users/zjbut/Documents/GitHub/NextGen---The-Simulators-/USGS/USGS_BMI_FT/usgs_config.json')\n",
    "\n"
   ]
  },
  {
   "cell_type": "code",
   "execution_count": 7,
   "id": "34aa624a",
   "metadata": {},
   "outputs": [],
   "source": [
    "with open(cfe_open.forcing_file, 'r') as f:\n",
    "    df_forcing = pd.read_csv(f)\n",
    "    \n",
    "#print(df_forcing)"
   ]
  },
  {
   "cell_type": "code",
   "execution_count": null,
   "id": "8c159b65",
   "metadata": {},
   "outputs": [],
   "source": [
    "## Loop through time. Set values for each model and get values\n",
    "\n",
    "for i, precip in enumerate(df_forcing['APCP_surface']): #i is \n",
    "    \n",
    "    framework_time = (1+i)*3600 #seconds since starting simulation\n",
    "    \n",
    "    # Set values for each model\n",
    "    cfe_open.set_value('atmosphere_water__time_integral_of_precipitation_mass_flux', precip) #value of precip from forcing data in loop\n",
    "    cfe_peturbed.set_value('atmosphere_water__time_integral_of_precipitation_mass_flux', precip)\n",
    "    cfe_analysis('atmosphere_water__time_integral_of_precipitation_mass_flux', precip)\n",
    "    \n",
    "    # Update usgs data and get value to put into EnKF\n",
    "    usgs.update()\n",
    "    obs = usgs.get_value()\n",
    "    \n",
    "    # Update CFE open and peturbed. Get value for peturbed stats. \n",
    "    cfe_open.update()\n",
    "    cfe_perturbed.update()   \n",
    "    outflow_peturb = cfe_perturbed.get_value('land_surface_water__runoff_depth_ens')\n",
    "    \n",
    "    # Get mean and covariance for stats of ensemble runs for EnKF\n",
    "    outflow_peturb_mean = np.mean(outflow_peturb)\n",
    "    outflow_peturb_covar = np.cov(outflow_peturb)\n",
    "    \n",
    "    # Set EnKF value to usgs, mean, and covariance. Get value from it then\n",
    "    enkf.set_value(obs, outflow_peturb_mean, outflow_peturb_covar)\n",
    "    state_transition = enkf.get_value('What are we getting?')\n",
    "    \n",
    "    # Set value for CFE analysis to get true streamflow. Update then\n",
    "    cfe_analysis.set_value(state_transition)   \n",
    "    cfe_analysis.update()\n",
    "    \n",
    "    # Update final model from value of analysis\n",
    "    cfe_updated_everything = cfe_analysis.get_value('Streamflow?')\n",
    "    cfe_perturbed.set_value(cfe_updated_everything)\n",
    "    \n",
    "# Finalize models\n",
    "cfe_open.finalize(print_mass_balance=True)\n",
    "cfe_perturbed.finalize()\n",
    "cfe_analysis.finalize()\n",
    "usgs.finalize()\n",
    "enkf.finalize()"
   ]
  },
  {
   "cell_type": "code",
   "execution_count": null,
   "id": "2b8d75ca",
   "metadata": {},
   "outputs": [],
   "source": [
    "# cfe_open = bmi_cfe()\n",
    "# cfe_perturbed = bmi_cfe()\n",
    "# cfe_analysis = bmi_cfe()\n",
    "# enkf = bmi_enkf()\n",
    "# usgs = bmi_usgs()\n",
    "\n",
    "# cfe_open.initialize(‘config_open.yml’)\n",
    "# cfe_perturbed.initialize(‘config_perturbed.yml’)\n",
    "# cfe_analysis.initialize(‘config_analysis.yml’)\n",
    "# enkf.initialize(‘config_enkf_cfe_basinID.yml’)\n",
    "# usgs.initialize(‘config_basinID.yml’)\n",
    "\n",
    "# For time in daterange():\n",
    "#     forcing = forcings[time]\n",
    "#     cfe_open.set_value(forcing)\n",
    "#     cfe_perturbed.set_value(forcing)\n",
    "#     cfe_analysis.set_value(forcing)\n",
    "#     usgs.update()\n",
    "#     obs = usgs.get_value()\n",
    "#     cfe_open.update()\n",
    "#     cfe_perturbed.update()\n",
    "#     mean, variance  = cfe_perturbed.get_value()\n",
    "#     enkf.set_value(obs, mean, variance )\n",
    "#     state_transition = enkf.get_value()\n",
    "#     cfe_analysis.set_value(state_transition)\n",
    "#     cfe_analysis.update()\n",
    "#     cfe_updated_everything = cfe_analysis.get_value(everything)\n",
    "#     cfe_perturbed.set_value(cfe_updated_everything)\n",
    "# cfe_open.initialize(‘config_open.yml’)\n",
    "# cfe_perturbed.initialize(‘config_perturbed.yml’)\n",
    "# cfe_analysis.initialize(‘config_analysis.yml’)\n",
    "# enkf.initialize(‘config_enkf_cfe_basinID.yml’)\n",
    "# usgs.initialize(‘config_basinID.yml’)"
   ]
  }
 ],
 "metadata": {
  "kernelspec": {
   "display_name": "Python 3 (ipykernel)",
   "language": "python",
   "name": "python3"
  },
  "language_info": {
   "codemirror_mode": {
    "name": "ipython",
    "version": 3
   },
   "file_extension": ".py",
   "mimetype": "text/x-python",
   "name": "python",
   "nbconvert_exporter": "python",
   "pygments_lexer": "ipython3",
   "version": "3.9.7"
  }
 },
 "nbformat": 4,
 "nbformat_minor": 5
}
