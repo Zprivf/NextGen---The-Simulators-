{
 "cells": [
  {
   "cell_type": "code",
   "execution_count": 1,
   "id": "d8b37d7a",
   "metadata": {},
   "outputs": [],
   "source": [
    "import time\n",
    "import hydroeval as he\n",
    "import numpy as np\n",
    "import pandas as pd\n",
    "import json\n",
    "import matplotlib.pyplot as plt\n",
    "import sys\n",
    "from datetime import date\n",
    "from datetime import datetime, timedelta\n",
    "sys.path.insert(0, './CFE')\n",
    "import bmi_cfe_open\n",
    "import bmi_cfe_enkf_peturb\n",
    "#import bmi_cfe_peturb\n",
    "\n",
    "sys.path.insert(0, './Assimilation')\n",
    "import Bmi_da_ENKF_forSBMI\n",
    "\n",
    "#sys.path.append('/home/jovyan/data/NextGen---The-Simulators-/USGS/USGS_BMI_FT/cleaned_FT')\n",
    "sys.path.append('../USGS/USGS_BMI_FT')\n",
    "import bmi_usgs\n",
    "\n",
    "#new bmi_cfe is CFE open and cfe peturb"
   ]
  },
  {
   "cell_type": "code",
   "execution_count": 2,
   "id": "44dbd68a",
   "metadata": {},
   "outputs": [
    {
     "name": "stdout",
     "output_type": "stream",
     "text": [
      "<module 'bmi_cfe_open' from 'C:\\\\Users\\\\zjbut\\\\Documents\\\\GitHub\\\\NextGen---The-Simulators-\\\\Toy_Model\\\\./CFE\\\\bmi_cfe_open.py'>\n",
      "<module 'bmi_cfe_enkf_peturb' from 'C:\\\\Users\\\\zjbut\\\\Documents\\\\GitHub\\\\NextGen---The-Simulators-\\\\Toy_Model\\\\./CFE\\\\bmi_cfe_enkf_peturb.py'>\n",
      "<module 'Bmi_da_ENKF_forSBMI' from 'C:\\\\Users\\\\zjbut\\\\Documents\\\\GitHub\\\\NextGen---The-Simulators-\\\\Toy_Model\\\\./Assimilation\\\\Bmi_da_ENKF_forSBMI.py'>\n",
      "<module 'bmi_usgs' from 'C:\\\\Users\\\\zjbut\\\\Documents\\\\GitHub\\\\NextGen---The-Simulators-\\\\Toy_Model\\\\../USGS/USGS_BMI_FT\\\\bmi_usgs.py'>\n"
     ]
    }
   ],
   "source": [
    "print(bmi_cfe_open)\n",
    "#print(bmi_cfe_peturb)\n",
    "print(bmi_cfe_enkf_peturb)\n",
    "print(Bmi_da_ENKF_forSBMI)\n",
    "print(bmi_usgs)\n"
   ]
  },
  {
   "cell_type": "code",
   "execution_count": 3,
   "id": "d886b230",
   "metadata": {},
   "outputs": [],
   "source": [
    "## Open BMI's for each file\n",
    "# cfe_open = bmi_cfe.BMI_CFE()\n",
    "# cfe_peturbed = bmi_cfe_peturb.BMI_CFE()\n",
    "# cfe_analysis = bmi_cfe_statevars.BMI_CFE() #true model in the end with updated state vars\n",
    "\n",
    "cfe_open = bmi_cfe_open.BMI_CFE()\n",
    "cfe_peturbed = bmi_cfe_enkf_peturb.BMI_CFE()\n",
    "cfe_analysis = bmi_cfe_enkf_peturb.BMI_CFE() #true model in the end with updated state vars\n",
    "#cfe_analysis = bmi_cfe_statevars_et.BMI_CFE(\n",
    "\n",
    "enkf = Bmi_da_ENKF_forSBMI.EnKF_wrap()\n",
    "usgs = bmi_usgs.BMI_USGS()"
   ]
  },
  {
   "cell_type": "code",
   "execution_count": 4,
   "id": "aaac8148",
   "metadata": {},
   "outputs": [
    {
     "name": "stdout",
     "output_type": "stream",
     "text": [
      "initialized 84.21526\n",
      "                         Date     Flow  validity\n",
      "0   2017-05-15 04:00:00+00:00  166.500       1.0\n",
      "1   2017-05-15 05:00:00+00:00  161.000       1.0\n",
      "2   2017-05-15 06:00:00+00:00  156.750       1.0\n",
      "3   2017-05-15 07:00:00+00:00  151.500       1.0\n",
      "4   2017-05-15 08:00:00+00:00  148.750       1.0\n",
      "..                        ...      ...       ...\n",
      "763 2017-06-15 23:00:00+00:00   28.400       1.0\n",
      "764 2017-06-16 00:00:00+00:00   28.175       1.0\n",
      "765 2017-06-16 01:00:00+00:00   28.400       1.0\n",
      "766 2017-06-16 02:00:00+00:00   27.500       1.0\n",
      "767 2017-06-16 03:00:00+00:00   27.500       1.0\n",
      "\n",
      "[768 rows x 3 columns]\n",
      "USGS station ID 01123000\n"
     ]
    }
   ],
   "source": [
    "## Initialize the BMI's\n",
    "#cfe_open.initialize(cfg_file='./CFE/cat_58_config_cfe.json')\n",
    "#cfe_peturbed.initialize(cfg_file='./CFE/cat_58_config_cfe_peturb_model.json')\n",
    "#cfe_analysis.initialize(cfg_file='./CFE/cat_58_config_cfe.json') # I am confused what this config file should look like\n",
    "\n",
    "# make one bmi for all of this and options in config file\n",
    "\n",
    "# ## Case study files\n",
    "cfe_open.initialize(cfg_file='./CFE/config_cfe_peturb_model_CT_calibration.json')\n",
    "cfe_peturbed.initialize(cfg_file='./CFE/config_cfe_peturb_model_CT_calibration.json')\n",
    "cfe_analysis.initialize(cfg_file='./CFE/config_cfe_peturb_model_CT_calibration.json')\n",
    "\n",
    "enkf.initialize(cfg_file='./Assimilation/EnKF_config.json') # Need to create this still\n",
    "usgs.initialize(cfg_file='../USGS/USGS_BMI_FT/usgs_config.json')\n",
    "\n",
    "\n",
    "# 2016 and 2017\n",
    "# cfe_open.initialize(cfg_file='./CFE/config_cfe_peturb_model_CT_calibration_16_17.json')\n",
    "# cfe_peturbed.initialize(cfg_file='./CFE/config_cfe_peturb_model_CT_calibration_16_17.json')\n",
    "# cfe_analysis.initialize(cfg_file='./CFE/config_cfe_peturb_model_CT_calibration_16_17.json')\n",
    "\n",
    "# enkf.initialize(cfg_file='./Assimilation/EnKF_config.json') # Need to create this still\n",
    "# usgs.initialize(cfg_file='../USGS/USGS_BMI_FT/usgs_config_16_17.json')\n"
   ]
  },
  {
   "cell_type": "code",
   "execution_count": 5,
   "id": "14d141cb",
   "metadata": {},
   "outputs": [
    {
     "name": "stdout",
     "output_type": "stream",
     "text": [
      "              time  APCP_surface  RAINRATE      T2D       Q2D     U2D     V2D  \\\n",
      "0     5/15/17 0:00           0.0       0.0  284.078  0.006616  6.0804 -1.9670   \n",
      "1     5/15/17 1:00           0.0       0.0  283.180  0.006650  6.0304 -2.0740   \n",
      "2     5/15/17 2:00           0.0       0.0  282.440  0.006614  5.9856 -2.1828   \n",
      "3     5/15/17 3:00           0.0       0.0  281.662  0.006476  5.9402 -2.2888   \n",
      "4     5/15/17 4:00           0.0       0.0  281.702  0.006530  6.3688 -2.5458   \n",
      "..             ...           ...       ...      ...       ...     ...     ...   \n",
      "763  6/15/17 19:00           0.0       0.0  295.270  0.007334 -1.1600  4.5018   \n",
      "764  6/15/17 20:00           0.0       0.0  294.610  0.006788 -1.2230  4.4990   \n",
      "765  6/15/17 21:00           0.0       0.0  293.624  0.006776 -1.2812  4.4996   \n",
      "766  6/15/17 22:00           0.0       0.0  292.722  0.006714 -1.5682  3.8524   \n",
      "767  6/15/17 23:00           0.0       0.0  291.554  0.006650 -1.8486  3.1996   \n",
      "\n",
      "          PSFC   SWDOWN   LWDOWN  \n",
      "0     98376.98    0.000  318.822  \n",
      "1     98378.60    0.000  317.996  \n",
      "2     98380.28    0.000  317.736  \n",
      "3     98332.86    0.000  321.594  \n",
      "4     98336.62    0.000  322.748  \n",
      "..         ...      ...      ...  \n",
      "763  100144.10  644.382  369.546  \n",
      "764  100147.36  536.978  365.234  \n",
      "765  100113.08  419.526  351.722  \n",
      "766  100129.00  285.636  352.852  \n",
      "767  100130.26  160.292  352.672  \n",
      "\n",
      "[768 rows x 10 columns]\n",
      "0      0.0\n",
      "1      0.0\n",
      "2      0.0\n",
      "3      0.0\n",
      "4      0.0\n",
      "      ... \n",
      "763    0.0\n",
      "764    0.0\n",
      "765    0.0\n",
      "766    0.0\n",
      "767    0.0\n",
      "Name: APCP_surface, Length: 768, dtype: float64\n"
     ]
    },
    {
     "data": {
      "image/png": "[encoded data removed]",
      "text/plain": [
       "<Figure size 432x288 with 1 Axes>"
      ]
     },
     "metadata": {
      "needs_background": "light"
     },
     "output_type": "display_data"
    }
   ],
   "source": [
    "with open(cfe_open.forcing_file, 'r') as f:\n",
    "    df_forcing = pd.read_csv(f)\n",
    "    \n",
    "print(df_forcing)\n",
    "plt.plot(df_forcing['APCP_surface'])\n",
    "\n",
    "values = df_forcing['APCP_surface']\n",
    "print(values)"
   ]
  },
  {
   "cell_type": "code",
   "execution_count": 6,
   "id": "5c93f0fa",
   "metadata": {
    "scrolled": true,
    "tags": []
   },
   "outputs": [
    {
     "name": "stdout",
     "output_type": "stream",
     "text": [
      "-------------------------------------------------\n",
      "validity 1.0\n"
     ]
    },
    {
     "ename": "AttributeError",
     "evalue": "'CFE' object has no attribute 'et_from_soil'",
     "output_type": "error",
     "traceback": [
      "\u001b[1;31m---------------------------------------------------------------------------\u001b[0m",
      "\u001b[1;31mAttributeError\u001b[0m                            Traceback (most recent call last)",
      "\u001b[1;32m~\\AppData\\Local\\Temp/ipykernel_20300/3690182323.py\u001b[0m in \u001b[0;36m<module>\u001b[1;34m\u001b[0m\n\u001b[0;32m     37\u001b[0m     \u001b[1;31m# Update CFE open and peturbed. Get value for peturbed stats.\u001b[0m\u001b[1;33m\u001b[0m\u001b[1;33m\u001b[0m\u001b[0m\n\u001b[0;32m     38\u001b[0m     \u001b[0mcfe_open\u001b[0m\u001b[1;33m.\u001b[0m\u001b[0mupdate\u001b[0m\u001b[1;33m(\u001b[0m\u001b[1;33m)\u001b[0m\u001b[1;33m\u001b[0m\u001b[1;33m\u001b[0m\u001b[0m\n\u001b[1;32m---> 39\u001b[1;33m     \u001b[0mcfe_peturbed\u001b[0m\u001b[1;33m.\u001b[0m\u001b[0mupdate\u001b[0m\u001b[1;33m(\u001b[0m\u001b[1;33m)\u001b[0m\u001b[1;33m\u001b[0m\u001b[1;33m\u001b[0m\u001b[0m\n\u001b[0m\u001b[0;32m     40\u001b[0m \u001b[1;33m\u001b[0m\u001b[0m\n\u001b[0;32m     41\u001b[0m     \u001b[1;31m# Get state variables originial values from CFE Analysis to update in enkf\u001b[0m\u001b[1;33m\u001b[0m\u001b[1;33m\u001b[0m\u001b[0m\n",
      "\u001b[1;32m~\\Documents\\GitHub\\NextGen---The-Simulators-\\Toy_Model\\./CFE\\bmi_cfe_enkf_peturb.py\u001b[0m in \u001b[0;36mupdate\u001b[1;34m(self, verbose)\u001b[0m\n\u001b[0;32m    254\u001b[0m     \u001b[1;31m# BMI: Model Control Function. CFE Peturbed Update\u001b[0m\u001b[1;33m\u001b[0m\u001b[1;33m\u001b[0m\u001b[0m\n\u001b[0;32m    255\u001b[0m     \u001b[1;32mdef\u001b[0m \u001b[0mupdate\u001b[0m\u001b[1;33m(\u001b[0m\u001b[0mself\u001b[0m\u001b[1;33m,\u001b[0m \u001b[0mverbose\u001b[0m\u001b[1;33m=\u001b[0m\u001b[1;32mFalse\u001b[0m\u001b[1;33m)\u001b[0m\u001b[1;33m:\u001b[0m\u001b[1;33m\u001b[0m\u001b[1;33m\u001b[0m\u001b[0m\n\u001b[1;32m--> 256\u001b[1;33m         \u001b[0mself\u001b[0m\u001b[1;33m.\u001b[0m\u001b[0mcfe_model\u001b[0m\u001b[1;33m.\u001b[0m\u001b[0mrun_cfe\u001b[0m\u001b[1;33m(\u001b[0m\u001b[0mself\u001b[0m\u001b[1;33m)\u001b[0m\u001b[1;33m\u001b[0m\u001b[1;33m\u001b[0m\u001b[0m\n\u001b[0m\u001b[0;32m    257\u001b[0m         \u001b[0mself\u001b[0m\u001b[1;33m.\u001b[0m\u001b[0mpeturbed_output\u001b[0m\u001b[1;33m(\u001b[0m\u001b[1;33m)\u001b[0m\u001b[1;33m\u001b[0m\u001b[1;33m\u001b[0m\u001b[0m\n\u001b[0;32m    258\u001b[0m         \u001b[0mself\u001b[0m\u001b[1;33m.\u001b[0m\u001b[0mscale_output\u001b[0m\u001b[1;33m(\u001b[0m\u001b[1;33m)\u001b[0m\u001b[1;33m\u001b[0m\u001b[1;33m\u001b[0m\u001b[0m\n",
      "\u001b[1;32m~\\Documents\\GitHub\\NextGen---The-Simulators-\\Toy_Model\\./CFE\\cfe_peturbed_statevars.py\u001b[0m in \u001b[0;36mrun_cfe\u001b[1;34m(self, cfe_state)\u001b[0m\n\u001b[0;32m     83\u001b[0m         \u001b[1;31m# ________________________________________________\u001b[0m\u001b[1;33m\u001b[0m\u001b[1;33m\u001b[0m\u001b[0m\n\u001b[0;32m     84\u001b[0m         \u001b[1;31m# SUBROUTINE\u001b[0m\u001b[1;33m\u001b[0m\u001b[1;33m\u001b[0m\u001b[0m\n\u001b[1;32m---> 85\u001b[1;33m         \u001b[0mself\u001b[0m\u001b[1;33m.\u001b[0m\u001b[0met_from_soil\u001b[0m\u001b[1;33m(\u001b[0m\u001b[0mcfe_state\u001b[0m\u001b[1;33m)\u001b[0m\u001b[1;33m\u001b[0m\u001b[1;33m\u001b[0m\u001b[0m\n\u001b[0m\u001b[0;32m     86\u001b[0m         \u001b[1;31m#cfe_state.vol_et_from_soil += cfe_state.actual_et_m_per_timestep\u001b[0m\u001b[1;33m\u001b[0m\u001b[1;33m\u001b[0m\u001b[0m\n\u001b[0;32m     87\u001b[0m         \u001b[0mcfe_state\u001b[0m\u001b[1;33m.\u001b[0m\u001b[0mvolout\u001b[0m \u001b[1;33m+=\u001b[0m \u001b[0mcfe_state\u001b[0m\u001b[1;33m.\u001b[0m\u001b[0mactual_et_m_per_timestep\u001b[0m\u001b[1;33m\u001b[0m\u001b[1;33m\u001b[0m\u001b[0m\n",
      "\u001b[1;31mAttributeError\u001b[0m: 'CFE' object has no attribute 'et_from_soil'"
     ]
    }
   ],
   "source": [
    "#Originial Version \n",
    "# basian coupling numerical error:\n",
    "# the distrbutions are not well calibrated\n",
    "# valibrate the model\n",
    "# calibrate the pert\n",
    "# set b matrix right: cov matrix in the peterbations.\n",
    "# 2x2 matrix\n",
    "# ground_water_storage_m \n",
    "# ground_water_storage_m <\n",
    "\n",
    "\n",
    "\n",
    "#Make empty matrices for plotting\n",
    "cfeOpen = []\n",
    "cfePeturbed = []\n",
    "cfeAnalysis = []\n",
    "cfeEnKF = []\n",
    "cfe_def = []\n",
    "\n",
    "## Loop through time. Set values for each model and get values\n",
    "for i, precip in enumerate(df_forcing['APCP_surface']): #i is RAINRATE\n",
    "\n",
    "    # Set values for each model\n",
    "    cfe_open.set_value('atmosphere_water__time_integral_of_precipitation_mass_flux', precip +1) #value of precip from forcing data in loop\n",
    "    cfe_peturbed.set_value('atmosphere_water__time_integral_of_precipitation_mass_flux', precip +1)\n",
    "    cfe_analysis.set_value('atmosphere_water__time_integral_of_precipitation_mass_flux', precip +1)\n",
    "    \n",
    "    # Update usgs data and get value to put into EnKF\n",
    "    usgs.update()\n",
    "    obs = np.array(usgs.get_value('Flow')) #need array for EnKf function. should get this when initialize. CFS \n",
    "    #obs_m = (obs * 3.281**3) #converting cfs to m3/s\n",
    "    #print(obs_m)\n",
    "    validity=usgs.get_value('validity')[i]\n",
    "    print(\"-------------------------------------------------\")\n",
    "    print(\"validity\",validity)\n",
    "\n",
    "    # Update CFE open and peturbed. Get value for peturbed stats. \n",
    "    cfe_open.update()\n",
    "    cfe_peturbed.update()\n",
    "    \n",
    "    # Get state variables originial values from CFE Analysis to update in enkf\n",
    "    # Get state vars from Peturbed. These are values as enkf uses\n",
    "    soil_storage_avail = cfe_peturbed.get_value('soil_storage_avail_m')\n",
    "    soil_reservoir_storage_deficit = cfe_peturbed.get_value('soil_reservoir_storage_deficit_out_m')\n",
    "    cfe_def.append(soil_reservoir_storage_deficit)\n",
    "    storage_max_m= cfe_peturbed.get_value(\"storage_max_out_m\")\n",
    "    print(storage_max_m)\n",
    "    \n",
    "    print(\"DEF!!\",cfe_peturbed.get_value(\"soil_reservoir_storage_deficit_out_m\"))\n",
    "    surface_runoff = cfe_peturbed.get_value('land_surface_water__runoff_volume_flux')\n",
    "    # if surface_runoff>0:\n",
    "    #     print(\"surface_runoff\",surface_runoff)\n",
    "    # Get values for plotting\n",
    "    outflow = cfe_open.get_value('land_surface_water__runoff_depth') #m3/s\n",
    "    cfeOpen.append(outflow) #for plotting\n",
    "    outflow_peturb = cfe_peturbed.get_value('land_surface_water__runoff_depth_ens')\n",
    "    \n",
    "    # Get mean and covariance for stats of ensemble runs for EnKF\n",
    "    outflow_peturb_mean = np.mean(outflow_peturb)\n",
    "    outflow_peturb_covar = np.cov(outflow_peturb)\n",
    "    #print(\"mean\", outflow_peturb_mean)\n",
    "    #print(\"covar\", outflow_peturb_covar)\n",
    "    cfePeturbed.append(outflow_peturb_mean) #for plotting\n",
    "    # print(usgs.get_value('validity')[0])\n",
    "\n",
    "\n",
    "    # Set EnKF value to usgs, mean, and covariance. Get value from it then\n",
    "    enkf.set_value('soil_storage_avail_m', soil_storage_avail) #setting soil storage in enkf\n",
    "    enkf.set_value('soil_reservoir_storage_deficit_m', soil_reservoir_storage_deficit) #setting soil storage in enkf\n",
    "    enkf.set_value('surface_runoff_depth_m', surface_runoff) #setting soil storage in enkf   \n",
    "    enkf.set_value('storage_max_m',storage_max_m)\n",
    "    print(\"enkf.set_value('storage_max_m',storage_max_m)\")\n",
    "    enkf.set_value('x', np.array([outflow_peturb_mean]))\n",
    "    enkf.set_value('P', np.array([outflow_peturb_covar]))\n",
    "    enkf.set_value('z', np.array([obs[i]]))\n",
    "    enkf_validity=enkf.set_value('validity',validity)\n",
    "    enkf.update()\n",
    "\n",
    "\n",
    "    #For plotting############################# after this\n",
    "    outflow_enkf = enkf.get_value('enkf')\n",
    "    cfeEnKF.append(outflow_enkf)\n",
    "\n",
    "    state_transition_soil_storage = enkf.get_value('soil_storage_avail_m')\n",
    "    state_transition_soil_res     = enkf.get_value('soil_reservoir_storage_deficit_updated_m')\n",
    "    # state_transition_runoff       = enkf.get_value('surface_runoff_depth_updated_m')\n",
    "    state_transition_runoff_factor= enkf.get_value('surface_runoff_ratio')\n",
    "    # print(\"Updated deficit\",state_transition_soil_res)\n",
    "\n",
    "\n",
    "#     # Set value for CFE analysis based on the state variable change from the EnKF factor tog et true streamflow\n",
    "    cfe_analysis.set_value('soil_storage_avail_m', state_transition_soil_storage) #look up value from lookup table based on EnKF factor   \n",
    "    cfe_analysis.set_value('soil_reservoir_storage_deficit_m', state_transition_soil_res) #look up value from lookup table based on EnKF factor   \n",
    "    # cfe_analysis.set_value('DIRECT_RUNOFF', state_transition_runoff) \n",
    "    cfe_analysis.set_value('state_var_change_runoff',state_transition_runoff_factor)\n",
    "\n",
    "    cfe_analysis.update() #get new streamflow value based on state var change\n",
    "    # set them in to pert\n",
    "    outflow_analysis = cfe_analysis.get_value('land_surface_water__runoff_depth')\n",
    "    cfeAnalysis.append(outflow_analysis) #for plotting\n",
    "        \n",
    "     # Update final model from value of analysis\n",
    "    cfe_updated_everything_soil_storage = cfe_analysis.get_value('soil_storage_avail_m')\n",
    "    cfe_updated_everything_soil_res = cfe_analysis.get_value('soil_reservoir_storage_deficit_m')\n",
    "    print(\"should be Updated deficit\",cfe_updated_everything_soil_res)\n",
    "    cfe_updated_everything_runoff = cfe_analysis.get_value('state_var_change_runoff')\n",
    "\n",
    "    cfe_peturbed.set_value('soil_storage_avail_m', cfe_updated_everything_soil_storage)\n",
    "    cfe_peturbed.set_value('soil_reservoir_storage_deficit_m', cfe_updated_everything_soil_res)\n",
    "    cfe_peturbed.set_value('state_var_change_runoff', cfe_updated_everything_runoff)\n",
    "    # cfe_peturbed.update()\n",
    " \n",
    "# # Finalize models\n",
    "cfe_open.finalize(print_mass_balance=True)\n",
    "cfe_peturbed.finalize(print_mass_balance=True)\n",
    "cfe_analysis.finalize(print_mass_balance=True)\n",
    "usgs.finalize()\n",
    "enkf.finalize()"
   ]
  },
  {
   "cell_type": "code",
   "execution_count": null,
   "id": "79efcfac",
   "metadata": {
    "scrolled": false,
    "tags": []
   },
   "outputs": [],
   "source": [
    "istart_plot=0\n",
    "iend_plot=17520\n",
    "x = list(range(istart_plot, iend_plot))\n",
    "\n",
    "# Get Date out of forcing file for plotting\n",
    "Date_list = []\n",
    "df_forcing['time'] = pd.to_datetime(df_forcing['time'], infer_datetime_format=True) \n",
    "\n",
    "fig, ax1 = plt.subplots(figsize = (10,5), dpi=300)\n",
    "\n",
    "ax2 = ax1.twinx()\n",
    "\n",
    "ax1.set_xlabel('Time')\n",
    "ax1.set_ylabel('Streamflow (cfs)')\n",
    "ax2.set_ylabel('Precipitation (mm)')\n",
    "ax2.set_ylim(0,12,1)\n",
    "ax2.invert_yaxis()\n",
    "\n",
    "\n",
    "#plt.title('Sub-Region Model Data Assimilation (5/15/2017-6/15/2017)')\n",
    "plt.title('Sub-Region Model Data Assimilation (01/01/2016-12/31/2017)')\n",
    "Precip = ax2.bar(df_forcing['time'], df_forcing['APCP_surface'],width=0.1,alpha=0.7, color=\"tab:blue\", label = 'Precip')\n",
    "#ax1.plot(x, cfePeturbed[istart_plot:iend_plot], color = 'tab:orange', label = 'CFE Peturbed')\n",
    "Open, = ax1.plot(df_forcing['time'], cfeOpen, color = 'green', label = 'CFE Open')\n",
    "Analysis, = ax1.plot(df_forcing['time'], cfeAnalysis, color = 'black', label = 'CFE Assimilated')\n",
    "Obs, = ax1.plot(df_forcing['time'], obs, color = 'tab:red', linestyle='dashed', label = 'USGS Obs')\n",
    "#ax1.plot(x, cfeEnKF[istart_plot:iend_plot], color = 'tab:blue', label = 'EnKF')\n",
    "\n",
    "#ax1.set_xlim([date(2017, 5, 15), date(2017, 6, 15)]) ## Customize date range for all plots\n",
    "ax1.tick_params(axis='x', labelrotation = 45)\n",
    "\n",
    "plt.legend(handles = [Precip,Open,Analysis,Obs], loc='upper right', bbox_to_anchor=(0.5, 0.5, 0.5, 0.5))\n",
    "\n",
    "plt.savefig(\"SubRegionModel.png\")\n",
    "fig.tight_layout()\n",
    "ax1.margins(x=0)\n",
    "\n",
    "plt.show()\n"
   ]
  },
  {
   "cell_type": "code",
   "execution_count": null,
   "id": "0fc26eb5-4bf9-4a05-b7c4-7dbb4c1e97b4",
   "metadata": {},
   "outputs": [],
   "source": [
    "len(cfeOpen)"
   ]
  },
  {
   "cell_type": "code",
   "execution_count": null,
   "id": "011694b6-a773-413a-b38c-741709a9d19f",
   "metadata": {},
   "outputs": [],
   "source": [
    "len(cfeAnalysis)"
   ]
  },
  {
   "cell_type": "code",
   "execution_count": null,
   "id": "1bad77d3-e035-4b0f-8cd6-361069e07382",
   "metadata": {},
   "outputs": [],
   "source": [
    "len(obs)"
   ]
  },
  {
   "cell_type": "code",
   "execution_count": null,
   "id": "add46da2-5bf7-42a9-9e00-01e0c07349af",
   "metadata": {},
   "outputs": [],
   "source": [
    "df=pd.DataFrame({\"obs\":obs,\"cfeAnalysis\":cfeAnalysis,\"cfeOpen\":cfeOpen})"
   ]
  },
  {
   "cell_type": "code",
   "execution_count": null,
   "id": "7795de0d-cfad-442e-a92b-55f8111b1135",
   "metadata": {},
   "outputs": [],
   "source": [
    "df.dropna(axis=0, inplace=True)\n",
    "df.reset_index(drop=True, inplace=True)"
   ]
  },
  {
   "cell_type": "code",
   "execution_count": null,
   "id": "e9cbdc55-9394-49db-b035-514f16039e0d",
   "metadata": {},
   "outputs": [],
   "source": [
    "# nse_open=he.evaluator(he.nse,np.array(obs),np.array(cfeOpen))\n",
    "# nse_analysis=he.evaluator(he.nse,obs[istart_plot:iend_plot],cfeAnalysis[istart_plot:iend_plot])\n",
    "# kge_open, r_open, alpha_open, beta_open = he.evaluator(he.kge, obs,cfeOpen)\n",
    "# print(r_open[0])"
   ]
  },
  {
   "cell_type": "code",
   "execution_count": null,
   "id": "098b71f6-ee8b-497a-a08e-e75e66cc08f4",
   "metadata": {},
   "outputs": [],
   "source": [
    "# CFE open eval\n",
    "nse_open=he.evaluator(he.nse,df[\"obs\"],df[\"cfeOpen\"])\n",
    "pbias_open=he.evaluator(he.pbias,df[\"obs\"],df[\"cfeOpen\"])\n",
    "kge_open, r_open, alpha_open, beta_open = he.evaluator(he.kge, df[\"obs\"],df[\"cfeOpen\"])\n",
    "print(\"r_open=\",r_open[0])\n",
    "print(\"KGE_open=\",kge_open[0])\n",
    "print(\"NSE_open=\", nse_open[0])\n",
    "print(\"PBIAS_open=\", pbias_open[0])"
   ]
  },
  {
   "cell_type": "code",
   "execution_count": null,
   "id": "4b5ada87-6172-4dc7-8931-53a0bb645dfa",
   "metadata": {},
   "outputs": [],
   "source": [
    "# CFE Analysis\n",
    "nse_analysis=he.evaluator(he.nse,df[\"obs\"],df[\"cfeAnalysis\"])\n",
    "pbias_analysis=he.evaluator(he.pbias,df[\"obs\"],df[\"cfeAnalysis\"])\n",
    "kge_analysis, r_analysis, alpha_analysis, beta_analysis = he.evaluator(he.kge, df[\"obs\"],df[\"cfeAnalysis\"])\n",
    "print(\"r_analysis=\",r_analysis[0])\n",
    "print(\"KGE_analysis=\",kge_analysis[0])\n",
    "print(\"NSE_analysis=\", nse_analysis[0])\n",
    "print(\"PBIAS_analysis=\", pbias_analysis[0])"
   ]
  },
  {
   "cell_type": "code",
   "execution_count": null,
   "id": "6a0d7b41-af95-409a-ae77-ad7c7b3b16cd",
   "metadata": {},
   "outputs": [],
   "source": [
    "print(\"mean_obs=\",np.mean(df[\"obs\"]))\n",
    "print(\"STD_obs=\",np.std(df[\"obs\"]))\n",
    "print(\"mean_open=\",np.mean(df[\"cfeOpen\"]))\n",
    "print(\"STD_open=\",np.std(df[\"cfeOpen\"]))\n",
    "print(\"mean_analysis=\",np.mean(df[\"cfeAnalysis\"]))\n",
    "print(\"STD_analysis=\",np.std(df[\"cfeAnalysis\"]))\n"
   ]
  },
  {
   "cell_type": "code",
   "execution_count": null,
   "id": "46904268-2f89-44a8-8579-9696ddeaca46",
   "metadata": {},
   "outputs": [],
   "source": []
  }
 ],
 "metadata": {
  "kernelspec": {
   "display_name": "Python 3 (ipykernel)",
   "language": "python",
   "name": "python3"
  },
  "language_info": {
   "codemirror_mode": {
    "name": "ipython",
    "version": 3
   },
   "file_extension": ".py",
   "mimetype": "text/x-python",
   "name": "python",
   "nbconvert_exporter": "python",
   "pygments_lexer": "ipython3",
   "version": "3.9.7"
  }
 },
 "nbformat": 4,
 "nbformat_minor": 5
}
