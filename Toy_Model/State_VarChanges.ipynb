{
 "cells": [
  {
   "cell_type": "code",
   "execution_count": 1,
   "id": "4f1c9bb4",
   "metadata": {},
   "outputs": [
    {
     "name": "stdout",
     "output_type": "stream",
     "text": [
      "<module 'bmi_cfe_peturb' from 'C:\\\\Users\\\\zjbut\\\\Documents\\\\GitHub\\\\NextGen---The-Simulators-\\\\Toy_Model\\\\./CFE\\\\bmi_cfe_peturb.py'>\n"
     ]
    }
   ],
   "source": [
    "import time\n",
    "import numpy as np\n",
    "import pandas as pd\n",
    "import json\n",
    "import matplotlib.pyplot as plt\n",
    "import sys\n",
    "sys.path.insert(0, './CFE')\n",
    "import bmi_cfe_statevars\n",
    "import bmi_cfe_peturb\n",
    "\n",
    "print(bmi_cfe_peturb)\n"
   ]
  },
  {
   "cell_type": "code",
   "execution_count": 2,
   "id": "ce555bd9",
   "metadata": {},
   "outputs": [
    {
     "name": "stdout",
     "output_type": "stream",
     "text": [
      "['atmosphere_water__time_integral_of_precipitation_mass_flux', 'water_potential_evaporation_flux', 'state_var_change_soil', 'state_var_change_runoff', 'soil_reservoir', 'soil_reservoir_storage_deficit_m', 'surface_runoff_depth_m']\n",
      "['atmosphere_water__time_integral_of_precipitation_mass_flux', 'water_potential_evaporation_flux', 'state_var_change_soil', 'state_var_change_runoff']\n"
     ]
    }
   ],
   "source": [
    "cfe_instance = bmi_cfe_statevars.BMI_CFE() #one that changes state vars\n",
    "cfe_peturbed = bmi_cfe_peturb.BMI_CFE()\n",
    "#print(\"CFE\")\n",
    "print(cfe_instance.get_input_var_names())\n",
    "#print()\n",
    "print(cfe_peturbed.get_input_var_names())\n"
   ]
  },
  {
   "cell_type": "markdown",
   "id": "08fbe912",
   "metadata": {},
   "source": [
    "### This initialization function should perform all tasks that are to take place before entering the model’s time loop. Models should be refactored, if necessary, to read their inputs (which could include filenames for other input files) from a configuration file. BMI does not impose any constraint on how configuration files are formatted."
   ]
  },
  {
   "cell_type": "code",
   "execution_count": 3,
   "id": "c05f5d19",
   "metadata": {},
   "outputs": [
    {
     "data": {
      "text/plain": [
       "'./Forcing/cat58_01Dec2015.csv'"
      ]
     },
     "execution_count": 3,
     "metadata": {},
     "output_type": "execute_result"
    }
   ],
   "source": [
    "cfe_instance.initialize(cfg_file='./CFE/cat_58_config_cfe.json')\n",
    "cfe_peturbed.initialize(cfg_file='./CFE/cat_58_config_cfe_peturb_model.json')\n",
    "cfe_peturbed.forcing_file # path to forcing file\n",
    "\n"
   ]
  },
  {
   "cell_type": "markdown",
   "id": "9fd1796b",
   "metadata": {},
   "source": [
    "### Open the forcing file contained within the configuration file. We can run the model with any forcing. This is only an example. The path to the forcing file is contained within the configuration file, but it doesn't really need to be. This is just for organization."
   ]
  },
  {
   "cell_type": "code",
   "execution_count": 4,
   "id": "9941d994",
   "metadata": {},
   "outputs": [
    {
     "name": "stdout",
     "output_type": "stream",
     "text": [
      "                 time  APCP_surface  DLWRF_surface  DSWRF_surface  \\\n",
      "0      12/1/2015 0:00           0.0     361.200012       0.000000   \n",
      "1      12/1/2015 1:00           0.0     361.200012       0.000000   \n",
      "2      12/1/2015 2:00           0.0     361.200012       0.000000   \n",
      "3      12/1/2015 3:00           0.0     357.600006       0.000000   \n",
      "4      12/1/2015 4:00           0.0     357.600006       0.000000   \n",
      "..                ...           ...            ...            ...   \n",
      "715  12/30/2015 19:00           4.7     402.200012     163.600006   \n",
      "716  12/30/2015 20:00           3.7     402.200012     130.300003   \n",
      "717  12/30/2015 21:00           4.2     399.200012      80.400002   \n",
      "718  12/30/2015 22:00           8.3     399.200012      21.000000   \n",
      "719  12/30/2015 23:00           3.3     399.200012       0.000000   \n",
      "\n",
      "     PRES_surface  SPFH_2maboveground  TMP_2maboveground  UGRD_10maboveground  \\\n",
      "0          100530              0.0105         287.500000                 -2.6   \n",
      "1          100610              0.0098         287.300018                 -2.7   \n",
      "2          100600              0.0091         286.600006                 -2.8   \n",
      "3          100570              0.0087         285.500000                 -2.9   \n",
      "4          100590              0.0084         284.300018                 -2.6   \n",
      "..            ...                 ...                ...                  ...   \n",
      "715        100560              0.0125         291.000000                  0.8   \n",
      "716        100490              0.0128         291.000000                  0.8   \n",
      "717        100470              0.0126         291.100006                  0.8   \n",
      "718        100450              0.0126         290.899994                  1.0   \n",
      "719        100520              0.0127         291.100006                  1.2   \n",
      "\n",
      "     VGRD_10maboveground   precip_rate  \n",
      "0                    0.0  0.000000e+00  \n",
      "1                   -0.3  0.000000e+00  \n",
      "2                   -0.6  0.000000e+00  \n",
      "3                   -0.9  0.000000e+00  \n",
      "4                   -0.3  0.000000e+00  \n",
      "..                   ...           ...  \n",
      "715                  1.9  1.820000e-06  \n",
      "716                  1.8  2.060000e-06  \n",
      "717                  1.7  4.080000e-06  \n",
      "718                  1.4  1.620000e-06  \n",
      "719                  1.2  6.880000e-07  \n",
      "\n",
      "[720 rows x 10 columns]\n"
     ]
    }
   ],
   "source": [
    "with open(cfe_instance.forcing_file, 'r') as f:\n",
    "    df_forcing = pd.read_csv(f)\n",
    "    \n",
    "print(df_forcing)"
   ]
  },
  {
   "cell_type": "markdown",
   "id": "eaf15e86",
   "metadata": {},
   "source": [
    "### We will want to visualize the model output"
   ]
  },
  {
   "cell_type": "code",
   "execution_count": 5,
   "id": "ba07fb27",
   "metadata": {},
   "outputs": [
    {
     "name": "stdout",
     "output_type": "stream",
     "text": [
      "{'land_surface_water__runoff_depth': [], 'land_surface_water__runoff_volume_flux': [], 'DIRECT_RUNOFF': [], 'GIUH_RUNOFF': [], 'NASH_LATERAL_RUNOFF': [], 'DEEP_GW_TO_CHANNEL_FLUX': []}\n"
     ]
    }
   ],
   "source": [
    "# Originial CFE Model\n",
    "cfe_outputs=cfe_instance.get_output_var_names()\n",
    "cfe_output_lists = {output:[] for output in cfe_outputs}\n",
    "\n",
    "print(cfe_output_lists)\n"
   ]
  },
  {
   "cell_type": "markdown",
   "id": "228ef248",
   "metadata": {},
   "source": [
    "### Now we loop through the forcing data and use it to run the model at each time step"
   ]
  },
  {
   "cell_type": "code",
   "execution_count": 6,
   "id": "fc53fac2",
   "metadata": {
    "scrolled": false
   },
   "outputs": [
    {
     "name": "stdout",
     "output_type": "stream",
     "text": [
      "\n",
      "GLOBAL MASS BALANCE\n",
      "  initial volume:   0.5956\n",
      "    volume input: 12960.0002\n",
      "   volume output: 26657.8981\n",
      "    final volume:   0.1792\n",
      "        residual: -1.3708e+04\n",
      "\n",
      "SCHAAKE MASS BALANCE\n",
      "  surface runoff: 12645.8804\n",
      "    infiltration: 314.1197\n",
      "schaake residual: 2.3448e-10\n",
      "\n",
      "GIUH MASS BALANCE\n",
      "  vol. into giuh: 12645.8804\n",
      "   vol. out giuh: 12635.2165\n",
      " vol. end giuh q:  10.6639\n",
      "   giuh residual: 3.0663e-11\n",
      "\n",
      "SOIL WATER CONCEPTUAL RESERVOIR MASS BALANCE\n",
      "   init soil vol:   0.5856\n",
      "  vol. into soil: 314.1197\n",
      "vol.soil2latflow:   1.9588\n",
      " vol. soil to gw:   2.3834\n",
      " final vol. soil:   0.1792\n",
      "vol. soil resid.: 3.1018e+02\n",
      "\n",
      "NASH CASCADE CONCEPTUAL RESERVOIR MASS BALANCE\n",
      "    vol. to nash:   1.9588\n",
      "  vol. from nash:   1.9588\n",
      " final vol. nash:   0.0000\n",
      "nash casc resid.: -3.3307e-15\n",
      "\n",
      "GROUNDWATER CONCEPTUAL RESERVOIR MASS BALANCE\n",
      "init gw. storage:   0.0100\n",
      "       vol to gw:   2.3834\n",
      "     vol from gw:   2.3934\n",
      "final gw.storage:   0.0000\n",
      "    gw. residual: 1.9078e-14\n",
      "    Percent_Change_StateVar  Mean_Streamflow\n",
      "0                         0        30.724477\n",
      "1                        10        30.769077\n",
      "2                        20        30.812375\n",
      "3                        30        30.852620\n",
      "4                        40        30.892229\n",
      "5                        50        30.929963\n",
      "6                        60        30.965707\n",
      "7                        70        30.999597\n",
      "8                        80        31.031644\n",
      "9                        90        31.061869\n",
      "10                      100        31.090308\n",
      "11                      110        31.117005\n",
      "12                      120        31.141999\n",
      "13                      130        31.165127\n",
      "14                      140        31.186577\n",
      "15                      150        31.206539\n",
      "16                      160        31.224665\n",
      "17                      170        31.276918\n",
      "18                      180        31.296481\n",
      "19                      190        31.312943\n",
      "20                      200        31.327277\n",
      "21                      210        31.339991\n",
      "22                      220        31.351076\n",
      "23                      230        31.360540\n",
      "24                      240        31.364843\n",
      "25                      250        31.367450\n",
      "26                      260        31.370013\n",
      "27                      270        31.372529\n",
      "28                      280        31.374984\n",
      "29                      290        31.377386\n",
      "30                      300        31.379717\n",
      "31                      310        31.381970\n",
      "32                      320        31.384140\n",
      "33                      330        31.386223\n",
      "34                      340        31.388218\n",
      "35                      350        31.390123\n",
      "36                      360        31.391939\n",
      "37                      370        31.393669\n",
      "38                      380        31.395315\n",
      "39                      390        31.396878\n",
      "40                      400        31.398364\n",
      "41                      410        31.399774\n",
      "42                      420        31.401112\n",
      "43                      430        31.402382\n",
      "44                      440        31.403586\n",
      "45                      450        31.404726\n",
      "46                      460        31.405806\n",
      "47                      470        31.406827\n",
      "48                      480        31.407793\n",
      "49                      490        31.408704\n"
     ]
    }
   ],
   "source": [
    "cfe_list = []\n",
    "cfe_list_p = []\n",
    "\n",
    "percent_list = np.arange(0, 500, 10)\n",
    "percentList = percent_list.tolist() #to list for dataframe\n",
    "\n",
    "for percent in percent_list:\n",
    "    \n",
    "    percent=percent/100 #convert to percentage    \n",
    "    #cfe_instance.set_value('state_var_change_runoff', percent) #value of precip from forcing data in loop\n",
    "    #cfe_peturbed.set_value('state_var_change_runoff', percent)\n",
    "    cfe_instance.set_value('state_var_change_soil', percent) #value of precip from forcing data in loop\n",
    "    cfe_peturbed.set_value('state_var_change_soil', percent)\n",
    "#     #soil is soil_reservoir_storage_deficit_m\n",
    "    #runoff is the runoff_queue_m_per_timestep\n",
    "    #\n",
    "    \n",
    "    for i, precip in enumerate(df_forcing['APCP_surface']): #i is \n",
    "    #for i, precip in enumerate(df_forcing['RAINRATE']):\n",
    "\n",
    "        framework_time = (1+i)*3600 #seconds since starting simulation\n",
    "\n",
    "        # Run CFE model\n",
    "        cfe_instance.set_value('atmosphere_water__time_integral_of_precipitation_mass_flux', precip) #value of precip from forcing data in loop\n",
    "        cfe_instance.update()\n",
    "        outflow = cfe_instance.get_value('land_surface_water__runoff_depth')\n",
    "        \n",
    "        # Run CFE Peturbed\n",
    "        cfe_peturbed.set_value('atmosphere_water__time_integral_of_precipitation_mass_flux', precip) #value of precip from forcing data in loop\n",
    "        cfe_peturbed.update()\n",
    "        outflow_peturb = cfe_peturbed.get_value('land_surface_water__runoff_depth_ens')\n",
    "    \n",
    "        # Get mean and covariance for stats of ensemble runs for EnKF\n",
    "        outflow_peturb_mean = np.mean(outflow_peturb)\n",
    "    \n",
    "    # Appen lists outside of for loop\n",
    "    cfe_list.append(np.mean(outflow)) #CFE State var changes\n",
    "    cfe_list_p.append(np.mean(outflow_peturb_mean)) #CFE Peturbed State Var changes\n",
    "\n",
    "df = pd.DataFrame({'Percent_Change_StateVar':percentList,'Mean_Streamflow':cfe_list})\n",
    "df_p = pd.DataFrame({'Percent_Change_StateVar':percentList,'Mean_Streamflow':cfe_list_p})\n",
    "#matrix = df.to_numpy() #convert to matirx\n",
    "#print(matrix)\n",
    "cfe_instance.finalize(print_mass_balance=True)\n",
    "print(df)\n",
    "#print(df_p)\n",
    "\n"
   ]
  },
  {
   "cell_type": "code",
   "execution_count": 7,
   "id": "57d569d3",
   "metadata": {
    "scrolled": false
   },
   "outputs": [
    {
     "name": "stdout",
     "output_type": "stream",
     "text": [
      "Percent_Change_StateVar = 199.143595(Percent_Change_Streamflow) + -19772.819239\n",
      "    Percent_Change_StateVar  Mean_Streamflow\n",
      "0                         0        98.823328\n",
      "1                        10        98.966779\n",
      "2                        20        99.106044\n",
      "3                        30        99.235491\n",
      "4                        40        99.362890\n",
      "5                        50        99.484260\n",
      "6                        60        99.599228\n",
      "7                        70        99.708235\n",
      "8                        80        99.811311\n",
      "9                        90        99.908528\n",
      "10                      100       100.000000\n",
      "11                      110       100.085869\n",
      "12                      120       100.166260\n",
      "13                      130       100.240649\n",
      "14                      140       100.309642\n",
      "15                      150       100.373851\n",
      "16                      160       100.432151\n",
      "17                      170       100.600220\n",
      "18                      180       100.663142\n",
      "19                      190       100.716091\n",
      "20                      200       100.762196\n",
      "21                      210       100.803090\n",
      "22                      220       100.838742\n",
      "23                      230       100.869183\n",
      "24                      240       100.883024\n",
      "25                      250       100.891411\n",
      "26                      260       100.899654\n",
      "27                      270       100.907746\n",
      "28                      280       100.915642\n",
      "29                      290       100.923367\n",
      "30                      300       100.930866\n",
      "31                      310       100.938112\n",
      "32                      320       100.945091\n",
      "33                      330       100.951792\n",
      "34                      340       100.958207\n",
      "35                      350       100.964334\n",
      "36                      360       100.970178\n",
      "37                      370       100.975741\n",
      "38                      380       100.981034\n",
      "39                      390       100.986064\n",
      "40                      400       100.990842\n",
      "41                      410       100.995378\n",
      "42                      420       100.999683\n",
      "43                      430       101.003766\n",
      "44                      440       101.007637\n",
      "45                      450       101.011305\n",
      "46                      460       101.014778\n",
      "47                      470       101.018064\n",
      "48                      480       101.021169\n",
      "49                      490       101.024100\n"
     ]
    },
    {
     "data": {
      "image/png": "[encoded data removed]",
      "text/plain": [
       "<Figure size 432x288 with 1 Axes>"
      ]
     },
     "metadata": {
      "needs_background": "light"
     },
     "output_type": "display_data"
    }
   ],
   "source": [
    "## CFE State vars\n",
    "no_change = df.loc[df['Percent_Change_StateVar'] == 100]\n",
    "# # # # # no_change['Sum streamflow']\n",
    "Q_at_no_change=float(no_change['Mean_Streamflow'])\n",
    "# # # # # float(Q_at_no_change)\n",
    "df['Mean_Streamflow']=100*df['Mean_Streamflow']/Q_at_no_change\n",
    "#print(df)\n",
    "\n",
    "x = df.iloc[:,1]\n",
    "y = df.iloc[:,0]\n",
    "m, b = np.polyfit(x,y,1)\n",
    "m = round(m, 6)\n",
    "b = round(b, 6)\n",
    "\n",
    "print('Percent_Change_StateVar = %s(Percent_Change_Streamflow) + %s' %(m, b))\n",
    "\n",
    "## CFE Peturbed State vars\n",
    "no_change_p = df_p.loc[df_p['Percent_Change_StateVar'] == 100]\n",
    "# # # # # no_change['Sum streamflow']\n",
    "Q_at_no_change_p = float(no_change_p['Mean_Streamflow'])\n",
    "# # # # # float(Q_at_no_change)\n",
    "df_p['Mean_Streamflow']=100*df_p['Mean_Streamflow']/Q_at_no_change_p\n",
    "\n",
    "x2 = df_p.iloc[:,1]\n",
    "y2 = df_p.iloc[:,0]\n",
    "m2, b2 = np.polyfit(x2,y2,1)\n",
    "m2 = round(m2, 3)\n",
    "b2 = round(b2, 3)\n",
    "\n",
    "#print('Percent_Change_StateVar_Peturb = %s(Percent_Change_Streamflow_Peturb) + %s' %(m2, b2))\n",
    "\n",
    "# # # #df['Sum streamflow'][100]\n",
    "# # # # df['Sum streamflow']#/Q_at_no_change\n",
    "plt.plot(df['Percent_Change_StateVar'],df['Mean_Streamflow'],label='% change of soil_reservoir_deficit', color='tab:blue')\n",
    "#plt.plot(df['Percent_Change_StateVar'],label='% change of soil_reservoir_deficit', color='tab:blue')\n",
    "#plt.plot(df['Mean_Streamflow'], 'o', label='% change of Q', color = 'tab:orange')\n",
    "#plt.xticks([])\n",
    "plt.xlabel('Percent_Change_StateVar')\n",
    "plt.ylabel('Percent Change Mean_Streamflow')\n",
    "plt.legend(loc=2)\n",
    "plt.grid()\n",
    "print(df)\n",
    "#print(df_p)\n"
   ]
  },
  {
   "cell_type": "code",
   "execution_count": 8,
   "id": "e0040dee",
   "metadata": {
    "scrolled": true
   },
   "outputs": [
    {
     "ename": "KeyError",
     "evalue": "'Percentage'",
     "output_type": "error",
     "traceback": [
      "\u001b[1;31m---------------------------------------------------------------------------\u001b[0m",
      "\u001b[1;31mKeyError\u001b[0m                                  Traceback (most recent call last)",
      "\u001b[1;32m~\\Documents\\Anaconda\\lib\\site-packages\\pandas\\core\\indexes\\base.py\u001b[0m in \u001b[0;36mget_loc\u001b[1;34m(self, key, method, tolerance)\u001b[0m\n\u001b[0;32m   3360\u001b[0m             \u001b[1;32mtry\u001b[0m\u001b[1;33m:\u001b[0m\u001b[1;33m\u001b[0m\u001b[1;33m\u001b[0m\u001b[0m\n\u001b[1;32m-> 3361\u001b[1;33m                 \u001b[1;32mreturn\u001b[0m \u001b[0mself\u001b[0m\u001b[1;33m.\u001b[0m\u001b[0m_engine\u001b[0m\u001b[1;33m.\u001b[0m\u001b[0mget_loc\u001b[0m\u001b[1;33m(\u001b[0m\u001b[0mcasted_key\u001b[0m\u001b[1;33m)\u001b[0m\u001b[1;33m\u001b[0m\u001b[1;33m\u001b[0m\u001b[0m\n\u001b[0m\u001b[0;32m   3362\u001b[0m             \u001b[1;32mexcept\u001b[0m \u001b[0mKeyError\u001b[0m \u001b[1;32mas\u001b[0m \u001b[0merr\u001b[0m\u001b[1;33m:\u001b[0m\u001b[1;33m\u001b[0m\u001b[1;33m\u001b[0m\u001b[0m\n",
      "\u001b[1;32m~\\Documents\\Anaconda\\lib\\site-packages\\pandas\\_libs\\index.pyx\u001b[0m in \u001b[0;36mpandas._libs.index.IndexEngine.get_loc\u001b[1;34m()\u001b[0m\n",
      "\u001b[1;32m~\\Documents\\Anaconda\\lib\\site-packages\\pandas\\_libs\\index.pyx\u001b[0m in \u001b[0;36mpandas._libs.index.IndexEngine.get_loc\u001b[1;34m()\u001b[0m\n",
      "\u001b[1;32mpandas\\_libs\\hashtable_class_helper.pxi\u001b[0m in \u001b[0;36mpandas._libs.hashtable.PyObjectHashTable.get_item\u001b[1;34m()\u001b[0m\n",
      "\u001b[1;32mpandas\\_libs\\hashtable_class_helper.pxi\u001b[0m in \u001b[0;36mpandas._libs.hashtable.PyObjectHashTable.get_item\u001b[1;34m()\u001b[0m\n",
      "\u001b[1;31mKeyError\u001b[0m: 'Percentage'",
      "\nThe above exception was the direct cause of the following exception:\n",
      "\u001b[1;31mKeyError\u001b[0m                                  Traceback (most recent call last)",
      "\u001b[1;32m~\\AppData\\Local\\Temp/ipykernel_19436/745990683.py\u001b[0m in \u001b[0;36m<module>\u001b[1;34m\u001b[0m\n\u001b[0;32m      4\u001b[0m \u001b[1;33m\u001b[0m\u001b[0m\n\u001b[0;32m      5\u001b[0m \u001b[1;31m# If statement to add group to assocaited percent range\u001b[0m\u001b[1;33m\u001b[0m\u001b[1;33m\u001b[0m\u001b[0m\n\u001b[1;32m----> 6\u001b[1;33m \u001b[0mdf\u001b[0m\u001b[1;33m.\u001b[0m\u001b[0mloc\u001b[0m\u001b[1;33m[\u001b[0m\u001b[0mdf\u001b[0m\u001b[1;33m[\u001b[0m\u001b[1;34m'Percentage'\u001b[0m\u001b[1;33m]\u001b[0m \u001b[1;33m<=\u001b[0m\u001b[1;36m0.25\u001b[0m\u001b[1;33m,\u001b[0m\u001b[1;34m'Group'\u001b[0m\u001b[1;33m]\u001b[0m \u001b[1;33m=\u001b[0m \u001b[1;36m1\u001b[0m\u001b[1;33m\u001b[0m\u001b[1;33m\u001b[0m\u001b[0m\n\u001b[0m\u001b[0;32m      7\u001b[0m \u001b[0mdf\u001b[0m\u001b[1;33m.\u001b[0m\u001b[0mloc\u001b[0m\u001b[1;33m[\u001b[0m\u001b[1;33m(\u001b[0m\u001b[0mdf\u001b[0m\u001b[1;33m[\u001b[0m\u001b[1;34m'Percentage'\u001b[0m\u001b[1;33m]\u001b[0m \u001b[1;33m>\u001b[0m \u001b[1;36m0.25\u001b[0m\u001b[1;33m)\u001b[0m \u001b[1;33m&\u001b[0m \u001b[1;33m(\u001b[0m\u001b[0mdf\u001b[0m\u001b[1;33m[\u001b[0m\u001b[1;34m'Percentage'\u001b[0m\u001b[1;33m]\u001b[0m \u001b[1;33m<=\u001b[0m \u001b[1;36m0.5\u001b[0m\u001b[1;33m)\u001b[0m\u001b[1;33m,\u001b[0m\u001b[1;34m'Group'\u001b[0m\u001b[1;33m]\u001b[0m \u001b[1;33m=\u001b[0m \u001b[1;36m2\u001b[0m\u001b[1;33m\u001b[0m\u001b[1;33m\u001b[0m\u001b[0m\n\u001b[0;32m      8\u001b[0m \u001b[0mdf\u001b[0m\u001b[1;33m.\u001b[0m\u001b[0mloc\u001b[0m\u001b[1;33m[\u001b[0m\u001b[1;33m(\u001b[0m\u001b[0mdf\u001b[0m\u001b[1;33m[\u001b[0m\u001b[1;34m'Percentage'\u001b[0m\u001b[1;33m]\u001b[0m \u001b[1;33m>\u001b[0m \u001b[1;36m0.5\u001b[0m\u001b[1;33m)\u001b[0m \u001b[1;33m&\u001b[0m \u001b[1;33m(\u001b[0m\u001b[0mdf\u001b[0m\u001b[1;33m[\u001b[0m\u001b[1;34m'Percentage'\u001b[0m\u001b[1;33m]\u001b[0m \u001b[1;33m<=\u001b[0m \u001b[1;36m1.0\u001b[0m\u001b[1;33m)\u001b[0m\u001b[1;33m,\u001b[0m\u001b[1;34m'Group'\u001b[0m\u001b[1;33m]\u001b[0m \u001b[1;33m=\u001b[0m \u001b[1;36m3\u001b[0m\u001b[1;33m\u001b[0m\u001b[1;33m\u001b[0m\u001b[0m\n",
      "\u001b[1;32m~\\Documents\\Anaconda\\lib\\site-packages\\pandas\\core\\frame.py\u001b[0m in \u001b[0;36m__getitem__\u001b[1;34m(self, key)\u001b[0m\n\u001b[0;32m   3456\u001b[0m             \u001b[1;32mif\u001b[0m \u001b[0mself\u001b[0m\u001b[1;33m.\u001b[0m\u001b[0mcolumns\u001b[0m\u001b[1;33m.\u001b[0m\u001b[0mnlevels\u001b[0m \u001b[1;33m>\u001b[0m \u001b[1;36m1\u001b[0m\u001b[1;33m:\u001b[0m\u001b[1;33m\u001b[0m\u001b[1;33m\u001b[0m\u001b[0m\n\u001b[0;32m   3457\u001b[0m                 \u001b[1;32mreturn\u001b[0m \u001b[0mself\u001b[0m\u001b[1;33m.\u001b[0m\u001b[0m_getitem_multilevel\u001b[0m\u001b[1;33m(\u001b[0m\u001b[0mkey\u001b[0m\u001b[1;33m)\u001b[0m\u001b[1;33m\u001b[0m\u001b[1;33m\u001b[0m\u001b[0m\n\u001b[1;32m-> 3458\u001b[1;33m             \u001b[0mindexer\u001b[0m \u001b[1;33m=\u001b[0m \u001b[0mself\u001b[0m\u001b[1;33m.\u001b[0m\u001b[0mcolumns\u001b[0m\u001b[1;33m.\u001b[0m\u001b[0mget_loc\u001b[0m\u001b[1;33m(\u001b[0m\u001b[0mkey\u001b[0m\u001b[1;33m)\u001b[0m\u001b[1;33m\u001b[0m\u001b[1;33m\u001b[0m\u001b[0m\n\u001b[0m\u001b[0;32m   3459\u001b[0m             \u001b[1;32mif\u001b[0m \u001b[0mis_integer\u001b[0m\u001b[1;33m(\u001b[0m\u001b[0mindexer\u001b[0m\u001b[1;33m)\u001b[0m\u001b[1;33m:\u001b[0m\u001b[1;33m\u001b[0m\u001b[1;33m\u001b[0m\u001b[0m\n\u001b[0;32m   3460\u001b[0m                 \u001b[0mindexer\u001b[0m \u001b[1;33m=\u001b[0m \u001b[1;33m[\u001b[0m\u001b[0mindexer\u001b[0m\u001b[1;33m]\u001b[0m\u001b[1;33m\u001b[0m\u001b[1;33m\u001b[0m\u001b[0m\n",
      "\u001b[1;32m~\\Documents\\Anaconda\\lib\\site-packages\\pandas\\core\\indexes\\base.py\u001b[0m in \u001b[0;36mget_loc\u001b[1;34m(self, key, method, tolerance)\u001b[0m\n\u001b[0;32m   3361\u001b[0m                 \u001b[1;32mreturn\u001b[0m \u001b[0mself\u001b[0m\u001b[1;33m.\u001b[0m\u001b[0m_engine\u001b[0m\u001b[1;33m.\u001b[0m\u001b[0mget_loc\u001b[0m\u001b[1;33m(\u001b[0m\u001b[0mcasted_key\u001b[0m\u001b[1;33m)\u001b[0m\u001b[1;33m\u001b[0m\u001b[1;33m\u001b[0m\u001b[0m\n\u001b[0;32m   3362\u001b[0m             \u001b[1;32mexcept\u001b[0m \u001b[0mKeyError\u001b[0m \u001b[1;32mas\u001b[0m \u001b[0merr\u001b[0m\u001b[1;33m:\u001b[0m\u001b[1;33m\u001b[0m\u001b[1;33m\u001b[0m\u001b[0m\n\u001b[1;32m-> 3363\u001b[1;33m                 \u001b[1;32mraise\u001b[0m \u001b[0mKeyError\u001b[0m\u001b[1;33m(\u001b[0m\u001b[0mkey\u001b[0m\u001b[1;33m)\u001b[0m \u001b[1;32mfrom\u001b[0m \u001b[0merr\u001b[0m\u001b[1;33m\u001b[0m\u001b[1;33m\u001b[0m\u001b[0m\n\u001b[0m\u001b[0;32m   3364\u001b[0m \u001b[1;33m\u001b[0m\u001b[0m\n\u001b[0;32m   3365\u001b[0m         \u001b[1;32mif\u001b[0m \u001b[0mis_scalar\u001b[0m\u001b[1;33m(\u001b[0m\u001b[0mkey\u001b[0m\u001b[1;33m)\u001b[0m \u001b[1;32mand\u001b[0m \u001b[0misna\u001b[0m\u001b[1;33m(\u001b[0m\u001b[0mkey\u001b[0m\u001b[1;33m)\u001b[0m \u001b[1;32mand\u001b[0m \u001b[1;32mnot\u001b[0m \u001b[0mself\u001b[0m\u001b[1;33m.\u001b[0m\u001b[0mhasnans\u001b[0m\u001b[1;33m:\u001b[0m\u001b[1;33m\u001b[0m\u001b[1;33m\u001b[0m\u001b[0m\n",
      "\u001b[1;31mKeyError\u001b[0m: 'Percentage'"
     ]
    }
   ],
   "source": [
    "# Find mean streamflow to based changes on\n",
    "# df_mean = df['Sum_streamflow'].mean()\n",
    "#print('The Mean streamflow is %s' %(df_mean))\n",
    "\n",
    "# If statement to add group to assocaited percent range \n",
    "df.loc[df['Percentage'] <=0.25,'Group'] = 1\n",
    "df.loc[(df['Percentage'] > 0.25) & (df['Percentage'] <= 0.5),'Group'] = 2\n",
    "df.loc[(df['Percentage'] > 0.5) & (df['Percentage'] <= 1.0),'Group'] = 3\n",
    "df.loc[(df['Percentage'] > 1.0) & (df['Percentage'] <= 1.5),'Group'] = 4\n",
    "df.loc[(df['Percentage'] > 1.5) & (df['Percentage'] <= 2.0),'Group'] = 5\n",
    "\n",
    "# Test runoff\n",
    "runoff_queue_m_per_timestep = 1\n",
    "df.loc[(df['Group'] == 3), 'runoff_queue_m_per_timestep'] = runoff_queue_m_per_timestep * 0.1\n",
    "#print(df)"
   ]
  }
 ],
 "metadata": {
  "kernelspec": {
   "display_name": "Python 3 (ipykernel)",
   "language": "python",
   "name": "python3"
  },
  "language_info": {
   "codemirror_mode": {
    "name": "ipython",
    "version": 3
   },
   "file_extension": ".py",
   "mimetype": "text/x-python",
   "name": "python",
   "nbconvert_exporter": "python",
   "pygments_lexer": "ipython3",
   "version": "3.9.7"
  }
 },
 "nbformat": 4,
 "nbformat_minor": 5
}
