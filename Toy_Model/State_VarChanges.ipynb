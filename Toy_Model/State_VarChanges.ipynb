{
 "cells": [
  {
   "cell_type": "code",
   "execution_count": 1,
   "id": "4f1c9bb4",
   "metadata": {},
   "outputs": [
    {
     "name": "stdout",
     "output_type": "stream",
     "text": [
      "<module 'bmi_cfe' from 'C:\\\\Users\\\\zjbut\\\\Documents\\\\GitHub\\\\NextGen---The-Simulators-\\\\Toy_Model\\\\./CFE\\\\bmi_cfe.py'>\n"
     ]
    }
   ],
   "source": [
    "import time\n",
    "import numpy as np\n",
    "import pandas as pd\n",
    "import json\n",
    "import matplotlib.pyplot as plt\n",
    "import sys\n",
    "sys.path.insert(0, './CFE')\n",
    "import bmi_cfe\n",
    "\n",
    "print(bmi_cfe)\n"
   ]
  },
  {
   "cell_type": "code",
   "execution_count": 2,
   "id": "ce555bd9",
   "metadata": {},
   "outputs": [
    {
     "name": "stdout",
     "output_type": "stream",
     "text": [
      "CFE\n",
      "['atmosphere_water__time_integral_of_precipitation_mass_flux', 'water_potential_evaporation_flux', 'state_var_change']\n",
      "\n",
      "['land_surface_water__runoff_depth', 'land_surface_water__runoff_volume_flux', 'DIRECT_RUNOFF', 'GIUH_RUNOFF', 'NASH_LATERAL_RUNOFF', 'DEEP_GW_TO_CHANNEL_FLUX']\n"
     ]
    }
   ],
   "source": [
    "cfe_instance = bmi_cfe.BMI_CFE() #one that changes state vars\n",
    "print(\"CFE\")\n",
    "print(cfe_instance.get_input_var_names())\n",
    "print()\n",
    "print(cfe_instance.get_output_var_names())\n"
   ]
  },
  {
   "cell_type": "markdown",
   "id": "08fbe912",
   "metadata": {},
   "source": [
    "### This initialization function should perform all tasks that are to take place before entering the model’s time loop. Models should be refactored, if necessary, to read their inputs (which could include filenames for other input files) from a configuration file. BMI does not impose any constraint on how configuration files are formatted."
   ]
  },
  {
   "cell_type": "code",
   "execution_count": 3,
   "id": "c05f5d19",
   "metadata": {},
   "outputs": [
    {
     "data": {
      "text/plain": [
       "'./Forcing/cat58_01Dec2015.csv'"
      ]
     },
     "execution_count": 3,
     "metadata": {},
     "output_type": "execute_result"
    }
   ],
   "source": [
    "cfe_instance.initialize(cfg_file='./CFE/cat_58_config_cfe.json')\n",
    "cfe_instance.forcing_file # path to forcing file\n"
   ]
  },
  {
   "cell_type": "markdown",
   "id": "9fd1796b",
   "metadata": {},
   "source": [
    "### Open the forcing file contained within the configuration file. We can run the model with any forcing. This is only an example. The path to the forcing file is contained within the configuration file, but it doesn't really need to be. This is just for organization."
   ]
  },
  {
   "cell_type": "code",
   "execution_count": 4,
   "id": "9941d994",
   "metadata": {},
   "outputs": [
    {
     "name": "stdout",
     "output_type": "stream",
     "text": [
      "                    time  APCP_surface  DLWRF_surface  DSWRF_surface  \\\n",
      "0    2015-12-01 00:00:00           0.0     361.200012       0.000000   \n",
      "1    2015-12-01 01:00:00           0.0     361.200012       0.000000   \n",
      "2    2015-12-01 02:00:00           0.0     361.200012       0.000000   \n",
      "3    2015-12-01 03:00:00           0.0     357.600006       0.000000   \n",
      "4    2015-12-01 04:00:00           0.0     357.600006       0.000000   \n",
      "..                   ...           ...            ...            ...   \n",
      "715  2015-12-30 19:00:00           4.7     402.200012     163.600006   \n",
      "716  2015-12-30 20:00:00           3.7     402.200012     130.300003   \n",
      "717  2015-12-30 21:00:00           4.2     399.200012      80.400002   \n",
      "718  2015-12-30 22:00:00           8.3     399.200012      21.000000   \n",
      "719  2015-12-30 23:00:00           3.3     399.200012       0.000000   \n",
      "\n",
      "     PRES_surface  SPFH_2maboveground  TMP_2maboveground  UGRD_10maboveground  \\\n",
      "0        100530.0              0.0105         287.500000                 -2.6   \n",
      "1        100610.0              0.0098         287.300018                 -2.7   \n",
      "2        100600.0              0.0091         286.600006                 -2.8   \n",
      "3        100570.0              0.0087         285.500000                 -2.9   \n",
      "4        100590.0              0.0084         284.300018                 -2.6   \n",
      "..            ...                 ...                ...                  ...   \n",
      "715      100560.0              0.0125         291.000000                  0.8   \n",
      "716      100490.0              0.0128         291.000000                  0.8   \n",
      "717      100470.0              0.0126         291.100006                  0.8   \n",
      "718      100450.0              0.0126         290.899994                  1.0   \n",
      "719      100520.0              0.0127         291.100006                  1.2   \n",
      "\n",
      "     VGRD_10maboveground   precip_rate  \n",
      "0                    0.0  0.000000e+00  \n",
      "1                   -0.3  0.000000e+00  \n",
      "2                   -0.6  0.000000e+00  \n",
      "3                   -0.9  0.000000e+00  \n",
      "4                   -0.3  0.000000e+00  \n",
      "..                   ...           ...  \n",
      "715                  1.9  1.816209e-06  \n",
      "716                  1.8  2.061642e-06  \n",
      "717                  1.7  4.077756e-06  \n",
      "718                  1.4  1.618451e-06  \n",
      "719                  1.2  6.878142e-07  \n",
      "\n",
      "[720 rows x 10 columns]\n"
     ]
    }
   ],
   "source": [
    "with open(cfe_instance.forcing_file, 'r') as f:\n",
    "    df_forcing = pd.read_csv(f)\n",
    "    \n",
    "print(df_forcing)"
   ]
  },
  {
   "cell_type": "markdown",
   "id": "eaf15e86",
   "metadata": {},
   "source": [
    "### We will want to visualize the model output"
   ]
  },
  {
   "cell_type": "code",
   "execution_count": 5,
   "id": "ba07fb27",
   "metadata": {},
   "outputs": [
    {
     "name": "stdout",
     "output_type": "stream",
     "text": [
      "{'land_surface_water__runoff_depth': [], 'land_surface_water__runoff_volume_flux': [], 'DIRECT_RUNOFF': [], 'GIUH_RUNOFF': [], 'NASH_LATERAL_RUNOFF': [], 'DEEP_GW_TO_CHANNEL_FLUX': []}\n"
     ]
    }
   ],
   "source": [
    "# Originial CFE Model\n",
    "cfe_outputs=cfe_instance.get_output_var_names()\n",
    "cfe_output_lists = {output:[] for output in cfe_outputs}\n",
    "\n",
    "print(cfe_output_lists)\n"
   ]
  },
  {
   "cell_type": "markdown",
   "id": "228ef248",
   "metadata": {},
   "source": [
    "### Now we loop through the forcing data and use it to run the model at each time step"
   ]
  },
  {
   "cell_type": "code",
   "execution_count": 6,
   "id": "b1196959",
   "metadata": {},
   "outputs": [],
   "source": [
    "########################################\n",
    "# Loop through all of forcing data; model and peturbed\n",
    "\n",
    "    # Keep track of time\n",
    "    \n",
    "    # Set forcing data for model\n",
    "    # Set forcing for peturbed models. Aren't they using the same forcing data?\n",
    "    \n",
    "    # Update model\n",
    "    \n",
    "    # Update observation data\n",
    "    \n",
    "    # Update ensemble of peturbed models \n",
    "        \n",
    "    # Update DA   \n",
    "    \n",
    "    # Get value of DA and set value to model\n",
    "    \n",
    "    # Set value of streamflow. Depending on this, we will change state variables below\n",
    "        # soil_reservoir_storage_deficit_m (25) \n",
    "        # Covary the runoff_queue_m_per_timestep (197)\n",
    "        # Schaake_output_runoff_m (310-3018), least important to start\n",
    "        \n",
    "    # if DA streamflow value is greater than the mean of #cfs, then 197 should be lowered by #% based on range of %changes\n",
    "        # #% is based on range of %changes\n",
    "        # Else, 197 should be raised by #% based on range of %changes\n",
    "        # Set value of state_var_change that corresponds to DA streamflow based on %change table \n",
    "        \n",
    "    # if DA streamflow value is greater than the mean of #cfs, then 25 should be lowered by #% \n",
    "        # #% is based on range of %changes\n",
    "        # Else, 23 should be raised by #% based on range of %changes    \n",
    "        "
   ]
  },
  {
   "cell_type": "code",
   "execution_count": 13,
   "id": "fc53fac2",
   "metadata": {
    "scrolled": true
   },
   "outputs": [],
   "source": [
    "import numpy as np\n",
    "\n",
    "cfe = []\n",
    "cfe_sum = []\n",
    "\n",
    "percent_list = np.arange(0.01,1.5,0.05)\n",
    "percentList = percent_list.tolist()\n",
    "\n",
    "for percent in percent_list:\n",
    "    \n",
    "    cfe_instance.set_value('state_var_change', percent) #value of precip from forcing data in loop\n",
    "    \n",
    "    for i, precip in enumerate(df_forcing['APCP_surface']): #i is \n",
    "\n",
    "        framework_time = (1+i)*3600 #seconds since starting simulation\n",
    "\n",
    "        # Run CFE model\n",
    "        cfe_instance.set_value('atmosphere_water__time_integral_of_precipitation_mass_flux', precip) #value of precip from forcing data in loop\n",
    "        cfe_instance.update()\n",
    "        outflow = cfe_instance.get_value('land_surface_water__runoff_depth')\n",
    "    cfe_sum.append(np.sum(outflow))\n",
    "\n",
    "df = pd.DataFrame({'Percentage':percentList,'Sum_streamflow':cfe_sum})\n",
    "#df\n",
    "\n"
   ]
  },
  {
   "cell_type": "code",
   "execution_count": 14,
   "id": "57d569d3",
   "metadata": {},
   "outputs": [
    {
     "data": {
      "text/plain": [
       "<matplotlib.collections.PathCollection at 0x244b4d904c0>"
      ]
     },
     "execution_count": 14,
     "metadata": {},
     "output_type": "execute_result"
    },
    {
     "data": {
      "image/png": "[encoded data removed]",
      "text/plain": [
       "<Figure size 432x288 with 1 Axes>"
      ]
     },
     "metadata": {
      "needs_background": "light"
     },
     "output_type": "display_data"
    }
   ],
   "source": [
    "# plot and get linear relationship\n",
    "x = df.iloc[:,0]\n",
    "y = df.iloc[:,1]\n",
    "#plt.ylim(0,70)\n",
    "#plt.xlim(0,3)\n",
    "plt.scatter(x, y)"
   ]
  },
  {
   "cell_type": "code",
   "execution_count": 9,
   "id": "e0040dee",
   "metadata": {
    "scrolled": true
   },
   "outputs": [],
   "source": [
    "# Find mean streamflow to based changes on\n",
    "# df_mean = df['Sum_streamflow'].mean()\n",
    "#print('The Mean streamflow is %s' %(df_mean))\n",
    "\n",
    "# If statement to add group to assocaited percent range \n",
    "df.loc[df['Percentage'] <=0.25,'Group'] = 1\n",
    "df.loc[(df['Percentage'] > 0.25) & (df['Percentage'] <= 0.5),'Group'] = 2\n",
    "df.loc[(df['Percentage'] > 0.5) & (df['Percentage'] <= 1.0),'Group'] = 3\n",
    "df.loc[(df['Percentage'] > 1.0) & (df['Percentage'] <= 1.5),'Group'] = 4\n",
    "df.loc[(df['Percentage'] > 1.5) & (df['Percentage'] <= 2.0),'Group'] = 5\n",
    "\n",
    "# Test runoff\n",
    "runoff_queue_m_per_timestep = 1\n",
    "df.loc[(df['Group'] == 3), 'runoff_queue_m_per_timestep'] = runoff_queue_m_per_timestep * 0.1\n",
    "#print(df)"
   ]
  },
  {
   "cell_type": "code",
   "execution_count": 10,
   "id": "69d273a7",
   "metadata": {},
   "outputs": [
    {
     "ename": "KeyError",
     "evalue": "\"None of [Float64Index([                0.1, 0.15000000000000002, 0.20000000000000004,\\n              0.25000000000000006, 0.30000000000000004,  0.3500000000000001,\\n              0.40000000000000013, 0.45000000000000007,  0.5000000000000001,\\n               0.5500000000000002,  0.6000000000000002,  0.6500000000000001,\\n               0.7000000000000002,  0.7500000000000002,  0.8000000000000002,\\n               0.8500000000000002,  0.9000000000000002,  0.9500000000000003,\\n               1.0000000000000004,  1.0500000000000003,  1.1000000000000005,\\n               1.1500000000000004,  1.2000000000000004,  1.2500000000000004,\\n               1.3000000000000005,  1.3500000000000005,  1.4000000000000006,\\n               1.4500000000000006,  1.5000000000000004,  1.5500000000000005,\\n               1.6000000000000005,  1.6500000000000006,  1.7000000000000006,\\n               1.7500000000000007,  1.8000000000000007,  1.8500000000000008,\\n               1.9000000000000008,  1.9500000000000006],\\n             dtype='float64')] are in the [columns]\"",
     "output_type": "error",
     "traceback": [
      "\u001b[1;31m---------------------------------------------------------------------------\u001b[0m",
      "\u001b[1;31mKeyError\u001b[0m                                  Traceback (most recent call last)",
      "\u001b[1;32m~\\AppData\\Local\\Temp/ipykernel_21004/812424960.py\u001b[0m in \u001b[0;36m<module>\u001b[1;34m\u001b[0m\n\u001b[0;32m      2\u001b[0m \u001b[0mDA_sum\u001b[0m \u001b[1;33m=\u001b[0m \u001b[1;36m9.423650\u001b[0m     \u001b[1;31m#output from DA\u001b[0m\u001b[1;33m\u001b[0m\u001b[1;33m\u001b[0m\u001b[0m\n\u001b[0;32m      3\u001b[0m \u001b[1;33m\u001b[0m\u001b[0m\n\u001b[1;32m----> 4\u001b[1;33m \u001b[0mdf_percent\u001b[0m \u001b[1;33m=\u001b[0m \u001b[0mdf\u001b[0m\u001b[1;33m.\u001b[0m\u001b[0mloc\u001b[0m\u001b[1;33m[\u001b[0m\u001b[1;33m(\u001b[0m\u001b[0mdf\u001b[0m\u001b[1;33m[\u001b[0m\u001b[1;34m'Sum_streamflow'\u001b[0m\u001b[1;33m]\u001b[0m \u001b[1;33m==\u001b[0m \u001b[0mDA_sum\u001b[0m\u001b[1;33m)\u001b[0m\u001b[1;33m,\u001b[0m \u001b[0mdf\u001b[0m\u001b[1;33m[\u001b[0m\u001b[1;34m'Percentage'\u001b[0m\u001b[1;33m]\u001b[0m\u001b[1;33m]\u001b[0m\u001b[1;33m\u001b[0m\u001b[1;33m\u001b[0m\u001b[0m\n\u001b[0m\u001b[0;32m      5\u001b[0m \u001b[1;31m#df.loc[(df['Percentage'] > 1.5) & (df['Percentage'] <= 2.0),'Group'] = 5\u001b[0m\u001b[1;33m\u001b[0m\u001b[1;33m\u001b[0m\u001b[0m\n\u001b[0;32m      6\u001b[0m \u001b[1;33m\u001b[0m\u001b[0m\n",
      "\u001b[1;32m~\\Documents\\Anaconda\\lib\\site-packages\\pandas\\core\\indexing.py\u001b[0m in \u001b[0;36m__getitem__\u001b[1;34m(self, key)\u001b[0m\n\u001b[0;32m    923\u001b[0m                 \u001b[1;32mwith\u001b[0m \u001b[0msuppress\u001b[0m\u001b[1;33m(\u001b[0m\u001b[0mKeyError\u001b[0m\u001b[1;33m,\u001b[0m \u001b[0mIndexError\u001b[0m\u001b[1;33m)\u001b[0m\u001b[1;33m:\u001b[0m\u001b[1;33m\u001b[0m\u001b[1;33m\u001b[0m\u001b[0m\n\u001b[0;32m    924\u001b[0m                     \u001b[1;32mreturn\u001b[0m \u001b[0mself\u001b[0m\u001b[1;33m.\u001b[0m\u001b[0mobj\u001b[0m\u001b[1;33m.\u001b[0m\u001b[0m_get_value\u001b[0m\u001b[1;33m(\u001b[0m\u001b[1;33m*\u001b[0m\u001b[0mkey\u001b[0m\u001b[1;33m,\u001b[0m \u001b[0mtakeable\u001b[0m\u001b[1;33m=\u001b[0m\u001b[0mself\u001b[0m\u001b[1;33m.\u001b[0m\u001b[0m_takeable\u001b[0m\u001b[1;33m)\u001b[0m\u001b[1;33m\u001b[0m\u001b[1;33m\u001b[0m\u001b[0m\n\u001b[1;32m--> 925\u001b[1;33m             \u001b[1;32mreturn\u001b[0m \u001b[0mself\u001b[0m\u001b[1;33m.\u001b[0m\u001b[0m_getitem_tuple\u001b[0m\u001b[1;33m(\u001b[0m\u001b[0mkey\u001b[0m\u001b[1;33m)\u001b[0m\u001b[1;33m\u001b[0m\u001b[1;33m\u001b[0m\u001b[0m\n\u001b[0m\u001b[0;32m    926\u001b[0m         \u001b[1;32melse\u001b[0m\u001b[1;33m:\u001b[0m\u001b[1;33m\u001b[0m\u001b[1;33m\u001b[0m\u001b[0m\n\u001b[0;32m    927\u001b[0m             \u001b[1;31m# we by definition only have the 0th axis\u001b[0m\u001b[1;33m\u001b[0m\u001b[1;33m\u001b[0m\u001b[0m\n",
      "\u001b[1;32m~\\Documents\\Anaconda\\lib\\site-packages\\pandas\\core\\indexing.py\u001b[0m in \u001b[0;36m_getitem_tuple\u001b[1;34m(self, tup)\u001b[0m\n\u001b[0;32m   1107\u001b[0m             \u001b[1;32mreturn\u001b[0m \u001b[0mself\u001b[0m\u001b[1;33m.\u001b[0m\u001b[0m_multi_take\u001b[0m\u001b[1;33m(\u001b[0m\u001b[0mtup\u001b[0m\u001b[1;33m)\u001b[0m\u001b[1;33m\u001b[0m\u001b[1;33m\u001b[0m\u001b[0m\n\u001b[0;32m   1108\u001b[0m \u001b[1;33m\u001b[0m\u001b[0m\n\u001b[1;32m-> 1109\u001b[1;33m         \u001b[1;32mreturn\u001b[0m \u001b[0mself\u001b[0m\u001b[1;33m.\u001b[0m\u001b[0m_getitem_tuple_same_dim\u001b[0m\u001b[1;33m(\u001b[0m\u001b[0mtup\u001b[0m\u001b[1;33m)\u001b[0m\u001b[1;33m\u001b[0m\u001b[1;33m\u001b[0m\u001b[0m\n\u001b[0m\u001b[0;32m   1110\u001b[0m \u001b[1;33m\u001b[0m\u001b[0m\n\u001b[0;32m   1111\u001b[0m     \u001b[1;32mdef\u001b[0m \u001b[0m_get_label\u001b[0m\u001b[1;33m(\u001b[0m\u001b[0mself\u001b[0m\u001b[1;33m,\u001b[0m \u001b[0mlabel\u001b[0m\u001b[1;33m,\u001b[0m \u001b[0maxis\u001b[0m\u001b[1;33m:\u001b[0m \u001b[0mint\u001b[0m\u001b[1;33m)\u001b[0m\u001b[1;33m:\u001b[0m\u001b[1;33m\u001b[0m\u001b[1;33m\u001b[0m\u001b[0m\n",
      "\u001b[1;32m~\\Documents\\Anaconda\\lib\\site-packages\\pandas\\core\\indexing.py\u001b[0m in \u001b[0;36m_getitem_tuple_same_dim\u001b[1;34m(self, tup)\u001b[0m\n\u001b[0;32m    804\u001b[0m                 \u001b[1;32mcontinue\u001b[0m\u001b[1;33m\u001b[0m\u001b[1;33m\u001b[0m\u001b[0m\n\u001b[0;32m    805\u001b[0m \u001b[1;33m\u001b[0m\u001b[0m\n\u001b[1;32m--> 806\u001b[1;33m             \u001b[0mretval\u001b[0m \u001b[1;33m=\u001b[0m \u001b[0mgetattr\u001b[0m\u001b[1;33m(\u001b[0m\u001b[0mretval\u001b[0m\u001b[1;33m,\u001b[0m \u001b[0mself\u001b[0m\u001b[1;33m.\u001b[0m\u001b[0mname\u001b[0m\u001b[1;33m)\u001b[0m\u001b[1;33m.\u001b[0m\u001b[0m_getitem_axis\u001b[0m\u001b[1;33m(\u001b[0m\u001b[0mkey\u001b[0m\u001b[1;33m,\u001b[0m \u001b[0maxis\u001b[0m\u001b[1;33m=\u001b[0m\u001b[0mi\u001b[0m\u001b[1;33m)\u001b[0m\u001b[1;33m\u001b[0m\u001b[1;33m\u001b[0m\u001b[0m\n\u001b[0m\u001b[0;32m    807\u001b[0m             \u001b[1;31m# We should never have retval.ndim < self.ndim, as that should\u001b[0m\u001b[1;33m\u001b[0m\u001b[1;33m\u001b[0m\u001b[0m\n\u001b[0;32m    808\u001b[0m             \u001b[1;31m#  be handled by the _getitem_lowerdim call above.\u001b[0m\u001b[1;33m\u001b[0m\u001b[1;33m\u001b[0m\u001b[0m\n",
      "\u001b[1;32m~\\Documents\\Anaconda\\lib\\site-packages\\pandas\\core\\indexing.py\u001b[0m in \u001b[0;36m_getitem_axis\u001b[1;34m(self, key, axis)\u001b[0m\n\u001b[0;32m   1151\u001b[0m                     \u001b[1;32mraise\u001b[0m \u001b[0mValueError\u001b[0m\u001b[1;33m(\u001b[0m\u001b[1;34m\"Cannot index with multidimensional key\"\u001b[0m\u001b[1;33m)\u001b[0m\u001b[1;33m\u001b[0m\u001b[1;33m\u001b[0m\u001b[0m\n\u001b[0;32m   1152\u001b[0m \u001b[1;33m\u001b[0m\u001b[0m\n\u001b[1;32m-> 1153\u001b[1;33m                 \u001b[1;32mreturn\u001b[0m \u001b[0mself\u001b[0m\u001b[1;33m.\u001b[0m\u001b[0m_getitem_iterable\u001b[0m\u001b[1;33m(\u001b[0m\u001b[0mkey\u001b[0m\u001b[1;33m,\u001b[0m \u001b[0maxis\u001b[0m\u001b[1;33m=\u001b[0m\u001b[0maxis\u001b[0m\u001b[1;33m)\u001b[0m\u001b[1;33m\u001b[0m\u001b[1;33m\u001b[0m\u001b[0m\n\u001b[0m\u001b[0;32m   1154\u001b[0m \u001b[1;33m\u001b[0m\u001b[0m\n\u001b[0;32m   1155\u001b[0m             \u001b[1;31m# nested tuple slicing\u001b[0m\u001b[1;33m\u001b[0m\u001b[1;33m\u001b[0m\u001b[0m\n",
      "\u001b[1;32m~\\Documents\\Anaconda\\lib\\site-packages\\pandas\\core\\indexing.py\u001b[0m in \u001b[0;36m_getitem_iterable\u001b[1;34m(self, key, axis)\u001b[0m\n\u001b[0;32m   1091\u001b[0m \u001b[1;33m\u001b[0m\u001b[0m\n\u001b[0;32m   1092\u001b[0m         \u001b[1;31m# A collection of keys\u001b[0m\u001b[1;33m\u001b[0m\u001b[1;33m\u001b[0m\u001b[0m\n\u001b[1;32m-> 1093\u001b[1;33m         \u001b[0mkeyarr\u001b[0m\u001b[1;33m,\u001b[0m \u001b[0mindexer\u001b[0m \u001b[1;33m=\u001b[0m \u001b[0mself\u001b[0m\u001b[1;33m.\u001b[0m\u001b[0m_get_listlike_indexer\u001b[0m\u001b[1;33m(\u001b[0m\u001b[0mkey\u001b[0m\u001b[1;33m,\u001b[0m \u001b[0maxis\u001b[0m\u001b[1;33m)\u001b[0m\u001b[1;33m\u001b[0m\u001b[1;33m\u001b[0m\u001b[0m\n\u001b[0m\u001b[0;32m   1094\u001b[0m         return self.obj._reindex_with_indexers(\n\u001b[0;32m   1095\u001b[0m             \u001b[1;33m{\u001b[0m\u001b[0maxis\u001b[0m\u001b[1;33m:\u001b[0m \u001b[1;33m[\u001b[0m\u001b[0mkeyarr\u001b[0m\u001b[1;33m,\u001b[0m \u001b[0mindexer\u001b[0m\u001b[1;33m]\u001b[0m\u001b[1;33m}\u001b[0m\u001b[1;33m,\u001b[0m \u001b[0mcopy\u001b[0m\u001b[1;33m=\u001b[0m\u001b[1;32mTrue\u001b[0m\u001b[1;33m,\u001b[0m \u001b[0mallow_dups\u001b[0m\u001b[1;33m=\u001b[0m\u001b[1;32mTrue\u001b[0m\u001b[1;33m\u001b[0m\u001b[1;33m\u001b[0m\u001b[0m\n",
      "\u001b[1;32m~\\Documents\\Anaconda\\lib\\site-packages\\pandas\\core\\indexing.py\u001b[0m in \u001b[0;36m_get_listlike_indexer\u001b[1;34m(self, key, axis)\u001b[0m\n\u001b[0;32m   1312\u001b[0m             \u001b[0mkeyarr\u001b[0m\u001b[1;33m,\u001b[0m \u001b[0mindexer\u001b[0m\u001b[1;33m,\u001b[0m \u001b[0mnew_indexer\u001b[0m \u001b[1;33m=\u001b[0m \u001b[0max\u001b[0m\u001b[1;33m.\u001b[0m\u001b[0m_reindex_non_unique\u001b[0m\u001b[1;33m(\u001b[0m\u001b[0mkeyarr\u001b[0m\u001b[1;33m)\u001b[0m\u001b[1;33m\u001b[0m\u001b[1;33m\u001b[0m\u001b[0m\n\u001b[0;32m   1313\u001b[0m \u001b[1;33m\u001b[0m\u001b[0m\n\u001b[1;32m-> 1314\u001b[1;33m         \u001b[0mself\u001b[0m\u001b[1;33m.\u001b[0m\u001b[0m_validate_read_indexer\u001b[0m\u001b[1;33m(\u001b[0m\u001b[0mkeyarr\u001b[0m\u001b[1;33m,\u001b[0m \u001b[0mindexer\u001b[0m\u001b[1;33m,\u001b[0m \u001b[0maxis\u001b[0m\u001b[1;33m)\u001b[0m\u001b[1;33m\u001b[0m\u001b[1;33m\u001b[0m\u001b[0m\n\u001b[0m\u001b[0;32m   1315\u001b[0m \u001b[1;33m\u001b[0m\u001b[0m\n\u001b[0;32m   1316\u001b[0m         if needs_i8_conversion(ax.dtype) or isinstance(\n",
      "\u001b[1;32m~\\Documents\\Anaconda\\lib\\site-packages\\pandas\\core\\indexing.py\u001b[0m in \u001b[0;36m_validate_read_indexer\u001b[1;34m(self, key, indexer, axis)\u001b[0m\n\u001b[0;32m   1372\u001b[0m                 \u001b[1;32mif\u001b[0m \u001b[0muse_interval_msg\u001b[0m\u001b[1;33m:\u001b[0m\u001b[1;33m\u001b[0m\u001b[1;33m\u001b[0m\u001b[0m\n\u001b[0;32m   1373\u001b[0m                     \u001b[0mkey\u001b[0m \u001b[1;33m=\u001b[0m \u001b[0mlist\u001b[0m\u001b[1;33m(\u001b[0m\u001b[0mkey\u001b[0m\u001b[1;33m)\u001b[0m\u001b[1;33m\u001b[0m\u001b[1;33m\u001b[0m\u001b[0m\n\u001b[1;32m-> 1374\u001b[1;33m                 \u001b[1;32mraise\u001b[0m \u001b[0mKeyError\u001b[0m\u001b[1;33m(\u001b[0m\u001b[1;34mf\"None of [{key}] are in the [{axis_name}]\"\u001b[0m\u001b[1;33m)\u001b[0m\u001b[1;33m\u001b[0m\u001b[1;33m\u001b[0m\u001b[0m\n\u001b[0m\u001b[0;32m   1375\u001b[0m \u001b[1;33m\u001b[0m\u001b[0m\n\u001b[0;32m   1376\u001b[0m             \u001b[0mnot_found\u001b[0m \u001b[1;33m=\u001b[0m \u001b[0mlist\u001b[0m\u001b[1;33m(\u001b[0m\u001b[0mensure_index\u001b[0m\u001b[1;33m(\u001b[0m\u001b[0mkey\u001b[0m\u001b[1;33m)\u001b[0m\u001b[1;33m[\u001b[0m\u001b[0mmissing_mask\u001b[0m\u001b[1;33m.\u001b[0m\u001b[0mnonzero\u001b[0m\u001b[1;33m(\u001b[0m\u001b[1;33m)\u001b[0m\u001b[1;33m[\u001b[0m\u001b[1;36m0\u001b[0m\u001b[1;33m]\u001b[0m\u001b[1;33m]\u001b[0m\u001b[1;33m.\u001b[0m\u001b[0munique\u001b[0m\u001b[1;33m(\u001b[0m\u001b[1;33m)\u001b[0m\u001b[1;33m)\u001b[0m\u001b[1;33m\u001b[0m\u001b[1;33m\u001b[0m\u001b[0m\n",
      "\u001b[1;31mKeyError\u001b[0m: \"None of [Float64Index([                0.1, 0.15000000000000002, 0.20000000000000004,\\n              0.25000000000000006, 0.30000000000000004,  0.3500000000000001,\\n              0.40000000000000013, 0.45000000000000007,  0.5000000000000001,\\n               0.5500000000000002,  0.6000000000000002,  0.6500000000000001,\\n               0.7000000000000002,  0.7500000000000002,  0.8000000000000002,\\n               0.8500000000000002,  0.9000000000000002,  0.9500000000000003,\\n               1.0000000000000004,  1.0500000000000003,  1.1000000000000005,\\n               1.1500000000000004,  1.2000000000000004,  1.2500000000000004,\\n               1.3000000000000005,  1.3500000000000005,  1.4000000000000006,\\n               1.4500000000000006,  1.5000000000000004,  1.5500000000000005,\\n               1.6000000000000005,  1.6500000000000006,  1.7000000000000006,\\n               1.7500000000000007,  1.8000000000000007,  1.8500000000000008,\\n               1.9000000000000008,  1.9500000000000006],\\n             dtype='float64')] are in the [columns]\""
     ]
    }
   ],
   "source": [
    "# Set up example data assimilated streamflow value to then represent %change in flow \n",
    "DA_sum = 9.423650     #output from DA\n",
    "\n",
    "df_percent = df.loc[(df['Sum_streamflow'] == DA_sum), df['Percentage']]\n",
    "#df.loc[(df['Percentage'] > 1.5) & (df['Percentage'] <= 2.0),'Group'] = 5\n",
    "\n",
    "print(df_percent)\n"
   ]
  },
  {
   "cell_type": "code",
   "execution_count": null,
   "id": "ea1e14d3",
   "metadata": {},
   "outputs": [],
   "source": []
  },
  {
   "cell_type": "code",
   "execution_count": null,
   "id": "14ba35f4",
   "metadata": {
    "scrolled": true
   },
   "outputs": [],
   "source": [
    "# Make empty matrices for plotting\n",
    "# sim = []\n",
    "# obs = []\n",
    "# assimilation = []\n",
    "cfe = []\n",
    "cfe_sum = []\n",
    "\n",
    "# Run USG model\n",
    "# USGS_instance.update()\n",
    "# obs = USGS_instance.get_value('Flow')\n",
    "#print(obs)\n",
    "\n",
    "for i, precip in enumerate(df_forcing['APCP_surface']): #i is \n",
    "    \n",
    "    framework_time = (1+i)*3600 #seconds since starting simulation\n",
    "    \n",
    "    # Run CFE model\n",
    "    cfe_instance.set_value('atmosphere_water__time_integral_of_precipitation_mass_flux', precip) #value of precip from forcing data in loop\n",
    "    cfe_instance.update()\n",
    "    outflow = cfe_instance.get_value('land_surface_water__runoff_depth')\n",
    "    cfe.append(outflow)\n",
    "    \n",
    "#     # Peturbation run   \n",
    "#     cfe_instance_peturb.set_value('atmosphere_water__time_integral_of_precipitation_mass_flux', precip) #value of precip from forcing data in loop\n",
    "#     cfe_instance_peturb.update()\n",
    "#     outflow_peturb = cfe_instance_peturb.get_value('land_surface_water__runoff_depth_ens')\n",
    "    \n",
    "    # Calculate states of ensemble runs\n",
    "#     outflow_peturb_mean = np.mean(outflow_peturb)\n",
    "#     outflow_peturb_std = np.std(outflow_peturb)\n",
    "#     outflow_peturb_var = np.var(outflow_peturb)\n",
    "#     outflow_peturb_covar = np.cov(outflow_peturb)\n",
    "    outflow_sum = np.sum(outflow)\n",
    "    cfe_sum.append(outflow_sum)\n",
    "\n",
    "\n",
    "    \n",
    "#     #obs.append(outflow_peturb_std)\n",
    "#     sim.append(outflow_peturb_mean)\n",
    "    \n",
    "#     # Assimilation\n",
    "#     cfe_assimilation.set_value('obs', obs[i]*10) #need these to represent pdf of flows\n",
    "#     cfe_assimilation.set_value('sim', outflow_peturb_mean)\n",
    "#     cfe_assimilation.update()\n",
    "    \n",
    "#     # Make matrix to put assimilation output\n",
    "#     output = np.zeros(1)\n",
    "#     DA_output = cfe_assimilation.get_value('assimilation', output)\n",
    "#     #print(DA_output)\n",
    "#     assimilation.append(DA_output) #append empty matrix to output for plotting\n",
    "    \n",
    "# print('The covarince is', outflow_peturb_covar)\n",
    "# print('The mean is ', outflow_peturb_mean)\n",
    "# print('The std is ', outflow_peturb_std)\n",
    "\n",
    "df = {'Percentage':,'Sum streamflow':}\n"
   ]
  },
  {
   "cell_type": "code",
   "execution_count": null,
   "id": "1ef7ea79",
   "metadata": {},
   "outputs": [],
   "source": [
    "sum_peturb = np.sum(sim)\n",
    "sum_cfe = np.sum(cfe)\n",
    "percent_diff = ((sum_peturb - sum_cfe) / sum_peturb)\n",
    "print('Percenter Difference', percent_diff * 100) #if postive, then decrease in flow"
   ]
  },
  {
   "cell_type": "markdown",
   "id": "7ce2e5e6",
   "metadata": {},
   "source": [
    "### The finalize function should perform all tasks that take place after exiting the model’s time loop. This typically includes deallocating memory, closing files and printing reports."
   ]
  },
  {
   "cell_type": "code",
   "execution_count": null,
   "id": "b8bc6e9a",
   "metadata": {},
   "outputs": [],
   "source": [
    "cfe_instance.finalize(print_mass_balance=False)\n",
    "cfe_instance_peturb.finalize(print_mass_balance=False)"
   ]
  },
  {
   "cell_type": "markdown",
   "id": "8b72aaa2",
   "metadata": {},
   "source": [
    "### Here we are just plotting the fluxes."
   ]
  },
  {
   "cell_type": "code",
   "execution_count": null,
   "id": "ef6adb2e",
   "metadata": {},
   "outputs": [],
   "source": [
    "istart_plot=500\n",
    "iend_plot=550\n",
    "x = list(range(istart_plot, iend_plot))\n",
    "\n",
    "fig = plt.figure(figsize = (7,5), dpi=300)\n",
    "\n",
    "plt.plot(x, cfe[istart_plot:iend_plot], color = 'orange', label = 'CFE State Vars')\n",
    "\n",
    "plt.title('Sub-Region Model DA Example')\n",
    "plt.plot(x, sim[istart_plot:iend_plot], color = 'tab:blue', label = 'CFE Peturbed')\n",
    "plt.plot(x, assimilation[istart_plot:iend_plot], color = 'green', label = 'DA')\n",
    "plt.plot(x, obs[istart_plot:iend_plot]*10, color = 'tab:red', linestyle='dashed', label = 'USGS Obs')\n",
    "plt.ylabel('Streamflow (CFS)')\n",
    "plt.xlabel('Time')\n",
    "plt.legend()\n"
   ]
  },
  {
   "cell_type": "markdown",
   "id": "d3aa92d1",
   "metadata": {},
   "source": [
    "### Here we are just going to run the unit test that compares with the origional author code. Kind of the same thing done above, but there is a function in the BMI code that does it all at once."
   ]
  }
 ],
 "metadata": {
  "kernelspec": {
   "display_name": "Python 3 (ipykernel)",
   "language": "python",
   "name": "python3"
  },
  "language_info": {
   "codemirror_mode": {
    "name": "ipython",
    "version": 3
   },
   "file_extension": ".py",
   "mimetype": "text/x-python",
   "name": "python",
   "nbconvert_exporter": "python",
   "pygments_lexer": "ipython3",
   "version": "3.9.7"
  }
 },
 "nbformat": 4,
 "nbformat_minor": 5
}
