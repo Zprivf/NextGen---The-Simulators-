{
 "cells": [
  {
   "cell_type": "code",
   "execution_count": 1,
   "id": "4f1c9bb4",
   "metadata": {},
   "outputs": [
    {
     "name": "stdout",
     "output_type": "stream",
     "text": [
      "<module 'bmi_cfe_statevars' from 'C:\\\\Users\\\\zjbut\\\\Documents\\\\GitHub\\\\NextGen---The-Simulators-\\\\Toy_Model\\\\./CFE\\\\bmi_cfe_statevars.py'>\n"
     ]
    }
   ],
   "source": [
    "import time\n",
    "import numpy as np\n",
    "import pandas as pd\n",
    "import json\n",
    "import matplotlib.pyplot as plt\n",
    "import sys\n",
    "sys.path.insert(0, './CFE')\n",
    "import bmi_cfe_statevars\n",
    "\n",
    "print(bmi_cfe_statevars)\n"
   ]
  },
  {
   "cell_type": "code",
   "execution_count": 2,
   "id": "ce555bd9",
   "metadata": {},
   "outputs": [
    {
     "name": "stdout",
     "output_type": "stream",
     "text": [
      "CFE\n",
      "['atmosphere_water__time_integral_of_precipitation_mass_flux', 'water_potential_evaporation_flux', 'state_var_change', 'state_var_change_v2']\n",
      "\n",
      "['land_surface_water__runoff_depth', 'land_surface_water__runoff_volume_flux', 'DIRECT_RUNOFF', 'GIUH_RUNOFF', 'NASH_LATERAL_RUNOFF', 'DEEP_GW_TO_CHANNEL_FLUX']\n"
     ]
    }
   ],
   "source": [
    "cfe_instance = bmi_cfe_statevars.BMI_CFE() #one that changes state vars\n",
    "print(\"CFE\")\n",
    "print(cfe_instance.get_input_var_names())\n",
    "print()\n",
    "print(cfe_instance.get_output_var_names())\n"
   ]
  },
  {
   "cell_type": "markdown",
   "id": "08fbe912",
   "metadata": {},
   "source": [
    "### This initialization function should perform all tasks that are to take place before entering the model’s time loop. Models should be refactored, if necessary, to read their inputs (which could include filenames for other input files) from a configuration file. BMI does not impose any constraint on how configuration files are formatted."
   ]
  },
  {
   "cell_type": "code",
   "execution_count": 3,
   "id": "c05f5d19",
   "metadata": {},
   "outputs": [
    {
     "data": {
      "text/plain": [
       "'./Forcing/cat58_01Dec2015.csv'"
      ]
     },
     "execution_count": 3,
     "metadata": {},
     "output_type": "execute_result"
    }
   ],
   "source": [
    "cfe_instance.initialize(cfg_file='./CFE/cat_58_config_cfe.json')\n",
    "cfe_instance.forcing_file # path to forcing file\n"
   ]
  },
  {
   "cell_type": "markdown",
   "id": "9fd1796b",
   "metadata": {},
   "source": [
    "### Open the forcing file contained within the configuration file. We can run the model with any forcing. This is only an example. The path to the forcing file is contained within the configuration file, but it doesn't really need to be. This is just for organization."
   ]
  },
  {
   "cell_type": "code",
   "execution_count": 4,
   "id": "9941d994",
   "metadata": {},
   "outputs": [
    {
     "name": "stdout",
     "output_type": "stream",
     "text": [
      "                    time  APCP_surface  DLWRF_surface  DSWRF_surface  \\\n",
      "0    2015-12-01 00:00:00           0.0     361.200012       0.000000   \n",
      "1    2015-12-01 01:00:00           0.0     361.200012       0.000000   \n",
      "2    2015-12-01 02:00:00           0.0     361.200012       0.000000   \n",
      "3    2015-12-01 03:00:00           0.0     357.600006       0.000000   \n",
      "4    2015-12-01 04:00:00           0.0     357.600006       0.000000   \n",
      "..                   ...           ...            ...            ...   \n",
      "715  2015-12-30 19:00:00           4.7     402.200012     163.600006   \n",
      "716  2015-12-30 20:00:00           3.7     402.200012     130.300003   \n",
      "717  2015-12-30 21:00:00           4.2     399.200012      80.400002   \n",
      "718  2015-12-30 22:00:00           8.3     399.200012      21.000000   \n",
      "719  2015-12-30 23:00:00           3.3     399.200012       0.000000   \n",
      "\n",
      "     PRES_surface  SPFH_2maboveground  TMP_2maboveground  UGRD_10maboveground  \\\n",
      "0        100530.0              0.0105         287.500000                 -2.6   \n",
      "1        100610.0              0.0098         287.300018                 -2.7   \n",
      "2        100600.0              0.0091         286.600006                 -2.8   \n",
      "3        100570.0              0.0087         285.500000                 -2.9   \n",
      "4        100590.0              0.0084         284.300018                 -2.6   \n",
      "..            ...                 ...                ...                  ...   \n",
      "715      100560.0              0.0125         291.000000                  0.8   \n",
      "716      100490.0              0.0128         291.000000                  0.8   \n",
      "717      100470.0              0.0126         291.100006                  0.8   \n",
      "718      100450.0              0.0126         290.899994                  1.0   \n",
      "719      100520.0              0.0127         291.100006                  1.2   \n",
      "\n",
      "     VGRD_10maboveground   precip_rate  \n",
      "0                    0.0  0.000000e+00  \n",
      "1                   -0.3  0.000000e+00  \n",
      "2                   -0.6  0.000000e+00  \n",
      "3                   -0.9  0.000000e+00  \n",
      "4                   -0.3  0.000000e+00  \n",
      "..                   ...           ...  \n",
      "715                  1.9  1.816209e-06  \n",
      "716                  1.8  2.061642e-06  \n",
      "717                  1.7  4.077756e-06  \n",
      "718                  1.4  1.618451e-06  \n",
      "719                  1.2  6.878142e-07  \n",
      "\n",
      "[720 rows x 10 columns]\n"
     ]
    }
   ],
   "source": [
    "with open(cfe_instance.forcing_file, 'r') as f:\n",
    "    df_forcing = pd.read_csv(f)\n",
    "    \n",
    "print(df_forcing)"
   ]
  },
  {
   "cell_type": "markdown",
   "id": "eaf15e86",
   "metadata": {},
   "source": [
    "### We will want to visualize the model output"
   ]
  },
  {
   "cell_type": "code",
   "execution_count": 5,
   "id": "ba07fb27",
   "metadata": {},
   "outputs": [
    {
     "name": "stdout",
     "output_type": "stream",
     "text": [
      "{'land_surface_water__runoff_depth': [], 'land_surface_water__runoff_volume_flux': [], 'DIRECT_RUNOFF': [], 'GIUH_RUNOFF': [], 'NASH_LATERAL_RUNOFF': [], 'DEEP_GW_TO_CHANNEL_FLUX': []}\n"
     ]
    }
   ],
   "source": [
    "# Originial CFE Model\n",
    "cfe_outputs=cfe_instance.get_output_var_names()\n",
    "cfe_output_lists = {output:[] for output in cfe_outputs}\n",
    "\n",
    "print(cfe_output_lists)\n"
   ]
  },
  {
   "cell_type": "markdown",
   "id": "228ef248",
   "metadata": {},
   "source": [
    "### Now we loop through the forcing data and use it to run the model at each time step"
   ]
  },
  {
   "cell_type": "code",
   "execution_count": 6,
   "id": "fc53fac2",
   "metadata": {
    "scrolled": true
   },
   "outputs": [
    {
     "name": "stdout",
     "output_type": "stream",
     "text": [
      "[[ 10.           3.14121974]\n",
      " [ 11.           3.45534172]\n",
      " [ 12.           3.76946369]\n",
      " [ 13.           4.08358567]\n",
      " [ 14.           4.39770764]\n",
      " [ 15.           4.71182962]\n",
      " [ 16.           5.02595159]\n",
      " [ 17.           5.34007357]\n",
      " [ 18.           5.65419554]\n",
      " [ 19.           5.96831752]\n",
      " [ 20.           6.28243949]\n",
      " [ 21.           6.59656146]\n",
      " [ 22.           6.91068344]\n",
      " [ 23.           7.22480541]\n",
      " [ 24.           7.53892739]\n",
      " [ 25.           7.85304936]\n",
      " [ 26.           8.16717134]\n",
      " [ 27.           8.48129331]\n",
      " [ 28.           8.79541529]\n",
      " [ 29.           9.10953726]\n",
      " [ 30.           9.42365923]\n",
      " [ 31.           9.73778121]\n",
      " [ 32.          10.05190318]\n",
      " [ 33.          10.36602516]\n",
      " [ 34.          10.68014713]\n",
      " [ 35.          10.99426911]\n",
      " [ 36.          11.30839108]\n",
      " [ 37.          11.62251306]\n",
      " [ 38.          11.93663503]\n",
      " [ 39.          12.250757  ]\n",
      " [ 40.          12.56487898]\n",
      " [ 41.          12.87900095]\n",
      " [ 42.          13.19312293]\n",
      " [ 43.          13.5072449 ]\n",
      " [ 44.          13.82136688]\n",
      " [ 45.          14.13548885]\n",
      " [ 46.          14.44961083]\n",
      " [ 47.          14.7637328 ]\n",
      " [ 48.          15.07785478]\n",
      " [ 49.          15.39197675]\n",
      " [ 50.          15.70609872]\n",
      " [ 51.          16.0202207 ]\n",
      " [ 52.          16.33434267]\n",
      " [ 53.          16.64846465]\n",
      " [ 54.          16.96258662]\n",
      " [ 55.          17.2767086 ]\n",
      " [ 56.          17.59083057]\n",
      " [ 57.          17.90495255]\n",
      " [ 58.          18.21907452]\n",
      " [ 59.          18.53319649]\n",
      " [ 60.          18.84731847]\n",
      " [ 61.          19.16144044]\n",
      " [ 62.          19.47556242]\n",
      " [ 63.          19.78968439]\n",
      " [ 64.          20.10380637]\n",
      " [ 65.          20.41792834]\n",
      " [ 66.          20.73205032]\n",
      " [ 67.          21.04617229]\n",
      " [ 68.          21.36029426]\n",
      " [ 69.          21.67441624]\n",
      " [ 70.          21.98853821]\n",
      " [ 71.          22.30266019]\n",
      " [ 72.          22.61678216]\n",
      " [ 73.          22.93090414]\n",
      " [ 74.          23.24502611]\n",
      " [ 75.          23.55914809]\n",
      " [ 76.          23.87327006]\n",
      " [ 77.          24.18739204]\n",
      " [ 78.          24.50151401]\n",
      " [ 79.          24.81563598]\n",
      " [ 80.          25.12975796]\n",
      " [ 81.          25.44387993]\n",
      " [ 82.          25.75800191]\n",
      " [ 83.          26.07212388]\n",
      " [ 84.          26.38624586]\n",
      " [ 85.          26.70036783]\n",
      " [ 86.          27.01448981]\n",
      " [ 87.          27.32861178]\n",
      " [ 88.          27.64273375]\n",
      " [ 89.          27.95685573]\n",
      " [ 90.          28.2709777 ]\n",
      " [ 91.          28.58509968]\n",
      " [ 92.          28.89922165]\n",
      " [ 93.          29.21334363]\n",
      " [ 94.          29.5274656 ]\n",
      " [ 95.          29.84158758]\n",
      " [ 96.          30.15570955]\n",
      " [ 97.          30.46983152]\n",
      " [ 98.          30.7839535 ]\n",
      " [ 99.          31.09807547]\n",
      " [100.          31.41219745]\n",
      " [101.          31.72631942]\n",
      " [102.          32.0404414 ]\n",
      " [103.          32.35456337]\n",
      " [104.          32.66868535]\n",
      " [105.          32.98280732]\n",
      " [106.          33.2969293 ]\n",
      " [107.          33.61105127]\n",
      " [108.          33.92517324]\n",
      " [109.          34.23929522]\n",
      " [110.          34.55341719]\n",
      " [111.          34.86753917]\n",
      " [112.          35.18166114]\n",
      " [113.          35.49578312]\n",
      " [114.          35.80990509]\n",
      " [115.          36.12402707]\n",
      " [116.          36.43814904]\n",
      " [117.          36.75227101]\n",
      " [118.          37.06639299]\n",
      " [119.          37.38051496]\n",
      " [120.          37.69463694]\n",
      " [121.          38.00875891]\n",
      " [122.          38.32288089]\n",
      " [123.          38.63700286]\n",
      " [124.          38.95112484]\n",
      " [125.          39.26524681]\n",
      " [126.          39.57936878]\n",
      " [127.          39.89349076]\n",
      " [128.          40.20761273]\n",
      " [129.          40.52173471]\n",
      " [130.          40.83585668]\n",
      " [131.          41.14997866]\n",
      " [132.          41.46410063]\n",
      " [133.          41.77822261]\n",
      " [134.          42.09234458]\n",
      " [135.          42.40646655]\n",
      " [136.          42.72058853]\n",
      " [137.          43.0347105 ]\n",
      " [138.          43.34883248]\n",
      " [139.          43.66295445]\n",
      " [140.          43.97707643]\n",
      " [141.          44.2911984 ]\n",
      " [142.          44.60532038]\n",
      " [143.          44.91944235]\n",
      " [144.          45.23356433]\n",
      " [145.          45.5476863 ]\n",
      " [146.          45.86180827]\n",
      " [147.          46.17593025]\n",
      " [148.          46.49005222]\n",
      " [149.          46.8041742 ]\n",
      " [150.          47.11829617]\n",
      " [151.          47.43241815]\n",
      " [152.          47.74654012]\n",
      " [153.          48.0606621 ]\n",
      " [154.          48.37478407]\n",
      " [155.          48.68890604]\n",
      " [156.          49.00302802]\n",
      " [157.          49.31714999]\n",
      " [158.          49.63127197]\n",
      " [159.          49.94539394]\n",
      " [160.          50.25951592]\n",
      " [161.          50.57363789]\n",
      " [162.          50.88775987]\n",
      " [163.          51.20188184]\n",
      " [164.          51.51600381]\n",
      " [165.          51.83012579]\n",
      " [166.          52.14424776]\n",
      " [167.          52.45836974]\n",
      " [168.          52.77249171]\n",
      " [169.          53.08661369]\n",
      " [170.          53.40073566]\n",
      " [171.          53.71485764]\n",
      " [172.          54.02897961]\n",
      " [173.          54.34310159]\n",
      " [174.          54.65722356]\n",
      " [175.          54.97134553]\n",
      " [176.          55.28546751]\n",
      " [177.          55.59958948]\n",
      " [178.          55.91371146]\n",
      " [179.          56.22783343]\n",
      " [180.          56.54195541]\n",
      " [181.          56.85607738]\n",
      " [182.          57.17019936]\n",
      " [183.          57.48432133]\n",
      " [184.          57.7984433 ]\n",
      " [185.          58.11256528]\n",
      " [186.          58.42668725]\n",
      " [187.          58.74080923]\n",
      " [188.          59.0549312 ]\n",
      " [189.          59.36905318]\n",
      " [190.          59.68317515]\n",
      " [191.          59.99729713]\n",
      " [192.          60.3114191 ]\n",
      " [193.          60.62554107]\n",
      " [194.          60.93966305]\n",
      " [195.          61.25378502]\n",
      " [196.          61.567907  ]\n",
      " [197.          61.88202897]\n",
      " [198.          62.19615095]\n",
      " [199.          62.51027292]]\n",
      "     Percent_Change  Mean_Streamflow\n",
      "0                10         3.141220\n",
      "1                11         3.455342\n",
      "2                12         3.769464\n",
      "3                13         4.083586\n",
      "4                14         4.397708\n",
      "..              ...              ...\n",
      "185             195        61.253785\n",
      "186             196        61.567907\n",
      "187             197        61.882029\n",
      "188             198        62.196151\n",
      "189             199        62.510273\n",
      "\n",
      "[190 rows x 2 columns]\n"
     ]
    }
   ],
   "source": [
    "cfe_list = []\n",
    "\n",
    "percent_list = np.arange(10, 200, 1)\n",
    "percentList = percent_list.tolist()\n",
    "\n",
    "for percent in percent_list:\n",
    "    \n",
    "    percent=percent/100 #convert to percentage    \n",
    "    cfe_instance.set_value('state_var_change_v2', percent) #value of precip from forcing data in loop\n",
    "    #v2 is the runoff_queue_m_per_timestep\n",
    "    #regular is soil_reservoir_storage_deficit_m\n",
    "    \n",
    "    for i, precip in enumerate(df_forcing['APCP_surface']): #i is \n",
    "\n",
    "        framework_time = (1+i)*3600 #seconds since starting simulation\n",
    "\n",
    "        # Run CFE model\n",
    "        cfe_instance.set_value('atmosphere_water__time_integral_of_precipitation_mass_flux', precip) #value of precip from forcing data in loop\n",
    "        cfe_instance.update()\n",
    "        outflow = cfe_instance.get_value('land_surface_water__runoff_depth')\n",
    "    cfe_list.append(np.mean(outflow))\n",
    "\n",
    "df = pd.DataFrame({'Percent_Change':percentList,'Mean_Streamflow':cfe_list})\n",
    "matrix = df.to_numpy() #convert to matirx\n",
    "print(matrix)\n",
    "print(df)\n",
    "\n"
   ]
  },
  {
   "cell_type": "code",
   "execution_count": 7,
   "id": "57d569d3",
   "metadata": {
    "scrolled": false
   },
   "outputs": [
    {
     "data": {
      "image/png": "[encoded data removed]",
      "text/plain": [
       "<Figure size 432x288 with 1 Axes>"
      ]
     },
     "metadata": {
      "needs_background": "light"
     },
     "output_type": "display_data"
    }
   ],
   "source": [
    "no_change = df.loc[df['Percent_Change'] == 100]\n",
    "# # # # # no_change['Sum streamflow']\n",
    "Q_at_no_change=float(no_change['Mean_Streamflow'])\n",
    "# # # # # float(Q_at_no_change)\n",
    "df['Mean_Streamflow']=100*df['Mean_Streamflow']//Q_at_no_change\n",
    "\n",
    "\n",
    "\n",
    "\n",
    "# # # #df['Sum streamflow'][100]\n",
    "# # # # df['Sum streamflow']#/Q_at_no_change\n",
    "plt.plot(df['Percent_Change'],label='% change of runoff_queue', color='tab:blue')\n",
    "plt.plot(df['Mean_Streamflow'], 'o', label='% change of Q', color = 'tab:orange')\n",
    "plt.xticks([])\n",
    "plt.ylabel('Percent Change')\n",
    "plt.legend(loc=2)\n",
    "plt.grid()\n",
    "df.to_csv('C:\\\\Users\\\\zjbut\\\\Documents\\\\LookupTable.csv')"
   ]
  },
  {
   "cell_type": "code",
   "execution_count": 8,
   "id": "e0040dee",
   "metadata": {
    "scrolled": true
   },
   "outputs": [
    {
     "ename": "KeyError",
     "evalue": "'Percentage'",
     "output_type": "error",
     "traceback": [
      "\u001b[1;31m---------------------------------------------------------------------------\u001b[0m",
      "\u001b[1;31mKeyError\u001b[0m                                  Traceback (most recent call last)",
      "\u001b[1;32m~\\Documents\\Anaconda\\lib\\site-packages\\pandas\\core\\indexes\\base.py\u001b[0m in \u001b[0;36mget_loc\u001b[1;34m(self, key, method, tolerance)\u001b[0m\n\u001b[0;32m   3360\u001b[0m             \u001b[1;32mtry\u001b[0m\u001b[1;33m:\u001b[0m\u001b[1;33m\u001b[0m\u001b[1;33m\u001b[0m\u001b[0m\n\u001b[1;32m-> 3361\u001b[1;33m                 \u001b[1;32mreturn\u001b[0m \u001b[0mself\u001b[0m\u001b[1;33m.\u001b[0m\u001b[0m_engine\u001b[0m\u001b[1;33m.\u001b[0m\u001b[0mget_loc\u001b[0m\u001b[1;33m(\u001b[0m\u001b[0mcasted_key\u001b[0m\u001b[1;33m)\u001b[0m\u001b[1;33m\u001b[0m\u001b[1;33m\u001b[0m\u001b[0m\n\u001b[0m\u001b[0;32m   3362\u001b[0m             \u001b[1;32mexcept\u001b[0m \u001b[0mKeyError\u001b[0m \u001b[1;32mas\u001b[0m \u001b[0merr\u001b[0m\u001b[1;33m:\u001b[0m\u001b[1;33m\u001b[0m\u001b[1;33m\u001b[0m\u001b[0m\n",
      "\u001b[1;32m~\\Documents\\Anaconda\\lib\\site-packages\\pandas\\_libs\\index.pyx\u001b[0m in \u001b[0;36mpandas._libs.index.IndexEngine.get_loc\u001b[1;34m()\u001b[0m\n",
      "\u001b[1;32m~\\Documents\\Anaconda\\lib\\site-packages\\pandas\\_libs\\index.pyx\u001b[0m in \u001b[0;36mpandas._libs.index.IndexEngine.get_loc\u001b[1;34m()\u001b[0m\n",
      "\u001b[1;32mpandas\\_libs\\hashtable_class_helper.pxi\u001b[0m in \u001b[0;36mpandas._libs.hashtable.PyObjectHashTable.get_item\u001b[1;34m()\u001b[0m\n",
      "\u001b[1;32mpandas\\_libs\\hashtable_class_helper.pxi\u001b[0m in \u001b[0;36mpandas._libs.hashtable.PyObjectHashTable.get_item\u001b[1;34m()\u001b[0m\n",
      "\u001b[1;31mKeyError\u001b[0m: 'Percentage'",
      "\nThe above exception was the direct cause of the following exception:\n",
      "\u001b[1;31mKeyError\u001b[0m                                  Traceback (most recent call last)",
      "\u001b[1;32m~\\AppData\\Local\\Temp/ipykernel_16456/745990683.py\u001b[0m in \u001b[0;36m<module>\u001b[1;34m\u001b[0m\n\u001b[0;32m      4\u001b[0m \u001b[1;33m\u001b[0m\u001b[0m\n\u001b[0;32m      5\u001b[0m \u001b[1;31m# If statement to add group to assocaited percent range\u001b[0m\u001b[1;33m\u001b[0m\u001b[1;33m\u001b[0m\u001b[0m\n\u001b[1;32m----> 6\u001b[1;33m \u001b[0mdf\u001b[0m\u001b[1;33m.\u001b[0m\u001b[0mloc\u001b[0m\u001b[1;33m[\u001b[0m\u001b[0mdf\u001b[0m\u001b[1;33m[\u001b[0m\u001b[1;34m'Percentage'\u001b[0m\u001b[1;33m]\u001b[0m \u001b[1;33m<=\u001b[0m\u001b[1;36m0.25\u001b[0m\u001b[1;33m,\u001b[0m\u001b[1;34m'Group'\u001b[0m\u001b[1;33m]\u001b[0m \u001b[1;33m=\u001b[0m \u001b[1;36m1\u001b[0m\u001b[1;33m\u001b[0m\u001b[1;33m\u001b[0m\u001b[0m\n\u001b[0m\u001b[0;32m      7\u001b[0m \u001b[0mdf\u001b[0m\u001b[1;33m.\u001b[0m\u001b[0mloc\u001b[0m\u001b[1;33m[\u001b[0m\u001b[1;33m(\u001b[0m\u001b[0mdf\u001b[0m\u001b[1;33m[\u001b[0m\u001b[1;34m'Percentage'\u001b[0m\u001b[1;33m]\u001b[0m \u001b[1;33m>\u001b[0m \u001b[1;36m0.25\u001b[0m\u001b[1;33m)\u001b[0m \u001b[1;33m&\u001b[0m \u001b[1;33m(\u001b[0m\u001b[0mdf\u001b[0m\u001b[1;33m[\u001b[0m\u001b[1;34m'Percentage'\u001b[0m\u001b[1;33m]\u001b[0m \u001b[1;33m<=\u001b[0m \u001b[1;36m0.5\u001b[0m\u001b[1;33m)\u001b[0m\u001b[1;33m,\u001b[0m\u001b[1;34m'Group'\u001b[0m\u001b[1;33m]\u001b[0m \u001b[1;33m=\u001b[0m \u001b[1;36m2\u001b[0m\u001b[1;33m\u001b[0m\u001b[1;33m\u001b[0m\u001b[0m\n\u001b[0;32m      8\u001b[0m \u001b[0mdf\u001b[0m\u001b[1;33m.\u001b[0m\u001b[0mloc\u001b[0m\u001b[1;33m[\u001b[0m\u001b[1;33m(\u001b[0m\u001b[0mdf\u001b[0m\u001b[1;33m[\u001b[0m\u001b[1;34m'Percentage'\u001b[0m\u001b[1;33m]\u001b[0m \u001b[1;33m>\u001b[0m \u001b[1;36m0.5\u001b[0m\u001b[1;33m)\u001b[0m \u001b[1;33m&\u001b[0m \u001b[1;33m(\u001b[0m\u001b[0mdf\u001b[0m\u001b[1;33m[\u001b[0m\u001b[1;34m'Percentage'\u001b[0m\u001b[1;33m]\u001b[0m \u001b[1;33m<=\u001b[0m \u001b[1;36m1.0\u001b[0m\u001b[1;33m)\u001b[0m\u001b[1;33m,\u001b[0m\u001b[1;34m'Group'\u001b[0m\u001b[1;33m]\u001b[0m \u001b[1;33m=\u001b[0m \u001b[1;36m3\u001b[0m\u001b[1;33m\u001b[0m\u001b[1;33m\u001b[0m\u001b[0m\n",
      "\u001b[1;32m~\\Documents\\Anaconda\\lib\\site-packages\\pandas\\core\\frame.py\u001b[0m in \u001b[0;36m__getitem__\u001b[1;34m(self, key)\u001b[0m\n\u001b[0;32m   3456\u001b[0m             \u001b[1;32mif\u001b[0m \u001b[0mself\u001b[0m\u001b[1;33m.\u001b[0m\u001b[0mcolumns\u001b[0m\u001b[1;33m.\u001b[0m\u001b[0mnlevels\u001b[0m \u001b[1;33m>\u001b[0m \u001b[1;36m1\u001b[0m\u001b[1;33m:\u001b[0m\u001b[1;33m\u001b[0m\u001b[1;33m\u001b[0m\u001b[0m\n\u001b[0;32m   3457\u001b[0m                 \u001b[1;32mreturn\u001b[0m \u001b[0mself\u001b[0m\u001b[1;33m.\u001b[0m\u001b[0m_getitem_multilevel\u001b[0m\u001b[1;33m(\u001b[0m\u001b[0mkey\u001b[0m\u001b[1;33m)\u001b[0m\u001b[1;33m\u001b[0m\u001b[1;33m\u001b[0m\u001b[0m\n\u001b[1;32m-> 3458\u001b[1;33m             \u001b[0mindexer\u001b[0m \u001b[1;33m=\u001b[0m \u001b[0mself\u001b[0m\u001b[1;33m.\u001b[0m\u001b[0mcolumns\u001b[0m\u001b[1;33m.\u001b[0m\u001b[0mget_loc\u001b[0m\u001b[1;33m(\u001b[0m\u001b[0mkey\u001b[0m\u001b[1;33m)\u001b[0m\u001b[1;33m\u001b[0m\u001b[1;33m\u001b[0m\u001b[0m\n\u001b[0m\u001b[0;32m   3459\u001b[0m             \u001b[1;32mif\u001b[0m \u001b[0mis_integer\u001b[0m\u001b[1;33m(\u001b[0m\u001b[0mindexer\u001b[0m\u001b[1;33m)\u001b[0m\u001b[1;33m:\u001b[0m\u001b[1;33m\u001b[0m\u001b[1;33m\u001b[0m\u001b[0m\n\u001b[0;32m   3460\u001b[0m                 \u001b[0mindexer\u001b[0m \u001b[1;33m=\u001b[0m \u001b[1;33m[\u001b[0m\u001b[0mindexer\u001b[0m\u001b[1;33m]\u001b[0m\u001b[1;33m\u001b[0m\u001b[1;33m\u001b[0m\u001b[0m\n",
      "\u001b[1;32m~\\Documents\\Anaconda\\lib\\site-packages\\pandas\\core\\indexes\\base.py\u001b[0m in \u001b[0;36mget_loc\u001b[1;34m(self, key, method, tolerance)\u001b[0m\n\u001b[0;32m   3361\u001b[0m                 \u001b[1;32mreturn\u001b[0m \u001b[0mself\u001b[0m\u001b[1;33m.\u001b[0m\u001b[0m_engine\u001b[0m\u001b[1;33m.\u001b[0m\u001b[0mget_loc\u001b[0m\u001b[1;33m(\u001b[0m\u001b[0mcasted_key\u001b[0m\u001b[1;33m)\u001b[0m\u001b[1;33m\u001b[0m\u001b[1;33m\u001b[0m\u001b[0m\n\u001b[0;32m   3362\u001b[0m             \u001b[1;32mexcept\u001b[0m \u001b[0mKeyError\u001b[0m \u001b[1;32mas\u001b[0m \u001b[0merr\u001b[0m\u001b[1;33m:\u001b[0m\u001b[1;33m\u001b[0m\u001b[1;33m\u001b[0m\u001b[0m\n\u001b[1;32m-> 3363\u001b[1;33m                 \u001b[1;32mraise\u001b[0m \u001b[0mKeyError\u001b[0m\u001b[1;33m(\u001b[0m\u001b[0mkey\u001b[0m\u001b[1;33m)\u001b[0m \u001b[1;32mfrom\u001b[0m \u001b[0merr\u001b[0m\u001b[1;33m\u001b[0m\u001b[1;33m\u001b[0m\u001b[0m\n\u001b[0m\u001b[0;32m   3364\u001b[0m \u001b[1;33m\u001b[0m\u001b[0m\n\u001b[0;32m   3365\u001b[0m         \u001b[1;32mif\u001b[0m \u001b[0mis_scalar\u001b[0m\u001b[1;33m(\u001b[0m\u001b[0mkey\u001b[0m\u001b[1;33m)\u001b[0m \u001b[1;32mand\u001b[0m \u001b[0misna\u001b[0m\u001b[1;33m(\u001b[0m\u001b[0mkey\u001b[0m\u001b[1;33m)\u001b[0m \u001b[1;32mand\u001b[0m \u001b[1;32mnot\u001b[0m \u001b[0mself\u001b[0m\u001b[1;33m.\u001b[0m\u001b[0mhasnans\u001b[0m\u001b[1;33m:\u001b[0m\u001b[1;33m\u001b[0m\u001b[1;33m\u001b[0m\u001b[0m\n",
      "\u001b[1;31mKeyError\u001b[0m: 'Percentage'"
     ]
    }
   ],
   "source": [
    "# Find mean streamflow to based changes on\n",
    "# df_mean = df['Sum_streamflow'].mean()\n",
    "#print('The Mean streamflow is %s' %(df_mean))\n",
    "\n",
    "# If statement to add group to assocaited percent range \n",
    "df.loc[df['Percentage'] <=0.25,'Group'] = 1\n",
    "df.loc[(df['Percentage'] > 0.25) & (df['Percentage'] <= 0.5),'Group'] = 2\n",
    "df.loc[(df['Percentage'] > 0.5) & (df['Percentage'] <= 1.0),'Group'] = 3\n",
    "df.loc[(df['Percentage'] > 1.0) & (df['Percentage'] <= 1.5),'Group'] = 4\n",
    "df.loc[(df['Percentage'] > 1.5) & (df['Percentage'] <= 2.0),'Group'] = 5\n",
    "\n",
    "# Test runoff\n",
    "runoff_queue_m_per_timestep = 1\n",
    "df.loc[(df['Group'] == 3), 'runoff_queue_m_per_timestep'] = runoff_queue_m_per_timestep * 0.1\n",
    "#print(df)"
   ]
  }
 ],
 "metadata": {
  "kernelspec": {
   "display_name": "Python 3 (ipykernel)",
   "language": "python",
   "name": "python3"
  },
  "language_info": {
   "codemirror_mode": {
    "name": "ipython",
    "version": 3
   },
   "file_extension": ".py",
   "mimetype": "text/x-python",
   "name": "python",
   "nbconvert_exporter": "python",
   "pygments_lexer": "ipython3",
   "version": "3.9.7"
  }
 },
 "nbformat": 4,
 "nbformat_minor": 5
}
