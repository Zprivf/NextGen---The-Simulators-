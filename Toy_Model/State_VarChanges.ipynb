{
 "cells": [
  {
   "cell_type": "code",
   "execution_count": 1,
   "id": "4f1c9bb4",
   "metadata": {},
   "outputs": [
    {
     "name": "stdout",
     "output_type": "stream",
     "text": [
      "<module 'bmi_cfe' from 'C:\\\\Users\\\\zjbut\\\\Documents\\\\GitHub\\\\NextGen---The-Simulators-\\\\Toy_Model\\\\./CFE\\\\bmi_cfe.py'>\n"
     ]
    }
   ],
   "source": [
    "import time\n",
    "import numpy as np\n",
    "import pandas as pd\n",
    "import json\n",
    "import matplotlib.pyplot as plt\n",
    "import sys\n",
    "sys.path.insert(0, './CFE')\n",
    "import bmi_cfe\n",
    "\n",
    "print(bmi_cfe)\n"
   ]
  },
  {
   "cell_type": "code",
   "execution_count": 2,
   "id": "ce555bd9",
   "metadata": {},
   "outputs": [
    {
     "name": "stdout",
     "output_type": "stream",
     "text": [
      "CFE\n",
      "['atmosphere_water__time_integral_of_precipitation_mass_flux', 'water_potential_evaporation_flux', 'state_var_change', 'state_var_change_v2']\n",
      "\n",
      "['land_surface_water__runoff_depth', 'land_surface_water__runoff_volume_flux', 'DIRECT_RUNOFF', 'GIUH_RUNOFF', 'NASH_LATERAL_RUNOFF', 'DEEP_GW_TO_CHANNEL_FLUX']\n"
     ]
    }
   ],
   "source": [
    "cfe_instance = bmi_cfe.BMI_CFE() #one that changes state vars\n",
    "print(\"CFE\")\n",
    "print(cfe_instance.get_input_var_names())\n",
    "print()\n",
    "print(cfe_instance.get_output_var_names())\n"
   ]
  },
  {
   "cell_type": "markdown",
   "id": "08fbe912",
   "metadata": {},
   "source": [
    "### This initialization function should perform all tasks that are to take place before entering the model’s time loop. Models should be refactored, if necessary, to read their inputs (which could include filenames for other input files) from a configuration file. BMI does not impose any constraint on how configuration files are formatted."
   ]
  },
  {
   "cell_type": "code",
   "execution_count": 3,
   "id": "c05f5d19",
   "metadata": {},
   "outputs": [
    {
     "data": {
      "text/plain": [
       "'./Forcing/cat58_01Dec2015.csv'"
      ]
     },
     "execution_count": 3,
     "metadata": {},
     "output_type": "execute_result"
    }
   ],
   "source": [
    "cfe_instance.initialize(cfg_file='./CFE/cat_58_config_cfe.json')\n",
    "cfe_instance.forcing_file # path to forcing file\n"
   ]
  },
  {
   "cell_type": "markdown",
   "id": "9fd1796b",
   "metadata": {},
   "source": [
    "### Open the forcing file contained within the configuration file. We can run the model with any forcing. This is only an example. The path to the forcing file is contained within the configuration file, but it doesn't really need to be. This is just for organization."
   ]
  },
  {
   "cell_type": "code",
   "execution_count": 4,
   "id": "9941d994",
   "metadata": {},
   "outputs": [
    {
     "name": "stdout",
     "output_type": "stream",
     "text": [
      "                    time  APCP_surface  DLWRF_surface  DSWRF_surface  \\\n",
      "0    2015-12-01 00:00:00           0.0     361.200012       0.000000   \n",
      "1    2015-12-01 01:00:00           0.0     361.200012       0.000000   \n",
      "2    2015-12-01 02:00:00           0.0     361.200012       0.000000   \n",
      "3    2015-12-01 03:00:00           0.0     357.600006       0.000000   \n",
      "4    2015-12-01 04:00:00           0.0     357.600006       0.000000   \n",
      "..                   ...           ...            ...            ...   \n",
      "715  2015-12-30 19:00:00           4.7     402.200012     163.600006   \n",
      "716  2015-12-30 20:00:00           3.7     402.200012     130.300003   \n",
      "717  2015-12-30 21:00:00           4.2     399.200012      80.400002   \n",
      "718  2015-12-30 22:00:00           8.3     399.200012      21.000000   \n",
      "719  2015-12-30 23:00:00           3.3     399.200012       0.000000   \n",
      "\n",
      "     PRES_surface  SPFH_2maboveground  TMP_2maboveground  UGRD_10maboveground  \\\n",
      "0        100530.0              0.0105         287.500000                 -2.6   \n",
      "1        100610.0              0.0098         287.300018                 -2.7   \n",
      "2        100600.0              0.0091         286.600006                 -2.8   \n",
      "3        100570.0              0.0087         285.500000                 -2.9   \n",
      "4        100590.0              0.0084         284.300018                 -2.6   \n",
      "..            ...                 ...                ...                  ...   \n",
      "715      100560.0              0.0125         291.000000                  0.8   \n",
      "716      100490.0              0.0128         291.000000                  0.8   \n",
      "717      100470.0              0.0126         291.100006                  0.8   \n",
      "718      100450.0              0.0126         290.899994                  1.0   \n",
      "719      100520.0              0.0127         291.100006                  1.2   \n",
      "\n",
      "     VGRD_10maboveground   precip_rate  \n",
      "0                    0.0  0.000000e+00  \n",
      "1                   -0.3  0.000000e+00  \n",
      "2                   -0.6  0.000000e+00  \n",
      "3                   -0.9  0.000000e+00  \n",
      "4                   -0.3  0.000000e+00  \n",
      "..                   ...           ...  \n",
      "715                  1.9  1.816209e-06  \n",
      "716                  1.8  2.061642e-06  \n",
      "717                  1.7  4.077756e-06  \n",
      "718                  1.4  1.618451e-06  \n",
      "719                  1.2  6.878142e-07  \n",
      "\n",
      "[720 rows x 10 columns]\n"
     ]
    }
   ],
   "source": [
    "with open(cfe_instance.forcing_file, 'r') as f:\n",
    "    df_forcing = pd.read_csv(f)\n",
    "    \n",
    "print(df_forcing)"
   ]
  },
  {
   "cell_type": "markdown",
   "id": "eaf15e86",
   "metadata": {},
   "source": [
    "### We will want to visualize the model output"
   ]
  },
  {
   "cell_type": "code",
   "execution_count": 5,
   "id": "ba07fb27",
   "metadata": {},
   "outputs": [
    {
     "name": "stdout",
     "output_type": "stream",
     "text": [
      "{'land_surface_water__runoff_depth': [], 'land_surface_water__runoff_volume_flux': [], 'DIRECT_RUNOFF': [], 'GIUH_RUNOFF': [], 'NASH_LATERAL_RUNOFF': [], 'DEEP_GW_TO_CHANNEL_FLUX': []}\n"
     ]
    }
   ],
   "source": [
    "# Originial CFE Model\n",
    "cfe_outputs=cfe_instance.get_output_var_names()\n",
    "cfe_output_lists = {output:[] for output in cfe_outputs}\n",
    "\n",
    "print(cfe_output_lists)\n"
   ]
  },
  {
   "cell_type": "markdown",
   "id": "228ef248",
   "metadata": {},
   "source": [
    "### Now we loop through the forcing data and use it to run the model at each time step"
   ]
  },
  {
   "cell_type": "code",
   "execution_count": 6,
   "id": "fc53fac2",
   "metadata": {
    "scrolled": true
   },
   "outputs": [
    {
     "name": "stdout",
     "output_type": "stream",
     "text": [
      "    Percent_Change  Mean_Streamflow\n",
      "0               10         3.141220\n",
      "1               20         6.282439\n",
      "2               30         9.423659\n",
      "3               40        12.564879\n",
      "4               50        15.706099\n",
      "5               60        18.847318\n",
      "6               70        21.988538\n",
      "7               80        25.129758\n",
      "8               90        28.270978\n",
      "9              100        31.412197\n",
      "10             110        34.553417\n",
      "11             120        37.694637\n",
      "12             130        40.835857\n",
      "13             140        43.977076\n",
      "14             150        47.118296\n",
      "15             160        50.259516\n",
      "16             170        53.400736\n",
      "17             180        56.541955\n",
      "18             190        59.683175\n"
     ]
    }
   ],
   "source": [
    "cfe_list = []\n",
    "\n",
    "percent_list = np.arange(10, 200, 10)\n",
    "percentList = percent_list.tolist()\n",
    "\n",
    "for percent in percent_list:\n",
    "    \n",
    "    percent=percent/100 #convert to percentage    \n",
    "    cfe_instance.set_value('state_var_change_v2', percent) #value of precip from forcing data in loop\n",
    "    \n",
    "    for i, precip in enumerate(df_forcing['APCP_surface']): #i is \n",
    "\n",
    "        framework_time = (1+i)*3600 #seconds since starting simulation\n",
    "\n",
    "        # Run CFE model\n",
    "        cfe_instance.set_value('atmosphere_water__time_integral_of_precipitation_mass_flux', precip) #value of precip from forcing data in loop\n",
    "        cfe_instance.update()\n",
    "        outflow = cfe_instance.get_value('land_surface_water__runoff_depth')\n",
    "    cfe_list.append(np.mean(outflow))\n",
    "\n",
    "df = pd.DataFrame({'Percent_Change':percentList,'Mean_Streamflow':cfe_list})\n",
    "matrix = df.to_numpy() #convert to matirx\n",
    "#print(matrix)\n",
    "print(df)\n",
    "\n"
   ]
  },
  {
   "cell_type": "code",
   "execution_count": 7,
   "id": "57d569d3",
   "metadata": {},
   "outputs": [
    {
     "data": {
      "text/html": [
       "<div>\n",
       "<style scoped>\n",
       "    .dataframe tbody tr th:only-of-type {\n",
       "        vertical-align: middle;\n",
       "    }\n",
       "\n",
       "    .dataframe tbody tr th {\n",
       "        vertical-align: top;\n",
       "    }\n",
       "\n",
       "    .dataframe thead th {\n",
       "        text-align: right;\n",
       "    }\n",
       "</style>\n",
       "<table border=\"1\" class=\"dataframe\">\n",
       "  <thead>\n",
       "    <tr style=\"text-align: right;\">\n",
       "      <th></th>\n",
       "      <th>Percent_Change</th>\n",
       "      <th>Mean_Streamflow</th>\n",
       "    </tr>\n",
       "  </thead>\n",
       "  <tbody>\n",
       "    <tr>\n",
       "      <th>0</th>\n",
       "      <td>10</td>\n",
       "      <td>90.0</td>\n",
       "    </tr>\n",
       "    <tr>\n",
       "      <th>1</th>\n",
       "      <td>20</td>\n",
       "      <td>80.0</td>\n",
       "    </tr>\n",
       "    <tr>\n",
       "      <th>2</th>\n",
       "      <td>30</td>\n",
       "      <td>71.0</td>\n",
       "    </tr>\n",
       "    <tr>\n",
       "      <th>3</th>\n",
       "      <td>40</td>\n",
       "      <td>60.0</td>\n",
       "    </tr>\n",
       "    <tr>\n",
       "      <th>4</th>\n",
       "      <td>50</td>\n",
       "      <td>51.0</td>\n",
       "    </tr>\n",
       "    <tr>\n",
       "      <th>5</th>\n",
       "      <td>60</td>\n",
       "      <td>41.0</td>\n",
       "    </tr>\n",
       "    <tr>\n",
       "      <th>6</th>\n",
       "      <td>70</td>\n",
       "      <td>30.0</td>\n",
       "    </tr>\n",
       "    <tr>\n",
       "      <th>7</th>\n",
       "      <td>80</td>\n",
       "      <td>20.0</td>\n",
       "    </tr>\n",
       "    <tr>\n",
       "      <th>8</th>\n",
       "      <td>90</td>\n",
       "      <td>10.0</td>\n",
       "    </tr>\n",
       "    <tr>\n",
       "      <th>9</th>\n",
       "      <td>100</td>\n",
       "      <td>1.0</td>\n",
       "    </tr>\n",
       "    <tr>\n",
       "      <th>10</th>\n",
       "      <td>110</td>\n",
       "      <td>-10.0</td>\n",
       "    </tr>\n",
       "    <tr>\n",
       "      <th>11</th>\n",
       "      <td>120</td>\n",
       "      <td>-19.0</td>\n",
       "    </tr>\n",
       "    <tr>\n",
       "      <th>12</th>\n",
       "      <td>130</td>\n",
       "      <td>-30.0</td>\n",
       "    </tr>\n",
       "    <tr>\n",
       "      <th>13</th>\n",
       "      <td>140</td>\n",
       "      <td>-40.0</td>\n",
       "    </tr>\n",
       "    <tr>\n",
       "      <th>14</th>\n",
       "      <td>150</td>\n",
       "      <td>-50.0</td>\n",
       "    </tr>\n",
       "    <tr>\n",
       "      <th>15</th>\n",
       "      <td>160</td>\n",
       "      <td>-60.0</td>\n",
       "    </tr>\n",
       "    <tr>\n",
       "      <th>16</th>\n",
       "      <td>170</td>\n",
       "      <td>-70.0</td>\n",
       "    </tr>\n",
       "    <tr>\n",
       "      <th>17</th>\n",
       "      <td>180</td>\n",
       "      <td>-80.0</td>\n",
       "    </tr>\n",
       "    <tr>\n",
       "      <th>18</th>\n",
       "      <td>190</td>\n",
       "      <td>-90.0</td>\n",
       "    </tr>\n",
       "  </tbody>\n",
       "</table>\n",
       "</div>"
      ],
      "text/plain": [
       "    Percent_Change  Mean_Streamflow\n",
       "0               10             90.0\n",
       "1               20             80.0\n",
       "2               30             71.0\n",
       "3               40             60.0\n",
       "4               50             51.0\n",
       "5               60             41.0\n",
       "6               70             30.0\n",
       "7               80             20.0\n",
       "8               90             10.0\n",
       "9              100              1.0\n",
       "10             110            -10.0\n",
       "11             120            -19.0\n",
       "12             130            -30.0\n",
       "13             140            -40.0\n",
       "14             150            -50.0\n",
       "15             160            -60.0\n",
       "16             170            -70.0\n",
       "17             180            -80.0\n",
       "18             190            -90.0"
      ]
     },
     "execution_count": 7,
     "metadata": {},
     "output_type": "execute_result"
    },
    {
     "data": {
      "image/png": "[encoded data removed]",
      "text/plain": [
       "<Figure size 432x288 with 1 Axes>"
      ]
     },
     "metadata": {
      "needs_background": "light"
     },
     "output_type": "display_data"
    }
   ],
   "source": [
    "no_change = df.loc[df['Percent_Change'] == 100]\n",
    "# # # # # no_change['Sum streamflow']\n",
    "Q_at_no_change=float(no_change['Mean_Streamflow'])\n",
    "# # # # # float(Q_at_no_change)\n",
    "df['Mean_Streamflow']=100-100*df['Mean_Streamflow']//Q_at_no_change\n",
    "\n",
    "# # # #df['Sum streamflow'][100]\n",
    "# # # # df['Sum streamflow']#/Q_at_no_change\n",
    "plt.plot(df['Mean_Streamflow'], label='% change of Q', color='tab:orange')\n",
    "plt.plot(df['Percent_Change'],label='% change of runoff_queue', color='tab:blue')\n",
    "plt.xlabel('Value')\n",
    "plt.ylabel('Percent Change')\n",
    "plt.legend(loc=3)\n",
    "df"
   ]
  },
  {
   "cell_type": "code",
   "execution_count": 8,
   "id": "e0040dee",
   "metadata": {
    "scrolled": true
   },
   "outputs": [
    {
     "ename": "KeyError",
     "evalue": "'Percentage'",
     "output_type": "error",
     "traceback": [
      "\u001b[1;31m---------------------------------------------------------------------------\u001b[0m",
      "\u001b[1;31mKeyError\u001b[0m                                  Traceback (most recent call last)",
      "\u001b[1;32m~\\Documents\\Anaconda\\lib\\site-packages\\pandas\\core\\indexes\\base.py\u001b[0m in \u001b[0;36mget_loc\u001b[1;34m(self, key, method, tolerance)\u001b[0m\n\u001b[0;32m   3360\u001b[0m             \u001b[1;32mtry\u001b[0m\u001b[1;33m:\u001b[0m\u001b[1;33m\u001b[0m\u001b[1;33m\u001b[0m\u001b[0m\n\u001b[1;32m-> 3361\u001b[1;33m                 \u001b[1;32mreturn\u001b[0m \u001b[0mself\u001b[0m\u001b[1;33m.\u001b[0m\u001b[0m_engine\u001b[0m\u001b[1;33m.\u001b[0m\u001b[0mget_loc\u001b[0m\u001b[1;33m(\u001b[0m\u001b[0mcasted_key\u001b[0m\u001b[1;33m)\u001b[0m\u001b[1;33m\u001b[0m\u001b[1;33m\u001b[0m\u001b[0m\n\u001b[0m\u001b[0;32m   3362\u001b[0m             \u001b[1;32mexcept\u001b[0m \u001b[0mKeyError\u001b[0m \u001b[1;32mas\u001b[0m \u001b[0merr\u001b[0m\u001b[1;33m:\u001b[0m\u001b[1;33m\u001b[0m\u001b[1;33m\u001b[0m\u001b[0m\n",
      "\u001b[1;32m~\\Documents\\Anaconda\\lib\\site-packages\\pandas\\_libs\\index.pyx\u001b[0m in \u001b[0;36mpandas._libs.index.IndexEngine.get_loc\u001b[1;34m()\u001b[0m\n",
      "\u001b[1;32m~\\Documents\\Anaconda\\lib\\site-packages\\pandas\\_libs\\index.pyx\u001b[0m in \u001b[0;36mpandas._libs.index.IndexEngine.get_loc\u001b[1;34m()\u001b[0m\n",
      "\u001b[1;32mpandas\\_libs\\hashtable_class_helper.pxi\u001b[0m in \u001b[0;36mpandas._libs.hashtable.PyObjectHashTable.get_item\u001b[1;34m()\u001b[0m\n",
      "\u001b[1;32mpandas\\_libs\\hashtable_class_helper.pxi\u001b[0m in \u001b[0;36mpandas._libs.hashtable.PyObjectHashTable.get_item\u001b[1;34m()\u001b[0m\n",
      "\u001b[1;31mKeyError\u001b[0m: 'Percentage'",
      "\nThe above exception was the direct cause of the following exception:\n",
      "\u001b[1;31mKeyError\u001b[0m                                  Traceback (most recent call last)",
      "\u001b[1;32m~\\AppData\\Local\\Temp/ipykernel_12436/745990683.py\u001b[0m in \u001b[0;36m<module>\u001b[1;34m\u001b[0m\n\u001b[0;32m      4\u001b[0m \u001b[1;33m\u001b[0m\u001b[0m\n\u001b[0;32m      5\u001b[0m \u001b[1;31m# If statement to add group to assocaited percent range\u001b[0m\u001b[1;33m\u001b[0m\u001b[1;33m\u001b[0m\u001b[0m\n\u001b[1;32m----> 6\u001b[1;33m \u001b[0mdf\u001b[0m\u001b[1;33m.\u001b[0m\u001b[0mloc\u001b[0m\u001b[1;33m[\u001b[0m\u001b[0mdf\u001b[0m\u001b[1;33m[\u001b[0m\u001b[1;34m'Percentage'\u001b[0m\u001b[1;33m]\u001b[0m \u001b[1;33m<=\u001b[0m\u001b[1;36m0.25\u001b[0m\u001b[1;33m,\u001b[0m\u001b[1;34m'Group'\u001b[0m\u001b[1;33m]\u001b[0m \u001b[1;33m=\u001b[0m \u001b[1;36m1\u001b[0m\u001b[1;33m\u001b[0m\u001b[1;33m\u001b[0m\u001b[0m\n\u001b[0m\u001b[0;32m      7\u001b[0m \u001b[0mdf\u001b[0m\u001b[1;33m.\u001b[0m\u001b[0mloc\u001b[0m\u001b[1;33m[\u001b[0m\u001b[1;33m(\u001b[0m\u001b[0mdf\u001b[0m\u001b[1;33m[\u001b[0m\u001b[1;34m'Percentage'\u001b[0m\u001b[1;33m]\u001b[0m \u001b[1;33m>\u001b[0m \u001b[1;36m0.25\u001b[0m\u001b[1;33m)\u001b[0m \u001b[1;33m&\u001b[0m \u001b[1;33m(\u001b[0m\u001b[0mdf\u001b[0m\u001b[1;33m[\u001b[0m\u001b[1;34m'Percentage'\u001b[0m\u001b[1;33m]\u001b[0m \u001b[1;33m<=\u001b[0m \u001b[1;36m0.5\u001b[0m\u001b[1;33m)\u001b[0m\u001b[1;33m,\u001b[0m\u001b[1;34m'Group'\u001b[0m\u001b[1;33m]\u001b[0m \u001b[1;33m=\u001b[0m \u001b[1;36m2\u001b[0m\u001b[1;33m\u001b[0m\u001b[1;33m\u001b[0m\u001b[0m\n\u001b[0;32m      8\u001b[0m \u001b[0mdf\u001b[0m\u001b[1;33m.\u001b[0m\u001b[0mloc\u001b[0m\u001b[1;33m[\u001b[0m\u001b[1;33m(\u001b[0m\u001b[0mdf\u001b[0m\u001b[1;33m[\u001b[0m\u001b[1;34m'Percentage'\u001b[0m\u001b[1;33m]\u001b[0m \u001b[1;33m>\u001b[0m \u001b[1;36m0.5\u001b[0m\u001b[1;33m)\u001b[0m \u001b[1;33m&\u001b[0m \u001b[1;33m(\u001b[0m\u001b[0mdf\u001b[0m\u001b[1;33m[\u001b[0m\u001b[1;34m'Percentage'\u001b[0m\u001b[1;33m]\u001b[0m \u001b[1;33m<=\u001b[0m \u001b[1;36m1.0\u001b[0m\u001b[1;33m)\u001b[0m\u001b[1;33m,\u001b[0m\u001b[1;34m'Group'\u001b[0m\u001b[1;33m]\u001b[0m \u001b[1;33m=\u001b[0m \u001b[1;36m3\u001b[0m\u001b[1;33m\u001b[0m\u001b[1;33m\u001b[0m\u001b[0m\n",
      "\u001b[1;32m~\\Documents\\Anaconda\\lib\\site-packages\\pandas\\core\\frame.py\u001b[0m in \u001b[0;36m__getitem__\u001b[1;34m(self, key)\u001b[0m\n\u001b[0;32m   3456\u001b[0m             \u001b[1;32mif\u001b[0m \u001b[0mself\u001b[0m\u001b[1;33m.\u001b[0m\u001b[0mcolumns\u001b[0m\u001b[1;33m.\u001b[0m\u001b[0mnlevels\u001b[0m \u001b[1;33m>\u001b[0m \u001b[1;36m1\u001b[0m\u001b[1;33m:\u001b[0m\u001b[1;33m\u001b[0m\u001b[1;33m\u001b[0m\u001b[0m\n\u001b[0;32m   3457\u001b[0m                 \u001b[1;32mreturn\u001b[0m \u001b[0mself\u001b[0m\u001b[1;33m.\u001b[0m\u001b[0m_getitem_multilevel\u001b[0m\u001b[1;33m(\u001b[0m\u001b[0mkey\u001b[0m\u001b[1;33m)\u001b[0m\u001b[1;33m\u001b[0m\u001b[1;33m\u001b[0m\u001b[0m\n\u001b[1;32m-> 3458\u001b[1;33m             \u001b[0mindexer\u001b[0m \u001b[1;33m=\u001b[0m \u001b[0mself\u001b[0m\u001b[1;33m.\u001b[0m\u001b[0mcolumns\u001b[0m\u001b[1;33m.\u001b[0m\u001b[0mget_loc\u001b[0m\u001b[1;33m(\u001b[0m\u001b[0mkey\u001b[0m\u001b[1;33m)\u001b[0m\u001b[1;33m\u001b[0m\u001b[1;33m\u001b[0m\u001b[0m\n\u001b[0m\u001b[0;32m   3459\u001b[0m             \u001b[1;32mif\u001b[0m \u001b[0mis_integer\u001b[0m\u001b[1;33m(\u001b[0m\u001b[0mindexer\u001b[0m\u001b[1;33m)\u001b[0m\u001b[1;33m:\u001b[0m\u001b[1;33m\u001b[0m\u001b[1;33m\u001b[0m\u001b[0m\n\u001b[0;32m   3460\u001b[0m                 \u001b[0mindexer\u001b[0m \u001b[1;33m=\u001b[0m \u001b[1;33m[\u001b[0m\u001b[0mindexer\u001b[0m\u001b[1;33m]\u001b[0m\u001b[1;33m\u001b[0m\u001b[1;33m\u001b[0m\u001b[0m\n",
      "\u001b[1;32m~\\Documents\\Anaconda\\lib\\site-packages\\pandas\\core\\indexes\\base.py\u001b[0m in \u001b[0;36mget_loc\u001b[1;34m(self, key, method, tolerance)\u001b[0m\n\u001b[0;32m   3361\u001b[0m                 \u001b[1;32mreturn\u001b[0m \u001b[0mself\u001b[0m\u001b[1;33m.\u001b[0m\u001b[0m_engine\u001b[0m\u001b[1;33m.\u001b[0m\u001b[0mget_loc\u001b[0m\u001b[1;33m(\u001b[0m\u001b[0mcasted_key\u001b[0m\u001b[1;33m)\u001b[0m\u001b[1;33m\u001b[0m\u001b[1;33m\u001b[0m\u001b[0m\n\u001b[0;32m   3362\u001b[0m             \u001b[1;32mexcept\u001b[0m \u001b[0mKeyError\u001b[0m \u001b[1;32mas\u001b[0m \u001b[0merr\u001b[0m\u001b[1;33m:\u001b[0m\u001b[1;33m\u001b[0m\u001b[1;33m\u001b[0m\u001b[0m\n\u001b[1;32m-> 3363\u001b[1;33m                 \u001b[1;32mraise\u001b[0m \u001b[0mKeyError\u001b[0m\u001b[1;33m(\u001b[0m\u001b[0mkey\u001b[0m\u001b[1;33m)\u001b[0m \u001b[1;32mfrom\u001b[0m \u001b[0merr\u001b[0m\u001b[1;33m\u001b[0m\u001b[1;33m\u001b[0m\u001b[0m\n\u001b[0m\u001b[0;32m   3364\u001b[0m \u001b[1;33m\u001b[0m\u001b[0m\n\u001b[0;32m   3365\u001b[0m         \u001b[1;32mif\u001b[0m \u001b[0mis_scalar\u001b[0m\u001b[1;33m(\u001b[0m\u001b[0mkey\u001b[0m\u001b[1;33m)\u001b[0m \u001b[1;32mand\u001b[0m \u001b[0misna\u001b[0m\u001b[1;33m(\u001b[0m\u001b[0mkey\u001b[0m\u001b[1;33m)\u001b[0m \u001b[1;32mand\u001b[0m \u001b[1;32mnot\u001b[0m \u001b[0mself\u001b[0m\u001b[1;33m.\u001b[0m\u001b[0mhasnans\u001b[0m\u001b[1;33m:\u001b[0m\u001b[1;33m\u001b[0m\u001b[1;33m\u001b[0m\u001b[0m\n",
      "\u001b[1;31mKeyError\u001b[0m: 'Percentage'"
     ]
    }
   ],
   "source": [
    "# Find mean streamflow to based changes on\n",
    "# df_mean = df['Sum_streamflow'].mean()\n",
    "#print('The Mean streamflow is %s' %(df_mean))\n",
    "\n",
    "# If statement to add group to assocaited percent range \n",
    "df.loc[df['Percentage'] <=0.25,'Group'] = 1\n",
    "df.loc[(df['Percentage'] > 0.25) & (df['Percentage'] <= 0.5),'Group'] = 2\n",
    "df.loc[(df['Percentage'] > 0.5) & (df['Percentage'] <= 1.0),'Group'] = 3\n",
    "df.loc[(df['Percentage'] > 1.0) & (df['Percentage'] <= 1.5),'Group'] = 4\n",
    "df.loc[(df['Percentage'] > 1.5) & (df['Percentage'] <= 2.0),'Group'] = 5\n",
    "\n",
    "# Test runoff\n",
    "runoff_queue_m_per_timestep = 1\n",
    "df.loc[(df['Group'] == 3), 'runoff_queue_m_per_timestep'] = runoff_queue_m_per_timestep * 0.1\n",
    "#print(df)"
   ]
  }
 ],
 "metadata": {
  "kernelspec": {
   "display_name": "Python 3 (ipykernel)",
   "language": "python",
   "name": "python3"
  },
  "language_info": {
   "codemirror_mode": {
    "name": "ipython",
    "version": 3
   },
   "file_extension": ".py",
   "mimetype": "text/x-python",
   "name": "python",
   "nbconvert_exporter": "python",
   "pygments_lexer": "ipython3",
   "version": "3.9.7"
  }
 },
 "nbformat": 4,
 "nbformat_minor": 5
}
