{
 "cells": [
  {
   "cell_type": "markdown",
   "metadata": {},
   "source": [
    "# Experiment with `Data Assimilation- Observed-simulation ENKF`"
   ]
  },
  {
   "cell_type": "code",
   "execution_count": 22,
   "metadata": {},
   "outputs": [],
   "source": [
    "import sys \n",
    "import time\n",
    "import numpy as np\n",
    "import pandas as pd\n",
    "import json\n",
    "import matplotlib.pyplot as plt\n",
    "import sys\n",
    "sys.path.insert(0, './CFE')\n",
    "import bmi_cfe\n",
    "import bmi_cfe_peturb\n",
    "\n",
    "sys.path.insert(0, './Assimilation')\n",
    "\n",
    "import Bmi_da_ENKF\n",
    "import sys\n",
    "\n",
    "#sys.path.append('/home/jovyan/data/NextGen---The-Simulators-/USGS/USGS_BMI_FT/cleaned_FT')\n",
    "#sys.path.append('/Assimilators_FTD/NextGen---The-Simulators-/NextGen---The-Simulators-/USGS/NextGen---The-Simulators-/USGS/USGS_BMI_FT/cleaned_FT/KalmanFilters/NextGen---The-Simulators-/Toy_Model/Assimilation/NextGen---The-Simulators-/USGS/USGS_BMI_FT')\n",
    "sys.path.insert(0, '../USGS/USGS_BMI_FT')\n",
    "import bmi_usgs"
   ]
  },
  {
   "cell_type": "code",
   "execution_count": 25,
   "metadata": {},
   "outputs": [
    {
     "name": "stdout",
     "output_type": "stream",
     "text": [
      "Input variables:\n",
      "\n",
      "USGS\n",
      "['sites', 'service', 'start', 'end']\n",
      "CFE\n",
      "['atmosphere_water__time_integral_of_precipitation_mass_flux', 'water_potential_evaporation_flux']\n",
      "\n",
      "Output variables:\n",
      "['assimilation']\n",
      "['Flow', 'validity']\n"
     ]
    }
   ],
   "source": [
    "USGS_instance = bmi_usgs.BMI_USGS()\n",
    "cfe_instance_peturb = bmi_cfe_peturb.BMI_CFE()\n",
    "cfe_instance = bmi_cfe.BMI_CFE() #one that changes state vars\n",
    "\n",
    "print(\"Input variables:\\n\")\n",
    "print(\"USGS\")\n",
    "print(USGS_instance.get_input_var_names())\n",
    "print(\"CFE\")\n",
    "print(cfe_instance_peturb.get_input_var_names())\n",
    "\n",
    "print(\"\\nOutput variables:\")\n",
    "print(cfe_assimilation.get_output_var_names())\n",
    "print(USGS_instance.get_output_var_names())\n",
    "\n",
    "\n",
    "\n",
    "#print(cfe_assimilation.cfg_bmi)"
   ]
  },
  {
   "cell_type": "code",
   "execution_count": 26,
   "metadata": {},
   "outputs": [],
   "source": [
    "USGS_instance.initialize(cfg_file='../USGS/USGS_BMI_FT/usgs_config.json')\n",
    "cfe_instance_peturb.initialize(cfg_file='./CFE/cat_58_config_cfe_peturb_model.json')\n",
    "cfe_instance.initialize(cfg_file='./CFE/cat_58_config_cfe_peturb_model.json')"
   ]
  },
  {
   "cell_type": "code",
   "execution_count": null,
   "metadata": {},
   "outputs": [],
   "source": []
  },
  {
   "cell_type": "code",
   "execution_count": 27,
   "metadata": {},
   "outputs": [],
   "source": [
    "with open(cfe_instance_peturb.forcing_file, 'r') as f:\n",
    "    df_forcing = pd.read_csv(f)\n",
    "#print(df_forcing)"
   ]
  },
  {
   "cell_type": "code",
   "execution_count": null,
   "metadata": {},
   "outputs": [],
   "source": []
  },
  {
   "cell_type": "code",
   "execution_count": 28,
   "metadata": {},
   "outputs": [
    {
     "name": "stdout",
     "output_type": "stream",
     "text": [
      "                           Date    Flow  validity\n",
      "0     2015-11-01 06:00:00+00:00  2.5000       1.0\n",
      "1     2015-11-01 07:00:00+00:00  2.5000       1.0\n",
      "2     2015-11-01 08:00:00+00:00  2.5000       1.0\n",
      "3     2015-11-01 09:00:00+00:00  2.5000       1.0\n",
      "4     2015-11-01 10:00:00+00:00  2.4925       1.0\n",
      "...                         ...     ...       ...\n",
      "10220 2016-12-31 02:00:00+00:00  2.5450       1.0\n",
      "10221 2016-12-31 03:00:00+00:00  2.6325       1.0\n",
      "10222 2016-12-31 04:00:00+00:00  2.6325       1.0\n",
      "10223 2016-12-31 05:00:00+00:00  2.5975       1.0\n",
      "10224 2016-12-31 06:00:00+00:00  2.5800       1.0\n",
      "\n",
      "[10225 rows x 3 columns]\n",
      "USGS station ID 10109000\n"
     ]
    },
    {
     "data": {
      "text/plain": [
       "<matplotlib.legend.Legend at 0x7f8c52f6e460>"
      ]
     },
     "execution_count": 28,
     "metadata": {},
     "output_type": "execute_result"
    },
    {
     "data": {
      "image/png": "[encoded data removed]",
      "text/plain": [
       "<Figure size 432x288 with 1 Axes>"
      ]
     },
     "metadata": {
      "needs_background": "light"
     },
     "output_type": "display_data"
    }
   ],
   "source": [
    "# Make empty matrices for plotting\n",
    "sim = []\n",
    "obs = []\n",
    "cfe = []\n",
    "\n",
    "############################################\n",
    "# change this for ENKF\n",
    "EnKF_results=[]\n",
    "measurements = []\n",
    "# Run USG model\n",
    "USGS_instance.update()\n",
    "obs = USGS_instance.get_value('Flow')\n",
    "dim_z=1\n",
    "dt=1\n",
    "N=700\n",
    "\n",
    "# state trans. functions; NEED UPDATE\n",
    "def hx(x):\n",
    "    return np.array([x[0]])\n",
    "def fx(x, dt):\n",
    "    return F @ x\n",
    "#####################################################################\n",
    "\n",
    "for i, precip in enumerate(df_forcing['APCP_surface']): #i is \n",
    "    \n",
    "    framework_time = (1+i)*3600 #seconds since starting simulation\n",
    "    \n",
    "    # Run CFE model\n",
    "    cfe_instance.set_value('atmosphere_water__time_integral_of_precipitation_mass_flux', precip) #value of precip from forcing data in loop\n",
    "    cfe_instance.update()\n",
    "    outflow = cfe_instance.get_value('land_surface_water__runoff_depth')\n",
    "    cfe.append(outflow)\n",
    "    \n",
    "    # Peturbation run   \n",
    "    cfe_instance_peturb.set_value('atmosphere_water__time_integral_of_precipitation_mass_flux', precip) #value of precip from forcing data in loop\n",
    "    cfe_instance_peturb.update()\n",
    "    outflow_peturb = cfe_instance_peturb.get_value('land_surface_water__runoff_depth_ens')\n",
    "    #print(outflow_peturb)\n",
    "    # Calculate states of ensemble runs\n",
    "    outflow_peturb_mean = np.mean(outflow_peturb)\n",
    "    outflow_peturb_std = np.std(outflow_peturb)\n",
    "    outflow_peturb_var = np.var(outflow_peturb)\n",
    "    outflow_peturb_covar = np.cov(outflow_peturb)\n",
    "    \n",
    "    #obs.append(outflow_peturb_std)\n",
    "    sim.append(outflow_peturb_mean)#*35.314666212661) # check if the cfs and m3/sec are good.\n",
    "    \n",
    "#Assimilation using ENKF\n",
    "    x=np.array([np.mean(outflow_peturb)])\n",
    "    P=np.eye(1)*outflow_peturb_covar\n",
    "    f = Bmi_da_ENKF.EnsembleKalmanFilter(x=x, P=P, dim_z=dim_z, dt=dt,N=N, hx=hx, fx=fx)\n",
    "    f.initialize(x,P) #\n",
    "    z = np.array([obs[i]])*10\n",
    "    F = np.array([[1000]]) # state transition function\n",
    "    \n",
    "    f.predict()\n",
    "    f.update(z)\n",
    "    EnKF_results.append(f.x)\n",
    "    measurements.append(z)\n",
    "\n",
    "plt.plot(results, label='EnKF')\n",
    "plt.plot(measurements,label='USGS')\n",
    "plt.plot(sim,label='CFE')\n",
    "plt.legend(loc=2)"
   ]
  },
  {
   "cell_type": "code",
   "execution_count": null,
   "metadata": {},
   "outputs": [],
   "source": []
  },
  {
   "cell_type": "code",
   "execution_count": null,
   "metadata": {},
   "outputs": [],
   "source": []
  },
  {
   "cell_type": "code",
   "execution_count": null,
   "metadata": {},
   "outputs": [],
   "source": []
  },
  {
   "cell_type": "code",
   "execution_count": null,
   "metadata": {},
   "outputs": [],
   "source": []
  },
  {
   "cell_type": "code",
   "execution_count": null,
   "metadata": {},
   "outputs": [],
   "source": []
  },
  {
   "cell_type": "code",
   "execution_count": null,
   "metadata": {},
   "outputs": [],
   "source": []
  },
  {
   "cell_type": "code",
   "execution_count": null,
   "metadata": {},
   "outputs": [],
   "source": []
  },
  {
   "cell_type": "code",
   "execution_count": null,
   "metadata": {},
   "outputs": [],
   "source": [
    "# check if usefull!!!"
   ]
  },
  {
   "cell_type": "code",
   "execution_count": 7,
   "metadata": {},
   "outputs": [
    {
     "name": "stdout",
     "output_type": "stream",
     "text": [
      "mean [0.]\n",
      "cov [[0.]]\n",
      "EnsembleKalmanFilter object\n",
      "dim_x = 1\n",
      "dim_z = 1\n",
      "dt = 1\n",
      "x = [0.]\n",
      "P = [[0.]]\n",
      "x_prior = [0.]\n",
      "P_prior = [[0.]]\n",
      "Q = [[1.]]\n",
      "R = [[1.]]\n",
      "K = [[0.]]\n",
      "S = [[0.]]\n",
      "sigmas = [[0.]]\n",
      "hx = <function hx at 0x7faa20e045e0>\n",
      "fx = <function fx at 0x7faa20e04700>\n"
     ]
    }
   ],
   "source": [
    "# change this\n",
    "dim_z=1\n",
    "dt=1\n",
    "N=1\n",
    "\n",
    "def hx(x):\n",
    "    return np.array([x[0]])\n",
    "\n",
    "def fx(x, dt):\n",
    "    return F @ x\n",
    "precip=df_forcing['APCP_surface']\n",
    "#print(precip)\n",
    "cfe_instance_peturb.set_value('atmosphere_water__time_integral_of_precipitation_mass_flux', precip) #value of precip from forcing data in loop\n",
    "#print(precip)\n",
    "#cfe_instance_peturb.update()\n",
    "outflow_peturb = cfe_instance_peturb.get_value('land_surface_water__runoff_depth_ens')\n",
    "#print(outflow_peturb)\n",
    "# Calculate states of ensemble runs\n",
    "x = np.array([np.mean(outflow_peturb)])\n",
    "print('mean',x)\n",
    "std = np.array([np.std(outflow_peturb)])\n",
    "#outflow_peturb_var = np.array([np.var(outflow_peturb)])\n",
    "P =np.eye(1)*np.cov(outflow_peturb)\n",
    "print('cov',P)\n",
    "f = Bmi_da_ENKF.EnsembleKalmanFilter(x=x, P=P, dim_z=dim_z, dt=dt, N=N, hx=hx, fx=fx)\n",
    "print(f)\n"
   ]
  },
  {
   "cell_type": "code",
   "execution_count": 16,
   "metadata": {},
   "outputs": [],
   "source": [
    "EnKF_instance = Bmi_da_ENKF.EnsembleKalmanFilter(x=x, P=P, dim_z=dim_z, dt=dt,\n",
    "                                 N=N, hx=hx, fx=fx)#"
   ]
  },
  {
   "cell_type": "code",
   "execution_count": 19,
   "metadata": {},
   "outputs": [
    {
     "ename": "IndexError",
     "evalue": "invalid index to scalar variable.",
     "output_type": "error",
     "traceback": [
      "\u001b[0;31m---------------------------------------------------------------------------\u001b[0m",
      "\u001b[0;31mIndexError\u001b[0m                                Traceback (most recent call last)",
      "Input \u001b[0;32mIn [19]\u001b[0m, in \u001b[0;36m<cell line: 2>\u001b[0;34m()\u001b[0m\n\u001b[1;32m      1\u001b[0m EnKF_instance\u001b[38;5;241m.\u001b[39minitialize(x,P) \u001b[38;5;66;03m#\u001b[39;00m\n\u001b[0;32m----> 2\u001b[0m z \u001b[38;5;241m=\u001b[39m \u001b[43mobs\u001b[49m\u001b[43m[\u001b[49m\u001b[38;5;241;43m1\u001b[39;49m\u001b[43m]\u001b[49m\n\u001b[1;32m      3\u001b[0m EnKF_instance\u001b[38;5;241m.\u001b[39mupdate(z)\n",
      "\u001b[0;31mIndexError\u001b[0m: invalid index to scalar variable."
     ]
    }
   ],
   "source": [
    "EnKF_instance.initialize(x,P) #\n",
    "z = obs[1]\n",
    "EnKF_instance.update(z)\n",
    "#EnKF_instance.pridict(z)"
   ]
  },
  {
   "cell_type": "code",
   "execution_count": 29,
   "metadata": {},
   "outputs": [
    {
     "ename": "TypeError",
     "evalue": "object of type 'numpy.float64' has no len()",
     "output_type": "error",
     "traceback": [
      "\u001b[0;31m---------------------------------------------------------------------------\u001b[0m",
      "\u001b[0;31mTypeError\u001b[0m                                 Traceback (most recent call last)",
      "Input \u001b[0;32mIn [29]\u001b[0m, in \u001b[0;36m<cell line: 1>\u001b[0;34m()\u001b[0m\n\u001b[0;32m----> 1\u001b[0m f \u001b[38;5;241m=\u001b[39m \u001b[43mBmi_da_ENKF\u001b[49m\u001b[38;5;241;43m.\u001b[39;49m\u001b[43mEnsembleKalmanFilter\u001b[49m\u001b[43m(\u001b[49m\u001b[43mx\u001b[49m\u001b[38;5;241;43m=\u001b[39;49m\u001b[43moutflow_peturb_mean\u001b[49m\u001b[43m,\u001b[49m\u001b[43m \u001b[49m\u001b[43mP\u001b[49m\u001b[38;5;241;43m=\u001b[39;49m\u001b[43moutflow_peturb_covar\u001b[49m\u001b[43m,\u001b[49m\u001b[43m \u001b[49m\u001b[43mdim_z\u001b[49m\u001b[38;5;241;43m=\u001b[39;49m\u001b[43mdim_z\u001b[49m\u001b[43m,\u001b[49m\u001b[43m \u001b[49m\u001b[43mdt\u001b[49m\u001b[38;5;241;43m=\u001b[39;49m\u001b[43mdt\u001b[49m\u001b[43m,\u001b[49m\n\u001b[1;32m      2\u001b[0m \u001b[43m                                 \u001b[49m\u001b[43mN\u001b[49m\u001b[38;5;241;43m=\u001b[39;49m\u001b[43mN\u001b[49m\u001b[43m,\u001b[49m\u001b[43m \u001b[49m\u001b[43mhx\u001b[49m\u001b[38;5;241;43m=\u001b[39;49m\u001b[43mhx\u001b[49m\u001b[43m,\u001b[49m\u001b[43m \u001b[49m\u001b[43mfx\u001b[49m\u001b[38;5;241;43m=\u001b[39;49m\u001b[43mfx\u001b[49m\u001b[43m)\u001b[49m\n",
      "File \u001b[0;32m~/Assimilators_FTD/NextGen---The-Simulators-/NextGen---The-Simulators-/USGS/NextGen---The-Simulators-/USGS/USGS_BMI_FT/cleaned_FT/KalmanFilters/NextGen---The-Simulators-/Toy_Model/./Assimilation/Bmi_da_ENKF.py:171\u001b[0m, in \u001b[0;36mEnsembleKalmanFilter.__init__\u001b[0;34m(self, x, P, dim_z, dt, N, hx, fx)\u001b[0m\n\u001b[1;32m    168\u001b[0m \u001b[38;5;28;01mif\u001b[39;00m N \u001b[38;5;241m<\u001b[39m\u001b[38;5;241m=\u001b[39m \u001b[38;5;241m0\u001b[39m:\n\u001b[1;32m    169\u001b[0m     \u001b[38;5;28;01mraise\u001b[39;00m \u001b[38;5;167;01mValueError\u001b[39;00m(\u001b[38;5;124m'\u001b[39m\u001b[38;5;124mN must be greater than zero\u001b[39m\u001b[38;5;124m'\u001b[39m)\n\u001b[0;32m--> 171\u001b[0m dim_x \u001b[38;5;241m=\u001b[39m \u001b[38;5;28;43mlen\u001b[39;49m\u001b[43m(\u001b[49m\u001b[43mx\u001b[49m\u001b[43m)\u001b[49m\n\u001b[1;32m    172\u001b[0m \u001b[38;5;28mself\u001b[39m\u001b[38;5;241m.\u001b[39mdim_x \u001b[38;5;241m=\u001b[39m dim_x\n\u001b[1;32m    173\u001b[0m \u001b[38;5;28mself\u001b[39m\u001b[38;5;241m.\u001b[39mdim_z \u001b[38;5;241m=\u001b[39m dim_z\n",
      "\u001b[0;31mTypeError\u001b[0m: object of type 'numpy.float64' has no len()"
     ]
    }
   ],
   "source": [
    "# f = Bmi_da_ENKF.EnsembleKalmanFilter(x=outflow_peturb_mean, P=outflow_peturb_covar, dim_z=dim_z, dt=dt,N=N, hx=hx, fx=fx)"
   ]
  },
  {
   "cell_type": "code",
   "execution_count": null,
   "metadata": {},
   "outputs": [],
   "source": []
  },
  {
   "cell_type": "code",
   "execution_count": null,
   "metadata": {},
   "outputs": [],
   "source": [
    "#usgs_instance = Bmi_da_ENKF.EnsembleKalmanFilter()# \n",
    "outflow_peturb_mean = np.mean(outflow_peturb)\n",
    "outflow_peturb_covar = np.cov(outflow_peturb)\n",
    "z=USGS_instance.get_value('Flow')\n",
    "dim_z=1\n",
    "dt=1 # 1 hr\n",
    "N=len(outflow_peturb_mean)\n",
    "outflow_peturb = cfe_instance_peturb.get_value('land_surface_water__runoff_depth_ens')\n",
    "outflow_peturb_mean = np.mean(outflow_peturb)\n",
    "outflow_peturb_std = np.std(outflow_peturb)\n",
    "outflow_peturb_var = np.var(outflow_peturb)\n",
    "def hx(x):\n",
    "    return np.array([x[0]])\n",
    "\n",
    "def fx(x, dt):\n",
    "    return F @ x"
   ]
  },
  {
   "cell_type": "code",
   "execution_count": null,
   "metadata": {},
   "outputs": [],
   "source": []
  },
  {
   "cell_type": "code",
   "execution_count": 10,
   "metadata": {},
   "outputs": [
    {
     "name": "stdout",
     "output_type": "stream",
     "text": [
      "1\n",
      "cov [[100.]]\n"
     ]
    }
   ],
   "source": [
    "x = np.array([0.]) # mean \n",
    "P = np.eye(1) * 100. # covariance\n",
    "print(len(x))\n",
    "print('cov',P)\n",
    "dim_z=1 \n",
    "dt=1 \n",
    "N=100 \n",
    "def hx(x):\n",
    "    return np.array([x[0]])\n",
    "\n",
    "def fx(x, dt):\n",
    "    return F @ x"
   ]
  },
  {
   "cell_type": "code",
   "execution_count": 32,
   "metadata": {},
   "outputs": [],
   "source": [
    "f = Bmi_da_ENKF.EnsembleKalmanFilter(x=x, P=P, dim_z=dim_z, dt=dt,\n",
    "                                 N=N, hx=hx, fx=fx)\n",
    "#print(f)"
   ]
  },
  {
   "cell_type": "code",
   "execution_count": 33,
   "metadata": {},
   "outputs": [],
   "source": [
    "EnKF_instance = Bmi_da_ENKF.EnsembleKalmanFilter(x=x, P=P, dim_z=dim_z, dt=dt,\n",
    "                                 N=N, hx=hx, fx=fx)#"
   ]
  },
  {
   "cell_type": "code",
   "execution_count": 34,
   "metadata": {},
   "outputs": [],
   "source": [
    "\n",
    "EnKF_instance.initialize(x,P) #"
   ]
  },
  {
   "cell_type": "code",
   "execution_count": 35,
   "metadata": {},
   "outputs": [
    {
     "name": "stdout",
     "output_type": "stream",
     "text": [
      "{'x': [], 'P': [], 'dim_z': [], 'dt': [], 'N': [], 'hx': [], 'fx': []}\n"
     ]
    }
   ],
   "source": [
    "outputs=EnKF_instance.get_input_var_names()\n",
    "output_lists = {output:[] for output in outputs}\n",
    "print(output_lists)"
   ]
  },
  {
   "cell_type": "code",
   "execution_count": 36,
   "metadata": {},
   "outputs": [
    {
     "name": "stdout",
     "output_type": "stream",
     "text": [
      "(1,)\n"
     ]
    }
   ],
   "source": [
    "from numpy.random import randn\n",
    "z = np.array([1])\n",
    "print(z.shape)"
   ]
  },
  {
   "cell_type": "code",
   "execution_count": 37,
   "metadata": {},
   "outputs": [
    {
     "name": "stdout",
     "output_type": "stream",
     "text": [
      "[1]\n"
     ]
    }
   ],
   "source": [
    "EnKF_instance.update(z)"
   ]
  },
  {
   "cell_type": "code",
   "execution_count": 28,
   "metadata": {},
   "outputs": [
    {
     "ename": "ValueError",
     "evalue": "matmul: Input operand 1 has a mismatch in its core dimension 0, with gufunc signature (n?,k),(k,m?)->(n?,m?) (size 1 is different from 2)",
     "output_type": "error",
     "traceback": [
      "\u001b[0;31m---------------------------------------------------------------------------\u001b[0m",
      "\u001b[0;31mValueError\u001b[0m                                Traceback (most recent call last)",
      "Input \u001b[0;32mIn [28]\u001b[0m, in \u001b[0;36m<cell line: 2>\u001b[0;34m()\u001b[0m\n\u001b[1;32m      1\u001b[0m F \u001b[38;5;241m=\u001b[39m np\u001b[38;5;241m.\u001b[39marray([\u001b[38;5;241m1.\u001b[39m, \u001b[38;5;241m1.\u001b[39m])\n\u001b[0;32m----> 2\u001b[0m \u001b[43mEnKF_instance\u001b[49m\u001b[38;5;241;43m.\u001b[39;49m\u001b[43mpredict\u001b[49m\u001b[43m(\u001b[49m\u001b[43m)\u001b[49m\n",
      "File \u001b[0;32m~/Assimilators_FTD/NextGen---The-Simulators-/NextGen---The-Simulators-/USGS/NextGen---The-Simulators-/USGS/USGS_BMI_FT/cleaned_FT/KalmanFilters/NextGen---The-Simulators-/Toy_Model/./Assimilation/Bmi_da_ENKF.py:280\u001b[0m, in \u001b[0;36mEnsembleKalmanFilter.predict\u001b[0;34m(self)\u001b[0m\n\u001b[1;32m    278\u001b[0m N \u001b[38;5;241m=\u001b[39m \u001b[38;5;28mself\u001b[39m\u001b[38;5;241m.\u001b[39mN\n\u001b[1;32m    279\u001b[0m \u001b[38;5;28;01mfor\u001b[39;00m i, s \u001b[38;5;129;01min\u001b[39;00m \u001b[38;5;28menumerate\u001b[39m(\u001b[38;5;28mself\u001b[39m\u001b[38;5;241m.\u001b[39msigmas):\n\u001b[0;32m--> 280\u001b[0m     \u001b[38;5;28mself\u001b[39m\u001b[38;5;241m.\u001b[39msigmas[i] \u001b[38;5;241m=\u001b[39m \u001b[38;5;28;43mself\u001b[39;49m\u001b[38;5;241;43m.\u001b[39;49m\u001b[43mfx\u001b[49m\u001b[43m(\u001b[49m\u001b[43ms\u001b[49m\u001b[43m,\u001b[49m\u001b[43m \u001b[49m\u001b[38;5;28;43mself\u001b[39;49m\u001b[38;5;241;43m.\u001b[39;49m\u001b[43mdt\u001b[49m\u001b[43m)\u001b[49m\n\u001b[1;32m    282\u001b[0m e \u001b[38;5;241m=\u001b[39m multivariate_normal(\u001b[38;5;28mself\u001b[39m\u001b[38;5;241m.\u001b[39m_mean, \u001b[38;5;28mself\u001b[39m\u001b[38;5;241m.\u001b[39mQ, N)\n\u001b[1;32m    283\u001b[0m \u001b[38;5;28mself\u001b[39m\u001b[38;5;241m.\u001b[39msigmas \u001b[38;5;241m+\u001b[39m\u001b[38;5;241m=\u001b[39m e\n",
      "Input \u001b[0;32mIn [18]\u001b[0m, in \u001b[0;36mfx\u001b[0;34m(x, dt)\u001b[0m\n\u001b[1;32m     11\u001b[0m \u001b[38;5;28;01mdef\u001b[39;00m \u001b[38;5;21mfx\u001b[39m(x, dt):\n\u001b[0;32m---> 12\u001b[0m     \u001b[38;5;28;01mreturn\u001b[39;00m \u001b[43mF\u001b[49m\u001b[43m \u001b[49m\u001b[38;5;241;43m@\u001b[39;49m\u001b[43m \u001b[49m\u001b[43mx\u001b[49m\n",
      "\u001b[0;31mValueError\u001b[0m: matmul: Input operand 1 has a mismatch in its core dimension 0, with gufunc signature (n?,k),(k,m?)->(n?,m?) (size 1 is different from 2)"
     ]
    }
   ],
   "source": [
    "F = np.array([1., 1.])\n",
    "EnKF_instance.predict()"
   ]
  },
  {
   "cell_type": "code",
   "execution_count": 11,
   "metadata": {},
   "outputs": [],
   "source": [
    "# -*- coding: utf-8 -*-\n",
    "# pylint: disable=invalid-name, too-many-arguments, too-many-instance-attributes\n",
    "# pylint: disable=attribute-defined-outside-init\n",
    "\n",
    "\"\"\"Copyright 2015 Roger R Labbe Jr.\n",
    "FilterPy library.\n",
    "http://github.com/rlabbe/filterpy\n",
    "Documentation at:\n",
    "https://filterpy.readthedocs.org\n",
    "Supporting book at:\n",
    "https://github.com/rlabbe/Kalman-and-Bayesian-Filters-in-Python\n",
    "This is licensed under an MIT license. See the readme.MD file\n",
    "for more information.\n",
    "\"\"\"\n",
    "\n",
    "\n",
    "from __future__ import (absolute_import, division, print_function,\n",
    "                        unicode_literals)\n",
    "\n",
    "from copy import deepcopy\n",
    "import numpy as np\n",
    "from numpy import array, zeros, eye, dot\n",
    "from numpy.random import multivariate_normal\n",
    "from filterpy.common import pretty_str, outer_product_sum\n",
    "\n",
    "\n",
    "class EnsembleKalmanFilter():\n",
    "    \"\"\"\n",
    "    This implements the ensemble Kalman filter (EnKF). The EnKF uses\n",
    "    an ensemble of hundreds to thousands of state vectors that are randomly\n",
    "    sampled around the estimate, and adds perturbations at each update and\n",
    "    predict step. It is useful for extremely large systems such as found\n",
    "    in hydrophysics. As such, this class is admittedly a toy as it is far\n",
    "    too slow with large N.\n",
    "    There are many versions of this sort of this filter. This formulation is\n",
    "    due to Crassidis and Junkins [1]. It works with both linear and nonlinear\n",
    "    systems.\n",
    "    Parameters\n",
    "    ----------\n",
    "    x : np.array(dim_x)\n",
    "        state mean\n",
    "    P : np.array((dim_x, dim_x))\n",
    "        covariance of the state\n",
    "    dim_z : int\n",
    "        Number of of measurement inputs. For example, if the sensor\n",
    "        provides you with position in (x,y), dim_z would be 2.\n",
    "    dt : float\n",
    "        time step in seconds\n",
    "    N : int\n",
    "        number of sigma points (ensembles). Must be greater than 1.\n",
    "    K : np.array\n",
    "        Kalman gain\n",
    "    hx : function hx(x)\n",
    "        Measurement function. May be linear or nonlinear - converts state\n",
    "        x into a measurement. Return must be an np.array of the same\n",
    "        dimensionality as the measurement vector.\n",
    "    fx : function fx(x, dt)\n",
    "        State transition function. May be linear or nonlinear. Projects\n",
    "        state x into the next time period. Returns the projected state x.\n",
    "    Attributes\n",
    "    ----------\n",
    "    x : numpy.array(dim_x, 1)\n",
    "        State estimate\n",
    "    P : numpy.array(dim_x, dim_x)\n",
    "        State covariance matrix\n",
    "    x_prior : numpy.array(dim_x, 1)\n",
    "        Prior (predicted) state estimate. The *_prior and *_post attributes\n",
    "        are for convienence; they store the  prior and posterior of the\n",
    "        current epoch. Read Only.\n",
    "    P_prior : numpy.array(dim_x, dim_x)\n",
    "        Prior (predicted) state covariance matrix. Read Only.\n",
    "    x_post : numpy.array(dim_x, 1)\n",
    "        Posterior (updated) state estimate. Read Only.\n",
    "    P_post : numpy.array(dim_x, dim_x)\n",
    "        Posterior (updated) state covariance matrix. Read Only.\n",
    "    z : numpy.array\n",
    "        Last measurement used in update(). Read only.\n",
    "    R : numpy.array(dim_z, dim_z)\n",
    "        Measurement noise matrix\n",
    "    Q : numpy.array(dim_x, dim_x)\n",
    "        Process noise matrix\n",
    "    fx : callable (x, dt)\n",
    "        State transition function\n",
    "    hx : callable (x)\n",
    "        Measurement function. Convert state `x` into a measurement\n",
    "    K : numpy.array(dim_x, dim_z)\n",
    "        Kalman gain of the update step. Read only.\n",
    "    inv : function, default numpy.linalg.inv\n",
    "        If you prefer another inverse function, such as the Moore-Penrose\n",
    "        pseudo inverse, set it to that instead: kf.inv = np.linalg.pinv\n",
    "    Examples\n",
    "    --------\n",
    "    .. code-block:: Python\n",
    "        def hx(x):\n",
    "           return np.array([x[0]])\n",
    "        F = np.array([[1., 1.],\n",
    "                      [0., 1.]])\n",
    "        def fx(x, dt):\n",
    "            return np.dot(F, x)\n",
    "        x = np.array([0., 1.])\n",
    "        P = np.eye(2) * 100.\n",
    "        dt = 0.1\n",
    "        f = EnsembleKalmanFilter(x=x, P=P, dim_z=1, dt=dt,\n",
    "                                 N=8, hx=hx, fx=fx)\n",
    "        std_noise = 3.\n",
    "        f.R *= std_noise**2\n",
    "        f.Q = Q_discrete_white_noise(2, dt, .01)\n",
    "        while True:\n",
    "            z = read_sensor()\n",
    "            f.predict()\n",
    "            f.update(np.asarray([z]))\n",
    "    See my book Kalman and Bayesian Filters in Python\n",
    "    https://github.com/rlabbe/Kalman-and-Bayesian-Filters-in-Python\n",
    "    References\n",
    "    ----------\n",
    "    - [1] John L Crassidis and John L. Junkins. \"Optimal Estimation of\n",
    "      Dynamic Systems. CRC Press, second edition. 2012. pp, 257-9.\n",
    "    \"\"\"\n",
    "\n",
    "    def __init__(self, x, P, dim_z, dt, N, hx, fx):\n",
    "        if dim_z <= 0:\n",
    "            raise ValueError('dim_z must be greater than zero')\n",
    "\n",
    "        if N <= 0:\n",
    "            raise ValueError('N must be greater than zero')\n",
    "\n",
    "        dim_x = len(x)\n",
    "        self.dim_x = dim_x\n",
    "        self.dim_z = dim_z\n",
    "        self.dt = dt\n",
    "        self.N = N\n",
    "        self.hx = hx\n",
    "        self.fx = fx\n",
    "        self.K = zeros((dim_x, dim_z))\n",
    "        self.z = array([[None] * self.dim_z]).T\n",
    "        self.S = zeros((dim_z, dim_z))   # system uncertainty\n",
    "        self.SI = zeros((dim_z, dim_z))  # inverse system uncertainty\n",
    "\n",
    "        self.initialize(x, P)\n",
    "        self.Q = eye(dim_x)       # process uncertainty\n",
    "        self.R = eye(dim_z)       # state uncertainty\n",
    "        self.inv = np.linalg.inv\n",
    "\n",
    "        # used to create error terms centered at 0 mean for\n",
    "        # state and measurement\n",
    "        self._mean = zeros(dim_x)\n",
    "        self._mean_z = zeros(dim_z)\n",
    "\n",
    "    def initialize(self, x, P):\n",
    "        \"\"\"\n",
    "        Initializes the filter with the specified mean and\n",
    "        covariance. Only need to call this if you are using the filter\n",
    "        to filter more than one set of data; this is called by __init__\n",
    "        Parameters\n",
    "        ----------\n",
    "        x : np.array(dim_z)\n",
    "            state mean\n",
    "        P : np.array((dim_x, dim_x))\n",
    "            covariance of the state\n",
    "        \"\"\"\n",
    "\n",
    "        if x.ndim != 1:\n",
    "            raise ValueError('x must be a 1D array')\n",
    "\n",
    "        self.sigmas = multivariate_normal(mean=x, cov=P, size=self.N)\n",
    "        self.x = x\n",
    "        self.P = P\n",
    "\n",
    "        # these will always be a copy of x,P after predict() is called\n",
    "        self.x_prior = self.x.copy()\n",
    "        self.P_prior = self.P.copy()\n",
    "\n",
    "        # these will always be a copy of x,P after update() is called\n",
    "        self.x_post = self.x.copy()\n",
    "        self.P_post = self.P.copy()\n",
    "\n",
    "    def update(self, z, R=None):\n",
    "        \"\"\"\n",
    "        Add a new measurement (z) to the kalman filter. If z is None, nothing\n",
    "        is changed.\n",
    "        Parameters\n",
    "        ----------\n",
    "        z : np.array\n",
    "            measurement for this update.\n",
    "        R : np.array, scalar, or None\n",
    "            Optionally provide R to override the measurement noise for this\n",
    "            one call, otherwise self.R will be used.\n",
    "        \"\"\"\n",
    "\n",
    "        if z is None:\n",
    "            self.z = array([[None]*self.dim_z]).T\n",
    "            self.x_post = self.x.copy()\n",
    "            self.P_post = self.P.copy()\n",
    "            return\n",
    "\n",
    "        if R is None:\n",
    "            R = self.R\n",
    "        if np.isscalar(R):\n",
    "            R = eye(self.dim_z) * R\n",
    "\n",
    "        N = self.N\n",
    "        dim_z = len(z)\n",
    "        sigmas_h = zeros((N, dim_z))\n",
    "\n",
    "        # transform sigma points into measurement space\n",
    "        for i in range(N):\n",
    "            sigmas_h[i] = self.hx(self.sigmas[i])\n",
    "\n",
    "        z_mean = np.mean(sigmas_h, axis=0)\n",
    "\n",
    "        P_zz = (outer_product_sum(sigmas_h - z_mean) / (N-1)) + R\n",
    "        P_xz = outer_product_sum(\n",
    "            self.sigmas - self.x, sigmas_h - z_mean) / (N - 1)\n",
    "\n",
    "        self.S = P_zz\n",
    "        self.SI = self.inv(self.S)\n",
    "        self.K = dot(P_xz, self.SI)\n",
    "\n",
    "        e_r = multivariate_normal(self._mean_z, R, N)\n",
    "        for i in range(N):\n",
    "            self.sigmas[i] += dot(self.K, z + e_r[i] - sigmas_h[i])\n",
    "\n",
    "        self.x = np.mean(self.sigmas, axis=0)\n",
    "        self.P = self.P - dot(dot(self.K, self.S), self.K.T)\n",
    "\n",
    "        # save measurement and posterior state\n",
    "        self.z = deepcopy(z)\n",
    "        self.x_post = self.x.copy()\n",
    "        self.P_post = self.P.copy()\n",
    "\n",
    "    def predict(self):\n",
    "        \"\"\" Predict next position. \"\"\"\n",
    "\n",
    "        N = self.N\n",
    "        for i, s in enumerate(self.sigmas):\n",
    "            self.sigmas[i] = self.fx(s, self.dt)\n",
    "\n",
    "        e = multivariate_normal(self._mean, self.Q, N)\n",
    "        self.sigmas += e\n",
    "\n",
    "        self.x = np.mean(self.sigmas, axis=0)\n",
    "        self.P = outer_product_sum(self.sigmas - self.x) / (N - 1)\n",
    "\n",
    "        # save prior\n",
    "        self.x_prior = np.copy(self.x)\n",
    "        self.P_prior = np.copy(self.P)\n",
    "\n",
    "    def __repr__(self):\n",
    "        return '\\n'.join([\n",
    "            'EnsembleKalmanFilter object',\n",
    "            pretty_str('dim_x', self.dim_x),\n",
    "            pretty_str('dim_z', self.dim_z),\n",
    "            pretty_str('dt', self.dt),\n",
    "            pretty_str('x', self.x),\n",
    "            pretty_str('P', self.P),\n",
    "            pretty_str('x_prior', self.x_prior),\n",
    "            pretty_str('P_prior', self.P_prior),\n",
    "            pretty_str('Q', self.Q),\n",
    "            pretty_str('R', self.R),\n",
    "            pretty_str('K', self.K),\n",
    "            pretty_str('S', self.S),\n",
    "            pretty_str('sigmas', self.sigmas),\n",
    "            pretty_str('hx', self.hx),\n",
    "            pretty_str('fx', self.fx)\n",
    "            ])"
   ]
  },
  {
   "cell_type": "code",
   "execution_count": null,
   "metadata": {},
   "outputs": [],
   "source": [
    "# after original\n",
    "# Make empty matrices for plotting\n",
    "sim = []\n",
    "obs = []\n",
    "assimilation = []\n",
    "cfe = []\n",
    "\n",
    "# Run USG model\n",
    "USGS_instance.update()\n",
    "obs = USGS_instance.get_value('Flow')\n",
    "#print(obs)\n",
    "############################################\n",
    "# change this\n",
    "dim_z=1\n",
    "dt=1\n",
    "N=700\n",
    "\n",
    "def hx(x):\n",
    "    return np.array([x[0]])\n",
    "\n",
    "def fx(x, dt):\n",
    "    return F @ x\n",
    "#####################################################################\n",
    "#print('check'+outflow_peturb_mean)\n",
    "for i, precip in enumerate(df_forcing['APCP_surface']): #i is \n",
    "    \n",
    "    framework_time = (1+i)*3600 #seconds since starting simulation\n",
    "    \n",
    "    # Run CFE model\n",
    "    cfe_instance.set_value('atmosphere_water__time_integral_of_precipitation_mass_flux', precip) #value of precip from forcing data in loop\n",
    "    cfe_instance.update()\n",
    "    outflow = cfe_instance.get_value('land_surface_water__runoff_depth')\n",
    "    cfe.append(outflow)\n",
    "    \n",
    "    # Peturbation run   \n",
    "    cfe_instance_peturb.set_value('atmosphere_water__time_integral_of_precipitation_mass_flux', precip) #value of precip from forcing data in loop\n",
    "    cfe_instance_peturb.update()\n",
    "    outflow_peturb = cfe_instance_peturb.get_value('land_surface_water__runoff_depth_ens')\n",
    "    #print(outflow_peturb)\n",
    "    # Calculate states of ensemble runs\n",
    "    outflow_peturb_mean = np.mean(outflow_peturb)\n",
    "    outflow_peturb_std = np.std(outflow_peturb)\n",
    "    outflow_peturb_var = np.var(outflow_peturb)\n",
    "    outflow_peturb_covar = np.cov(outflow_peturb)\n",
    "    \n",
    "    #obs.append(outflow_peturb_std)\n",
    "    sim.append(outflow_peturb_mean)\n",
    "    \n",
    "    #print('The mean is ', outflow_peturb_mean)\n",
    "    f = Bmi_da_ENKF.EnsembleKalmanFilter(x=x, P=P, dim_z=dim_z, dt=dt,N=N, hx=hx, fx=fx)\n",
    "    cfe_assimilation.set_value('obs', obs[i]*10) #need these to represent pdf of flows\n",
    "    cfe_assimilation.set_value('sim', outflow_peturb_mean)\n",
    "    cfe_assimilation.update()\n",
    "      # Assimilation\n",
    "    x=np.array([np.mean(outflow_peturb)])\n",
    "    P=np.eye(1)*outflow_peturb_covar\n",
    "    \n",
    "\n",
    "    \n",
    "    #\n",
    "    # Make matrix to put assimilation output\n",
    "    output = np.zeros(1)\n",
    "    DA_output = cfe_assimilation.get_value('assimilation', output)\n",
    "    #print(DA_output)\n",
    "    assimilation.append(DA_output) #append empty matrix to output for plotting\n",
    "    \n",
    "print('The covarince is', outflow_peturb_covar)\n",
    "# print('The mean is ', outflow_peturb_mean)\n",
    "# print('The std is ', outflow_peturb_std)"
   ]
  }
 ],
 "metadata": {
  "interpreter": {
   "hash": "48087b1dd6fd9cac5443e644a0d4129b651e7391329039552a2a569bcdc99a30"
  },
  "kernelspec": {
   "display_name": "Python [conda env:root] *",
   "language": "python",
   "name": "conda-root-py"
  },
  "language_info": {
   "codemirror_mode": {
    "name": "ipython",
    "version": 3
   },
   "file_extension": ".py",
   "mimetype": "text/x-python",
   "name": "python",
   "nbconvert_exporter": "python",
   "pygments_lexer": "ipython3",
   "version": "3.9.12"
  }
 },
 "nbformat": 4,
 "nbformat_minor": 4
}
