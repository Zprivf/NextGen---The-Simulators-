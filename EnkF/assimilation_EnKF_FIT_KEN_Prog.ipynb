{
 "cells": [
  {
   "cell_type": "markdown",
   "metadata": {},
   "source": [
    "# Experiment with `Data Assimilation- Observed-simulation ENKF`"
   ]
  },
  {
   "cell_type": "code",
   "execution_count": 3,
   "metadata": {},
   "outputs": [],
   "source": [
    "import sys \n",
    "import time\n",
    "import numpy as np\n",
    "import pandas as pd\n",
    "import json\n",
    "import matplotlib.pyplot as plt\n",
    "import sys\n",
    "sys.path.insert(0, './CFE')\n",
    "import bmi_cfe\n",
    "import bmi_cfe_peturb\n",
    "\n",
    "sys.path.insert(0, './Assimilation')\n",
    "\n",
    "import Bmi_da_ENKF\n",
    "import sys\n",
    "\n",
    "#sys.path.append('/home/jovyan/data/NextGen---The-Simulators-/USGS/USGS_BMI_FT/cleaned_FT')\n",
    "#sys.path.append('/Assimilators_FTD/NextGen---The-Simulators-/NextGen---The-Simulators-/USGS/NextGen---The-Simulators-/USGS/USGS_BMI_FT/cleaned_FT/KalmanFilters/NextGen---The-Simulators-/Toy_Model/Assimilation/NextGen---The-Simulators-/USGS/USGS_BMI_FT')\n",
    "sys.path.insert(0, '../USGS/USGS_BMI_FT')\n",
    "import bmi_usgs"
   ]
  },
  {
   "cell_type": "code",
   "execution_count": 4,
   "metadata": {},
   "outputs": [
    {
     "name": "stdout",
     "output_type": "stream",
     "text": [
      "Input variables:\n",
      "\n",
      "USGS\n",
      "['sites', 'service', 'start', 'end']\n",
      "CFE\n",
      "['atmosphere_water__time_integral_of_precipitation_mass_flux', 'water_potential_evaporation_flux']\n",
      "\n",
      "Output variables:\n"
     ]
    },
    {
     "ename": "NameError",
     "evalue": "name 'cfe_assimilation' is not defined",
     "output_type": "error",
     "traceback": [
      "\u001b[0;31m---------------------------------------------------------------------------\u001b[0m",
      "\u001b[0;31mNameError\u001b[0m                                 Traceback (most recent call last)",
      "Input \u001b[0;32mIn [4]\u001b[0m, in \u001b[0;36m<cell line: 12>\u001b[0;34m()\u001b[0m\n\u001b[1;32m      9\u001b[0m \u001b[38;5;28mprint\u001b[39m(cfe_instance_peturb\u001b[38;5;241m.\u001b[39mget_input_var_names())\n\u001b[1;32m     11\u001b[0m \u001b[38;5;28mprint\u001b[39m(\u001b[38;5;124m\"\u001b[39m\u001b[38;5;130;01m\\n\u001b[39;00m\u001b[38;5;124mOutput variables:\u001b[39m\u001b[38;5;124m\"\u001b[39m)\n\u001b[0;32m---> 12\u001b[0m \u001b[38;5;28mprint\u001b[39m(\u001b[43mcfe_assimilation\u001b[49m\u001b[38;5;241m.\u001b[39mget_output_var_names())\n\u001b[1;32m     13\u001b[0m \u001b[38;5;28mprint\u001b[39m(USGS_instance\u001b[38;5;241m.\u001b[39mget_output_var_names())\n",
      "\u001b[0;31mNameError\u001b[0m: name 'cfe_assimilation' is not defined"
     ]
    }
   ],
   "source": [
    "USGS_instance = bmi_usgs.BMI_USGS()\n",
    "cfe_instance_peturb = bmi_cfe_peturb.BMI_CFE()\n",
    "cfe_instance = bmi_cfe.BMI_CFE() #one that changes state vars\n",
    "\n",
    "print(\"Input variables:\\n\")\n",
    "print(\"USGS\")\n",
    "print(USGS_instance.get_input_var_names())\n",
    "print(\"CFE\")\n",
    "print(cfe_instance_peturb.get_input_var_names())\n",
    "\n",
    "print(\"\\nOutput variables:\")\n",
    "print(cfe_assimilation.get_output_var_names())\n",
    "print(USGS_instance.get_output_var_names())"
   ]
  },
  {
   "cell_type": "code",
   "execution_count": 5,
   "metadata": {},
   "outputs": [],
   "source": [
    "USGS_instance.initialize(cfg_file='../USGS/USGS_BMI_FT/usgs_config.json')\n",
    "cfe_instance_peturb.initialize(cfg_file='./CFE/cat_58_config_cfe_peturb_model.json')\n",
    "cfe_instance.initialize(cfg_file='./CFE/cat_58_config_cfe_peturb_model.json')"
   ]
  },
  {
   "cell_type": "code",
   "execution_count": null,
   "metadata": {},
   "outputs": [],
   "source": []
  },
  {
   "cell_type": "code",
   "execution_count": 6,
   "metadata": {},
   "outputs": [],
   "source": [
    "with open(cfe_instance_peturb.forcing_file, 'r') as f:\n",
    "    df_forcing = pd.read_csv(f)\n",
    "#print(df_forcing)"
   ]
  },
  {
   "cell_type": "code",
   "execution_count": null,
   "metadata": {},
   "outputs": [],
   "source": []
  },
  {
   "cell_type": "code",
   "execution_count": 9,
   "metadata": {},
   "outputs": [
    {
     "name": "stdout",
     "output_type": "stream",
     "text": [
      "                           Date    Flow  validity\n",
      "0     2015-11-01 06:00:00+00:00  2.5000       1.0\n",
      "1     2015-11-01 07:00:00+00:00  2.5000       1.0\n",
      "2     2015-11-01 08:00:00+00:00  2.5000       1.0\n",
      "3     2015-11-01 09:00:00+00:00  2.5000       1.0\n",
      "4     2015-11-01 10:00:00+00:00  2.4925       1.0\n",
      "...                         ...     ...       ...\n",
      "10220 2016-12-31 02:00:00+00:00  2.5450       1.0\n",
      "10221 2016-12-31 03:00:00+00:00  2.6325       1.0\n",
      "10222 2016-12-31 04:00:00+00:00  2.6325       1.0\n",
      "10223 2016-12-31 05:00:00+00:00  2.5975       1.0\n",
      "10224 2016-12-31 06:00:00+00:00  2.5800       1.0\n",
      "\n",
      "[10225 rows x 3 columns]\n",
      "USGS station ID 10109000\n"
     ]
    },
    {
     "data": {
      "text/plain": [
       "<matplotlib.legend.Legend at 0x7f8cf8604820>"
      ]
     },
     "execution_count": 9,
     "metadata": {},
     "output_type": "execute_result"
    },
    {
     "data": {
      "image/png": "[encoded data removed]",
      "text/plain": [
       "<Figure size 432x288 with 1 Axes>"
      ]
     },
     "metadata": {
      "needs_background": "light"
     },
     "output_type": "display_data"
    }
   ],
   "source": [
    "# Make empty matrices for plotting\n",
    "sim = []\n",
    "obs = []\n",
    "cfe = []\n",
    "\n",
    "############################################\n",
    "# change this for ENKF\n",
    "EnKF_results=[]\n",
    "measurements = []\n",
    "# Run USG model\n",
    "USGS_instance.update()\n",
    "obs = USGS_instance.get_value('Flow')\n",
    "dim_z=1\n",
    "dt=1\n",
    "N=700\n",
    "\n",
    "# state trans. functions; NEED UPDATE\n",
    "def hx(x):\n",
    "    return np.array([x[0]])\n",
    "def fx(x, dt):\n",
    "    return F @ x\n",
    "#####################################################################\n",
    "\n",
    "for i, precip in enumerate(df_forcing['APCP_surface']): #i is \n",
    "    \n",
    "    framework_time = (1+i)*3600 #seconds since starting simulation\n",
    "    \n",
    "    # Run CFE model\n",
    "    cfe_instance.set_value('atmosphere_water__time_integral_of_precipitation_mass_flux', precip) #value of precip from forcing data in loop\n",
    "    cfe_instance.update()\n",
    "    outflow = cfe_instance.get_value('land_surface_water__runoff_depth')\n",
    "    cfe.append(outflow)\n",
    "    \n",
    "    # Peturbation run   \n",
    "    cfe_instance_peturb.set_value('atmosphere_water__time_integral_of_precipitation_mass_flux', precip) #value of precip from forcing data in loop\n",
    "    cfe_instance_peturb.update()\n",
    "    outflow_peturb = cfe_instance_peturb.get_value('land_surface_water__runoff_depth_ens')\n",
    "    #print(outflow_peturb)\n",
    "    # Calculate states of ensemble runs\n",
    "    outflow_peturb_mean = np.mean(outflow_peturb)\n",
    "    outflow_peturb_std = np.std(outflow_peturb)\n",
    "    outflow_peturb_var = np.var(outflow_peturb)\n",
    "    outflow_peturb_covar = np.cov(outflow_peturb)\n",
    "    \n",
    "    #obs.append(outflow_peturb_std)\n",
    "    sim.append(outflow_peturb_mean)#*35.314666212661) # check if the cfs and m3/sec are good.\n",
    "    \n",
    "#Assimilation using ENKF\n",
    "    x=np.array([np.mean(outflow_peturb)])\n",
    "    P=np.eye(1)*outflow_peturb_covar\n",
    "    f = Bmi_da_ENKF.EnsembleKalmanFilter(x=x, P=P, dim_z=dim_z, dt=dt,N=N, hx=hx, fx=fx)\n",
    "    f.initialize(x,P) #\n",
    "    z = np.array([obs[i]])*10\n",
    "    F = np.array([[1]]) # state transition function\n",
    "    \n",
    "    f.predict()\n",
    "    f.update(z)\n",
    "    EnKF_results.append(f.x)\n",
    "    measurements.append(z)\n",
    "\n",
    "plt.plot(EnKF_results, label='EnKF')\n",
    "plt.plot(measurements,label='USGS')\n",
    "plt.plot(sim,label='CFE')\n",
    "plt.legend(loc=2)"
   ]
  },
  {
   "cell_type": "code",
   "execution_count": null,
   "metadata": {},
   "outputs": [],
   "source": []
  },
  {
   "cell_type": "code",
   "execution_count": null,
   "metadata": {},
   "outputs": [],
   "source": []
  },
  {
   "cell_type": "code",
   "execution_count": null,
   "metadata": {},
   "outputs": [],
   "source": []
  },
  {
   "cell_type": "code",
   "execution_count": null,
   "metadata": {},
   "outputs": [],
   "source": []
  },
  {
   "cell_type": "code",
   "execution_count": null,
   "metadata": {},
   "outputs": [],
   "source": []
  },
  {
   "cell_type": "code",
   "execution_count": null,
   "metadata": {},
   "outputs": [],
   "source": []
  },
  {
   "cell_type": "code",
   "execution_count": null,
   "metadata": {},
   "outputs": [],
   "source": []
  },
  {
   "cell_type": "code",
   "execution_count": null,
   "metadata": {},
   "outputs": [],
   "source": []
  },
  {
   "cell_type": "code",
   "execution_count": null,
   "metadata": {},
   "outputs": [],
   "source": []
  }
 ],
 "metadata": {
  "interpreter": {
   "hash": "48087b1dd6fd9cac5443e644a0d4129b651e7391329039552a2a569bcdc99a30"
  },
  "kernelspec": {
   "display_name": "Python [conda env:root] *",
   "language": "python",
   "name": "conda-root-py"
  },
  "language_info": {
   "codemirror_mode": {
    "name": "ipython",
    "version": 3
   },
   "file_extension": ".py",
   "mimetype": "text/x-python",
   "name": "python",
   "nbconvert_exporter": "python",
   "pygments_lexer": "ipython3",
   "version": "3.9.12"
  }
 },
 "nbformat": 4,
 "nbformat_minor": 4
}
