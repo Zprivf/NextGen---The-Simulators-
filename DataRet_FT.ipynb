{
 "cells": [
  {
   "cell_type": "code",
   "execution_count": 8,
   "id": "ee2a1873-23fa-42ec-b2ec-ef057d53943c",
   "metadata": {},
   "outputs": [],
   "source": [
    "from dataretrieval import nwis, utils, codes"
   ]
  },
  {
   "cell_type": "code",
   "execution_count": 28,
   "id": "057f0a7d-0b09-4c45-91a2-6c8355c13c2a",
   "metadata": {},
   "outputs": [
    {
     "data": {
      "text/plain": [
       "datetime\n",
       "1970-04-20 00:00:00+00:00    16300\n",
       "1971-02-05 00:00:00+00:00     8910\n",
       "1972-04-22 00:00:00+00:00     9240\n",
       "1973-04-23 00:00:00+00:00    16600\n",
       "1974-06-23 00:00:00+00:00    19500\n",
       "1975-02-23 00:00:00+00:00    13000\n",
       "1976-02-17 00:00:00+00:00    11400\n",
       "1977-09-14 00:00:00+00:00     9370\n",
       "1977-10-02 00:00:00+00:00    14800\n",
       "1979-03-05 00:00:00+00:00    23300\n",
       "1980-06-04 00:00:00+00:00    17600\n",
       "1981-05-15 00:00:00+00:00    10800\n",
       "1982-02-23 00:00:00+00:00    17000\n",
       "1983-05-03 00:00:00+00:00    27800\n",
       "1984-03-21 00:00:00+00:00    15400\n",
       "1985-02-24 00:00:00+00:00    27600\n",
       "1985-11-21 00:00:00+00:00    18900\n",
       "1987-04-15 00:00:00+00:00     4920\n",
       "1987-12-29 00:00:00+00:00     9170\n",
       "1989-05-26 00:00:00+00:00    15400\n",
       "Name: peak_va, dtype: int64"
      ]
     },
     "execution_count": 28,
     "metadata": {},
     "output_type": "execute_result"
    }
   ],
   "source": [
    "# download annual peaks from a single site\n",
    "df = nwis.get_record(sites='03339000', service='peaks',start='1970-01-01',end='1990-01-01')   # start='1970-01-01')\n",
    "#df = nwis.get_record(state_cd='il', service='peaks', start='1970-01-01',end='1972-01-01')\n",
    "df['peak_va']"
   ]
  },
  {
   "cell_type": "code",
   "execution_count": null,
   "id": "6345c5ac-a509-4285-90c3-82c28b8fe2b9",
   "metadata": {},
   "outputs": [],
   "source": []
  },
  {
   "cell_type": "code",
   "execution_count": null,
   "id": "389e1db0-1365-4e1a-b505-6e544b99d163",
   "metadata": {},
   "outputs": [],
   "source": []
  }
 ],
 "metadata": {
  "kernelspec": {
   "display_name": "Python 3 (ipykernel)",
   "language": "python",
   "name": "python3"
  },
  "language_info": {
   "codemirror_mode": {
    "name": "ipython",
    "version": 3
   },
   "file_extension": ".py",
   "mimetype": "text/x-python",
   "name": "python",
   "nbconvert_exporter": "python",
   "pygments_lexer": "ipython3",
   "version": "3.9.12"
  }
 },
 "nbformat": 4,
 "nbformat_minor": 5
}
