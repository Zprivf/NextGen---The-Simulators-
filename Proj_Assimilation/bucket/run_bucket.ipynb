{
 "cells": [
  {
   "cell_type": "markdown",
   "id": "0a3635bd",
   "metadata": {},
   "source": [
    "# Simple bucket with a hole model\n",
    "This model is basically just for demonstration. This is an example run of the Python implimentation of the model.\n",
    "## bmi_bucket\n",
    "This is the code for the Basic Model Interface (BMI) that is used to call the bucket model and interact with other models via the Framework, or driving code. This code contains all the required BMI functions to run the CFE, including \n",
    " - initialize: Perform startup tasks for the model.\n",
    " - update: Advance model state by one time step. Calls the function `run_cfe` from `cfe.py`\n",
    " - update_until: Advance model state until the given time.\n",
    " - finalize: Perform tear-down tasks for the model.\n",
    " - get_value: Get a copy of values of a given variable.\n",
    " - set_value: Set the values of a given variable.\n",
    " - etc.  \n",
    " These functions need to be called by a framework or driving code, an example of which is below."
   ]
  },
  {
   "cell_type": "code",
   "execution_count": 1,
   "id": "4f1c9bb4",
   "metadata": {},
   "outputs": [],
   "source": [
    "import time\n",
    "import numpy as np\n",
    "import pandas as pd\n",
    "import json\n",
    "import matplotlib.pyplot as plt\n",
    "import bmi_bucket"
   ]
  },
  {
   "cell_type": "markdown",
   "id": "81b22b83",
   "metadata": {},
   "source": [
    "### Create an instance of the model with a specific configuration that corresponds to a particular catchmenmt."
   ]
  },
  {
   "cell_type": "code",
   "execution_count": 2,
   "id": "ce555bd9",
   "metadata": {},
   "outputs": [],
   "source": [
    "bucket_instance = bmi_bucket.BMI_BUCKET()"
   ]
  },
  {
   "cell_type": "markdown",
   "id": "08fbe912",
   "metadata": {},
   "source": [
    "### This initialization function should perform all tasks that are to take place before entering the model’s time loop. Models should be refactored, if necessary, to read their inputs (which could include filenames for other input files) from a configuration file. BMI does not impose any constraint on how configuration files are formatted."
   ]
  },
  {
   "cell_type": "code",
   "execution_count": 3,
   "id": "c05f5d19",
   "metadata": {},
   "outputs": [],
   "source": [
    "bucket_instance.initialize(cfg_file='./cat_58_config_bucket.json', current_time_step=0)"
   ]
  },
  {
   "cell_type": "markdown",
   "id": "9fd1796b",
   "metadata": {},
   "source": [
    "### Open the forcing file contained within the configuration file. We can run the model with any forcing. This is only an example. The path to the forcing file is contained within the configuration file, but it doesn't really need to be. This is just for organization."
   ]
  },
  {
   "cell_type": "code",
   "execution_count": 4,
   "id": "9941d994",
   "metadata": {},
   "outputs": [],
   "source": [
    "with open(bucket_instance.forcing_file, 'r') as f:\n",
    "    df_forcing = pd.read_csv(f)"
   ]
  },
  {
   "cell_type": "markdown",
   "id": "eaf15e86",
   "metadata": {},
   "source": [
    "### We will want to visualize the model output"
   ]
  },
  {
   "cell_type": "code",
   "execution_count": 5,
   "id": "ba07fb27",
   "metadata": {},
   "outputs": [],
   "source": [
    "outputs=bucket_instance.get_output_var_names()\n",
    "output_lists = {output:[] for output in outputs}"
   ]
  },
  {
   "cell_type": "code",
   "execution_count": 6,
   "id": "b9277d59-646c-48c8-9008-e161900a09ca",
   "metadata": {},
   "outputs": [
    {
     "data": {
      "text/plain": [
       "0.8414709848078965"
      ]
     },
     "execution_count": 6,
     "metadata": {},
     "output_type": "execute_result"
    }
   ],
   "source": [
    "np.sin(1)"
   ]
  },
  {
   "cell_type": "markdown",
   "id": "228ef248",
   "metadata": {},
   "source": [
    "### Now we loop through the forcing data and use it to run the model at each time step"
   ]
  },
  {
   "cell_type": "code",
   "execution_count": 7,
   "id": "14ba35f4",
   "metadata": {},
   "outputs": [
    {
     "name": "stdout",
     "output_type": "stream",
     "text": [
      "118800 0.36000000536441795\n",
      "140400 0.9\n",
      "144000 1.440000021457672\n",
      "147600 0.36000000536441795\n",
      "1177200 2.7\n",
      "1195200 0.18000000268220898\n",
      "1198800 7.740000343322754\n",
      "1396800 0.9\n",
      "1400400 1.8\n",
      "1404000 5.4\n",
      "1407600 1.8\n",
      "1411200 3.9600000858306883\n",
      "1425600 5.4\n",
      "1429200 7.920000171661377\n",
      "1432800 7.920000171661377\n",
      "1436400 2.880000042915344\n",
      "1440000 4.139999914169311\n",
      "1443600 6.8399999141693115\n",
      "1836000 2.3400001287460324\n",
      "1839600 11.160000514984132\n",
      "1843200 11.7\n",
      "1846800 13.140000343322754\n",
      "1850400 67.86000137329101\n",
      "1854000 17.459999656677248\n",
      "1857600 4.5\n",
      "1861200 2.3400001287460324\n",
      "1864800 1.440000021457672\n",
      "1947600 7.020000171661378\n",
      "1951200 2.1600000858306885\n",
      "1954800 20.88000068664551\n",
      "1958400 3.2400001287460327\n",
      "1962000 1.6200000643730164\n",
      "1969200 18.0\n",
      "1972800 3.2400001287460327\n",
      "1976400 1.0800000429153442\n",
      "1980000 3.9600000858306883\n",
      "1983600 1.259999978542328\n",
      "1987200 6.8399999141693115\n",
      "1990800 2.519999957084656\n",
      "1994400 3.9600000858306883\n",
      "1998000 2.880000042915344\n",
      "2001600 2.880000042915344\n",
      "2070000 1.0800000429153442\n",
      "2073600 2.7\n",
      "2077200 0.18000000268220898\n",
      "2088000 0.720000010728836\n",
      "2095200 0.36000000536441795\n",
      "2102400 0.36000000536441795\n",
      "2167200 2.7\n",
      "2296800 2.7\n",
      "2300400 7.740000343322754\n",
      "2433600 0.720000010728836\n",
      "2437200 0.18000000268220898\n",
      "2440800 3.9600000858306883\n",
      "2444400 4.139999914169311\n",
      "2448000 9.179999828338623\n",
      "2451600 10.620000171661378\n",
      "2455200 2.7\n",
      "2458800 1.9800000429153441\n",
      "2541600 1.259999978542328\n",
      "2545200 2.519999957084656\n",
      "2559600 0.18000000268220898\n",
      "2563200 15.120001029968263\n",
      "2566800 62.63999862670899\n",
      "2570400 13.140000343322754\n",
      "2574000 8.46000051498413\n",
      "2577600 6.6600000858306885\n",
      "2581200 7.560000514984131\n",
      "2584800 14.940000343322755\n",
      "2588400 5.939999914169311\n"
     ]
    }
   ],
   "source": [
    "for i in range(df_forcing.shape[0]):\n",
    "    \n",
    "    framework_time = (1+i)*3600 # Seconds since starting simulation\n",
    "    \n",
    "    bucket_instance.set_value('atmosphere_water__time_integral_of_precipitation_volume_flux', df_forcing.loc[i,'APCP_surface'])\n",
    "    bucket_instance.set_value('water_potential_evaporation_flux', 1e-9)\n",
    "    \n",
    "#    bucket_instance.update()\n",
    "\n",
    "#    print([i, bucket_instance.get_current_time(), framework_time])\n",
    "\n",
    "    bucket_instance.update_until(framework_time)\n",
    "    \n",
    "#    print([i, bucket_instance.get_current_time(), framework_time])\n",
    "    \n",
    "    for output in outputs:\n",
    "    \n",
    "        output_lists[output].append(bucket_instance.get_value(output))\n",
    "        \n",
    "#     if i>2:\n",
    "#         break"
   ]
  },
  {
   "cell_type": "markdown",
   "id": "7ce2e5e6",
   "metadata": {},
   "source": [
    "### The finalize function should perform all tasks that take place after exiting the model’s time loop. This typically includes deallocating memory, closing files and printing reports."
   ]
  },
  {
   "cell_type": "code",
   "execution_count": 8,
   "id": "b8bc6e9a",
   "metadata": {},
   "outputs": [
    {
     "name": "stdout",
     "output_type": "stream",
     "text": [
      "\n",
      "MASS BALANCE\n",
      "  initial:   5.0000\n",
      "  input: 466.5600\n",
      "  final:  10.2279\n",
      "  lost:   0.0011\n",
      "  overflow: 418.8261\n",
      "  outlet:  42.5049\n",
      "  residual: 7.8160e-14\n"
     ]
    }
   ],
   "source": [
    "bucket_instance.finalize(print_mass_balance=True)"
   ]
  },
  {
   "cell_type": "markdown",
   "id": "8b72aaa2",
   "metadata": {},
   "source": [
    "### Here we are just plotting the fluxes."
   ]
  },
  {
   "cell_type": "code",
   "execution_count": 9,
   "id": "ef6adb2e",
   "metadata": {},
   "outputs": [
    {
     "data": {
      "image/png": "[encoded data removed]",
      "text/plain": [
       "<Figure size 432x288 with 1 Axes>"
      ]
     },
     "metadata": {
      "needs_background": "light"
     },
     "output_type": "display_data"
    },
    {
     "data": {
      "image/png": "[encoded data removed]",
      "text/plain": [
       "<Figure size 432x288 with 1 Axes>"
      ]
     },
     "metadata": {
      "needs_background": "light"
     },
     "output_type": "display_data"
    },
    {
     "data": {
      "image/png": "[encoded data removed]",
      "text/plain": [
       "<Figure size 432x288 with 1 Axes>"
      ]
     },
     "metadata": {
      "needs_background": "light"
     },
     "output_type": "display_data"
    }
   ],
   "source": [
    "istart_plot=0\n",
    "iend_plot=len(output_lists[outputs[0]])\n",
    "x = list(range(istart_plot, iend_plot))\n",
    "for output in outputs:\n",
    "    plt.plot(x, output_lists[output][istart_plot:iend_plot], label=output)\n",
    "    plt.title(output)\n",
    "    plt.legend()\n",
    "    plt.show()\n",
    "    plt.close()"
   ]
  },
  {
   "cell_type": "code",
   "execution_count": null,
   "id": "e70be184-4f75-4748-a703-101af511664b",
   "metadata": {},
   "outputs": [],
   "source": []
  },
  {
   "cell_type": "code",
   "execution_count": null,
   "id": "863bbbc4-6356-4e37-8a46-238932c5716d",
   "metadata": {},
   "outputs": [],
   "source": []
  }
 ],
 "metadata": {
  "kernelspec": {
   "display_name": "Python 3 (ipykernel)",
   "language": "python",
   "name": "python3"
  },
  "language_info": {
   "codemirror_mode": {
    "name": "ipython",
    "version": 3
   },
   "file_extension": ".py",
   "mimetype": "text/x-python",
   "name": "python",
   "nbconvert_exporter": "python",
   "pygments_lexer": "ipython3",
   "version": "3.9.12"
  }
 },
 "nbformat": 4,
 "nbformat_minor": 5
}
