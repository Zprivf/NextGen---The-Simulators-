{
 "cells": [
  {
   "cell_type": "markdown",
   "metadata": {
    "id": "6JIY-aXuXkbI"
   },
   "source": [
    "$\n",
    "% START OF MACRO DEF\n",
    "% DO NOT EDIT IN INDIVIDUAL NOTEBOOKS, BUT IN macros.py\n",
    "%\n",
    "\\newcommand{\\Reals}{\\mathbb{R}}\n",
    "\\newcommand{\\Expect}[0]{\\mathbb{E}}\n",
    "\\newcommand{\\NormDist}{\\mathcal{N}}\n",
    "%\n",
    "\\newcommand{\\DynMod}[0]{\\mathscr{M}}\n",
    "\\newcommand{\\ObsMod}[0]{\\mathscr{H}}\n",
    "%\n",
    "\\newcommand{\\mat}[1]{{\\mathbf{{#1}}}} \n",
    "%\\newcommand{\\mat}[1]{{\\pmb{\\mathsf{#1}}}}\n",
    "\\newcommand{\\bvec}[1]{{\\mathbf{#1}}} \n",
    "%\n",
    "\\newcommand{\\trsign}{{\\mathsf{T}}} \n",
    "\\newcommand{\\tr}{^{\\trsign}} \n",
    "\\newcommand{\\tn}[1]{#1} \n",
    "\\newcommand{\\ceq}[0]{\\mathrel{≔}}\n",
    "%\n",
    "\\newcommand{\\I}[0]{\\mat{I}} \n",
    "\\newcommand{\\K}[0]{\\mat{K}}\n",
    "\\newcommand{\\bP}[0]{\\mat{P}}\n",
    "\\newcommand{\\bH}[0]{\\mat{H}}\n",
    "\\newcommand{\\bF}[0]{\\mat{F}}\n",
    "\\newcommand{\\R}[0]{\\mat{R}}\n",
    "\\newcommand{\\Q}[0]{\\mat{Q}}\n",
    "\\newcommand{\\B}[0]{\\mat{B}}\n",
    "\\newcommand{\\C}[0]{\\mat{C}}\n",
    "\\newcommand{\\Ri}[0]{\\R^{-1}}\n",
    "\\newcommand{\\Bi}[0]{\\B^{-1}}\n",
    "\\newcommand{\\X}[0]{\\mat{X}}\n",
    "\\newcommand{\\A}[0]{\\mat{A}}\n",
    "\\newcommand{\\Y}[0]{\\mat{Y}}\n",
    "\\newcommand{\\E}[0]{\\mat{E}}\n",
    "\\newcommand{\\U}[0]{\\mat{U}}\n",
    "\\newcommand{\\V}[0]{\\mat{V}}\n",
    "%\n",
    "\\newcommand{\\x}[0]{\\bvec{x}}\n",
    "\\newcommand{\\y}[0]{\\bvec{y}}\n",
    "\\newcommand{\\z}[0]{\\bvec{z}}\n",
    "\\newcommand{\\q}[0]{\\bvec{q}}\n",
    "\\newcommand{\\br}[0]{\\bvec{r}}\n",
    "\\newcommand{\\bb}[0]{\\bvec{b}}\n",
    "%\n",
    "\\newcommand{\\bx}[0]{\\bvec{\\bar{x}}}\n",
    "\\newcommand{\\by}[0]{\\bvec{\\bar{y}}}\n",
    "\\newcommand{\\barB}[0]{\\mat{\\bar{B}}}\n",
    "\\newcommand{\\barP}[0]{\\mat{\\bar{P}}}\n",
    "\\newcommand{\\barC}[0]{\\mat{\\bar{C}}}\n",
    "\\newcommand{\\barK}[0]{\\mat{\\bar{K}}}\n",
    "%\n",
    "\\newcommand{\\D}[0]{\\mat{D}}\n",
    "\\newcommand{\\Dobs}[0]{\\mat{D}_{\\text{obs}}}\n",
    "\\newcommand{\\Dmod}[0]{\\mat{D}_{\\text{obs}}}\n",
    "%\n",
    "\\newcommand{\\ones}[0]{\\bvec{1}} \n",
    "\\newcommand{\\AN}[0]{\\big( \\I_N - \\ones \\ones\\tr / N \\big)}\n",
    "%\n",
    "% END OF MACRO DEF\n",
    "$\n",
    "\n",
    "# Data assimilation (DA) & the ensemble Kalman filter (EnKF)\n",
    "*Copyright (c) 2020, Patrick N. Raanes"
   ]
  },
  {
   "cell_type": "markdown",
   "metadata": {
    "id": "91rIxaq3XkbR"
   },
   "source": [
    "### Jupyter notebooks is:\n",
    "the format used for these tutorials. Notebooks combine **cells** of code (Python) with cells of text (markdown). \n",
    "The exercises in these tutorials only require light Python experience.\n",
    "For example, edit the cell below (double-click it),\n",
    "insert your name,\n",
    "and run it (press \"Run\" in the toolbar)."
   ]
  },
  {
   "cell_type": "code",
   "execution_count": null,
   "metadata": {
    "id": "dpR16-iJXkbU"
   },
   "outputs": [],
   "source": [
    "name = \"Batman\"\n",
    "print(\"Hello world! I'm \" + name)\n",
    "for i,c in enumerate(name):\n",
    "    print(i,c)"
   ]
  },
  {
   "cell_type": "markdown",
   "metadata": {
    "id": "17T5iSiQXkbW"
   },
   "source": [
    "You will likely be more efficient if you know these **keyboard shortcuts**:\n",
    "\n",
    "| Navigate                      | Edit              | Exit           | Run                              | Run & go to next                  |\n",
    "| -------------                 | : ------------- : | -------------  | : --- :                          | : ------------- :                 |\n",
    "| <kbd>↓</kbd> and <kbd>↑</kbd> | <kbd>Enter</kbd>  | <kbd>Esc</kbd> | <kbd>Ctrl</kbd>+<kbd>Enter</kbd> | <kbd>Shift</kbd>+<kbd>Enter</kbd> |\n",
    "\n",
    "When you open a notebook it starts a **session (kernel/runtime)** of Python in the background. All of the Python code cells (in a given notebook) are connected (they use the same Python kernel and thus share variables, functions, and classes). Thus, the **order** in which you run the cells matters. For example:\n",
    "\n",
    "<mark><font size=\"-1\">\n",
    "    The 1st two code cells in each tutorial (from now on) will be the following, which <em>you must run before any other</em>:\n",
    "</font></mark>"
   ]
  },
  {
   "cell_type": "code",
   "execution_count": null,
   "metadata": {
    "id": "mi06OPS-XkbY"
   },
   "outputs": [],
   "source": [
    "!wget -qO- https://raw.githubusercontent.com/nansencenter/DA-tutorials/master/notebooks/resources/colab_bootstrap.sh | bash -s"
   ]
  },
  {
   "cell_type": "code",
   "execution_count": null,
   "metadata": {
    "id": "8uM8uHzEXkbY"
   },
   "outputs": [],
   "source": [
    "from resources.workspace import *"
   ]
  },
  {
   "cell_type": "markdown",
   "metadata": {
    "id": "IZp0WsRjXkbZ"
   },
   "source": [
    "One thing you must know is how to **restart** the Python session, which clears all of your variables, functions, etc, so that you can start over. Test this now by going through the top menu bar: `Kernel` → `Restart & Clear Output`. But remember to run the above cell again!"
   ]
  },
  {
   "cell_type": "markdown",
   "metadata": {
    "id": "z0VXUsLyXkba"
   },
   "source": [
    "There is a huge amount of libraries available in **Python**, including the popular `scipy` (with `numpy` at its core) and `matplotlib` packages. These were (implicitly) imported (and abbreviated) as `sp`, `np`, and `mpl` and `plt` in the previous cell. Try them out by running the following:"
   ]
  },
  {
   "cell_type": "code",
   "execution_count": null,
   "metadata": {
    "id": "ZhmKuwr2Xkba"
   },
   "outputs": [],
   "source": [
    "# Use numpy's arrays for vectors and matrices. Example constructions:\n",
    "a = np.arange(10) # Alternatively: np.array([0,1,2,3,4,5,6,7,8,9])\n",
    "I = 2*np.eye(10)  # Alternatively: np.diag(2*np.ones(10))\n",
    "\n",
    "print(\"Indexing examples:\")\n",
    "print(\"a        =\", a)\n",
    "print(\"a[3]     =\", a[3])\n",
    "print(\"a[0:3]   =\", a[0:3])\n",
    "print(\"a[:3]    =\", a[:3])\n",
    "print(\"a[3:]    =\", a[3:])\n",
    "print(\"a[-1]    =\", a[-1])\n",
    "print(\"I[:3,:3] =\", I[:3,:3], sep=\"\\n\")\n",
    "\n",
    "print(\"\\nLinear algebra examples:\")\n",
    "print(\"100+a =\", 100+a)\n",
    "print(\"I@a   =\", I@a)\n",
    "print(\"I*a   =\", I*a, sep=\"\\n\")\n",
    "\n",
    "plt.title(\"Plotting example\")\n",
    "plt.ylabel(\"i $x^2$\")\n",
    "for i in range(4):\n",
    "    plt.plot(i * a**2, label=\"i = %d\"%i)\n",
    "plt.legend(); "
   ]
  },
  {
   "cell_type": "markdown",
   "metadata": {
    "id": "m7XmnqmQXkbc"
   },
   "source": [
    "### Data assimilation (DA) is:\n",
    "\n",
    " * the calibration of big models with big data;\n",
    " * the fusion of forecasts with observations.\n",
    "\n",
    "This illustrated on the right (source: Data Assimilation Research Team, <a href=\"http://www.aics.riken.jp\">www.aics.riken.jp</a>) as a \"bridge\" between data and models.\n",
    "<img align=\"right\" width=\"400\" src=\"https://github.com/nansencenter/DA-tutorials/blob/Colab/notebooks/resources/DA_bridges.jpg?raw=1\" alt='DA \"bridges\" data and models.'/>\n",
    "\n",
    "The problem of ***DA*** fits well within the math/stats theory of ***state estimation*** and ***sequential inference***. A concise theoretical overview of DA is given by Wikle and Berliner: [A Bayesian tutorial for data assimilation](http://web-static-aws.seas.harvard.edu/climate/pdf/2007/Wikle_Berliner_InPress.pdf)\n",
    "\n",
    "Modern DA builds on state estimation techniques such as the ***Kalman filter (KF)***, which is an algorithm that recursively performs a form of least-squares regression. It was developed to steer the Apollo mission rockets to the moon, but also has applications outside of control systems, such as speech recognition, video tracking, and finance. An [introduction by pictures](http://www.bzarg.com/p/how-a-kalman-filter-works-in-pictures/) is provided by Tim Babb. An [interactive tutorial](https://github.com/rlabbe/Kalman-and-Bayesian-Filters-in-Python) has been made by Roger Labbe.\n",
    "\n",
    "When it was first proposed to apply the KF to DA (specifically, weather forecasting), the idea sounded ludicrous because of some severe **technical challenges in DA (vs. \"classic\" state estimation)**:\n",
    " * size of data and models;\n",
    " * nonlinearity of models;\n",
    " * sparsity and inhomogeneous-ness of data.\n",
    "\n",
    "Some of these challenges may be recognized in the video below."
   ]
  },
  {
   "cell_type": "code",
   "execution_count": 1,
   "metadata": {
    "id": "Fg4zCVRHXkbe"
   },
   "outputs": [
    {
     "ename": "NameError",
     "evalue": "name 'envisat_video' is not defined",
     "output_type": "error",
     "traceback": [
      "\u001b[1;31m---------------------------------------------------------------------------\u001b[0m",
      "\u001b[1;31mNameError\u001b[0m                                 Traceback (most recent call last)",
      "\u001b[1;32m~\\AppData\\Local\\Temp/ipykernel_14948/2856626821.py\u001b[0m in \u001b[0;36m<module>\u001b[1;34m\u001b[0m\n\u001b[1;32m----> 1\u001b[1;33m \u001b[0menvisat_video\u001b[0m\u001b[1;33m(\u001b[0m\u001b[1;33m)\u001b[0m\u001b[1;33m\u001b[0m\u001b[1;33m\u001b[0m\u001b[0m\n\u001b[0m",
      "\u001b[1;31mNameError\u001b[0m: name 'envisat_video' is not defined"
     ]
    }
   ],
   "source": [
    "envisat_video()"
   ]
  },
  {
   "cell_type": "markdown",
   "metadata": {
    "id": "2psGJn60Xkbf"
   },
   "source": [
    "### The EnKF is:\n",
    "an ensemble (Monte-Carlo) formulation of the KF\n",
    "that manages (fairly well) to deal with the above challenges in DA.\n",
    "\n",
    "For those familiar with the method of 4D-Var, **further advantages of the EnKF** include it being:\n",
    " * Non-invasive: the models are treated as black boxes, and no explicit Jacobian is required.\n",
    " * Bayesian: \n",
    "   * provides ensemble of possible realities;\n",
    "       - arguably the most practical form of \"uncertainty quantification\";\n",
    "       - ideal way to initialize \"ensemble forecasts\";\n",
    "   * uses \"flow-dependent\" background covariances in the analysis.\n",
    " * Embarrassingly parallelizable:\n",
    "   * distributed across realizations for model forecasting;\n",
    "   * distributed across local domains for observation analysis.\n",
    "   \n",
    "The rest of this tutorial provides an EnKF-centric presentation of DA; it also has a [theoretical companion](./resources/companion/DA_tut.pdf)."
   ]
  },
  {
   "cell_type": "markdown",
   "metadata": {
    "id": "A_Kx4cs7Xkbg"
   },
   "source": [
    "### DAPPER example\n",
    "This tutorial builds on the underlying package, DAPPER, made for academic research in DA and its dissemination. For example, the code below is taken from  `DAPPER/example_1.py`. It illustrates DA on a small toy problem.\n",
    "\n",
    "Run the cells in order and try to interpret the output.\n",
    "\n",
    "<mark><font size=\"-1\">\n",
    "<em>Don't worry</em> if you can't understand what's going on -- we will discuss it later throughout the tutorials. \n",
    "</font></mark>\n"
   ]
  },
  {
   "cell_type": "code",
   "execution_count": null,
   "metadata": {
    "id": "dr2wwNSBXkbh"
   },
   "outputs": [],
   "source": [
    "from dapper.mods.Lorenz63.sak12 import HMM\n",
    "HMM.t.T = 30\n",
    "# print(HMM)\n",
    "xx,yy = simulate(HMM)"
   ]
  },
  {
   "cell_type": "code",
   "execution_count": null,
   "metadata": {
    "id": "gELslEvbXkbh"
   },
   "outputs": [],
   "source": [
    "config = EnKF_N(N=4, store_u=True)\n",
    "stats = config.assimilate(HMM,xx,yy)"
   ]
  },
  {
   "cell_type": "code",
   "execution_count": null,
   "metadata": {
    "id": "ao7oyWZhXkbh"
   },
   "outputs": [],
   "source": [
    "avrgs = stats.average_in_time()\n",
    "# print(avrgs)\n",
    "print_averages(config,avrgs,[],['rmse_a','rmv_a'])"
   ]
  },
  {
   "cell_type": "code",
   "execution_count": null,
   "metadata": {
    "id": "_x5bk-BdXkbj"
   },
   "outputs": [],
   "source": [
    "replay(stats,figlist=\"all\")"
   ]
  },
  {
   "cell_type": "markdown",
   "metadata": {
    "id": "kbCUW_zgXkbk"
   },
   "source": [
    "### Exercises\n",
    "\n",
    "<mark><font size=\"-1\">\n",
    "    Exercises marked with an asterisk (*) are <em>optional.</em>\n",
    "</font></mark>\n",
    "\n",
    "**Exc 1.2:** Word association.\n",
    "Fill in the `X`'s in the table to group the words according to meaning.\n",
    "\n",
    "`Filtering, Sample, Random, Measurements, Kalman filter (KF), Monte-Carlo, Observations, Set of draws, State estimation, Data fusion`\n",
    "\n",
    "```\n",
    "Data Assimilation (DA)     Ensemble      Stochastic     Data        \n",
    "------------------------------------------------------------\n",
    "X                          X             X              X           \n",
    "X                          X             X              X           \n",
    "X                          \n",
    "X\n",
    "```"
   ]
  },
  {
   "cell_type": "code",
   "execution_count": null,
   "metadata": {
    "id": "qO99QsuwXkbk"
   },
   "outputs": [],
   "source": [
    "#show_answer('thesaurus 1')"
   ]
  },
  {
   "cell_type": "markdown",
   "metadata": {
    "id": "E5OvWDBHXkbl"
   },
   "source": [
    "* \"The answer\" is given from the perspective of DA. Do you agree with it?\n",
    "* Can you describe the (important!) nuances between the similar words?"
   ]
  },
  {
   "cell_type": "markdown",
   "metadata": {
    "id": "WFhptAVzXkbm"
   },
   "source": [
    "**Exc 1.3*:** Word association (advanced).\n",
    "Group these words:\n",
    "\n",
    "`Inverse problems, Sample point, Probability, Particle, Sequential, Inversion, Realization, Relative frequency, Iterative, Estimation, Single draw, Serial, Approximation, Regression, Fitting`\n",
    "\n",
    "\n",
    "    Statistical inference    Ensemble member     Quantitative belief    Recursive \n",
    "    -----------------------------------------------------------------------------\n",
    "    X                        X                   X                      X         \n",
    "    X                        X                   X                      X         \n",
    "    X                        X                                          X         \n",
    "    X                        X\n",
    "    X                        \n",
    "    X                        "
   ]
  },
  {
   "cell_type": "code",
   "execution_count": null,
   "metadata": {
    "id": "r8RnTE-iXkbm"
   },
   "outputs": [],
   "source": [
    "#show_answer('thesaurus 2')"
   ]
  },
  {
   "cell_type": "markdown",
   "metadata": {
    "id": "Ce8BAWQ4Xkbm"
   },
   "source": [
    "**Exc 1.5*:** Prepare to discuss the following questions. Use any tool at your disposal.\n",
    "* (a) What is DA?\n",
    "* (b) What are \"state variables\"? How do they differ from parameters?\n",
    "* (c) What is a \"dynamical system\"?\n",
    "* (d) Is DA a science, an engineering art, or a dark art?\n",
    "* (e) What is the point of \"Hidden Markov Models\"?"
   ]
  },
  {
   "cell_type": "code",
   "execution_count": null,
   "metadata": {
    "id": "LmBgJsXrXkbn"
   },
   "outputs": [],
   "source": [
    "#show_answer('Discussion topics 1')"
   ]
  },
  {
   "cell_type": "markdown",
   "metadata": {
    "id": "MD7XOAcsXkbn"
   },
   "source": [
    "### Next: [Bayesian inference](T2%20-%20Bayesian%20inference.ipynb)"
   ]
  }
 ],
 "metadata": {
  "anaconda-cloud": {},
  "colab": {
   "name": "T1 - DA & EnKF.ipynb",
   "provenance": []
  },
  "kernelspec": {
   "display_name": "Python 3 (ipykernel)",
   "language": "python",
   "name": "python3"
  },
  "language_info": {
   "codemirror_mode": {
    "name": "ipython",
    "version": 3
   },
   "file_extension": ".py",
   "mimetype": "text/x-python",
   "name": "python",
   "nbconvert_exporter": "python",
   "pygments_lexer": "ipython3",
   "version": "3.7.11"
  }
 },
 "nbformat": 4,
 "nbformat_minor": 4
}
