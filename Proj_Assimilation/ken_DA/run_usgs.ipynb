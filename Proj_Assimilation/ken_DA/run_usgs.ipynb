{
 "cells": [
  {
   "cell_type": "markdown",
   "id": "0a3635bd",
   "metadata": {},
   "source": [
    "# **USGS DATA RETRIEVAL Model**\n",
    "This model is designed to be a simplified (conceptual) model of the National Water Model, which is functionally equivalent. This is an example run of the Python implimentation of the model.\n",
    "## bmi_usgs\n",
    "This is the code for the Basic Model Interface (BMI) that is used to call the usgs and interact with other models via the Framework, or driving code. This code contains all the required BMI functions to run the CFE, including \n",
    " - initialize: Perform startup tasks for the model.\n",
    " - update: Advance model state by one time step. Calls the function `run_usgs` from `usgs.py`\n",
    " - update_until: Advance model state until the given time.\n",
    " - finalize: Perform tear-down tasks for the model.\n",
    " - get_value: Get a copy of values of a given variable.\n",
    " - set_value: Set the values of a given variable.\n",
    " - etc.  \n",
    " These functions need to be called by a framework or driving code, an example of which is below."
   ]
  },
  {
   "cell_type": "code",
   "execution_count": 1,
   "id": "4f1c9bb4",
   "metadata": {},
   "outputs": [],
   "source": [
    "import time\n",
    "import numpy as np\n",
    "import pandas as pd\n",
    "import json\n",
    "import matplotlib.pyplot as plt\n",
    "import bmi_usgs"
   ]
  },
  {
   "cell_type": "markdown",
   "id": "81b22b83",
   "metadata": {},
   "source": [
    "### Create an instance of the model with a specific configuration that corresponds to a particular catchmenmt."
   ]
  },
  {
   "cell_type": "code",
   "execution_count": 2,
   "id": "a40f5391-d8f2-4b95-893c-d3818e5b46ec",
   "metadata": {},
   "outputs": [],
   "source": [
    "usgs_instance = bmi_usgs.BMI_USGS()"
   ]
  },
  {
   "cell_type": "code",
   "execution_count": 3,
   "id": "ce555bd9",
   "metadata": {},
   "outputs": [],
   "source": [
    "usgs_instance.initialize(cfg_file='./usgs_config.json', current_time_step=1)"
   ]
  },
  {
   "cell_type": "markdown",
   "id": "eaf15e86",
   "metadata": {},
   "source": [
    "### We will want to visualize the model output"
   ]
  },
  {
   "cell_type": "code",
   "execution_count": 4,
   "id": "8cf4510a-b72e-488e-8e3c-17fd0469c57d",
   "metadata": {},
   "outputs": [
    {
     "name": "stdout",
     "output_type": "stream",
     "text": [
      "{'sites': [], 'start': [], 'end': [], 'service': []}\n"
     ]
    }
   ],
   "source": [
    "outputs=usgs_instance.get_input_var_names()\n",
    "output_lists = {output:[] for output in outputs}\n",
    "print(output_lists)"
   ]
  },
  {
   "cell_type": "code",
   "execution_count": 5,
   "id": "0a8944dd-8a02-4ca5-82ff-c1a97e7d725b",
   "metadata": {},
   "outputs": [],
   "source": [
    "# usgs_instance.set_value('sites','01054500')\n",
    "# usgs_instance.set_value('service','peaks')\n",
    "# usgs_instance.set_value('start','1970-01-01')\n",
    "# usgs_instance.set_value('end','1990-01-01')"
   ]
  },
  {
   "cell_type": "code",
   "execution_count": 6,
   "id": "0c8d20f2-5b2b-42ba-9b33-3e52a6499a6e",
   "metadata": {},
   "outputs": [
    {
     "name": "stdout",
     "output_type": "stream",
     "text": [
      "0\n",
      "0\n",
      "0\n",
      "0\n"
     ]
    }
   ],
   "source": [
    "print(usgs_instance.get_value('sites'))\n",
    "print(usgs_instance.get_value('service'))\n",
    "print(usgs_instance.get_value('start'))\n",
    "print(usgs_instance.get_value('end'))"
   ]
  },
  {
   "cell_type": "code",
   "execution_count": 7,
   "id": "7fffcd05-3fb4-4b0f-b29a-686925ba2f0c",
   "metadata": {},
   "outputs": [
    {
     "data": {
      "text/plain": [
       "<bmi_usgs.BMI_USGS at 0x7f842436f520>"
      ]
     },
     "execution_count": 7,
     "metadata": {},
     "output_type": "execute_result"
    }
   ],
   "source": [
    "usgs_instance"
   ]
  },
  {
   "cell_type": "code",
   "execution_count": 8,
   "id": "09ef2b69-d908-43f5-9d16-a5b737d85b41",
   "metadata": {},
   "outputs": [
    {
     "name": "stdout",
     "output_type": "stream",
     "text": [
      "                         Date    Flow\n",
      "0   2019-06-01 04:00:00+00:00  5.1975\n",
      "1   2019-06-01 05:00:00+00:00  5.1825\n",
      "2   2019-06-01 06:00:00+00:00  5.1625\n",
      "3   2019-06-01 07:00:00+00:00  5.1575\n",
      "4   2019-06-01 08:00:00+00:00  5.1500\n",
      "..                        ...     ...\n",
      "739 2019-07-01 23:00:00+00:00  4.5350\n",
      "740 2019-07-02 00:00:00+00:00  4.5350\n",
      "741 2019-07-02 01:00:00+00:00  4.5425\n",
      "742 2019-07-02 02:00:00+00:00  4.5350\n",
      "743 2019-07-02 03:00:00+00:00  4.5375\n",
      "\n",
      "[744 rows x 2 columns]\n"
     ]
    }
   ],
   "source": [
    "#run once\n",
    "usgs_instance.update()"
   ]
  },
  {
   "cell_type": "code",
   "execution_count": 9,
   "id": "3a6ae815-4de7-4ee9-91bc-670a3a862c98",
   "metadata": {},
   "outputs": [
    {
     "ename": "TypeError",
     "evalue": "finalize() got an unexpected keyword argument 'print_flow'",
     "output_type": "error",
     "traceback": [
      "\u001b[0;31m---------------------------------------------------------------------------\u001b[0m",
      "\u001b[0;31mTypeError\u001b[0m                                 Traceback (most recent call last)",
      "Input \u001b[0;32mIn [9]\u001b[0m, in \u001b[0;36m<cell line: 1>\u001b[0;34m()\u001b[0m\n\u001b[0;32m----> 1\u001b[0m \u001b[43musgs_instance\u001b[49m\u001b[38;5;241;43m.\u001b[39;49m\u001b[43mfinalize\u001b[49m\u001b[43m(\u001b[49m\u001b[43mprint_flow\u001b[49m\u001b[38;5;241;43m=\u001b[39;49m\u001b[38;5;28;43;01mTrue\u001b[39;49;00m\u001b[43m)\u001b[49m\n",
      "\u001b[0;31mTypeError\u001b[0m: finalize() got an unexpected keyword argument 'print_flow'"
     ]
    }
   ],
   "source": [
    "usgs_instance.finalize(print_flow=True)"
   ]
  },
  {
   "cell_type": "code",
   "execution_count": 13,
   "id": "3c92498f-18e9-4547-9f4a-b96f2510c9ac",
   "metadata": {},
   "outputs": [],
   "source": [
    "# plt(Date, Flow)"
   ]
  },
  {
   "cell_type": "markdown",
   "id": "a1f212aa-f5dd-469e-a9bd-b4b933be9f32",
   "metadata": {},
   "source": [
    "### **Test codes**"
   ]
  },
  {
   "cell_type": "code",
   "execution_count": 10,
   "id": "7d53c984-7eea-4136-90ce-62da912445a4",
   "metadata": {},
   "outputs": [],
   "source": [
    "import dataretrieval.nwis as nwis\n",
    "from dataretrieval import nwis, utils, codes\n",
    "import pandas as pd\n",
    "import matplotlib.pyplot as plt\n",
    "\n",
    "\n",
    "# class USGS():\n",
    "#     def __init__(self):\n",
    "#         super(USGS, self).__init__()\n",
    "\n",
    "#     # RUNNING USGS SCRIPT\n",
    "#     def run_usgs(self, k):\n",
    "#         # site, start='2019-02-01', end='2019-04-01', service='iv'\n",
    "#         site=k.sites; service=k.service; start=k.service; end=k.service\n",
    "                \n",
    "#         # get peak flow # get instantaneous values (iv)\n",
    "#         station_record = nwis.get_record(site=k.sites, service=k.service, start=k.start, end=k.end)\n",
    "#         print(station_record['peak_va'])\n",
    "#         # station_record = station_record['peak_va'] #.rename(['Flow'])\n",
    "#         # # station_record = station_record.resample('H').mean()\n",
    "\n",
    "        \n",
    "#         return \n",
    "\n",
    "    \n",
    "    \n",
    "class USGS():\n",
    "    def __init__(self):\n",
    "        super(USGS, self).__init__()\n",
    "        \n",
    "    # __________________________________________________________________________________________________________\n",
    "    # RUNNING USGS SCRIPT\n",
    "    def run_usgs(self, k):\n",
    "        \n",
    "        # get instantaneous values (iv)\n",
    "        site=k.sites; service=k.service; start=k.service; end=k.service\n",
    "                \n",
    "        # get peak flow # get instantaneous values (iv)\n",
    "        station_record = nwis.get_record(site=k.sites, service=k.service, start=k.start, end=k.end)\n",
    "        \n",
    "        station_record.reset_index(inplace=True)\n",
    "        station_record['datetime'] = pd.to_datetime(station_record['datetime'], utc=True, format = '%Y-%m-%d %H:%M:%S') \n",
    "        station_record_quarter = station_record.iloc[:,[0,4]]\n",
    "        station_record_quarter.columns = ['Date', 'Flow']\n",
    "        \n",
    "        ## Make copy od dataframe to average flow every hour \n",
    "        station_record_copy = station_record.copy()\n",
    "        station_record_copy['datetime'] = pd.to_datetime(station_record_copy['datetime'], utc=True, format = '%Y-%m-%d %H:%M:%S')\n",
    "        station_record_copy.index = station_record_copy['datetime']\n",
    "        station_record_avg = station_record_copy.resample('H').mean()\n",
    "        station_record_avg.reset_index(inplace=True)\n",
    "        \n",
    "        station_record_avgflow = station_record_avg.iloc[:,[2]] #station_record_avg.iloc[:,[0,2]]\n",
    "        station_record_avgflow.columns = ['Flow']  #['Date', 'Flow']\n",
    "        print(station_record_avgflow)\n",
    "        \n",
    "        return    \n",
    "    \n",
    "    \n",
    "    \n",
    "    \n",
    "    "
   ]
  },
  {
   "cell_type": "code",
   "execution_count": 11,
   "id": "7626cffc-8579-44bb-a08a-58ccd4948b1d",
   "metadata": {},
   "outputs": [],
   "source": [
    "sites='03339000'\n",
    "service='iv'\n",
    "start='1970-01-01'\n",
    "end='1990-01-01'"
   ]
  },
  {
   "cell_type": "code",
   "execution_count": 12,
   "id": "eaba09f9-00e0-4f67-85c0-0ca390258303",
   "metadata": {},
   "outputs": [
    {
     "ename": "TypeError",
     "evalue": "run_usgs() takes 2 positional arguments but 4 were given",
     "output_type": "error",
     "traceback": [
      "\u001b[0;31m---------------------------------------------------------------------------\u001b[0m",
      "\u001b[0;31mTypeError\u001b[0m                                 Traceback (most recent call last)",
      "Input \u001b[0;32mIn [12]\u001b[0m, in \u001b[0;36m<cell line: 1>\u001b[0;34m()\u001b[0m\n\u001b[0;32m----> 1\u001b[0m \u001b[43mUSGS\u001b[49m\u001b[38;5;241;43m.\u001b[39;49m\u001b[43mrun_usgs\u001b[49m\u001b[43m(\u001b[49m\u001b[43msites\u001b[49m\u001b[43m,\u001b[49m\u001b[43mservice\u001b[49m\u001b[43m,\u001b[49m\u001b[43mstart\u001b[49m\u001b[43m,\u001b[49m\u001b[43mend\u001b[49m\u001b[43m)\u001b[49m\n",
      "\u001b[0;31mTypeError\u001b[0m: run_usgs() takes 2 positional arguments but 4 were given"
     ]
    }
   ],
   "source": [
    "USGS.run_usgs(sites,service,start,end)"
   ]
  },
  {
   "cell_type": "code",
   "execution_count": null,
   "id": "05a5d1df-5dd1-4fb0-b75c-fa9896d5c522",
   "metadata": {},
   "outputs": [],
   "source": []
  },
  {
   "cell_type": "code",
   "execution_count": null,
   "id": "90cc9fba-2929-4d91-89fd-52431f98193b",
   "metadata": {},
   "outputs": [],
   "source": []
  }
 ],
 "metadata": {
  "kernelspec": {
   "display_name": "Python 3 (ipykernel)",
   "language": "python",
   "name": "python3"
  },
  "language_info": {
   "codemirror_mode": {
    "name": "ipython",
    "version": 3
   },
   "file_extension": ".py",
   "mimetype": "text/x-python",
   "name": "python",
   "nbconvert_exporter": "python",
   "pygments_lexer": "ipython3",
   "version": "3.9.12"
  }
 },
 "nbformat": 4,
 "nbformat_minor": 5
}
