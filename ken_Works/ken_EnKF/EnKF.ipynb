{
 "cells": [
  {
   "cell_type": "markdown",
   "id": "346037e2-51e5-4588-9be0-5d3b34935190",
   "metadata": {},
   "source": [
    "### **Esemble Kalman Filter**"
   ]
  },
  {
   "cell_type": "code",
   "execution_count": null,
   "id": "f1f4d85b-fd99-4b78-a917-0c2ee0e74d2a",
   "metadata": {},
   "outputs": [],
   "source": [
    "%matplotlib inline"
   ]
  },
  {
   "cell_type": "code",
   "execution_count": null,
   "id": "80244167-9a3e-482e-a698-a30317c2fb1f",
   "metadata": {},
   "outputs": [],
   "source": [
    "#format the book\n",
    "import book_format\n",
    "book_format.set_style()"
   ]
  },
  {
   "cell_type": "code",
   "execution_count": null,
   "id": "73c1ce4f-dcf7-4164-a6b8-0517e34e3ab5",
   "metadata": {},
   "outputs": [],
   "source": [
    "import matplotlib.pyplot as plt\n",
    "import numpy as np\n",
    "from numpy.random import multivariate_normal\n",
    "from filterpy.stats import (covariance_ellipse, \n",
    "                            plot_covariance_ellipse)\n",
    "\n",
    "mean = (5, 3)\n",
    "P = np.array([[32, 15],\n",
    "              [15., 40.]])\n",
    "\n",
    "x,y = multivariate_normal(mean=mean, cov=P, size=2500).T\n",
    "plt.scatter(x, y, alpha=0.3, marker='.')\n",
    "plt.axis('equal')\n",
    "\n",
    "plot_covariance_ellipse(mean=mean, cov=P,\n",
    "                        variance=2.**2,\n",
    "                        facecolor='none')"
   ]
  },
  {
   "cell_type": "code",
   "execution_count": null,
   "id": "6958e25d-2da5-425e-be16-1d032c3b583c",
   "metadata": {},
   "outputs": [],
   "source": [
    "import kf_book.book_plots as bp\n",
    "from numpy.random import randn\n",
    "from filterpy.kalman import EnsembleKalmanFilter as EnKF\n",
    "from filterpy.kalman import KalmanFilter\n",
    "from filterpy.common import Q_discrete_white_noise\n",
    "\n",
    "np.random.seed(1234)\n",
    "\n",
    "def hx(x):\n",
    "    return np.array([x[0]])\n",
    "\n",
    "def fx(x, dt):\n",
    "    return F @ x\n",
    "    \n",
    "F = np.array([[1., 1.],[0., 1.]])\n",
    "\n",
    "x = np.array([0., 1.])\n",
    "P = np.eye(2) * 100.\n",
    "enf = EnKF(x=x, P=P, dim_z=1, dt=1., N=20, hx=hx, fx=fx)\n",
    "\n",
    "std_noise = 10.\n",
    "enf.R *= std_noise**2\n",
    "enf.Q = Q_discrete_white_noise(2, 1., .001)\n",
    "\n",
    "kf = KalmanFilter(dim_x=2, dim_z=1)\n",
    "kf.x = np.array([x]).T\n",
    "kf.F = F.copy()\n",
    "kf.P = P.copy()\n",
    "kf.R = enf.R.copy()\n",
    "kf.Q = enf.Q.copy()\n",
    "kf.H = np.array([[1., 0.]])\n",
    "\n",
    "measurements = []\n",
    "results = []\n",
    "ps = []\n",
    "kf_results = []\n",
    "\n",
    "zs = []\n",
    "for t in range (0,100):\n",
    "    # create measurement = t plus white noise\n",
    "    z = t + randn()*std_noise\n",
    "    zs.append(z)\n",
    "\n",
    "    enf.predict()\n",
    "    enf.update(np.asarray([z]))\n",
    "    \n",
    "    kf.predict()\n",
    "    kf.update(np.asarray([[z]]))\n",
    "\n",
    "    # save data\n",
    "    results.append (enf.x[0])\n",
    "    kf_results.append (kf.x[0,0])\n",
    "    measurements.append(z)\n",
    "    ps.append(3*(enf.P[0,0]**.5))\n",
    "\n",
    "results = np.asarray(results)\n",
    "ps = np.asarray(ps)\n",
    "\n",
    "plt.plot(results, label='EnKF')\n",
    "plt.plot(kf_results, label='KF', c='b', lw=2)\n",
    "bp.plot_measurements(measurements)\n",
    "plt.plot (results - ps, c='k',linestyle=':', lw=1, label='1$\\sigma$')\n",
    "plt.plot(results + ps, c='k', linestyle=':', lw=1)\n",
    "plt.fill_between(range(100), results - ps, results + ps, facecolor='y', alpha=.3)\n",
    "plt.legend(loc='best');"
   ]
  },
  {
   "cell_type": "code",
   "execution_count": null,
   "id": "204f8850-2bf0-4d1f-b4ae-5de4b4670dac",
   "metadata": {},
   "outputs": [],
   "source": []
  }
 ],
 "metadata": {
  "kernelspec": {
   "display_name": "Python 3 (ipykernel)",
   "language": "python",
   "name": "python3"
  },
  "language_info": {
   "codemirror_mode": {
    "name": "ipython",
    "version": 3
   },
   "file_extension": ".py",
   "mimetype": "text/x-python",
   "name": "python",
   "nbconvert_exporter": "python",
   "pygments_lexer": "ipython3",
   "version": "3.7.11"
  }
 },
 "nbformat": 4,
 "nbformat_minor": 5
}
