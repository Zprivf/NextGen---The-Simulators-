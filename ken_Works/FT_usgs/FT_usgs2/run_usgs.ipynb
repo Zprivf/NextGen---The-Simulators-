{
 "cells": [
  {
   "cell_type": "code",
   "execution_count": 1,
   "id": "ee2a1873-23fa-42ec-b2ec-ef057d53943c",
   "metadata": {},
   "outputs": [],
   "source": [
    "#import dataretrieval.nwis as nwis\n",
    "import time\n",
    "import numpy as np\n",
    "import pandas as pd\n",
    "import json\n",
    "import matplotlib.pyplot as plt\n",
    "import bmi_usgs"
   ]
  },
  {
   "cell_type": "code",
   "execution_count": 2,
   "id": "e75aa162-22de-49d2-885b-aa8bcb921e0b",
   "metadata": {},
   "outputs": [],
   "source": [
    "#bmi_usgs instance \n",
    "usgs_instance = bmi_usgs.BMI_USGS()# "
   ]
  },
  {
   "cell_type": "code",
   "execution_count": 3,
   "id": "e7c5103e-fd66-4e2b-846e-cdd342ae8269",
   "metadata": {},
   "outputs": [],
   "source": [
    "#initialization\n",
    "usgs_instance.initialize(cfg_file='./usgs_config.json', current_time_step=1) #"
   ]
  },
  {
   "cell_type": "code",
   "execution_count": 4,
   "id": "80babb30-1944-419b-890d-115837879ac4",
   "metadata": {},
   "outputs": [
    {
     "name": "stdout",
     "output_type": "stream",
     "text": [
      "{'sites': [], 'service': [], 'start': [], 'end': []}\n"
     ]
    }
   ],
   "source": [
    "#view output\n",
    "outputs=usgs_instance.get_input_var_names()\n",
    "output_lists = {output:[] for output in outputs}\n",
    "print(output_lists)"
   ]
  },
  {
   "cell_type": "code",
   "execution_count": 5,
   "id": "2fc6a2e7-f06e-44a9-a7bd-e32ab21a2422",
   "metadata": {},
   "outputs": [],
   "source": [
    "# to conduct iv retrieval  from the framework activate this\n",
    "#usgs_instance.set_value('sites','01054500')\n",
    "#usgs_instance.set_value('start','2018-01-01')\n",
    "#usgs_instance.set_value('end','2018-02-01')"
   ]
  },
  {
   "cell_type": "code",
   "execution_count": 6,
   "id": "e6d2e50f-12f8-4bc7-935b-96d5bf5a10c0",
   "metadata": {},
   "outputs": [],
   "source": [
    "# activate this to see if inputs from the framework are read by the BMI\n",
    "#print (usgs_instance.get_value('sites'))\n",
    "#print (usgs_instance.get_value('service'))\n",
    "#print (usgs_instance.get_value('start'))"
   ]
  },
  {
   "cell_type": "code",
   "execution_count": 7,
   "id": "9019f837-d7fc-4bea-b8b8-504302abc59a",
   "metadata": {},
   "outputs": [
    {
     "data": {
      "text/plain": [
       "<bmi_usgs.BMI_USGS at 0x7f821453bca0>"
      ]
     },
     "execution_count": 7,
     "metadata": {},
     "output_type": "execute_result"
    }
   ],
   "source": [
    "usgs_instance"
   ]
  },
  {
   "cell_type": "code",
   "execution_count": 8,
   "id": "a63e69c7-089a-4c7b-a541-73810a7f8f60",
   "metadata": {},
   "outputs": [
    {
     "name": "stdout",
     "output_type": "stream",
     "text": [
      "                         Date    Flow\n",
      "0   2019-06-01 06:00:00+00:00  2560.0\n",
      "1   2019-06-01 07:00:00+00:00  2615.0\n",
      "2   2019-06-01 08:00:00+00:00  2665.0\n",
      "3   2019-06-01 09:00:00+00:00  2695.0\n",
      "4   2019-06-01 10:00:00+00:00  2710.0\n",
      "..                        ...     ...\n",
      "739 2019-07-02 01:00:00+00:00  4630.0\n",
      "740 2019-07-02 02:00:00+00:00  4782.5\n",
      "741 2019-07-02 03:00:00+00:00  4830.0\n",
      "742 2019-07-02 04:00:00+00:00  4822.5\n",
      "743 2019-07-02 05:00:00+00:00  4795.0\n",
      "\n",
      "[744 rows x 2 columns]\n",
      "USGS station ID 03339000\n"
     ]
    }
   ],
   "source": [
    "#run once\n",
    "usgs_instance.update()"
   ]
  },
  {
   "cell_type": "code",
   "execution_count": 9,
   "id": "a0847c3c-4870-4969-9f90-9ef79e14adbe",
   "metadata": {},
   "outputs": [],
   "source": [
    "####################################################################################\n"
   ]
  },
  {
   "cell_type": "code",
   "execution_count": 9,
   "id": "182cde5b-ed97-43c7-aacc-01e36e657419",
   "metadata": {},
   "outputs": [
    {
     "name": "stdout",
     "output_type": "stream",
     "text": [
      "\n",
      " USGS observed flow for station  03339000 is retrieved!\n",
      "\n"
     ]
    }
   ],
   "source": [
    "usgs_instance.finalize(print_flow=True)"
   ]
  },
  {
   "cell_type": "code",
   "execution_count": null,
   "id": "91511459-bd3b-4c32-a476-6c57b5d669f7",
   "metadata": {},
   "outputs": [],
   "source": []
  }
 ],
 "metadata": {
  "kernelspec": {
   "display_name": "Python [conda env:root] *",
   "language": "python",
   "name": "conda-root-py"
  },
  "language_info": {
   "codemirror_mode": {
    "name": "ipython",
    "version": 3
   },
   "file_extension": ".py",
   "mimetype": "text/x-python",
   "name": "python",
   "nbconvert_exporter": "python",
   "pygments_lexer": "ipython3",
   "version": "3.9.12"
  }
 },
 "nbformat": 4,
 "nbformat_minor": 5
}
