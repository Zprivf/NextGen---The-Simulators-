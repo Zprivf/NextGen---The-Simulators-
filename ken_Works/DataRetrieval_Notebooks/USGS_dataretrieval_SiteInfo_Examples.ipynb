{
 "cells": [
  {
   "cell_type": "markdown",
   "metadata": {
    "collapsed": true,
    "pycharm": {
     "name": "#%% md\n"
    }
   },
   "source": [
    "# USGS dataretrieval Python Package `get_info()` Examples\n",
    "\n",
    "This notebook provides examples of using the Python dataretrieval package to retrieve information about a United States Geological Survey (USGS) monitoring site. The dataretrieval package provides a collection of functions to get data from the USGS National Water Information System (NWIS) and other online sources of hydrology and water quality data, including the United States Environmental Protection Agency (USEPA)."
   ]
  },
  {
   "cell_type": "markdown",
   "source": [
    "### Install the Package\n",
    "\n",
    "Use the following code to install the package if it doesn't exist already within your Jupyter Python environment."
   ],
   "metadata": {
    "collapsed": false
   }
  },
  {
   "cell_type": "code",
   "execution_count": null,
   "outputs": [],
   "source": [
    "!pip install dataretrieval"
   ],
   "metadata": {
    "collapsed": false,
    "pycharm": {
     "name": "#%%\n"
    }
   }
  },
  {
   "cell_type": "markdown",
   "source": [
    "Load the package so you can use it along with other packages used in this notebook."
   ],
   "metadata": {
    "collapsed": false
   }
  },
  {
   "cell_type": "code",
   "execution_count": 2,
   "outputs": [],
   "source": [
    "from dataretrieval import nwis\n",
    "from IPython.display import display"
   ],
   "metadata": {
    "collapsed": false,
    "pycharm": {
     "name": "#%%\n"
    }
   }
  },
  {
   "cell_type": "markdown",
   "source": [
    "### Basic Usage\n",
    "\n",
    "The dataretrieval package has several functions that allow you to retrieve data from different web services. This examples uses the `get_info()` function to retrieve information about USGS monitoring sites. The function has several arguments, depending on the result you want to retrieve:\n",
    "\n",
    "Note: Must specify one major argument.\n",
    "\n",
    "#### Major Arguments (Additional arguments, if supplied, will be used as query parameters)\n",
    "\n",
    "* **sites** (string or list of strings): A list of site numbers. Sites may be prefixed with an optional agency code followed by a colon.\n",
    "* **stateCd** (string): U.S. postal service (2-digit) state code. Only 1 state can be specified per request.\n",
    "* **huc** (string or list of strings): A list of hydrologic unit codes (HUC) or aggregated watersheds. Only 1 major HUC can be specified per request, or up to 10 minor HUCs. A major HUC has two digits.\n",
    "* **bBox** (list): A contiguous range of decimal latitude and longitude, starting with the west longitude, then the south latitude, then the east longitude, and then the north latitude with each value separated by a comma. The product of the range of latitude range and longitude cannot exceed 25 degrees. Whole or decimal degrees must be specified, up to six digits of precision. Minutes and seconds are not allowed.\n",
    "* **countyCd** (string or list of strings): A list of county numbers, in a 5 digit numeric format. The first two digits of a county's code are the FIPS State Code. (url: https://help.waterdata.usgs.gov/code/county_query?fmt=html)\n",
    "\n",
    "#### Minor Arguments\n",
    "\n",
    "* **startDt** (string): Selects sites based on whether data was collected at a point in time beginning after startDt (start date). Dates must be in ISO-8601 Calendar Date format (for example: 1990-01-01).\n",
    "* **endDt** (string)\n",
    "* **period** (string): Selects sites based on whether or not they were active between now and a time in the past. For example, period=P10W will select sites active in the last ten weeks.\n",
    "* **modifiedSince** (string): Returns only sites where site attributes or period of record data have changed during the request period.\n",
    "* **parameterCd** (string or list of strings): Returns only site data for those sites containing the requested USGS parameter codes.\n",
    "* **siteType** (string or list of strings): Restricts sites to those having one or more major and/or minor site types, such as stream, spring or well. For a list of all valid site types see https://help.waterdata.usgs.gov/site_tp_cd. For example, siteType='ST' returns streams only.\n",
    "\n",
    "#### Formatting Parameters\n",
    "\n",
    "* **siteOutput** (string 'basic' or 'expanded'): Indicates the richness of metadata you want for site attributes. Note that for visually oriented formats like Google Map format, this argument has no meaning. Note: for performance reasons, siteOutput='expanded' cannot be used if seriesCatalogOutput=true or with any values for outputDataTypeCd.\n",
    "* **seriesCatalogOutput** (boolean): A switch that provides detailed period of record information for certain output formats. The period of record indicates date ranges for a certain kind of information about a site, for example the start and end dates for a site's daily mean streamflow.\n",
    "\n",
    "For additional parameter options see https://waterservices.usgs.gov/rest/Site-Service.html#stateCd"
   ],
   "metadata": {
    "collapsed": false
   }
  },
  {
   "cell_type": "markdown",
   "source": [
    "Example 1: Get site information for a USGS NWIS monitoring site"
   ],
   "metadata": {
    "collapsed": false
   }
  },
  {
   "cell_type": "code",
   "execution_count": 3,
   "outputs": [],
   "source": [
    "# Specify the site you want to retrieve information for\n",
    "siteID = \"10109000\"\n",
    "\n",
    "# Get the site information\n",
    "siteINFO = nwis.get_info(sites=siteID)"
   ],
   "metadata": {
    "collapsed": false,
    "pycharm": {
     "name": "#%%\n"
    }
   }
  },
  {
   "cell_type": "markdown",
   "source": [
    "### Interpreting the Result\n",
    "\n",
    "The result of calling the `get_info()` function is an object that contains a Pandas data frame object and an associated metadata object. The Pandas data frame contains the site information for the requested site.\n",
    "\n",
    "Once you've got the data frame, there's several useful things you can do to explore the information about the site."
   ],
   "metadata": {
    "collapsed": false
   }
  },
  {
   "cell_type": "code",
   "execution_count": 4,
   "outputs": [
    {
     "data": {
      "text/plain": "  agency_cd   site_no                                   station_nm site_tp_cd  \\\n0      USGS  10109000  LOGAN RIVER ABOVE STATE DAM, NEAR LOGAN, UT         ST   \n\n   lat_va  long_va  dec_lat_va  dec_long_va coord_meth_cd coord_acy_cd  ...  \\\n0  414436  1114655   41.743264   -111.78272             M            F  ...   \n\n  local_time_fg reliability_cd  gw_file_cd  nat_aqfr_cd  aqfr_cd aqfr_type_cd  \\\n0             Y            NaN    NNNNNNNN          NaN      NaN          NaN   \n\n  well_depth_va  hole_depth_va  depth_src_cd  project_no  \n0           NaN            NaN           NaN         NaN  \n\n[1 rows x 42 columns]",
      "text/html": "<div>\n<style scoped>\n    .dataframe tbody tr th:only-of-type {\n        vertical-align: middle;\n    }\n\n    .dataframe tbody tr th {\n        vertical-align: top;\n    }\n\n    .dataframe thead th {\n        text-align: right;\n    }\n</style>\n<table border=\"1\" class=\"dataframe\">\n  <thead>\n    <tr style=\"text-align: right;\">\n      <th></th>\n      <th>agency_cd</th>\n      <th>site_no</th>\n      <th>station_nm</th>\n      <th>site_tp_cd</th>\n      <th>lat_va</th>\n      <th>long_va</th>\n      <th>dec_lat_va</th>\n      <th>dec_long_va</th>\n      <th>coord_meth_cd</th>\n      <th>coord_acy_cd</th>\n      <th>...</th>\n      <th>local_time_fg</th>\n      <th>reliability_cd</th>\n      <th>gw_file_cd</th>\n      <th>nat_aqfr_cd</th>\n      <th>aqfr_cd</th>\n      <th>aqfr_type_cd</th>\n      <th>well_depth_va</th>\n      <th>hole_depth_va</th>\n      <th>depth_src_cd</th>\n      <th>project_no</th>\n    </tr>\n  </thead>\n  <tbody>\n    <tr>\n      <th>0</th>\n      <td>USGS</td>\n      <td>10109000</td>\n      <td>LOGAN RIVER ABOVE STATE DAM, NEAR LOGAN, UT</td>\n      <td>ST</td>\n      <td>414436</td>\n      <td>1114655</td>\n      <td>41.743264</td>\n      <td>-111.78272</td>\n      <td>M</td>\n      <td>F</td>\n      <td>...</td>\n      <td>Y</td>\n      <td>NaN</td>\n      <td>NNNNNNNN</td>\n      <td>NaN</td>\n      <td>NaN</td>\n      <td>NaN</td>\n      <td>NaN</td>\n      <td>NaN</td>\n      <td>NaN</td>\n      <td>NaN</td>\n    </tr>\n  </tbody>\n</table>\n<p>1 rows × 42 columns</p>\n</div>"
     },
     "metadata": {},
     "output_type": "display_data"
    }
   ],
   "source": [
    "# Display the data frame as a table\n",
    "display(siteINFO[0])"
   ],
   "metadata": {
    "collapsed": false,
    "pycharm": {
     "name": "#%%\n"
    }
   }
  },
  {
   "cell_type": "markdown",
   "source": [
    "Show the data types of the columns in the resulting data frame."
   ],
   "metadata": {
    "collapsed": false
   }
  },
  {
   "cell_type": "code",
   "execution_count": 5,
   "outputs": [
    {
     "name": "stdout",
     "output_type": "stream",
     "text": [
      "agency_cd                 object\n",
      "site_no                   object\n",
      "station_nm                object\n",
      "site_tp_cd                object\n",
      "lat_va                     int64\n",
      "long_va                    int64\n",
      "dec_lat_va               float64\n",
      "dec_long_va              float64\n",
      "coord_meth_cd             object\n",
      "coord_acy_cd              object\n",
      "coord_datum_cd            object\n",
      "dec_coord_datum_cd        object\n",
      "district_cd                int64\n",
      "state_cd                   int64\n",
      "county_cd                  int64\n",
      "country_cd                object\n",
      "land_net_ds               object\n",
      "map_nm                   float64\n",
      "map_scale_fc             float64\n",
      "alt_va                   float64\n",
      "alt_meth_cd               object\n",
      "alt_acy_va                 int64\n",
      "alt_datum_cd              object\n",
      "huc_cd                     int64\n",
      "basin_cd                   int64\n",
      "topo_cd                  float64\n",
      "instruments_cd            object\n",
      "construction_dt          float64\n",
      "inventory_dt             float64\n",
      "drain_area_va              int64\n",
      "contrib_drain_area_va    float64\n",
      "tz_cd                     object\n",
      "local_time_fg             object\n",
      "reliability_cd           float64\n",
      "gw_file_cd                object\n",
      "nat_aqfr_cd              float64\n",
      "aqfr_cd                  float64\n",
      "aqfr_type_cd             float64\n",
      "well_depth_va            float64\n",
      "hole_depth_va            float64\n",
      "depth_src_cd             float64\n",
      "project_no               float64\n",
      "dtype: object\n"
     ]
    }
   ],
   "source": [
    "print(siteINFO[0].dtypes)"
   ],
   "metadata": {
    "collapsed": false,
    "pycharm": {
     "name": "#%%\n"
    }
   }
  },
  {
   "cell_type": "markdown",
   "source": [
    "The other part of the result returned from the `get_info()` function is a metadata object that contains information about the query that was executed to return the data. For example, you can access the URL that was assembled to retrieve the requested data from the USGS web service. The USGS web service responses contain a descriptive header that defines and can be helpful in interpreting the contents of the response."
   ],
   "metadata": {
    "collapsed": false
   }
  },
  {
   "cell_type": "code",
   "execution_count": 7,
   "outputs": [
    {
     "name": "stdout",
     "output_type": "stream",
     "text": [
      "The query URL used to retrieve the data from  NWIS was: https://waterservices.usgs.gov/nwis/site?sites=10109000&siteOutput=Expanded&format=rdb\n"
     ]
    }
   ],
   "source": [
    "print(\"The query URL used to retrieve the data from NWIS was: \" + siteINFO[1].url)"
   ],
   "metadata": {
    "collapsed": false,
    "pycharm": {
     "name": "#%%\n"
    }
   }
  },
  {
   "cell_type": "markdown",
   "source": [
    "### Additional Examples\n",
    "\n",
    "Example 2: Get site information for multiple sites in a list"
   ],
   "metadata": {
    "collapsed": false
   }
  },
  {
   "cell_type": "code",
   "execution_count": 8,
   "outputs": [
    {
     "data": {
      "text/plain": "  agency_cd   site_no                    station_nm site_tp_cd  lat_va  \\\n0      USGS  05114000  SOURIS RIVER NR SHERWOOD, ND         ST  485924   \n1      USGS  09423350     CARUTHERS C NR IVANPAH CA         ST  351442   \n\n   long_va  dec_lat_va  dec_long_va coord_meth_cd coord_acy_cd  ...  \\\n0  1015728   48.990016  -101.958221             M            F  ...   \n1  1151753   35.244989  -115.298876             M            F  ...   \n\n  local_time_fg reliability_cd  gw_file_cd  nat_aqfr_cd  aqfr_cd aqfr_type_cd  \\\n0             Y            NaN    NNNNNNNN          NaN      NaN          NaN   \n1             Y            NaN    NNNNNNNN          NaN      NaN          NaN   \n\n  well_depth_va hole_depth_va  depth_src_cd  project_no  \n0           NaN           NaN           NaN         NaN  \n1           NaN           NaN           NaN         NaN  \n\n[2 rows x 42 columns]",
      "text/html": "<div>\n<style scoped>\n    .dataframe tbody tr th:only-of-type {\n        vertical-align: middle;\n    }\n\n    .dataframe tbody tr th {\n        vertical-align: top;\n    }\n\n    .dataframe thead th {\n        text-align: right;\n    }\n</style>\n<table border=\"1\" class=\"dataframe\">\n  <thead>\n    <tr style=\"text-align: right;\">\n      <th></th>\n      <th>agency_cd</th>\n      <th>site_no</th>\n      <th>station_nm</th>\n      <th>site_tp_cd</th>\n      <th>lat_va</th>\n      <th>long_va</th>\n      <th>dec_lat_va</th>\n      <th>dec_long_va</th>\n      <th>coord_meth_cd</th>\n      <th>coord_acy_cd</th>\n      <th>...</th>\n      <th>local_time_fg</th>\n      <th>reliability_cd</th>\n      <th>gw_file_cd</th>\n      <th>nat_aqfr_cd</th>\n      <th>aqfr_cd</th>\n      <th>aqfr_type_cd</th>\n      <th>well_depth_va</th>\n      <th>hole_depth_va</th>\n      <th>depth_src_cd</th>\n      <th>project_no</th>\n    </tr>\n  </thead>\n  <tbody>\n    <tr>\n      <th>0</th>\n      <td>USGS</td>\n      <td>05114000</td>\n      <td>SOURIS RIVER NR SHERWOOD, ND</td>\n      <td>ST</td>\n      <td>485924</td>\n      <td>1015728</td>\n      <td>48.990016</td>\n      <td>-101.958221</td>\n      <td>M</td>\n      <td>F</td>\n      <td>...</td>\n      <td>Y</td>\n      <td>NaN</td>\n      <td>NNNNNNNN</td>\n      <td>NaN</td>\n      <td>NaN</td>\n      <td>NaN</td>\n      <td>NaN</td>\n      <td>NaN</td>\n      <td>NaN</td>\n      <td>NaN</td>\n    </tr>\n    <tr>\n      <th>1</th>\n      <td>USGS</td>\n      <td>09423350</td>\n      <td>CARUTHERS C NR IVANPAH CA</td>\n      <td>ST</td>\n      <td>351442</td>\n      <td>1151753</td>\n      <td>35.244989</td>\n      <td>-115.298876</td>\n      <td>M</td>\n      <td>F</td>\n      <td>...</td>\n      <td>Y</td>\n      <td>NaN</td>\n      <td>NNNNNNNN</td>\n      <td>NaN</td>\n      <td>NaN</td>\n      <td>NaN</td>\n      <td>NaN</td>\n      <td>NaN</td>\n      <td>NaN</td>\n      <td>NaN</td>\n    </tr>\n  </tbody>\n</table>\n<p>2 rows × 42 columns</p>\n</div>"
     },
     "metadata": {},
     "output_type": "display_data"
    }
   ],
   "source": [
    "# Create a list of the site identifiers you want to retrieve information for\n",
    "siteIDs = [\"05114000\", \"09423350\"]\n",
    "\n",
    "# Get the site information\n",
    "siteINFO_multi = nwis.get_info(sites=siteIDs)\n",
    "display(siteINFO_multi[0])"
   ],
   "metadata": {
    "collapsed": false,
    "pycharm": {
     "name": "#%%\n"
    }
   }
  }
 ],
 "metadata": {
  "kernelspec": {
   "display_name": "Python 3",
   "language": "python",
   "name": "python3"
  },
  "language_info": {
   "codemirror_mode": {
    "name": "ipython",
    "version": 2
   },
   "file_extension": ".py",
   "mimetype": "text/x-python",
   "name": "python",
   "nbconvert_exporter": "python",
   "pygments_lexer": "ipython2",
   "version": "2.7.6"
  }
 },
 "nbformat": 4,
 "nbformat_minor": 0
}