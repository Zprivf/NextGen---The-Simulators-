{
 "cells": [
  {
   "cell_type": "code",
   "execution_count": 1,
   "id": "ee2a1873-23fa-42ec-b2ec-ef057d53943c",
   "metadata": {},
   "outputs": [],
   "source": [
    "#import dataretrieval.nwis as nwis\n",
    "import time\n",
    "import numpy as np\n",
    "import pandas as pd\n",
    "import json\n",
    "import matplotlib.pyplot as plt\n",
    "import bmi_usgs"
   ]
  },
  {
   "cell_type": "code",
   "execution_count": 2,
   "id": "e75aa162-22de-49d2-885b-aa8bcb921e0b",
   "metadata": {},
   "outputs": [],
   "source": [
    "#bmi_usgs instance \n",
    "usgs_instance = bmi_usgs.BMI_USGS()# "
   ]
  },
  {
   "cell_type": "code",
   "execution_count": 3,
   "id": "e7c5103e-fd66-4e2b-846e-cdd342ae8269",
   "metadata": {},
   "outputs": [],
   "source": [
    "#initialization\n",
    "usgs_instance.initialize(cfg_file='./usgs_config.json', current_time_step=1) #"
   ]
  },
  {
   "cell_type": "code",
   "execution_count": 4,
   "id": "80babb30-1944-419b-890d-115837879ac4",
   "metadata": {},
   "outputs": [
    {
     "name": "stdout",
     "output_type": "stream",
     "text": [
      "{'Flow': [], 'validity': []}\n"
     ]
    }
   ],
   "source": [
    "#view output\n",
    "outputs=usgs_instance.get_output_var_names()\n",
    "output_lists = {output:[] for output in outputs}\n",
    "print(output_lists)"
   ]
  },
  {
   "cell_type": "code",
   "execution_count": 5,
   "id": "2fc6a2e7-f06e-44a9-a7bd-e32ab21a2422",
   "metadata": {},
   "outputs": [],
   "source": [
    "# to conduct iv retrieval  from the framework activate this\n",
    "#usgs_instance.set_value('sites','01054500')\n",
    "#usgs_instance.set_value('start','2018-01-01')\n",
    "#usgs_instance.set_value('end','2018-02-01')"
   ]
  },
  {
   "cell_type": "code",
   "execution_count": 6,
   "id": "e6d2e50f-12f8-4bc7-935b-96d5bf5a10c0",
   "metadata": {},
   "outputs": [],
   "source": [
    "# activate this to see if inputs from the framework are read by the BMI\n",
    "#print (usgs_instance.get_value('sites'))\n",
    "#print (usgs_instance.get_value('service'))\n",
    "#print (usgs_instance.get_value('start'))"
   ]
  },
  {
   "cell_type": "code",
   "execution_count": 7,
   "id": "9019f837-d7fc-4bea-b8b8-504302abc59a",
   "metadata": {},
   "outputs": [
    {
     "data": {
      "text/plain": [
       "<bmi_usgs.BMI_USGS at 0x7ff83e877c40>"
      ]
     },
     "execution_count": 7,
     "metadata": {},
     "output_type": "execute_result"
    }
   ],
   "source": [
    "usgs_instance"
   ]
  },
  {
   "cell_type": "code",
   "execution_count": null,
   "id": "a63e69c7-089a-4c7b-a541-73810a7f8f60",
   "metadata": {},
   "outputs": [],
   "source": [
    "#run once\n",
    "usgs_instance.update()"
   ]
  },
  {
   "cell_type": "code",
   "execution_count": 9,
   "id": "a0847c3c-4870-4969-9f90-9ef79e14adbe",
   "metadata": {},
   "outputs": [],
   "source": [
    "####################################################################################\n"
   ]
  },
  {
   "cell_type": "code",
   "execution_count": 10,
   "id": "182cde5b-ed97-43c7-aacc-01e36e657419",
   "metadata": {},
   "outputs": [
    {
     "name": "stdout",
     "output_type": "stream",
     "text": [
      "\n",
      " USGS observed flow for station  06006000 is retrieved!\n",
      "\n"
     ]
    }
   ],
   "source": [
    "usgs_instance.finalize(print_flow=True)"
   ]
  },
  {
   "cell_type": "code",
   "execution_count": null,
   "id": "91511459-bd3b-4c32-a476-6c57b5d669f7",
   "metadata": {},
   "outputs": [],
   "source": []
  }
 ],
 "metadata": {
  "kernelspec": {
   "display_name": "Python [conda env:root] *",
   "language": "python",
   "name": "conda-root-py"
  },
  "language_info": {
   "codemirror_mode": {
    "name": "ipython",
    "version": 3
   },
   "file_extension": ".py",
   "mimetype": "text/x-python",
   "name": "python",
   "nbconvert_exporter": "python",
   "pygments_lexer": "ipython3",
   "version": "3.9.12"
  }
 },
 "nbformat": 4,
 "nbformat_minor": 5
}
