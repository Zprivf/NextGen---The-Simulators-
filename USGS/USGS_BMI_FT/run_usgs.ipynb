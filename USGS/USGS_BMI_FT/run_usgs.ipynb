{
 "cells": [
  {
   "cell_type": "code",
   "execution_count": 9,
   "id": "ee2a1873-23fa-42ec-b2ec-ef057d53943c",
   "metadata": {},
   "outputs": [],
   "source": [
    "from dataretrieval import nwis, utils, codes\n",
    "import time\n",
    "import numpy as np\n",
    "import pandas as pd\n",
    "import json\n",
    "import matplotlib.pyplot as plt\n",
    "import bmi_usgs"
   ]
  },
  {
   "cell_type": "code",
   "execution_count": 10,
   "id": "dfc1e58b-e90d-4865-8d07-92ac302d18ae",
   "metadata": {},
   "outputs": [],
   "source": [
    "#usgs_model = bmi_usgs.BMI_USGS     \n",
    "#cfg_file = 'usgs_config.json'\n",
    "#usgs_model.initialize(cfg_file) #Initialize the model')"
   ]
  },
  {
   "cell_type": "code",
   "execution_count": 11,
   "id": "e75aa162-22de-49d2-885b-aa8bcb921e0b",
   "metadata": {},
   "outputs": [],
   "source": [
    "#bmi_usgs\n",
    "usgs_instance = bmi_usgs.BMI_USGS()# "
   ]
  },
  {
   "cell_type": "code",
   "execution_count": 12,
   "id": "e7c5103e-fd66-4e2b-846e-cdd342ae8269",
   "metadata": {},
   "outputs": [],
   "source": [
    "usgs_instance.initialize(cfg_file='./usgs_config.json', current_time_step=0)"
   ]
  },
  {
   "cell_type": "code",
   "execution_count": 13,
   "id": "576c4d66-3e29-497f-a3a9-00984b44befa",
   "metadata": {},
   "outputs": [
    {
     "name": "stdout",
     "output_type": "stream",
     "text": [
      "{'sites': [], 'service': [], 'start': [], 'end': []}\n"
     ]
    }
   ],
   "source": [
    "outputs=usgs_instance.get_input_var_names()\n",
    "output_lists = {output:[] for output in outputs}\n",
    "print(output_lists)"
   ]
  },
  {
   "cell_type": "code",
   "execution_count": 14,
   "id": "2fc6a2e7-f06e-44a9-a7bd-e32ab21a2422",
   "metadata": {},
   "outputs": [],
   "source": [
    "usgs_instance.set_value('sites','09239500')\n",
    "#usgs_instance.set_value('service','peaks')\n",
    "#usgs_instance.set_value('start','1970-01-01')\n",
    "#usgs_instance.set_value('end','1990-01-01')"
   ]
  },
  {
   "cell_type": "code",
   "execution_count": 15,
   "id": "e6d2e50f-12f8-4bc7-935b-96d5bf5a10c0",
   "metadata": {},
   "outputs": [
    {
     "name": "stdout",
     "output_type": "stream",
     "text": [
      "09239500\n"
     ]
    }
   ],
   "source": [
    "print (usgs_instance.get_value('sites'))"
   ]
  },
  {
   "cell_type": "code",
   "execution_count": 16,
   "id": "9019f837-d7fc-4bea-b8b8-504302abc59a",
   "metadata": {},
   "outputs": [
    {
     "name": "stdout",
     "output_type": "stream",
     "text": [
      "0\n"
     ]
    }
   ],
   "source": [
    "print (usgs_instance.get_value('end'))"
   ]
  },
  {
   "cell_type": "code",
   "execution_count": 17,
   "id": "a63e69c7-089a-4c7b-a541-73810a7f8f60",
   "metadata": {},
   "outputs": [
    {
     "name": "stdout",
     "output_type": "stream",
     "text": [
      "0\n"
     ]
    }
   ],
   "source": [
    "print (usgs_instance.get_value('start'))"
   ]
  },
  {
   "cell_type": "code",
   "execution_count": 18,
   "id": "061d53f2-54d9-4c90-bd91-12c7421cd357",
   "metadata": {},
   "outputs": [
    {
     "name": "stdout",
     "output_type": "stream",
     "text": [
      "0\n"
     ]
    }
   ],
   "source": [
    "print (usgs_instance.get_value('service'))"
   ]
  },
  {
   "cell_type": "code",
   "execution_count": 19,
   "id": "583a12ee-99ce-401c-a0a6-bb0310c477e5",
   "metadata": {},
   "outputs": [
    {
     "data": {
      "text/plain": [
       "<bmi_usgs.BMI_USGS at 0x7f8047156fa0>"
      ]
     },
     "execution_count": 19,
     "metadata": {},
     "output_type": "execute_result"
    }
   ],
   "source": [
    "usgs_instance"
   ]
  },
  {
   "cell_type": "code",
   "execution_count": 20,
   "id": "c06bb82d-8fd3-4681-8a3d-4978a4374d48",
   "metadata": {},
   "outputs": [
    {
     "name": "stdout",
     "output_type": "stream",
     "text": [
      "datetime\n",
      "1970-05-28 00:00:00+00:00    3840\n",
      "1971-06-19 00:00:00+00:00    3840\n",
      "Name: peak_va, dtype: int64\n"
     ]
    }
   ],
   "source": [
    "usgs_instance.update()"
   ]
  },
  {
   "cell_type": "code",
   "execution_count": null,
   "id": "a0847c3c-4870-4969-9f90-9ef79e14adbe",
   "metadata": {},
   "outputs": [],
   "source": [
    "####################################################################################"
   ]
  },
  {
   "cell_type": "code",
   "execution_count": 13,
   "id": "1ddf18ab-9f9f-41c9-930f-33883592f092",
   "metadata": {},
   "outputs": [
    {
     "name": "stdout",
     "output_type": "stream",
     "text": [
      "0\n"
     ]
    }
   ],
   "source": [
    "print (usgs_instance.get_value('sites'))"
   ]
  },
  {
   "cell_type": "raw",
   "id": "da32c991-cdf4-46fb-92ac-fd8a6b3d410d",
   "metadata": {},
   "source": [
    "from dataretrieval import nwis, utils, codes\n",
    "class USGS():\n",
    "    def __init__(self):\n",
    "        super(USGS, self).__init__()\n",
    "    def run_usgs(self, sites,service,start,end):\n",
    "        nwis.get_record(self, sites,service,start,end)\n",
    "        sites.streamflow = df['peak_va']\n",
    "        # ________________________________________________\n",
    "        sites.current_time_step += 1\n",
    "        sites.current_time      += sites.time_step_size\n",
    "\n",
    "        return\n",
    "    "
   ]
  },
  {
   "cell_type": "code",
   "execution_count": null,
   "id": "2973a216-f6fc-4eeb-b19c-9e0961809382",
   "metadata": {},
   "outputs": [],
   "source": []
  },
  {
   "cell_type": "code",
   "execution_count": null,
   "id": "057f0a7d-0b09-4c45-91a2-6c8355c13c2a",
   "metadata": {},
   "outputs": [],
   "source": [
    "from dataretrieval import nwis, utils, codes\n",
    "class USGS():\n",
    "    def __init__(self):\n",
    "        super(USGS, self).__init__()\n",
    "    def run_usgs(sites,service,start,end):\n",
    "        site=nwis.get_record(sites=sites,service=service,start=start,end=end)\n",
    "        print(site['peak_va'])\n",
    "        return"
   ]
  },
  {
   "cell_type": "code",
   "execution_count": 4,
   "id": "6345c5ac-a509-4285-90c3-82c28b8fe2b9",
   "metadata": {},
   "outputs": [],
   "source": [
    "sites='03339000'\n",
    "service='peaks'\n",
    "start='1970-01-01'\n",
    "end='1990-01-01'"
   ]
  },
  {
   "cell_type": "code",
   "execution_count": 5,
   "id": "389e1db0-1365-4e1a-b505-6e544b99d163",
   "metadata": {},
   "outputs": [
    {
     "name": "stdout",
     "output_type": "stream",
     "text": [
      "datetime\n",
      "1970-04-20 00:00:00+00:00    16300\n",
      "1971-02-05 00:00:00+00:00     8910\n",
      "1972-04-22 00:00:00+00:00     9240\n",
      "1973-04-23 00:00:00+00:00    16600\n",
      "1974-06-23 00:00:00+00:00    19500\n",
      "1975-02-23 00:00:00+00:00    13000\n",
      "1976-02-17 00:00:00+00:00    11400\n",
      "1977-09-14 00:00:00+00:00     9370\n",
      "1977-10-02 00:00:00+00:00    14800\n",
      "1979-03-05 00:00:00+00:00    23300\n",
      "1980-06-04 00:00:00+00:00    17600\n",
      "1981-05-15 00:00:00+00:00    10800\n",
      "1982-02-23 00:00:00+00:00    17000\n",
      "1983-05-03 00:00:00+00:00    27800\n",
      "1984-03-21 00:00:00+00:00    15400\n",
      "1985-02-24 00:00:00+00:00    27600\n",
      "1985-11-21 00:00:00+00:00    18900\n",
      "1987-04-15 00:00:00+00:00     4920\n",
      "1987-12-29 00:00:00+00:00     9170\n",
      "1989-05-26 00:00:00+00:00    15400\n",
      "Name: peak_va, dtype: int64\n"
     ]
    }
   ],
   "source": [
    "USGS.run_usgs(sites,service,start,end)"
   ]
  },
  {
   "cell_type": "code",
   "execution_count": 31,
   "id": "8ad83af4-f785-4f75-a47a-27defe003941",
   "metadata": {},
   "outputs": [
    {
     "name": "stdout",
     "output_type": "stream",
     "text": [
      "datetime\n",
      "1970-04-20 00:00:00+00:00    16300\n",
      "1971-02-05 00:00:00+00:00     8910\n",
      "1972-04-22 00:00:00+00:00     9240\n",
      "1973-04-23 00:00:00+00:00    16600\n",
      "1974-06-23 00:00:00+00:00    19500\n",
      "1975-02-23 00:00:00+00:00    13000\n",
      "1976-02-17 00:00:00+00:00    11400\n",
      "1977-09-14 00:00:00+00:00     9370\n",
      "1977-10-02 00:00:00+00:00    14800\n",
      "1979-03-05 00:00:00+00:00    23300\n",
      "1980-06-04 00:00:00+00:00    17600\n",
      "1981-05-15 00:00:00+00:00    10800\n",
      "1982-02-23 00:00:00+00:00    17000\n",
      "1983-05-03 00:00:00+00:00    27800\n",
      "1984-03-21 00:00:00+00:00    15400\n",
      "1985-02-24 00:00:00+00:00    27600\n",
      "1985-11-21 00:00:00+00:00    18900\n",
      "1987-04-15 00:00:00+00:00     4920\n",
      "1987-12-29 00:00:00+00:00     9170\n",
      "1989-05-26 00:00:00+00:00    15400\n",
      "Name: peak_va, dtype: int64\n"
     ]
    }
   ],
   "source": [
    "from dataretrieval import nwis, utils, codes  \n",
    "site=nwis.get_record(sites=sites,service=service,start=start,end=end)\n",
    "print(site['peak_va'])"
   ]
  },
  {
   "cell_type": "code",
   "execution_count": 21,
   "id": "8712978f-7a2b-4bff-8271-1876fe3d8be7",
   "metadata": {},
   "outputs": [],
   "source": [
    "from dataretrieval import nwis, utils, codes\n",
    "'''\n",
    "class USGS():\n",
    "    def __init__(self):\n",
    "        super(USGS, self).__init__()\n",
    "    def run_usgs(sites,service,start,end):\n",
    "        site=nwis.get_record(sites=sites,service=service,start=start,end=end)\n",
    "        print(site['peak_va'])\n",
    "        return\n",
    "'''\n",
    "class USGS():\n",
    "    def __init__(self):\n",
    "        super(USGS, self).__init__()\n",
    "    def run_usgs(self,u):\n",
    "        sites=u.sites\n",
    "        service=u.service\n",
    "        start=u.service\n",
    "        end=u.service\n",
    "        site=nwis.get_record(sites=sites,service=service,start=start,end=end)\n",
    "        print(site['peak_va'])\n",
    "        return\n"
   ]
  },
  {
   "cell_type": "code",
   "execution_count": 19,
   "id": "69637808-05db-4788-8511-22d53aa59663",
   "metadata": {},
   "outputs": [
    {
     "ename": "NameError",
     "evalue": "name 'u' is not defined",
     "output_type": "error",
     "traceback": [
      "\u001b[0;31m---------------------------------------------------------------------------\u001b[0m",
      "\u001b[0;31mNameError\u001b[0m                                 Traceback (most recent call last)",
      "Input \u001b[0;32mIn [19]\u001b[0m, in \u001b[0;36m<cell line: 1>\u001b[0;34m()\u001b[0m\n\u001b[0;32m----> 1\u001b[0m \u001b[43mu\u001b[49m\u001b[38;5;241m.\u001b[39msites\n",
      "\u001b[0;31mNameError\u001b[0m: name 'u' is not defined"
     ]
    }
   ],
   "source": [
    "u.sites"
   ]
  },
  {
   "cell_type": "code",
   "execution_count": null,
   "id": "2569cadb-0cad-40e2-9e22-eef30826eb5e",
   "metadata": {},
   "outputs": [],
   "source": []
  }
 ],
 "metadata": {
  "kernelspec": {
   "display_name": "Python [conda env:root] *",
   "language": "python",
   "name": "conda-root-py"
  },
  "language_info": {
   "codemirror_mode": {
    "name": "ipython",
    "version": 3
   },
   "file_extension": ".py",
   "mimetype": "text/x-python",
   "name": "python",
   "nbconvert_exporter": "python",
   "pygments_lexer": "ipython3",
   "version": "3.9.12"
  }
 },
 "nbformat": 4,
 "nbformat_minor": 5
}
