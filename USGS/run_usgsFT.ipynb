{
 "cells": [
  {
   "cell_type": "code",
   "execution_count": 1,
   "id": "ee2a1873-23fa-42ec-b2ec-ef057d53943c",
   "metadata": {},
   "outputs": [],
   "source": [
    "from dataretrieval import nwis, utils, codes\n",
    "import time\n",
    "import numpy as np\n",
    "import pandas as pd\n",
    "import json\n",
    "import matplotlib.pyplot as plt\n",
    "import bmi_usgs"
   ]
  },
  {
   "cell_type": "code",
   "execution_count": 2,
   "id": "dfc1e58b-e90d-4865-8d07-92ac302d18ae",
   "metadata": {},
   "outputs": [],
   "source": [
    "usgs_instance = bmi_usgs.BMI_USGS()"
   ]
  },
  {
   "cell_type": "raw",
   "id": "da32c991-cdf4-46fb-92ac-fd8a6b3d410d",
   "metadata": {},
   "source": []
  },
  {
   "cell_type": "code",
   "execution_count": null,
   "id": "de039d5c-731e-4b02-ab15-aa07e4f07218",
   "metadata": {},
   "outputs": [],
   "source": []
  },
  {
   "cell_type": "code",
   "execution_count": 8,
   "id": "057f0a7d-0b09-4c45-91a2-6c8355c13c2a",
   "metadata": {},
   "outputs": [],
   "source": []
  },
  {
   "cell_type": "code",
   "execution_count": null,
   "id": "6345c5ac-a509-4285-90c3-82c28b8fe2b9",
   "metadata": {},
   "outputs": [],
   "source": []
  },
  {
   "cell_type": "code",
   "execution_count": null,
   "id": "389e1db0-1365-4e1a-b505-6e544b99d163",
   "metadata": {},
   "outputs": [],
   "source": []
  }
 ],
 "metadata": {
  "kernelspec": {
   "display_name": "Python 3 (ipykernel)",
   "language": "python",
   "name": "python3"
  },
  "language_info": {
   "codemirror_mode": {
    "name": "ipython",
    "version": 3
   },
   "file_extension": ".py",
   "mimetype": "text/x-python",
   "name": "python",
   "nbconvert_exporter": "python",
   "pygments_lexer": "ipython3",
   "version": "3.9.12"
  }
 },
 "nbformat": 4,
 "nbformat_minor": 5
}
